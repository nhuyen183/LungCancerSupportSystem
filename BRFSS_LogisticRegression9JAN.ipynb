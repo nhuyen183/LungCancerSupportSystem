{
  "nbformat": 4,
  "nbformat_minor": 0,
  "metadata": {
    "colab": {
      "provenance": [],
      "authorship_tag": "ABX9TyMyhtAw/Wn+OYzy77x/vneE",
      "include_colab_link": true
    },
    "kernelspec": {
      "name": "python3",
      "display_name": "Python 3"
    },
    "language_info": {
      "name": "python"
    }
  },
  "cells": [
    {
      "cell_type": "markdown",
      "metadata": {
        "id": "view-in-github",
        "colab_type": "text"
      },
      "source": [
        "<a href=\"https://colab.research.google.com/github/nhuyen183/LungCancerSupportSystem/blob/master/BRFSS_LogisticRegression9JAN.ipynb\" target=\"_parent\"><img src=\"https://colab.research.google.com/assets/colab-badge.svg\" alt=\"Open In Colab\"/></a>"
      ]
    },
    {
      "cell_type": "code",
      "execution_count": 1,
      "metadata": {
        "colab": {
          "base_uri": "https://localhost:8080/"
        },
        "id": "8B7eaubtZ_Kj",
        "outputId": "b36a039b-57ba-4620-a47a-95789d249367"
      },
      "outputs": [
        {
          "output_type": "stream",
          "name": "stdout",
          "text": [
            "Looking in indexes: https://pypi.org/simple, https://us-python.pkg.dev/colab-wheels/public/simple/\n",
            "Collecting category_encoders\n",
            "  Downloading category_encoders-2.5.1.post0-py2.py3-none-any.whl (72 kB)\n",
            "\u001b[2K     \u001b[90m━━━━━━━━━━━━━━━━━━━━━━━━━━━━━━━━━━━━━━━━\u001b[0m \u001b[32m72.4/72.4 KB\u001b[0m \u001b[31m3.0 MB/s\u001b[0m eta \u001b[36m0:00:00\u001b[0m\n",
            "\u001b[?25hRequirement already satisfied: patsy>=0.5.1 in /usr/local/lib/python3.8/dist-packages (from category_encoders) (0.5.3)\n",
            "Requirement already satisfied: scikit-learn>=0.20.0 in /usr/local/lib/python3.8/dist-packages (from category_encoders) (1.0.2)\n",
            "Requirement already satisfied: statsmodels>=0.9.0 in /usr/local/lib/python3.8/dist-packages (from category_encoders) (0.12.2)\n",
            "Requirement already satisfied: numpy>=1.14.0 in /usr/local/lib/python3.8/dist-packages (from category_encoders) (1.21.6)\n",
            "Requirement already satisfied: scipy>=1.0.0 in /usr/local/lib/python3.8/dist-packages (from category_encoders) (1.7.3)\n",
            "Requirement already satisfied: pandas>=1.0.5 in /usr/local/lib/python3.8/dist-packages (from category_encoders) (1.3.5)\n",
            "Requirement already satisfied: python-dateutil>=2.7.3 in /usr/local/lib/python3.8/dist-packages (from pandas>=1.0.5->category_encoders) (2.8.2)\n",
            "Requirement already satisfied: pytz>=2017.3 in /usr/local/lib/python3.8/dist-packages (from pandas>=1.0.5->category_encoders) (2022.7)\n",
            "Requirement already satisfied: six in /usr/local/lib/python3.8/dist-packages (from patsy>=0.5.1->category_encoders) (1.15.0)\n",
            "Requirement already satisfied: joblib>=0.11 in /usr/local/lib/python3.8/dist-packages (from scikit-learn>=0.20.0->category_encoders) (1.2.0)\n",
            "Requirement already satisfied: threadpoolctl>=2.0.0 in /usr/local/lib/python3.8/dist-packages (from scikit-learn>=0.20.0->category_encoders) (3.1.0)\n",
            "Installing collected packages: category_encoders\n",
            "Successfully installed category_encoders-2.5.1.post0\n"
          ]
        }
      ],
      "source": [
        "#@title Import Libraries { vertical-output: true, display-mode: \"both\" }\n",
        "\n",
        "import sqlite3\n",
        "import warnings\n",
        "\n",
        "import matplotlib.pyplot as plt\n",
        "import numpy as np\n",
        "import pandas as pd\n",
        "import seaborn as sns\n",
        "\n",
        "!pip install category_encoders\n",
        "from category_encoders import OneHotEncoder\n",
        "\n",
        "from sklearn.linear_model import LogisticRegression\n",
        "from sklearn.metrics import accuracy_score\n",
        "from sklearn.model_selection import train_test_split\n",
        "from sklearn.pipeline import Pipeline, make_pipeline\n",
        "from sklearn.utils.validation import check_is_fitted"
      ]
    },
    {
      "cell_type": "code",
      "source": [
        "#@title df_structure { display-mode: \"both\" }\n",
        "\n",
        "from  glob import glob\n",
        "filenames = glob('./part*.csv')\n",
        "appended_data = []  # create a list\n",
        "for f in filenames:\n",
        "  df = pd.read_csv(f, index_col=None)\n",
        "  appended_data.append(df)  # append to the list\n",
        "df_structure = pd.concat(appended_data, axis=0)\n",
        "df_structure.info()"
      ],
      "metadata": {
        "colab": {
          "base_uri": "https://localhost:8080/"
        },
        "id": "6cwVYFkxaMAu",
        "outputId": "edaa78f8-060e-42f0-cca2-1010ce2fc0d0"
      },
      "execution_count": 36,
      "outputs": [
        {
          "output_type": "stream",
          "name": "stdout",
          "text": [
            "<class 'pandas.core.frame.DataFrame'>\n",
            "Int64Index: 1211175 entries, 0 to 75640\n",
            "Data columns (total 14 columns):\n",
            " #   Column             Non-Null Count    Dtype\n",
            "---  ------             --------------    -----\n",
            " 0   Gender             1211175 non-null  int64\n",
            " 1   Age65              1211175 non-null  int64\n",
            " 2   BMI                1211175 non-null  int64\n",
            " 3   GeneralHealth      1211175 non-null  int64\n",
            " 4   Smoked100          1211175 non-null  int64\n",
            " 5   SmokerStatus       1211175 non-null  int64\n",
            " 6   FirstSmokedAge     1211175 non-null  int64\n",
            " 7   LastSmokedAge      1211175 non-null  int64\n",
            " 8   AvgNumCigADay      1211175 non-null  int64\n",
            " 9   HasCTScan          1211175 non-null  int64\n",
            " 10  StopSmoking        1211175 non-null  int64\n",
            " 11  HasAsthma          1211175 non-null  int64\n",
            " 12  HasChronicDisease  1211175 non-null  int64\n",
            " 13  HasLungCancer      1211175 non-null  int64\n",
            "dtypes: int64(14)\n",
            "memory usage: 138.6 MB\n"
          ]
        }
      ]
    },
    {
      "cell_type": "code",
      "source": [
        "df=df_structure"
      ],
      "metadata": {
        "id": "faazJz6NbUhf"
      },
      "execution_count": 8,
      "outputs": []
    },
    {
      "cell_type": "code",
      "source": [
        "#@title HasLungCancer { display-mode: \"both\" }\n",
        "print (df[\"HasLungCancer\"].value_counts())"
      ],
      "metadata": {
        "id": "oWwUzqxZbZpP",
        "colab": {
          "base_uri": "https://localhost:8080/"
        },
        "outputId": "e7bc670c-c296-4d84-bb49-70944f3e5506"
      },
      "execution_count": 37,
      "outputs": [
        {
          "output_type": "stream",
          "name": "stdout",
          "text": [
            "0    75567\n",
            "1       74\n",
            "Name: HasLungCancer, dtype: int64\n"
          ]
        }
      ]
    },
    {
      "cell_type": "code",
      "source": [
        "df.info()"
      ],
      "metadata": {
        "id": "LDHYgfI1bpAo",
        "colab": {
          "base_uri": "https://localhost:8080/"
        },
        "outputId": "d37db553-52fa-4a16-b02e-a252b9187c97"
      },
      "execution_count": 10,
      "outputs": [
        {
          "output_type": "stream",
          "name": "stdout",
          "text": [
            "<class 'pandas.core.frame.DataFrame'>\n",
            "Int64Index: 1211175 entries, 0 to 75640\n",
            "Data columns (total 14 columns):\n",
            " #   Column             Non-Null Count    Dtype\n",
            "---  ------             --------------    -----\n",
            " 0   Gender             1211175 non-null  int64\n",
            " 1   Age65              1211175 non-null  int64\n",
            " 2   BMI                1211175 non-null  int64\n",
            " 3   GeneralHealth      1211175 non-null  int64\n",
            " 4   Smoked100          1211175 non-null  int64\n",
            " 5   SmokerStatus       1211175 non-null  int64\n",
            " 6   FirstSmokedAge     1211175 non-null  int64\n",
            " 7   LastSmokedAge      1211175 non-null  int64\n",
            " 8   AvgNumCigADay      1211175 non-null  int64\n",
            " 9   HasCTScan          1211175 non-null  int64\n",
            " 10  StopSmoking        1211175 non-null  int64\n",
            " 11  HasAsthma          1211175 non-null  int64\n",
            " 12  HasChronicDisease  1211175 non-null  int64\n",
            " 13  HasLungCancer      1211175 non-null  int64\n",
            "dtypes: int64(14)\n",
            "memory usage: 138.6 MB\n"
          ]
        }
      ]
    },
    {
      "cell_type": "code",
      "source": [
        "# Create correlation matrix\n",
        "correlation = df.select_dtypes(\"number\").drop(columns=\"HasLungCancer\").corr()\n",
        "\n",
        "# Plot heatmap of `correlation`\n",
        "sns.heatmap(correlation);"
      ],
      "metadata": {
        "id": "E8l_qP1DbwRv",
        "colab": {
          "base_uri": "https://localhost:8080/",
          "height": 356
        },
        "outputId": "a996fe0b-3021-413e-edbc-e40add4d9865"
      },
      "execution_count": 11,
      "outputs": [
        {
          "output_type": "display_data",
          "data": {
            "text/plain": [
              "<Figure size 432x288 with 2 Axes>"
            ],
            "image/png": "[encoded data removed]"
          },
          "metadata": {
            "needs_background": "light"
          }
        }
      ]
    },
    {
      "cell_type": "code",
      "source": [
        "# Create boxplot\n",
        "sns.boxplot(x=\"HasLungCancer\", y=\"height_ft_pre_eq\", data=df)\n",
        "\n",
        "# Label axes\n",
        "plt.xlabel(\"Severe Damage\")\n",
        "plt.ylabel(\"Height\")\n",
        "plt.title(\"Distribution\")"
      ],
      "metadata": {
        "id": "FliJlJNcb27e",
        "colab": {
          "base_uri": "https://localhost:8080/",
          "height": 380
        },
        "outputId": "c4b5eade-4048-44be-b73b-4b6d5d1cea18"
      },
      "execution_count": 19,
      "outputs": [
        {
          "output_type": "error",
          "ename": "ValueError",
          "evalue": "ignored",
          "traceback": [
            "\u001b[0;31m---------------------------------------------------------------------------\u001b[0m",
            "\u001b[0;31mValueError\u001b[0m                                Traceback (most recent call last)",
            "\u001b[0;32m<ipython-input-19-1721af27085d>\u001b[0m in \u001b[0;36m<module>\u001b[0;34m\u001b[0m\n\u001b[1;32m      1\u001b[0m \u001b[0;31m# Create boxplot\u001b[0m\u001b[0;34m\u001b[0m\u001b[0;34m\u001b[0m\u001b[0;34m\u001b[0m\u001b[0m\n\u001b[0;32m----> 2\u001b[0;31m \u001b[0msns\u001b[0m\u001b[0;34m.\u001b[0m\u001b[0mboxplot\u001b[0m\u001b[0;34m(\u001b[0m\u001b[0mx\u001b[0m\u001b[0;34m=\u001b[0m\u001b[0;34m\"HasLungCancer\"\u001b[0m\u001b[0;34m,\u001b[0m \u001b[0my\u001b[0m\u001b[0;34m=\u001b[0m\u001b[0;34m\"height_ft_pre_eq\"\u001b[0m\u001b[0;34m,\u001b[0m \u001b[0mdata\u001b[0m\u001b[0;34m=\u001b[0m\u001b[0mdf\u001b[0m\u001b[0;34m)\u001b[0m\u001b[0;34m\u001b[0m\u001b[0;34m\u001b[0m\u001b[0m\n\u001b[0m\u001b[1;32m      3\u001b[0m \u001b[0;34m\u001b[0m\u001b[0m\n\u001b[1;32m      4\u001b[0m \u001b[0;31m# Label axes\u001b[0m\u001b[0;34m\u001b[0m\u001b[0;34m\u001b[0m\u001b[0;34m\u001b[0m\u001b[0m\n\u001b[1;32m      5\u001b[0m \u001b[0mplt\u001b[0m\u001b[0;34m.\u001b[0m\u001b[0mxlabel\u001b[0m\u001b[0;34m(\u001b[0m\u001b[0;34m\"Severe Damage\"\u001b[0m\u001b[0;34m)\u001b[0m\u001b[0;34m\u001b[0m\u001b[0;34m\u001b[0m\u001b[0m\n",
            "\u001b[0;32m/usr/local/lib/python3.8/dist-packages/seaborn/_decorators.py\u001b[0m in \u001b[0;36minner_f\u001b[0;34m(*args, **kwargs)\u001b[0m\n\u001b[1;32m     44\u001b[0m             )\n\u001b[1;32m     45\u001b[0m         \u001b[0mkwargs\u001b[0m\u001b[0;34m.\u001b[0m\u001b[0mupdate\u001b[0m\u001b[0;34m(\u001b[0m\u001b[0;34m{\u001b[0m\u001b[0mk\u001b[0m\u001b[0;34m:\u001b[0m \u001b[0marg\u001b[0m \u001b[0;32mfor\u001b[0m \u001b[0mk\u001b[0m\u001b[0;34m,\u001b[0m \u001b[0marg\u001b[0m \u001b[0;32min\u001b[0m \u001b[0mzip\u001b[0m\u001b[0;34m(\u001b[0m\u001b[0msig\u001b[0m\u001b[0;34m.\u001b[0m\u001b[0mparameters\u001b[0m\u001b[0;34m,\u001b[0m \u001b[0margs\u001b[0m\u001b[0;34m)\u001b[0m\u001b[0;34m}\u001b[0m\u001b[0;34m)\u001b[0m\u001b[0;34m\u001b[0m\u001b[0;34m\u001b[0m\u001b[0m\n\u001b[0;32m---> 46\u001b[0;31m         \u001b[0;32mreturn\u001b[0m \u001b[0mf\u001b[0m\u001b[0;34m(\u001b[0m\u001b[0;34m**\u001b[0m\u001b[0mkwargs\u001b[0m\u001b[0;34m)\u001b[0m\u001b[0;34m\u001b[0m\u001b[0;34m\u001b[0m\u001b[0m\n\u001b[0m\u001b[1;32m     47\u001b[0m     \u001b[0;32mreturn\u001b[0m \u001b[0minner_f\u001b[0m\u001b[0;34m\u001b[0m\u001b[0;34m\u001b[0m\u001b[0m\n\u001b[1;32m     48\u001b[0m \u001b[0;34m\u001b[0m\u001b[0m\n",
            "\u001b[0;32m/usr/local/lib/python3.8/dist-packages/seaborn/categorical.py\u001b[0m in \u001b[0;36mboxplot\u001b[0;34m(x, y, hue, data, order, hue_order, orient, color, palette, saturation, width, dodge, fliersize, linewidth, whis, ax, **kwargs)\u001b[0m\n\u001b[1;32m   2241\u001b[0m ):\n\u001b[1;32m   2242\u001b[0m \u001b[0;34m\u001b[0m\u001b[0m\n\u001b[0;32m-> 2243\u001b[0;31m     plotter = _BoxPlotter(x, y, hue, data, order, hue_order,\n\u001b[0m\u001b[1;32m   2244\u001b[0m                           \u001b[0morient\u001b[0m\u001b[0;34m,\u001b[0m \u001b[0mcolor\u001b[0m\u001b[0;34m,\u001b[0m \u001b[0mpalette\u001b[0m\u001b[0;34m,\u001b[0m \u001b[0msaturation\u001b[0m\u001b[0;34m,\u001b[0m\u001b[0;34m\u001b[0m\u001b[0;34m\u001b[0m\u001b[0m\n\u001b[1;32m   2245\u001b[0m                           width, dodge, fliersize, linewidth)\n",
            "\u001b[0;32m/usr/local/lib/python3.8/dist-packages/seaborn/categorical.py\u001b[0m in \u001b[0;36m__init__\u001b[0;34m(self, x, y, hue, data, order, hue_order, orient, color, palette, saturation, width, dodge, fliersize, linewidth)\u001b[0m\n\u001b[1;32m    404\u001b[0m                  width, dodge, fliersize, linewidth):\n\u001b[1;32m    405\u001b[0m \u001b[0;34m\u001b[0m\u001b[0m\n\u001b[0;32m--> 406\u001b[0;31m         \u001b[0mself\u001b[0m\u001b[0;34m.\u001b[0m\u001b[0mestablish_variables\u001b[0m\u001b[0;34m(\u001b[0m\u001b[0mx\u001b[0m\u001b[0;34m,\u001b[0m \u001b[0my\u001b[0m\u001b[0;34m,\u001b[0m \u001b[0mhue\u001b[0m\u001b[0;34m,\u001b[0m \u001b[0mdata\u001b[0m\u001b[0;34m,\u001b[0m \u001b[0morient\u001b[0m\u001b[0;34m,\u001b[0m \u001b[0morder\u001b[0m\u001b[0;34m,\u001b[0m \u001b[0mhue_order\u001b[0m\u001b[0;34m)\u001b[0m\u001b[0;34m\u001b[0m\u001b[0;34m\u001b[0m\u001b[0m\n\u001b[0m\u001b[1;32m    407\u001b[0m         \u001b[0mself\u001b[0m\u001b[0;34m.\u001b[0m\u001b[0mestablish_colors\u001b[0m\u001b[0;34m(\u001b[0m\u001b[0mcolor\u001b[0m\u001b[0;34m,\u001b[0m \u001b[0mpalette\u001b[0m\u001b[0;34m,\u001b[0m \u001b[0msaturation\u001b[0m\u001b[0;34m)\u001b[0m\u001b[0;34m\u001b[0m\u001b[0;34m\u001b[0m\u001b[0m\n\u001b[1;32m    408\u001b[0m \u001b[0;34m\u001b[0m\u001b[0m\n",
            "\u001b[0;32m/usr/local/lib/python3.8/dist-packages/seaborn/categorical.py\u001b[0m in \u001b[0;36mestablish_variables\u001b[0;34m(self, x, y, hue, data, orient, order, hue_order, units)\u001b[0m\n\u001b[1;32m    151\u001b[0m                 \u001b[0;32mif\u001b[0m \u001b[0misinstance\u001b[0m\u001b[0;34m(\u001b[0m\u001b[0mvar\u001b[0m\u001b[0;34m,\u001b[0m \u001b[0mstr\u001b[0m\u001b[0;34m)\u001b[0m\u001b[0;34m:\u001b[0m\u001b[0;34m\u001b[0m\u001b[0;34m\u001b[0m\u001b[0m\n\u001b[1;32m    152\u001b[0m                     \u001b[0merr\u001b[0m \u001b[0;34m=\u001b[0m \u001b[0;34m\"Could not interpret input '{}'\"\u001b[0m\u001b[0;34m.\u001b[0m\u001b[0mformat\u001b[0m\u001b[0;34m(\u001b[0m\u001b[0mvar\u001b[0m\u001b[0;34m)\u001b[0m\u001b[0;34m\u001b[0m\u001b[0;34m\u001b[0m\u001b[0m\n\u001b[0;32m--> 153\u001b[0;31m                     \u001b[0;32mraise\u001b[0m \u001b[0mValueError\u001b[0m\u001b[0;34m(\u001b[0m\u001b[0merr\u001b[0m\u001b[0;34m)\u001b[0m\u001b[0;34m\u001b[0m\u001b[0;34m\u001b[0m\u001b[0m\n\u001b[0m\u001b[1;32m    154\u001b[0m \u001b[0;34m\u001b[0m\u001b[0m\n\u001b[1;32m    155\u001b[0m             \u001b[0;31m# Figure out the plotting orientation\u001b[0m\u001b[0;34m\u001b[0m\u001b[0;34m\u001b[0m\u001b[0;34m\u001b[0m\u001b[0m\n",
            "\u001b[0;31mValueError\u001b[0m: Could not interpret input 'height_ft_pre_eq'"
          ]
        }
      ]
    },
    {
      "cell_type": "code",
      "source": [
        "X = df.drop(columns='HasLungCancer').values\n",
        "y = df['HasLungCancer'].values\n",
        "\n",
        "from imblearn.over_sampling import SMOTE\n",
        "# transform the dataset\n",
        "sm = SMOTE(random_state=42)\n",
        "X, y = sm.fit_resample(X, y)"
      ],
      "metadata": {
        "id": "0DxTkHLSiMtb"
      },
      "execution_count": 38,
      "outputs": []
    },
    {
      "cell_type": "code",
      "source": [
        "#@title Proportion \"Severely Damaged\" { display-mode: \"both\" }\n",
        "\n",
        "# Plot value counts of `\"severe_damage\"`\n",
        "y.value_counts(normalize=True).plot(kind=\"bar\", xlabel = \"Class\" , ylabel = \"Relative Frequency\", title = \"Class Balance\")"
      ],
      "metadata": {
        "id": "dYAa-zmmb6Ei",
        "colab": {
          "base_uri": "https://localhost:8080/",
          "height": 309
        },
        "outputId": "497de5da-bd4c-4640-dab9-1e7ddc772c49"
      },
      "execution_count": 35,
      "outputs": [
        {
          "output_type": "execute_result",
          "data": {
            "text/plain": [
              "<matplotlib.axes._subplots.AxesSubplot at 0x7f36e8827dc0>"
            ]
          },
          "metadata": {},
          "execution_count": 35
        },
        {
          "output_type": "display_data",
          "data": {
            "text/plain": [
              "<Figure size 432x288 with 1 Axes>"
            ],
            "image/png": "[encoded data removed]"
          },
          "metadata": {
            "needs_background": "light"
          }
        }
      ]
    },
    {
      "cell_type": "code",
      "source": [
        "majority_class_prop, minority_class_prop = y.value_counts(normalize=True)\n",
        "print(majority_class_prop, minority_class_prop)"
      ],
      "metadata": {
        "id": "YGHcp5Amb8nT",
        "colab": {
          "base_uri": "https://localhost:8080/"
        },
        "outputId": "daeea735-f55c-4fb6-ebea-2be732af01b1"
      },
      "execution_count": 23,
      "outputs": [
        {
          "output_type": "stream",
          "name": "stdout",
          "text": [
            "0.5 0.5\n"
          ]
        }
      ]
    },
    {
      "cell_type": "code",
      "source": [
        "# Splitting the dataset into the Training set and Test set\n",
        "from sklearn.model_selection import train_test_split\n",
        "X_train, X_test, y_train, y_test = train_test_split(X, y, test_size=0.2, random_state=1)\n",
        "\n",
        "X_train, X_val, y_train, y_val = train_test_split(X_train, y_train, test_size=0.2, random_state=1)\n",
        "print(X_test)\n",
        "print(y_test)"
      ],
      "metadata": {
        "colab": {
          "base_uri": "https://localhost:8080/"
        },
        "id": "1_cB27tBimPF",
        "outputId": "e117d72a-4971-4cc6-98d1-7af5ff103079"
      },
      "execution_count": 40,
      "outputs": [
        {
          "output_type": "stream",
          "name": "stdout",
          "text": [
            "[[0 1 3 ... 1 0 1]\n",
            " [1 0 3 ... 1 0 0]\n",
            " [0 1 4 ... 1 0 0]\n",
            " ...\n",
            " [0 0 3 ... 1 0 0]\n",
            " [0 0 4 ... 1 1 0]\n",
            " [0 0 2 ... 1 0 0]]\n",
            "[1 0 1 ... 0 0 0]\n"
          ]
        }
      ]
    },
    {
      "cell_type": "code",
      "source": [
        "# Feature Scaling\n",
        "from sklearn.preprocessing import StandardScaler\n",
        "sc = StandardScaler()\n",
        "X_train = sc.fit_transform(X_train)\n",
        "X_test = sc.transform(X_test)\n",
        "\n",
        "# Training the Logistic Regression model on the Training set\n",
        "from sklearn.linear_model import LogisticRegression\n",
        "classifier = LogisticRegression(random_state = 0)\n",
        "history = classifier.fit(X_train, y_train)\n",
        "\n",
        "#acc_baseline = y_train.value_counts(normalize=True).max()\n",
        "#print(\"Baseline Accuracy:\", round(acc_baseline, 2))\n",
        "\n",
        "# Predicting the Test set results\n",
        "y_pred = classifier.predict(X_test)\n",
        "#print(np.concatenate((y_pred.reshape(len(y_pred),1), y_test.reshape(len(y_test),1)),1))\n",
        "\n",
        "print(classifier.intercept_)\n",
        "print(classifier.coef_)"
      ],
      "metadata": {
        "colab": {
          "base_uri": "https://localhost:8080/"
        },
        "id": "HSMZD7BziiIG",
        "outputId": "a98a397b-5b95-483f-bd11-2315db98bc41"
      },
      "execution_count": 30,
      "outputs": [
        {
          "output_type": "stream",
          "name": "stdout",
          "text": [
            "[0.01787866]\n",
            "[[-0.33632152  0.5290032  -0.40629927  0.68964877  0.87913732  0.33482807\n",
            "  -0.05419475 -0.08579845  0.05117167  0.04309575 -0.09381249 -0.27530654\n",
            "   0.63277692]]\n"
          ]
        }
      ]
    },
    {
      "cell_type": "code",
      "source": [
        "import matplotlib.pyplot as plt\n",
        "loss_train = history.history['train_loss']\n",
        "\n",
        "loss_val = history.history['val_loss']\n",
        "\n",
        "epochs = range(1,35)\n",
        "\n",
        "plt.plot(epochs, loss_train, 'g', label='Training loss')\n",
        "\n",
        "plt.plot(epochs, loss_val, 'b', label='validation loss')\n",
        "\n",
        "plt.title('Training and Validation loss')\n",
        "\n",
        "plt.xlabel('Epochs')\n",
        "\n",
        "plt.ylabel('Loss')\n",
        "\n",
        "plt.legend()\n",
        "\n",
        "plt.show()"
      ],
      "metadata": {
        "colab": {
          "base_uri": "https://localhost:8080/",
          "height": 235
        },
        "id": "dgQzKBZkiyU3",
        "outputId": "5c5f4e18-c269-4e7a-bb19-3c80c82388d6"
      },
      "execution_count": 31,
      "outputs": [
        {
          "output_type": "error",
          "ename": "AttributeError",
          "evalue": "ignored",
          "traceback": [
            "\u001b[0;31m---------------------------------------------------------------------------\u001b[0m",
            "\u001b[0;31mAttributeError\u001b[0m                            Traceback (most recent call last)",
            "\u001b[0;32m<ipython-input-31-08128265cbd1>\u001b[0m in \u001b[0;36m<module>\u001b[0;34m\u001b[0m\n\u001b[1;32m      1\u001b[0m \u001b[0;32mimport\u001b[0m \u001b[0mmatplotlib\u001b[0m\u001b[0;34m.\u001b[0m\u001b[0mpyplot\u001b[0m \u001b[0;32mas\u001b[0m \u001b[0mplt\u001b[0m\u001b[0;34m\u001b[0m\u001b[0;34m\u001b[0m\u001b[0m\n\u001b[0;32m----> 2\u001b[0;31m \u001b[0mloss_train\u001b[0m \u001b[0;34m=\u001b[0m \u001b[0mhistory\u001b[0m\u001b[0;34m.\u001b[0m\u001b[0mhistory\u001b[0m\u001b[0;34m[\u001b[0m\u001b[0;34m'train_loss'\u001b[0m\u001b[0;34m]\u001b[0m\u001b[0;34m\u001b[0m\u001b[0;34m\u001b[0m\u001b[0m\n\u001b[0m\u001b[1;32m      3\u001b[0m \u001b[0;34m\u001b[0m\u001b[0m\n\u001b[1;32m      4\u001b[0m \u001b[0mloss_val\u001b[0m \u001b[0;34m=\u001b[0m \u001b[0mhistory\u001b[0m\u001b[0;34m.\u001b[0m\u001b[0mhistory\u001b[0m\u001b[0;34m[\u001b[0m\u001b[0;34m'val_loss'\u001b[0m\u001b[0;34m]\u001b[0m\u001b[0;34m\u001b[0m\u001b[0;34m\u001b[0m\u001b[0m\n\u001b[1;32m      5\u001b[0m \u001b[0;34m\u001b[0m\u001b[0m\n",
            "\u001b[0;31mAttributeError\u001b[0m: 'LogisticRegression' object has no attribute 'history'"
          ]
        }
      ]
    },
    {
      "cell_type": "code",
      "source": [
        "# Feature Scaling\n",
        "from sklearn.preprocessing import StandardScaler\n",
        "import tensorflow as tf\n",
        "sc = StandardScaler()\n",
        "X_train = sc.fit_transform(X_train)\n",
        "X_test = sc.transform(X_test)\n",
        "\n",
        "\n",
        "# Initializing the ANN\n",
        "ann = tf.keras.models.Sequential()\n",
        "\n",
        "# Adding the input layer and the first hidden layer\n",
        "ann.add(tf.keras.layers.Dense(units=200, input_dim=13, activation='relu'))\n",
        "# Adding the second hidden layer\n",
        "ann.add(tf.keras.layers.Dense(units=100, activation='relu'))\n",
        "\n",
        "# Adding the output layer\n",
        "ann.add(tf.keras.layers.Dense(units=1, activation='sigmoid'))\n",
        "\n",
        "# Part 3 - Training the ANN\n",
        "\n",
        "# Compiling the ANN\n",
        "ann.compile(optimizer = 'sgd', loss = 'binary_crossentropy', metrics = ['accuracy'])\n",
        "print(ann.summary())\n",
        "\n",
        "# Training the ANN on the Training set\n",
        "history = ann.fit(X_train, y_train, validation_data=(X_test, y_test), batch_size = 100, epochs = 50, verbose=1)"
      ],
      "metadata": {
        "colab": {
          "base_uri": "https://localhost:8080/"
        },
        "id": "28xJb_egjNYe",
        "outputId": "a526a237-7b89-45c0-8292-b4a52c33675c"
      },
      "execution_count": 51,
      "outputs": [
        {
          "output_type": "stream",
          "name": "stdout",
          "text": [
            "Model: \"sequential_3\"\n",
            "_________________________________________________________________\n",
            " Layer (type)                Output Shape              Param #   \n",
            "=================================================================\n",
            " dense_9 (Dense)             (None, 200)               2800      \n",
            "                                                                 \n",
            " dense_10 (Dense)            (None, 100)               20100     \n",
            "                                                                 \n",
            " dense_11 (Dense)            (None, 1)                 101       \n",
            "                                                                 \n",
            "=================================================================\n",
            "Total params: 23,001\n",
            "Trainable params: 23,001\n",
            "Non-trainable params: 0\n",
            "_________________________________________________________________\n",
            "None\n",
            "Epoch 1/50\n",
            "968/968 [==============================] - 6s 5ms/step - loss: 0.4061 - accuracy: 0.8305 - val_loss: 0.3312 - val_accuracy: 0.8529\n",
            "Epoch 2/50\n",
            "968/968 [==============================] - 5s 5ms/step - loss: 0.3129 - accuracy: 0.8611 - val_loss: 0.3051 - val_accuracy: 0.8680\n",
            "Epoch 3/50\n",
            "968/968 [==============================] - 6s 6ms/step - loss: 0.2943 - accuracy: 0.8732 - val_loss: 0.2903 - val_accuracy: 0.8785\n",
            "Epoch 4/50\n",
            "968/968 [==============================] - 4s 4ms/step - loss: 0.2816 - accuracy: 0.8791 - val_loss: 0.2789 - val_accuracy: 0.8798\n",
            "Epoch 5/50\n",
            "968/968 [==============================] - 4s 4ms/step - loss: 0.2712 - accuracy: 0.8830 - val_loss: 0.2698 - val_accuracy: 0.8878\n",
            "Epoch 6/50\n",
            "968/968 [==============================] - 4s 5ms/step - loss: 0.2625 - accuracy: 0.8895 - val_loss: 0.2610 - val_accuracy: 0.8902\n",
            "Epoch 7/50\n",
            "968/968 [==============================] - 5s 5ms/step - loss: 0.2548 - accuracy: 0.8928 - val_loss: 0.2537 - val_accuracy: 0.8960\n",
            "Epoch 8/50\n",
            "968/968 [==============================] - 4s 4ms/step - loss: 0.2479 - accuracy: 0.8975 - val_loss: 0.2472 - val_accuracy: 0.9000\n",
            "Epoch 9/50\n",
            "968/968 [==============================] - 4s 4ms/step - loss: 0.2417 - accuracy: 0.9005 - val_loss: 0.2411 - val_accuracy: 0.9007\n",
            "Epoch 10/50\n",
            "968/968 [==============================] - 4s 4ms/step - loss: 0.2358 - accuracy: 0.9030 - val_loss: 0.2356 - val_accuracy: 0.9047\n",
            "Epoch 11/50\n",
            "968/968 [==============================] - 4s 5ms/step - loss: 0.2304 - accuracy: 0.9051 - val_loss: 0.2301 - val_accuracy: 0.9069\n",
            "Epoch 12/50\n",
            "968/968 [==============================] - 4s 5ms/step - loss: 0.2253 - accuracy: 0.9068 - val_loss: 0.2256 - val_accuracy: 0.9085\n",
            "Epoch 13/50\n",
            "968/968 [==============================] - 6s 6ms/step - loss: 0.2206 - accuracy: 0.9101 - val_loss: 0.2207 - val_accuracy: 0.9121\n",
            "Epoch 14/50\n",
            "968/968 [==============================] - 5s 5ms/step - loss: 0.2163 - accuracy: 0.9128 - val_loss: 0.2164 - val_accuracy: 0.9133\n",
            "Epoch 15/50\n",
            "968/968 [==============================] - 5s 5ms/step - loss: 0.2121 - accuracy: 0.9164 - val_loss: 0.2124 - val_accuracy: 0.9204\n",
            "Epoch 16/50\n",
            "968/968 [==============================] - 5s 5ms/step - loss: 0.2082 - accuracy: 0.9199 - val_loss: 0.2088 - val_accuracy: 0.9217\n",
            "Epoch 17/50\n",
            "968/968 [==============================] - 5s 5ms/step - loss: 0.2045 - accuracy: 0.9216 - val_loss: 0.2058 - val_accuracy: 0.9219\n",
            "Epoch 18/50\n",
            "968/968 [==============================] - 4s 4ms/step - loss: 0.2012 - accuracy: 0.9235 - val_loss: 0.2024 - val_accuracy: 0.9241\n",
            "Epoch 19/50\n",
            "968/968 [==============================] - 5s 5ms/step - loss: 0.1981 - accuracy: 0.9246 - val_loss: 0.1997 - val_accuracy: 0.9245\n",
            "Epoch 20/50\n",
            "968/968 [==============================] - 5s 5ms/step - loss: 0.1953 - accuracy: 0.9261 - val_loss: 0.1957 - val_accuracy: 0.9265\n",
            "Epoch 21/50\n",
            "968/968 [==============================] - 3s 4ms/step - loss: 0.1928 - accuracy: 0.9266 - val_loss: 0.1940 - val_accuracy: 0.9270\n",
            "Epoch 22/50\n",
            "968/968 [==============================] - 4s 4ms/step - loss: 0.1905 - accuracy: 0.9273 - val_loss: 0.1930 - val_accuracy: 0.9276\n",
            "Epoch 23/50\n",
            "968/968 [==============================] - 5s 5ms/step - loss: 0.1884 - accuracy: 0.9278 - val_loss: 0.1900 - val_accuracy: 0.9275\n",
            "Epoch 24/50\n",
            "968/968 [==============================] - 4s 4ms/step - loss: 0.1866 - accuracy: 0.9281 - val_loss: 0.1880 - val_accuracy: 0.9274\n",
            "Epoch 25/50\n",
            "968/968 [==============================] - 4s 4ms/step - loss: 0.1848 - accuracy: 0.9287 - val_loss: 0.1866 - val_accuracy: 0.9283\n",
            "Epoch 26/50\n",
            "968/968 [==============================] - 4s 4ms/step - loss: 0.1830 - accuracy: 0.9291 - val_loss: 0.1855 - val_accuracy: 0.9291\n",
            "Epoch 27/50\n",
            "968/968 [==============================] - 4s 5ms/step - loss: 0.1816 - accuracy: 0.9295 - val_loss: 0.1832 - val_accuracy: 0.9286\n",
            "Epoch 28/50\n",
            "968/968 [==============================] - 3s 4ms/step - loss: 0.1804 - accuracy: 0.9297 - val_loss: 0.1822 - val_accuracy: 0.9295\n",
            "Epoch 29/50\n",
            "968/968 [==============================] - 4s 4ms/step - loss: 0.1792 - accuracy: 0.9303 - val_loss: 0.1814 - val_accuracy: 0.9295\n",
            "Epoch 30/50\n",
            "968/968 [==============================] - 5s 5ms/step - loss: 0.1779 - accuracy: 0.9309 - val_loss: 0.1794 - val_accuracy: 0.9300\n",
            "Epoch 31/50\n",
            "968/968 [==============================] - 5s 5ms/step - loss: 0.1769 - accuracy: 0.9316 - val_loss: 0.1788 - val_accuracy: 0.9299\n",
            "Epoch 32/50\n",
            "968/968 [==============================] - 4s 4ms/step - loss: 0.1757 - accuracy: 0.9319 - val_loss: 0.1787 - val_accuracy: 0.9319\n",
            "Epoch 33/50\n",
            "968/968 [==============================] - 4s 4ms/step - loss: 0.1748 - accuracy: 0.9324 - val_loss: 0.1804 - val_accuracy: 0.9318\n",
            "Epoch 34/50\n",
            "968/968 [==============================] - 4s 4ms/step - loss: 0.1739 - accuracy: 0.9330 - val_loss: 0.1790 - val_accuracy: 0.9334\n",
            "Epoch 35/50\n",
            "968/968 [==============================] - 4s 4ms/step - loss: 0.1730 - accuracy: 0.9333 - val_loss: 0.1767 - val_accuracy: 0.9332\n",
            "Epoch 36/50\n",
            "968/968 [==============================] - 5s 5ms/step - loss: 0.1724 - accuracy: 0.9332 - val_loss: 0.1750 - val_accuracy: 0.9320\n",
            "Epoch 37/50\n",
            "968/968 [==============================] - 4s 5ms/step - loss: 0.1716 - accuracy: 0.9334 - val_loss: 0.1733 - val_accuracy: 0.9327\n",
            "Epoch 38/50\n",
            "968/968 [==============================] - 4s 4ms/step - loss: 0.1709 - accuracy: 0.9341 - val_loss: 0.1738 - val_accuracy: 0.9339\n",
            "Epoch 39/50\n",
            "968/968 [==============================] - 4s 4ms/step - loss: 0.1703 - accuracy: 0.9340 - val_loss: 0.1716 - val_accuracy: 0.9340\n",
            "Epoch 40/50\n",
            "968/968 [==============================] - 4s 4ms/step - loss: 0.1696 - accuracy: 0.9344 - val_loss: 0.1733 - val_accuracy: 0.9331\n",
            "Epoch 41/50\n",
            "968/968 [==============================] - 7s 7ms/step - loss: 0.1693 - accuracy: 0.9343 - val_loss: 0.1703 - val_accuracy: 0.9345\n",
            "Epoch 42/50\n",
            "968/968 [==============================] - 5s 5ms/step - loss: 0.1685 - accuracy: 0.9346 - val_loss: 0.1886 - val_accuracy: 0.9241\n",
            "Epoch 43/50\n",
            "968/968 [==============================] - 4s 4ms/step - loss: 0.1683 - accuracy: 0.9346 - val_loss: 0.1702 - val_accuracy: 0.9344\n",
            "Epoch 44/50\n",
            "968/968 [==============================] - 4s 4ms/step - loss: 0.1677 - accuracy: 0.9347 - val_loss: 0.1765 - val_accuracy: 0.9308\n",
            "Epoch 45/50\n",
            "968/968 [==============================] - 4s 4ms/step - loss: 0.1673 - accuracy: 0.9349 - val_loss: 0.1696 - val_accuracy: 0.9353\n",
            "Epoch 46/50\n",
            "968/968 [==============================] - 4s 4ms/step - loss: 0.1668 - accuracy: 0.9352 - val_loss: 0.1713 - val_accuracy: 0.9349\n",
            "Epoch 47/50\n",
            "968/968 [==============================] - 4s 4ms/step - loss: 0.1664 - accuracy: 0.9353 - val_loss: 0.1681 - val_accuracy: 0.9355\n",
            "Epoch 48/50\n",
            "968/968 [==============================] - 4s 4ms/step - loss: 0.1662 - accuracy: 0.9353 - val_loss: 0.1684 - val_accuracy: 0.9356\n",
            "Epoch 49/50\n",
            "968/968 [==============================] - 4s 4ms/step - loss: 0.1657 - accuracy: 0.9357 - val_loss: 0.1686 - val_accuracy: 0.9358\n",
            "Epoch 50/50\n",
            "968/968 [==============================] - 3s 4ms/step - loss: 0.1655 - accuracy: 0.9356 - val_loss: 0.1674 - val_accuracy: 0.9359\n"
          ]
        }
      ]
    },
    {
      "cell_type": "code",
      "source": [
        "import matplotlib.pyplot as plt\n",
        "loss_train = history.history['loss']\n",
        "\n",
        "loss_val = history.history['val_loss']\n",
        "\n",
        "epochs = range(1,51)\n",
        "\n",
        "plt.plot(epochs, loss_train, 'g', label='Training loss')\n",
        "\n",
        "plt.plot(epochs, loss_val, 'b', label='validation loss')\n",
        "\n",
        "plt.title('Training and Validation loss')\n",
        "\n",
        "plt.xlabel('Epochs')\n",
        "\n",
        "plt.ylabel('Loss')\n",
        "\n",
        "plt.legend()\n",
        "\n",
        "plt.show()"
      ],
      "metadata": {
        "colab": {
          "base_uri": "https://localhost:8080/",
          "height": 295
        },
        "id": "UpAZ58Ufj2wh",
        "outputId": "23c92613-17a2-4193-b63b-e91c250236a2"
      },
      "execution_count": 53,
      "outputs": [
        {
          "output_type": "display_data",
          "data": {
            "text/plain": [
              "<Figure size 432x288 with 1 Axes>"
            ],
            "image/png": "[encoded data removed]"
          },
          "metadata": {
            "needs_background": "light"
          }
        }
      ]
    },
    {
      "cell_type": "code",
      "source": [
        "loss_train = history.history['accuracy']\n",
        "\n",
        "loss_val = history.history['val_accuracy']\n",
        "\n",
        "epochs = range(1,51)\n",
        "\n",
        "plt.plot(epochs, loss_train, 'g', label='Training accuracy')\n",
        "\n",
        "plt.plot(epochs, loss_val, 'b', label='validation accuracy')\n",
        "\n",
        "plt.title('Training and Validation accuracy')\n",
        "\n",
        "plt.xlabel('Epochs')\n",
        "\n",
        "plt.ylabel('Accuracy')\n",
        "\n",
        "plt.legend()\n",
        "\n",
        "plt.show()"
      ],
      "metadata": {
        "colab": {
          "base_uri": "https://localhost:8080/",
          "height": 295
        },
        "id": "9jcv84n7krDS",
        "outputId": "4d2263e2-238e-45bb-f82f-939d453354aa"
      },
      "execution_count": 54,
      "outputs": [
        {
          "output_type": "display_data",
          "data": {
            "text/plain": [
              "<Figure size 432x288 with 1 Axes>"
            ],
            "image/png": "[encoded data removed]"
          },
          "metadata": {
            "needs_background": "light"
          }
        }
      ]
    }
  ]
}