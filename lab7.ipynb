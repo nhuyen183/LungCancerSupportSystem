{
  "cells": [
    {
      "cell_type": "markdown",
      "metadata": {
        "id": "view-in-github",
        "colab_type": "text"
      },
      "source": [
        "<a href=\"https://colab.research.google.com/github/nhuyen183/LungCancerSupportSystem/blob/master/lab7.ipynb\" target=\"_parent\"><img src=\"https://colab.research.google.com/assets/colab-badge.svg\" alt=\"Open In Colab\"/></a>"
      ]
    },
    {
      "cell_type": "code",
      "execution_count": null,
      "metadata": {
        "id": "qek60uWZPX_f"
      },
      "outputs": [],
      "source": [
        "import os\n",
        "from glob import glob\n",
        "\n",
        "import dask.dataframe as dd\n",
        "import pandas as pd"
      ]
    },
    {
      "cell_type": "code",
      "execution_count": null,
      "metadata": {
        "id": "1iX-PieFPX_g"
      },
      "outputs": [],
      "source": [
        "# Uncomment the following lines if you want to use the distributed scheduler\n",
        "# from dask.distributed import Client\n",
        "# client = Client()"
      ]
    },
    {
      "cell_type": "code",
      "execution_count": null,
      "metadata": {
        "id": "7Mvyzne9PX_h"
      },
      "outputs": [],
      "source": [
        "payroll_glob = \"./payroll-small/*.csv\""
      ]
    },
    {
      "cell_type": "markdown",
      "metadata": {
        "id": "IHDyNxkdPX_h"
      },
      "source": [
        "__Exercise__ \n",
        "\n",
        "Incrementally calculate the mean `base_salary` of all CSVs in `/payroll-small/` using `pandas`. Time the entire computation using `%%time` as the first line of the cell.\n",
        "\n",
        "Do not use any Dask functions."
      ]
    },
    {
      "cell_type": "code",
      "execution_count": null,
      "metadata": {
        "id": "ICweLMoPPX_i"
      },
      "outputs": [],
      "source": [
        "!ls ./payroll-small/"
      ]
    },
    {
      "cell_type": "code",
      "execution_count": null,
      "metadata": {
        "id": "zre-weY6PX_i"
      },
      "outputs": [],
      "source": [
        "%%time\n"
      ]
    },
    {
      "cell_type": "markdown",
      "metadata": {
        "id": "hz4WxV3wPX_i"
      },
      "source": [
        "__Exercise__\n",
        "\n",
        "Load all the payroll CSVs using `dd.read_csv` and assign it to `payroll`. Calculate the number of partitions in the DataFrame."
      ]
    },
    {
      "cell_type": "code",
      "execution_count": null,
      "metadata": {
        "id": "iZMu2CAuPX_j"
      },
      "outputs": [],
      "source": [
        "payroll = "
      ]
    },
    {
      "cell_type": "code",
      "execution_count": null,
      "metadata": {
        "id": "1ynaUDqGPX_j"
      },
      "outputs": [],
      "source": []
    },
    {
      "cell_type": "markdown",
      "metadata": {
        "id": "5RcBVFfqPX_j"
      },
      "source": [
        "__Exercise__\n",
        "\n",
        "Calculate the mean of the `payroll.base_salary` Dask DataFrame. How do the timings compare for the Dask and Pandas versions."
      ]
    },
    {
      "cell_type": "code",
      "execution_count": null,
      "metadata": {
        "id": "bMqBTyLoPX_j"
      },
      "outputs": [],
      "source": []
    },
    {
      "cell_type": "markdown",
      "metadata": {
        "id": "fznLXtOxPX_j"
      },
      "source": [
        "__Exercise__ \n",
        "\n",
        "Print out the task graph for the mean calculation from the previous exercise using `visualize`. Set `rankdir=\"LR\"` to display the graph left-to-right."
      ]
    },
    {
      "cell_type": "code",
      "execution_count": null,
      "metadata": {
        "id": "0EHR1Eo8PX_k"
      },
      "outputs": [],
      "source": []
    },
    {
      "cell_type": "markdown",
      "metadata": {
        "id": "umT0M_fvPX_k"
      },
      "source": [
        "__Exercise__ \n",
        "\n",
        "Add a `max` calculation on `ot_hours` to the Dask graph but do not call `compute`. Why does the graph overlap with the previous one we visualize?"
      ]
    },
    {
      "cell_type": "code",
      "execution_count": null,
      "metadata": {
        "id": "UrsuSy-3PX_k"
      },
      "outputs": [],
      "source": []
    },
    {
      "cell_type": "markdown",
      "metadata": {
        "id": "k0hXdHeiPX_k"
      },
      "source": [
        "__Exercise__ \n",
        "\n",
        "Call `persist` on `payroll` and visualize the result. Why is the new graph different from the previous one?"
      ]
    },
    {
      "cell_type": "code",
      "execution_count": null,
      "metadata": {
        "id": "9s0wuQ5oPX_k"
      },
      "outputs": [],
      "source": []
    },
    {
      "cell_type": "code",
      "execution_count": null,
      "metadata": {
        "id": "PqKcduW-PX_k"
      },
      "outputs": [],
      "source": []
    }
  ],
  "metadata": {
    "kernelspec": {
      "display_name": "Python 3",
      "language": "python",
      "name": "python3"
    },
    "language_info": {
      "codemirror_mode": {
        "name": "ipython",
        "version": 3
      },
      "file_extension": ".py",
      "mimetype": "text/x-python",
      "name": "python",
      "nbconvert_exporter": "python",
      "pygments_lexer": "ipython3",
      "version": "3.8.2"
    },
    "colab": {
      "provenance": [],
      "include_colab_link": true
    }
  },
  "nbformat": 4,
  "nbformat_minor": 0
}