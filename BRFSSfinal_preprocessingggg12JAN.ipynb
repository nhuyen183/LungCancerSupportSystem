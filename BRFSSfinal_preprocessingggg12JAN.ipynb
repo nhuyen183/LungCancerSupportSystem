{
  "nbformat": 4,
  "nbformat_minor": 0,
  "metadata": {
    "colab": {
      "provenance": [],
      "mount_file_id": "1QgiznxMrt7FNMiBrsW6duF1SsDt_Y02k",
      "authorship_tag": "ABX9TyPIJF3i5CIUQyBm6VJyLQIi",
      "include_colab_link": true
    },
    "kernelspec": {
      "name": "python3",
      "display_name": "Python 3"
    },
    "language_info": {
      "name": "python"
    },
    "gpuClass": "standard"
  },
  "cells": [
    {
      "cell_type": "markdown",
      "metadata": {
        "id": "view-in-github",
        "colab_type": "text"
      },
      "source": [
        "<a href=\"https://colab.research.google.com/github/nhuyen183/LungCancerSupportSystem/blob/master/BRFSSfinal_preprocessingggg12JAN.ipynb\" target=\"_parent\"><img src=\"https://colab.research.google.com/assets/colab-badge.svg\" alt=\"Open In Colab\"/></a>"
      ]
    },
    {
      "cell_type": "code",
      "execution_count": 121,
      "metadata": {
        "id": "UxvbCvWzF2iN",
        "colab": {
          "base_uri": "https://localhost:8080/"
        },
        "outputId": "727b8895-58da-44fc-ec20-688157cda63b"
      },
      "outputs": [
        {
          "output_type": "stream",
          "name": "stdout",
          "text": [
            "\r0% [Working]\r            \rGet:1 https://cloud.r-project.org/bin/linux/ubuntu bionic-cran40/ InRelease [3,626 B]\n",
            "\r0% [Connecting to archive.ubuntu.com (185.125.190.36)] [Connecting to security.\r0% [Connecting to archive.ubuntu.com (185.125.190.36)] [Connecting to security.\r0% [1 InRelease gpgv 3,626 B] [Connecting to archive.ubuntu.com (185.125.190.36\r                                                                               \rGet:2 http://security.ubuntu.com/ubuntu bionic-security InRelease [88.7 kB]\n",
            "\r0% [1 InRelease gpgv 3,626 B] [Waiting for headers] [2 InRelease 14.2 kB/88.7 k\r                                                                               \rHit:3 http://archive.ubuntu.com/ubuntu bionic InRelease\n",
            "\r0% [1 InRelease gpgv 3,626 B] [Waiting for headers] [2 InRelease 14.2 kB/88.7 k\r                                                                               \rIgn:4 https://developer.download.nvidia.com/compute/machine-learning/repos/ubuntu1804/x86_64  InRelease\n",
            "\r0% [1 InRelease gpgv 3,626 B] [Waiting for headers] [2 InRelease 14.2 kB/88.7 k\r                                                                               \rHit:5 https://developer.download.nvidia.com/compute/cuda/repos/ubuntu1804/x86_64  InRelease\n",
            "\r0% [1 InRelease gpgv 3,626 B] [Waiting for headers] [2 InRelease 14.2 kB/88.7 k\r                                                                               \rHit:6 https://developer.download.nvidia.com/compute/machine-learning/repos/ubuntu1804/x86_64  Release\n",
            "\r0% [1 InRelease gpgv 3,626 B] [Waiting for headers] [2 InRelease 14.2 kB/88.7 k\r                                                                               \rHit:7 http://ppa.launchpad.net/c2d4u.team/c2d4u4.0+/ubuntu bionic InRelease\n",
            "Get:8 http://archive.ubuntu.com/ubuntu bionic-updates InRelease [88.7 kB]\n",
            "Hit:9 http://ppa.launchpad.net/cran/libgit2/ubuntu bionic InRelease\n",
            "Get:10 http://archive.ubuntu.com/ubuntu bionic-backports InRelease [83.3 kB]\n",
            "Hit:11 http://ppa.launchpad.net/deadsnakes/ppa/ubuntu bionic InRelease\n",
            "Hit:12 http://ppa.launchpad.net/graphics-drivers/ppa/ubuntu bionic InRelease\n",
            "Get:14 http://archive.ubuntu.com/ubuntu bionic-updates/main amd64 Packages [3,552 kB]\n",
            "Fetched 3,817 kB in 2s (1,874 kB/s)\n",
            "Reading package lists... Done\n"
          ]
        }
      ],
      "source": [
        "#@title Installing Spark and dependencies\n",
        "#Java 8\n",
        "#Apache Spark with hadoop and\n",
        "#Findspark (used to locate the spark in the system)\n",
        "!apt-get update\n",
        "!apt-get install openjdk-8-jdk-headless -qq > /dev/null\n",
        "!wget -q http://archive.apache.org/dist/spark/spark-3.1.1/spark-3.1.1-bin-hadoop3.2.tgz\n",
        "!tar xf spark-3.1.1-bin-hadoop3.2.tgz\n",
        "!pip install -q findspark\n",
        "\n",
        "#Set Environment Variables\n",
        "import os\n",
        "os.environ[\"JAVA_HOME\"] = \"/usr/lib/jvm/java-8-openjdk-amd64\"\n",
        "os.environ[\"SPARK_HOME\"] = \"/content/spark-3.1.1-bin-hadoop3.2\"\n",
        "import findspark\n",
        "findspark.init()"
      ]
    },
    {
      "cell_type": "markdown",
      "source": [
        "# Step 1: Define the problem\n",
        "What sorts of people were likely to have lung cancer?"
      ],
      "metadata": {
        "id": "yZQ9Ioxnrn8C"
      }
    },
    {
      "cell_type": "markdown",
      "source": [
        "# Step 2: Gather the data\n",
        "The datasets can be found here:\n",
        "* https://www.kaggle.com/datasets/aemreusta/brfss-2020-survey-data\n",
        "* https://www.kaggle.com/datasets/sakinak/behavioral-risk-factor-surveillance-survey-201619"
      ],
      "metadata": {
        "id": "bc9uZc0_r0rR"
      }
    },
    {
      "cell_type": "code",
      "source": [
        "#@title Create Spark entry points\n",
        "from pyspark import SparkConf, SparkContext\n",
        "from pyspark.sql import SparkSession"
      ],
      "metadata": {
        "id": "c6udoYI94hjI"
      },
      "execution_count": 122,
      "outputs": []
    },
    {
      "cell_type": "code",
      "source": [
        "sc = SparkContext(conf=SparkConf())\n",
        "spark = SparkSession(sparkContext=sc)"
      ],
      "metadata": {
        "id": "UJAvHSw3_PY2",
        "outputId": "718a1856-4a52-4a58-f15f-45ce7ed22542",
        "colab": {
          "base_uri": "https://localhost:8080/",
          "height": 213
        }
      },
      "execution_count": 124,
      "outputs": [
        {
          "output_type": "error",
          "ename": "ValueError",
          "evalue": "ignored",
          "traceback": [
            "\u001b[0;31m---------------------------------------------------------------------------\u001b[0m",
            "\u001b[0;31mValueError\u001b[0m                                Traceback (most recent call last)",
            "\u001b[0;32m<ipython-input-124-f2233422434c>\u001b[0m in \u001b[0;36m<module>\u001b[0;34m\u001b[0m\n\u001b[0;32m----> 1\u001b[0;31m \u001b[0msc\u001b[0m \u001b[0;34m=\u001b[0m \u001b[0mSparkContext\u001b[0m\u001b[0;34m(\u001b[0m\u001b[0mconf\u001b[0m\u001b[0;34m=\u001b[0m\u001b[0mSparkConf\u001b[0m\u001b[0;34m(\u001b[0m\u001b[0;34m)\u001b[0m\u001b[0;34m)\u001b[0m\u001b[0;34m\u001b[0m\u001b[0;34m\u001b[0m\u001b[0m\n\u001b[0m\u001b[1;32m      2\u001b[0m \u001b[0mspark\u001b[0m \u001b[0;34m=\u001b[0m \u001b[0mSparkSession\u001b[0m\u001b[0;34m(\u001b[0m\u001b[0msparkContext\u001b[0m\u001b[0;34m=\u001b[0m\u001b[0msc\u001b[0m\u001b[0;34m)\u001b[0m\u001b[0;34m\u001b[0m\u001b[0;34m\u001b[0m\u001b[0m\n",
            "\u001b[0;32m/content/spark-3.1.1-bin-hadoop3.2/python/pyspark/context.py\u001b[0m in \u001b[0;36m__init__\u001b[0;34m(self, master, appName, sparkHome, pyFiles, environment, batchSize, serializer, conf, gateway, jsc, profiler_cls)\u001b[0m\n\u001b[1;32m    142\u001b[0m                 \" is not allowed as it is a security risk.\")\n\u001b[1;32m    143\u001b[0m \u001b[0;34m\u001b[0m\u001b[0m\n\u001b[0;32m--> 144\u001b[0;31m         \u001b[0mSparkContext\u001b[0m\u001b[0;34m.\u001b[0m\u001b[0m_ensure_initialized\u001b[0m\u001b[0;34m(\u001b[0m\u001b[0mself\u001b[0m\u001b[0;34m,\u001b[0m \u001b[0mgateway\u001b[0m\u001b[0;34m=\u001b[0m\u001b[0mgateway\u001b[0m\u001b[0;34m,\u001b[0m \u001b[0mconf\u001b[0m\u001b[0;34m=\u001b[0m\u001b[0mconf\u001b[0m\u001b[0;34m)\u001b[0m\u001b[0;34m\u001b[0m\u001b[0;34m\u001b[0m\u001b[0m\n\u001b[0m\u001b[1;32m    145\u001b[0m         \u001b[0;32mtry\u001b[0m\u001b[0;34m:\u001b[0m\u001b[0;34m\u001b[0m\u001b[0;34m\u001b[0m\u001b[0m\n\u001b[1;32m    146\u001b[0m             self._do_init(master, appName, sparkHome, pyFiles, environment, batchSize, serializer,\n",
            "\u001b[0;32m/content/spark-3.1.1-bin-hadoop3.2/python/pyspark/context.py\u001b[0m in \u001b[0;36m_ensure_initialized\u001b[0;34m(cls, instance, gateway, conf)\u001b[0m\n\u001b[1;32m    340\u001b[0m \u001b[0;34m\u001b[0m\u001b[0m\n\u001b[1;32m    341\u001b[0m                     \u001b[0;31m# Raise error if there is already a running Spark context\u001b[0m\u001b[0;34m\u001b[0m\u001b[0;34m\u001b[0m\u001b[0;34m\u001b[0m\u001b[0m\n\u001b[0;32m--> 342\u001b[0;31m                     raise ValueError(\n\u001b[0m\u001b[1;32m    343\u001b[0m                         \u001b[0;34m\"Cannot run multiple SparkContexts at once; \"\u001b[0m\u001b[0;34m\u001b[0m\u001b[0;34m\u001b[0m\u001b[0m\n\u001b[1;32m    344\u001b[0m                         \u001b[0;34m\"existing SparkContext(app=%s, master=%s)\"\u001b[0m\u001b[0;34m\u001b[0m\u001b[0;34m\u001b[0m\u001b[0m\n",
            "\u001b[0;31mValueError\u001b[0m: Cannot run multiple SparkContexts at once; existing SparkContext(app=pyspark-shell, master=local[*]) created by __init__ at <ipython-input-3-f2233422434c>:1 "
          ]
        }
      ]
    },
    {
      "cell_type": "code",
      "source": [
        "#@title Import Spark Mlib libraries\n",
        "from pyspark.ml.classification import LinearSVC\n",
        "from pyspark.ml.classification import LogisticRegression\n",
        "from pyspark.ml.classification import DecisionTreeClassifier\n",
        "from pyspark.ml.classification import GBTClassifier\n",
        "from pyspark.ml.classification import RandomForestClassifier\n",
        "from pyspark.ml.classification import NaiveBayes\n",
        "from pyspark.ml.classification import MultilayerPerceptronClassifier\n",
        "from pyspark.ml.classification import OneVsRest"
      ],
      "metadata": {
        "id": "7U1wvI6hSJ1m"
      },
      "execution_count": null,
      "outputs": []
    },
    {
      "cell_type": "markdown",
      "source": [
        "# Step 3: Prepare data for consumption"
      ],
      "metadata": {
        "id": "Iqd2fYf8sANz"
      }
    },
    {
      "cell_type": "code",
      "source": [
        "#@title Mount content to drive for kaggle data download\n",
        "from google.colab import drive\n",
        "drive.mount('/content/drive')"
      ],
      "metadata": {
        "id": "f0oAl82IKAKf"
      },
      "execution_count": null,
      "outputs": []
    },
    {
      "cell_type": "code",
      "source": [
        "!pip install kaggle"
      ],
      "metadata": {
        "id": "TKKEiZnQ_Opq"
      },
      "execution_count": null,
      "outputs": []
    },
    {
      "cell_type": "code",
      "source": [
        "! mkdir ~/.kaggle"
      ],
      "metadata": {
        "id": "HMOTjRHtKNzH"
      },
      "execution_count": null,
      "outputs": []
    },
    {
      "cell_type": "code",
      "source": [
        "!cp /content/drive/MyDrive/kaggle.json ~/.kaggle/kaggle.json"
      ],
      "metadata": {
        "id": "iZsjMEFPMwt0"
      },
      "execution_count": null,
      "outputs": []
    },
    {
      "cell_type": "code",
      "source": [
        "! chmod 600 ~/.kaggle/kaggle.json"
      ],
      "metadata": {
        "id": "1hVTxodyKaZn"
      },
      "execution_count": null,
      "outputs": []
    },
    {
      "cell_type": "code",
      "source": [
        "! kaggle datasets download aemreusta/brfss-2020-survey-data"
      ],
      "metadata": {
        "id": "iwQZmM_OLlfi"
      },
      "execution_count": null,
      "outputs": []
    },
    {
      "cell_type": "code",
      "source": [
        "! kaggle datasets download sakinak/behavioral-risk-factor-surveillance-survey-201619"
      ],
      "metadata": {
        "id": "B3TqFy7SlblE"
      },
      "execution_count": null,
      "outputs": []
    },
    {
      "cell_type": "code",
      "source": [
        "!ls"
      ],
      "metadata": {
        "id": "Agbrey1YNwLx"
      },
      "execution_count": null,
      "outputs": []
    },
    {
      "cell_type": "code",
      "source": [
        "!unzip brfss-2020-survey-data.zip"
      ],
      "metadata": {
        "id": "iOsR2nmcOFtl"
      },
      "execution_count": null,
      "outputs": []
    },
    {
      "cell_type": "code",
      "source": [
        "!unzip behavioral-risk-factor-surveillance-survey-201619.zip"
      ],
      "metadata": {
        "id": "tHtnFSMplmq6"
      },
      "execution_count": null,
      "outputs": []
    },
    {
      "cell_type": "code",
      "source": [
        "from subprocess import check_output\n",
        "print('-'*10, 'Files', '-'*10)\n",
        "print(check_output(['ls', './']).decode('utf8'))"
      ],
      "metadata": {
        "id": "Hay7kOmrSQU6"
      },
      "execution_count": null,
      "outputs": []
    },
    {
      "cell_type": "markdown",
      "source": [
        "## About the BRFSS dataset and Prediction task\n",
        "\n",
        "The Behavioral Risk Factor Surveillance System (BRFSS) is a collaborative project between all of the states in the United States and participating US territories and the Centers for Disease Control and Prevention (CDC).\n",
        "\n",
        "BRFSS’s objective is to collect uniform state-specific data on health risk behaviors, chronic diseases and conditions, access to health care, and use of preventive health services related to the leading causes of death and disability in the United States. BRFSS conducts both landline and mobile phone-based surveys with individuals over the age of 18. General factors assessed by the BRFSS in 2020 included health status and healthy days, exercise, insufficient sleep, chronic health conditions, oral health, tobacco use, cancer screenings, and access to healthcare.\n",
        "\n",
        "The aim of this project is to build a model with relatively high accuracy and AUC that could serve as an decision aid for those at high risk of developing lung cancer.\n",
        "\n",
        "The data contains information about 401958 unique survey participant. As a result of my research to select the ones related to coronary artery disease among a total of 279 different features. Each example in the dataset contains the following demographic data for a set of individuals\n",
        "\n",
        "### Categorical Features\n",
        "*   `_AGE65YR`: The age of the individual in years two-level categories `18 <= AGE <= 64`: `1` and `65 <= AGE <= 99`:`2`\n",
        "*   `SEXVAR`: Sex of Respondent `Male: 1` and `Female: 2`\n",
        "*   `_BMI5CAT`:  Four-categories of Body Mass Index (BMI)`_BMI5 < 1850: Underweight` ; `1850 <= _BMI5 < 2500: Normal`;`2500 <= _BMI5 < 3000: Overweight`;`3000 <= _BMI5 < 9999: Obese`\n",
        "*   `GENHLTH`: Health status: Would you say that in general your health is: `1: Excellent`; `2: Very good` ; `3: Good` ; `4: Fair` ; `5: Poor`\n",
        "*   `SMOKE100`: Have you smoked at least 100 cigarettes in your entire life? [Note: 5 packs = 100 cigarettes] `1: Yes` ; `2: No`\n",
        "*   `_SMOKER3`: Four-level smoker status: Everyday smoker: `1`, Someday smoker: `2`, Former smoker: `3`, Non-smoker: `4`\n",
        "\n",
        "### Lung Cancer (Features) Screening Section\n",
        "*   `LCSFIRST`: How old were you when you first started to smoke cigarettes regularly. `Value 1-100 in years`\n",
        "*   `LCSLAST`: How old were you when you last smoked cigarettes regularly? `Value 1-100 in years`\n",
        "*   `LCSNUMCG`: On average, when you smoke/smoked regularly, about how many cigarettes do/did you usually smoke each \n",
        "day? `Value 1-300 in number of cigarettes`\n",
        "*   `LCSCTSCN`: In the last 12 months, did you have a CT or CAT scan? Example include: `Yes, to check for lung cancer`, `No (did not have a CT scan`, `Had a CT scan, but for other reason`.\n",
        "*   `CNCRTYP1`:  What type of cancer was it? (If Response = 2 (Two) or 3 (Three or more), ask: “With your most recent \n",
        "diagnoses of cancer, what type of cancer was it?”). Examples include: `Lung cancer: 24`, `Others: 1-30`\n",
        "*   `STOPSMK2`:  During the past 12 months, have you stopped smoking for one day or longer because you were trying to quit smoking? `Yes: 1` or `No: 2`.\n",
        "*   `ECIGARET`: Have you ever used an e-cigarette or other electronic vaping product, even just one time, in your entire life? `Yes: 1` or `No: 2`.\n",
        "*   `ECIGNOW`: Do you now use e-cigarettes or other electronic vaping products every day, some days, or not at all? `Every day: 1`; `Some days: 2` or `Not at all: 3`\n",
        "* `ASTHMA3`: (Ever told) (you had) asthma? `Yes: 1` or `No: 2`.\n",
        "### Prediction Task\n",
        "The prediction task is to **early predict whether a person have the high risk of lung cancer.**\n",
        "\n",
        "### Label\n",
        "*   `CNCRTYP1`: What type of cancer (lung cancer = 24)\n",
        "\n",
        "\n",
        "\n"
      ],
      "metadata": {
        "id": "FU9ICs1C3_i-"
      }
    },
    {
      "cell_type": "code",
      "source": [
        "import numpy as np\n",
        "import pandas as pd\n",
        "import tensorflow as tf\n",
        "from tensorflow.keras import layers\n",
        "from matplotlib import pyplot as plt\n",
        "from matplotlib import rcParams\n",
        "from sklearn.model_selection import train_test_split\n",
        "import seaborn as sns\n",
        "\n",
        "# The following lines adjust the granularity of reporting. \n",
        "pd.options.display.max_rows = 10\n",
        "pd.options.display.float_format = \"{:.1f}\".format\n",
        "\n",
        "from google.colab import widgets\n",
        "# For facets\n",
        "from IPython.core.display import display, HTML\n",
        "import base64\n",
        "!pip install facets-overview==1.0.0\n",
        "from facets_overview.feature_statistics_generator import FeatureStatisticsGenerator"
      ],
      "metadata": {
        "id": "AIaSSnM5G8kt",
        "outputId": "9f34943b-7575-4a7a-9da9-1da486bed9ff",
        "colab": {
          "base_uri": "https://localhost:8080/"
        }
      },
      "execution_count": 16,
      "outputs": [
        {
          "output_type": "stream",
          "name": "stdout",
          "text": [
            "Looking in indexes: https://pypi.org/simple, https://us-python.pkg.dev/colab-wheels/public/simple/\n",
            "Collecting facets-overview==1.0.0\n",
            "  Downloading facets_overview-1.0.0-py2.py3-none-any.whl (24 kB)\n",
            "Requirement already satisfied: pandas>=0.22.0 in /usr/local/lib/python3.8/dist-packages (from facets-overview==1.0.0) (1.3.5)\n",
            "Requirement already satisfied: protobuf>=3.7.0 in /usr/local/lib/python3.8/dist-packages (from facets-overview==1.0.0) (3.19.6)\n",
            "Requirement already satisfied: numpy>=1.16.0 in /usr/local/lib/python3.8/dist-packages (from facets-overview==1.0.0) (1.21.6)\n",
            "Requirement already satisfied: python-dateutil>=2.7.3 in /usr/local/lib/python3.8/dist-packages (from pandas>=0.22.0->facets-overview==1.0.0) (2.8.2)\n",
            "Requirement already satisfied: pytz>=2017.3 in /usr/local/lib/python3.8/dist-packages (from pandas>=0.22.0->facets-overview==1.0.0) (2022.7)\n",
            "Requirement already satisfied: six>=1.5 in /usr/local/lib/python3.8/dist-packages (from python-dateutil>=2.7.3->pandas>=0.22.0->facets-overview==1.0.0) (1.15.0)\n",
            "Installing collected packages: facets-overview\n",
            "Successfully installed facets-overview-1.0.0\n"
          ]
        }
      ]
    },
    {
      "cell_type": "code",
      "source": [
        "# load packages\n",
        "import sys\n",
        "print('Python version: {}'. format(sys.version))\n",
        "\n",
        "import pandas as pd\n",
        "print('Python version: {}'. format(pd.__version__))\n",
        "\n",
        "import matplotlib\n",
        "print('matplotlib version: {}'. format(matplotlib.__version__))\n",
        "\n",
        "import numpy as np\n",
        "print('numpy version: {}'. format(np.__version__))\n",
        "\n",
        "import scipy as sp\n",
        "print('scipy version: {}'. format(sp.__version__))\n",
        "\n",
        "import IPython\n",
        "from IPython import display # pretty printing of dataframe in Jupyter notebook\n",
        "print('IPython version: {}'. format(IPython.__version__))\n",
        "\n",
        "import pyspark\n",
        "print('Apache Spark Pyspark version: {}'. format(pyspark.__version__)) # pyspark version\n",
        "\n",
        "# misc libraries\n",
        "import random\n",
        "import time\n",
        "\n",
        "# ignore warnings\n",
        "import warnings\n",
        "warnings.filterwarnings('ignore')\n",
        "print('-'*25)"
      ],
      "metadata": {
        "id": "4SvIs_HXORO4",
        "colab": {
          "base_uri": "https://localhost:8080/"
        },
        "outputId": "f26c6c50-9491-4ae8-adc0-a85d4d449c9c"
      },
      "execution_count": 17,
      "outputs": [
        {
          "output_type": "stream",
          "name": "stdout",
          "text": [
            "Python version: 3.8.16 (default, Dec  7 2022, 01:12:13) \n",
            "[GCC 7.5.0]\n",
            "Python version: 1.3.5\n",
            "matplotlib version: 3.2.2\n",
            "numpy version: 1.21.6\n",
            "scipy version: 1.7.3\n",
            "IPython version: 7.9.0\n",
            "Apache Spark Pyspark version: 3.1.1\n",
            "-------------------------\n"
          ]
        }
      ]
    },
    {
      "cell_type": "code",
      "source": [
        "#@title Data Integration\n",
        "from pyspark.sql.types import *\n",
        "\n",
        "data_2020 = spark.read.csv('./brfss2020.csv', inferSchema=True, header=True)\n",
        "\n",
        "# preview the data\n",
        "# data type\n",
        "print('-'*10, 'data types', '-'*10)\n",
        "pd.DataFrame(data_2020.dtypes)"
      ],
      "metadata": {
        "colab": {
          "base_uri": "https://localhost:8080/",
          "height": 442
        },
        "id": "es2VmY2VSUD9",
        "outputId": "86eab43a-0e61-43a2-c762-029eb96bbc5e"
      },
      "execution_count": 115,
      "outputs": [
        {
          "output_type": "stream",
          "name": "stdout",
          "text": [
            "---------- data types ----------\n"
          ]
        },
        {
          "output_type": "execute_result",
          "data": {
            "text/plain": [
              "            0       1\n",
              "0      _STATE  double\n",
              "1      FMONTH  double\n",
              "2       IDATE     int\n",
              "3      IMONTH     int\n",
              "4        IDAY     int\n",
              "..        ...     ...\n",
              "274  _STOLDNA  double\n",
              "275  _VIRCOLN  double\n",
              "276  _SBONTIM  double\n",
              "277  _CRCREC1  double\n",
              "278  _AIDTST4  double\n",
              "\n",
              "[279 rows x 2 columns]"
            ],
            "text/html": [
              "\n",
              "  <div id=\"df-0a90cd79-d6cc-46a2-a6a4-0a6710cfed8d\">\n",
              "    <div class=\"colab-df-container\">\n",
              "      <div>\n",
              "<style scoped>\n",
              "    .dataframe tbody tr th:only-of-type {\n",
              "        vertical-align: middle;\n",
              "    }\n",
              "\n",
              "    .dataframe tbody tr th {\n",
              "        vertical-align: top;\n",
              "    }\n",
              "\n",
              "    .dataframe thead th {\n",
              "        text-align: right;\n",
              "    }\n",
              "</style>\n",
              "<table border=\"1\" class=\"dataframe\">\n",
              "  <thead>\n",
              "    <tr style=\"text-align: right;\">\n",
              "      <th></th>\n",
              "      <th>0</th>\n",
              "      <th>1</th>\n",
              "    </tr>\n",
              "  </thead>\n",
              "  <tbody>\n",
              "    <tr>\n",
              "      <th>0</th>\n",
              "      <td>_STATE</td>\n",
              "      <td>double</td>\n",
              "    </tr>\n",
              "    <tr>\n",
              "      <th>1</th>\n",
              "      <td>FMONTH</td>\n",
              "      <td>double</td>\n",
              "    </tr>\n",
              "    <tr>\n",
              "      <th>2</th>\n",
              "      <td>IDATE</td>\n",
              "      <td>int</td>\n",
              "    </tr>\n",
              "    <tr>\n",
              "      <th>3</th>\n",
              "      <td>IMONTH</td>\n",
              "      <td>int</td>\n",
              "    </tr>\n",
              "    <tr>\n",
              "      <th>4</th>\n",
              "      <td>IDAY</td>\n",
              "      <td>int</td>\n",
              "    </tr>\n",
              "    <tr>\n",
              "      <th>...</th>\n",
              "      <td>...</td>\n",
              "      <td>...</td>\n",
              "    </tr>\n",
              "    <tr>\n",
              "      <th>274</th>\n",
              "      <td>_STOLDNA</td>\n",
              "      <td>double</td>\n",
              "    </tr>\n",
              "    <tr>\n",
              "      <th>275</th>\n",
              "      <td>_VIRCOLN</td>\n",
              "      <td>double</td>\n",
              "    </tr>\n",
              "    <tr>\n",
              "      <th>276</th>\n",
              "      <td>_SBONTIM</td>\n",
              "      <td>double</td>\n",
              "    </tr>\n",
              "    <tr>\n",
              "      <th>277</th>\n",
              "      <td>_CRCREC1</td>\n",
              "      <td>double</td>\n",
              "    </tr>\n",
              "    <tr>\n",
              "      <th>278</th>\n",
              "      <td>_AIDTST4</td>\n",
              "      <td>double</td>\n",
              "    </tr>\n",
              "  </tbody>\n",
              "</table>\n",
              "<p>279 rows × 2 columns</p>\n",
              "</div>\n",
              "      <button class=\"colab-df-convert\" onclick=\"convertToInteractive('df-0a90cd79-d6cc-46a2-a6a4-0a6710cfed8d')\"\n",
              "              title=\"Convert this dataframe to an interactive table.\"\n",
              "              style=\"display:none;\">\n",
              "        \n",
              "  <svg xmlns=\"http://www.w3.org/2000/svg\" height=\"24px\"viewBox=\"0 0 24 24\"\n",
              "       width=\"24px\">\n",
              "    <path d=\"M0 0h24v24H0V0z\" fill=\"none\"/>\n",
              "    <path d=\"M18.56 5.44l.94 2.06.94-2.06 2.06-.94-2.06-.94-.94-2.06-.94 2.06-2.06.94zm-11 1L8.5 8.5l.94-2.06 2.06-.94-2.06-.94L8.5 2.5l-.94 2.06-2.06.94zm10 10l.94 2.06.94-2.06 2.06-.94-2.06-.94-.94-2.06-.94 2.06-2.06.94z\"/><path d=\"M17.41 7.96l-1.37-1.37c-.4-.4-.92-.59-1.43-.59-.52 0-1.04.2-1.43.59L10.3 9.45l-7.72 7.72c-.78.78-.78 2.05 0 2.83L4 21.41c.39.39.9.59 1.41.59.51 0 1.02-.2 1.41-.59l7.78-7.78 2.81-2.81c.8-.78.8-2.07 0-2.86zM5.41 20L4 18.59l7.72-7.72 1.47 1.35L5.41 20z\"/>\n",
              "  </svg>\n",
              "      </button>\n",
              "      \n",
              "  <style>\n",
              "    .colab-df-container {\n",
              "      display:flex;\n",
              "      flex-wrap:wrap;\n",
              "      gap: 12px;\n",
              "    }\n",
              "\n",
              "    .colab-df-convert {\n",
              "      background-color: #E8F0FE;\n",
              "      border: none;\n",
              "      border-radius: 50%;\n",
              "      cursor: pointer;\n",
              "      display: none;\n",
              "      fill: #1967D2;\n",
              "      height: 32px;\n",
              "      padding: 0 0 0 0;\n",
              "      width: 32px;\n",
              "    }\n",
              "\n",
              "    .colab-df-convert:hover {\n",
              "      background-color: #E2EBFA;\n",
              "      box-shadow: 0px 1px 2px rgba(60, 64, 67, 0.3), 0px 1px 3px 1px rgba(60, 64, 67, 0.15);\n",
              "      fill: #174EA6;\n",
              "    }\n",
              "\n",
              "    [theme=dark] .colab-df-convert {\n",
              "      background-color: #3B4455;\n",
              "      fill: #D2E3FC;\n",
              "    }\n",
              "\n",
              "    [theme=dark] .colab-df-convert:hover {\n",
              "      background-color: #434B5C;\n",
              "      box-shadow: 0px 1px 3px 1px rgba(0, 0, 0, 0.15);\n",
              "      filter: drop-shadow(0px 1px 2px rgba(0, 0, 0, 0.3));\n",
              "      fill: #FFFFFF;\n",
              "    }\n",
              "  </style>\n",
              "\n",
              "      <script>\n",
              "        const buttonEl =\n",
              "          document.querySelector('#df-0a90cd79-d6cc-46a2-a6a4-0a6710cfed8d button.colab-df-convert');\n",
              "        buttonEl.style.display =\n",
              "          google.colab.kernel.accessAllowed ? 'block' : 'none';\n",
              "\n",
              "        async function convertToInteractive(key) {\n",
              "          const element = document.querySelector('#df-0a90cd79-d6cc-46a2-a6a4-0a6710cfed8d');\n",
              "          const dataTable =\n",
              "            await google.colab.kernel.invokeFunction('convertToInteractive',\n",
              "                                                     [key], {});\n",
              "          if (!dataTable) return;\n",
              "\n",
              "          const docLinkHtml = 'Like what you see? Visit the ' +\n",
              "            '<a target=\"_blank\" href=https://colab.research.google.com/notebooks/data_table.ipynb>data table notebook</a>'\n",
              "            + ' to learn more about interactive tables.';\n",
              "          element.innerHTML = '';\n",
              "          dataTable['output_type'] = 'display_data';\n",
              "          await google.colab.output.renderOutput(dataTable, element);\n",
              "          const docLink = document.createElement('div');\n",
              "          docLink.innerHTML = docLinkHtml;\n",
              "          element.appendChild(docLink);\n",
              "        }\n",
              "      </script>\n",
              "    </div>\n",
              "  </div>\n",
              "  "
            ]
          },
          "metadata": {},
          "execution_count": 115
        }
      ]
    },
    {
      "cell_type": "code",
      "source": [
        "data_2020F = data_2020.select('SEXVAR', '_AGE65YR', '_BMI5CAT', 'GENHLTH', 'SMOKE100', '_SMOKER3',\n",
        "                  'LCSFIRST', 'LCSLAST', 'LCSNUMCG', 'LCSCTSCN', 'CNCRTYP1',\n",
        "                  'STOPSMK2', 'ASTHMA3', 'CHCCOPD2', 'ECIGARET', 'ECIGNOW')\n",
        "data_2020F.show()"
      ],
      "metadata": {
        "id": "a59eVrl_rXpD",
        "outputId": "fdce8302-7f77-4496-9036-2426ba0daf13",
        "colab": {
          "base_uri": "https://localhost:8080/"
        }
      },
      "execution_count": 116,
      "outputs": [
        {
          "output_type": "stream",
          "name": "stdout",
          "text": [
            "+------+--------+--------+-------+--------+--------+--------+-------+--------+--------+--------+--------+-------+--------+--------+-------+\n",
            "|SEXVAR|_AGE65YR|_BMI5CAT|GENHLTH|SMOKE100|_SMOKER3|LCSFIRST|LCSLAST|LCSNUMCG|LCSCTSCN|CNCRTYP1|STOPSMK2|ASTHMA3|CHCCOPD2|ECIGARET|ECIGNOW|\n",
            "+------+--------+--------+-------+--------+--------+--------+-------+--------+--------+--------+--------+-------+--------+--------+-------+\n",
            "|   2.0|     1.0|     1.0|    2.0|     1.0|     1.0|    null|   null|    null|    null|    null|     2.0|    1.0|     1.0|     1.0|    3.0|\n",
            "|   2.0|     2.0|     3.0|    3.0|    null|     9.0|    null|   null|    null|    null|    null|    null|    1.0|     2.0|    null|   null|\n",
            "|   2.0|     2.0|    null|    3.0|     2.0|     4.0|    null|   null|    null|    null|    null|    null|    2.0|     2.0|     2.0|   null|\n",
            "|   2.0|     2.0|    null|    1.0|     2.0|     4.0|    null|   null|    null|    null|    null|    null|    2.0|     2.0|     2.0|   null|\n",
            "|   2.0|     2.0|     2.0|    2.0|     2.0|     4.0|    null|   null|    null|    null|    null|    null|    2.0|     2.0|     2.0|   null|\n",
            "|   1.0|     2.0|     3.0|    4.0|     1.0|     3.0|    null|   null|    null|    null|    null|    null|    1.0|     1.0|     1.0|    3.0|\n",
            "|   2.0|     2.0|     2.0|    3.0|     2.0|     4.0|    null|   null|    null|    null|    null|    null|    2.0|     2.0|     2.0|   null|\n",
            "|   2.0|     2.0|     3.0|    4.0|     1.0|     1.0|    null|   null|    null|    null|    null|     2.0|    2.0|     2.0|    null|   null|\n",
            "|   2.0|     1.0|     2.0|    2.0|     2.0|     4.0|    null|   null|    null|    null|    null|    null|    2.0|     2.0|     2.0|   null|\n",
            "|   2.0|     2.0|     3.0|    4.0|     1.0|     3.0|    null|   null|    null|    null|    null|    null|    2.0|     2.0|     2.0|   null|\n",
            "|   2.0|     2.0|     2.0|    4.0|     2.0|     4.0|    null|   null|    null|    null|    null|    null|    1.0|     2.0|     2.0|   null|\n",
            "|   2.0|     2.0|     4.0|    3.0|     1.0|     3.0|    null|   null|    null|    null|    null|    null|    1.0|     1.0|     2.0|   null|\n",
            "|   2.0|     2.0|    null|    2.0|    null|     9.0|    null|   null|    null|    null|    null|    null|    2.0|     2.0|    null|   null|\n",
            "|   2.0|     2.0|     3.0|    4.0|     2.0|     4.0|    null|   null|    null|    null|    null|    null|    2.0|     2.0|     2.0|   null|\n",
            "|   1.0|     2.0|     4.0|    3.0|     2.0|     4.0|    null|   null|    null|    null|    null|    null|    2.0|     2.0|     2.0|   null|\n",
            "|   1.0|     1.0|     4.0|    5.0|     1.0|     1.0|    null|   null|    null|    null|    null|     1.0|    1.0|     1.0|     2.0|   null|\n",
            "|   2.0|     1.0|     3.0|    2.0|     1.0|     3.0|    null|   null|    null|    null|    null|    null|    2.0|     2.0|     2.0|   null|\n",
            "|   1.0|     2.0|     3.0|    2.0|     1.0|     3.0|    null|   null|    null|    null|    null|    null|    2.0|     2.0|     2.0|   null|\n",
            "|   2.0|     2.0|     3.0|    3.0|     2.0|     4.0|    null|   null|    null|    null|    null|    null|    2.0|     1.0|     2.0|   null|\n",
            "|   2.0|     1.0|     3.0|    3.0|     1.0|     1.0|    null|   null|    null|    null|    null|     1.0|    2.0|     1.0|     2.0|   null|\n",
            "+------+--------+--------+-------+--------+--------+--------+-------+--------+--------+--------+--------+-------+--------+--------+-------+\n",
            "only showing top 20 rows\n",
            "\n"
          ]
        }
      ]
    },
    {
      "cell_type": "code",
      "source": [
        "print('Columns with null values:')\n",
        "print('-'*25)\n",
        "data_2020F.select([eval('data_2020F.' + x + '.isNull().cast(\"int\").alias(\"' + x + '\")') for x in data_2020F.columns]).\\\n",
        "    groupBy().sum().toPandas()"
      ],
      "metadata": {
        "colab": {
          "base_uri": "https://localhost:8080/",
          "height": 181
        },
        "id": "VIXjj0pdAXSt",
        "outputId": "54a5a7f4-ee0f-4f88-d2c8-e37ad32e7d60"
      },
      "execution_count": 102,
      "outputs": [
        {
          "output_type": "stream",
          "name": "stdout",
          "text": [
            "Columns with null values:\n",
            "-------------------------\n"
          ]
        },
        {
          "output_type": "execute_result",
          "data": {
            "text/plain": [
              "   sum(SEXVAR)  sum(_AGE65YR)  sum(_BMI5CAT)  sum(GENHLTH)  sum(SMOKE100)  \\\n",
              "0            0              0          41357             8          17860   \n",
              "\n",
              "   sum(_SMOKER3)  sum(LCSFIRST)  sum(LCSLAST)  sum(LCSNUMCG)  sum(LCSCTSCN)  \\\n",
              "0              0         387914        388332         388351         370711   \n",
              "\n",
              "   sum(CNCRTYP1)  sum(STOPSMK2)  sum(ASTHMA3)  sum(CHCCOPD2)  sum(ECIGARET)  \\\n",
              "0         379282         349535             3              5         137397   \n",
              "\n",
              "   sum(ECIGNOW)  \n",
              "0        351208  "
            ],
            "text/html": [
              "\n",
              "  <div id=\"df-51571435-24f8-4b95-93e0-9a5a8159c3a6\">\n",
              "    <div class=\"colab-df-container\">\n",
              "      <div>\n",
              "<style scoped>\n",
              "    .dataframe tbody tr th:only-of-type {\n",
              "        vertical-align: middle;\n",
              "    }\n",
              "\n",
              "    .dataframe tbody tr th {\n",
              "        vertical-align: top;\n",
              "    }\n",
              "\n",
              "    .dataframe thead th {\n",
              "        text-align: right;\n",
              "    }\n",
              "</style>\n",
              "<table border=\"1\" class=\"dataframe\">\n",
              "  <thead>\n",
              "    <tr style=\"text-align: right;\">\n",
              "      <th></th>\n",
              "      <th>sum(SEXVAR)</th>\n",
              "      <th>sum(_AGE65YR)</th>\n",
              "      <th>sum(_BMI5CAT)</th>\n",
              "      <th>sum(GENHLTH)</th>\n",
              "      <th>sum(SMOKE100)</th>\n",
              "      <th>sum(_SMOKER3)</th>\n",
              "      <th>sum(LCSFIRST)</th>\n",
              "      <th>sum(LCSLAST)</th>\n",
              "      <th>sum(LCSNUMCG)</th>\n",
              "      <th>sum(LCSCTSCN)</th>\n",
              "      <th>sum(CNCRTYP1)</th>\n",
              "      <th>sum(STOPSMK2)</th>\n",
              "      <th>sum(ASTHMA3)</th>\n",
              "      <th>sum(CHCCOPD2)</th>\n",
              "      <th>sum(ECIGARET)</th>\n",
              "      <th>sum(ECIGNOW)</th>\n",
              "    </tr>\n",
              "  </thead>\n",
              "  <tbody>\n",
              "    <tr>\n",
              "      <th>0</th>\n",
              "      <td>0</td>\n",
              "      <td>0</td>\n",
              "      <td>41357</td>\n",
              "      <td>8</td>\n",
              "      <td>17860</td>\n",
              "      <td>0</td>\n",
              "      <td>387914</td>\n",
              "      <td>388332</td>\n",
              "      <td>388351</td>\n",
              "      <td>370711</td>\n",
              "      <td>379282</td>\n",
              "      <td>349535</td>\n",
              "      <td>3</td>\n",
              "      <td>5</td>\n",
              "      <td>137397</td>\n",
              "      <td>351208</td>\n",
              "    </tr>\n",
              "  </tbody>\n",
              "</table>\n",
              "</div>\n",
              "      <button class=\"colab-df-convert\" onclick=\"convertToInteractive('df-51571435-24f8-4b95-93e0-9a5a8159c3a6')\"\n",
              "              title=\"Convert this dataframe to an interactive table.\"\n",
              "              style=\"display:none;\">\n",
              "        \n",
              "  <svg xmlns=\"http://www.w3.org/2000/svg\" height=\"24px\"viewBox=\"0 0 24 24\"\n",
              "       width=\"24px\">\n",
              "    <path d=\"M0 0h24v24H0V0z\" fill=\"none\"/>\n",
              "    <path d=\"M18.56 5.44l.94 2.06.94-2.06 2.06-.94-2.06-.94-.94-2.06-.94 2.06-2.06.94zm-11 1L8.5 8.5l.94-2.06 2.06-.94-2.06-.94L8.5 2.5l-.94 2.06-2.06.94zm10 10l.94 2.06.94-2.06 2.06-.94-2.06-.94-.94-2.06-.94 2.06-2.06.94z\"/><path d=\"M17.41 7.96l-1.37-1.37c-.4-.4-.92-.59-1.43-.59-.52 0-1.04.2-1.43.59L10.3 9.45l-7.72 7.72c-.78.78-.78 2.05 0 2.83L4 21.41c.39.39.9.59 1.41.59.51 0 1.02-.2 1.41-.59l7.78-7.78 2.81-2.81c.8-.78.8-2.07 0-2.86zM5.41 20L4 18.59l7.72-7.72 1.47 1.35L5.41 20z\"/>\n",
              "  </svg>\n",
              "      </button>\n",
              "      \n",
              "  <style>\n",
              "    .colab-df-container {\n",
              "      display:flex;\n",
              "      flex-wrap:wrap;\n",
              "      gap: 12px;\n",
              "    }\n",
              "\n",
              "    .colab-df-convert {\n",
              "      background-color: #E8F0FE;\n",
              "      border: none;\n",
              "      border-radius: 50%;\n",
              "      cursor: pointer;\n",
              "      display: none;\n",
              "      fill: #1967D2;\n",
              "      height: 32px;\n",
              "      padding: 0 0 0 0;\n",
              "      width: 32px;\n",
              "    }\n",
              "\n",
              "    .colab-df-convert:hover {\n",
              "      background-color: #E2EBFA;\n",
              "      box-shadow: 0px 1px 2px rgba(60, 64, 67, 0.3), 0px 1px 3px 1px rgba(60, 64, 67, 0.15);\n",
              "      fill: #174EA6;\n",
              "    }\n",
              "\n",
              "    [theme=dark] .colab-df-convert {\n",
              "      background-color: #3B4455;\n",
              "      fill: #D2E3FC;\n",
              "    }\n",
              "\n",
              "    [theme=dark] .colab-df-convert:hover {\n",
              "      background-color: #434B5C;\n",
              "      box-shadow: 0px 1px 3px 1px rgba(0, 0, 0, 0.15);\n",
              "      filter: drop-shadow(0px 1px 2px rgba(0, 0, 0, 0.3));\n",
              "      fill: #FFFFFF;\n",
              "    }\n",
              "  </style>\n",
              "\n",
              "      <script>\n",
              "        const buttonEl =\n",
              "          document.querySelector('#df-51571435-24f8-4b95-93e0-9a5a8159c3a6 button.colab-df-convert');\n",
              "        buttonEl.style.display =\n",
              "          google.colab.kernel.accessAllowed ? 'block' : 'none';\n",
              "\n",
              "        async function convertToInteractive(key) {\n",
              "          const element = document.querySelector('#df-51571435-24f8-4b95-93e0-9a5a8159c3a6');\n",
              "          const dataTable =\n",
              "            await google.colab.kernel.invokeFunction('convertToInteractive',\n",
              "                                                     [key], {});\n",
              "          if (!dataTable) return;\n",
              "\n",
              "          const docLinkHtml = 'Like what you see? Visit the ' +\n",
              "            '<a target=\"_blank\" href=https://colab.research.google.com/notebooks/data_table.ipynb>data table notebook</a>'\n",
              "            + ' to learn more about interactive tables.';\n",
              "          element.innerHTML = '';\n",
              "          dataTable['output_type'] = 'display_data';\n",
              "          await google.colab.output.renderOutput(dataTable, element);\n",
              "          const docLink = document.createElement('div');\n",
              "          docLink.innerHTML = docLinkHtml;\n",
              "          element.appendChild(docLink);\n",
              "        }\n",
              "      </script>\n",
              "    </div>\n",
              "  </div>\n",
              "  "
            ]
          },
          "metadata": {},
          "execution_count": 102
        }
      ]
    },
    {
      "cell_type": "code",
      "source": [
        "from pyspark.sql.functions import col\n",
        "data_2020F = data_2020F.withColumn(\"SEXVAR\", col('SEXVAR').cast(IntegerType()))\\\n",
        "          .withColumn(\"_AGE65YR\", col('_AGE65YR').cast(IntegerType()))\\\n",
        "          .withColumn(\"_BMI5CAT\", col('_BMI5CAT').cast(IntegerType()))\\\n",
        "          .withColumn(\"GENHLTH\", col('GENHLTH').cast(IntegerType()))\\\n",
        "          .withColumn(\"SMOKE100\", col('SMOKE100').cast(IntegerType()))\\\n",
        "          .withColumn(\"_SMOKER3\", col('_SMOKER3').cast(IntegerType()))\\\n",
        "                    .withColumn(\"LCSFIRST\", col('LCSFIRST').cast(IntegerType()))\\\n",
        "                    .withColumn(\"LCSLAST\", col('LCSLAST').cast(IntegerType()))\\\n",
        "                    .withColumn(\"LCSNUMCG\", col('LCSNUMCG').cast(IntegerType()))\\\n",
        "                    .withColumn(\"LCSCTSCN\", col('LCSCTSCN').cast(IntegerType()))\\\n",
        "                    .withColumn(\"STOPSMK2\", col('STOPSMK2').cast(IntegerType()))\\\n",
        "                    .withColumn(\"ASTHMA3\", col('ASTHMA3').cast(IntegerType()))\\\n",
        "                    .withColumn(\"CHCCOPD2\", col('CHCCOPD2').cast(IntegerType()))\\\n",
        "                    .withColumn(\"CNCRTYP1\", col('CNCRTYP1').cast(IntegerType()))\\\n",
        "                    .withColumn(\"ECIGARET\", col('ECIGARET').cast(IntegerType()))\\\n",
        "                    .withColumn(\"ECIGNOW\", col('ECIGNOW').cast(IntegerType()))"
      ],
      "metadata": {
        "id": "UHcJLziUEndi"
      },
      "execution_count": 117,
      "outputs": []
    },
    {
      "cell_type": "code",
      "source": [
        "#401958\n",
        "data_2020F = data_2020F.na.drop(how=\"any\")\n",
        "data_2020F.count()"
      ],
      "metadata": {
        "id": "W1TPatDBC3NR",
        "outputId": "8cb9ddfe-0823-4b1b-a2bd-238fc9247820",
        "colab": {
          "base_uri": "https://localhost:8080/"
        }
      },
      "execution_count": 77,
      "outputs": [
        {
          "output_type": "execute_result",
          "data": {
            "text/plain": [
              "101"
            ]
          },
          "metadata": {},
          "execution_count": 77
        }
      ]
    },
    {
      "cell_type": "code",
      "source": [
        "data_2020F.show(6)"
      ],
      "metadata": {
        "colab": {
          "base_uri": "https://localhost:8080/"
        },
        "id": "TpOwVnz8D6nT",
        "outputId": "2c147fb7-a9fe-4165-dec9-b869e90f4037"
      },
      "execution_count": 78,
      "outputs": [
        {
          "output_type": "stream",
          "name": "stdout",
          "text": [
            "+------+--------+--------+-------+--------+--------+--------+-------+--------+--------+--------+--------+-------+--------+--------+-------+\n",
            "|SEXVAR|_AGE65YR|_BMI5CAT|GENHLTH|SMOKE100|_SMOKER3|LCSFIRST|LCSLAST|LCSNUMCG|LCSCTSCN|CNCRTYP1|STOPSMK2|ASTHMA3|CHCCOPD2|ECIGARET|ECIGNOW|\n",
            "+------+--------+--------+-------+--------+--------+--------+-------+--------+--------+--------+--------+-------+--------+--------+-------+\n",
            "|   2.0|     1.0|     4.0|    3.0|     1.0|     2.0|    14.0|   39.0|     4.0|     3.0|    22.0|     1.0|    2.0|     2.0|     1.0|    3.0|\n",
            "|   1.0|     2.0|     4.0|    4.0|     1.0|     1.0|    18.0|   67.0|    25.0|     1.0|    22.0|     2.0|    2.0|     1.0|     1.0|    3.0|\n",
            "|   2.0|     2.0|     2.0|    3.0|     1.0|     1.0|    15.0|   78.0|    10.0|     7.0|     1.0|     2.0|    2.0|     1.0|     1.0|    3.0|\n",
            "|   1.0|     2.0|     2.0|    4.0|     1.0|     1.0|    21.0|   85.0|    25.0|     1.0|    24.0|     1.0|    2.0|     1.0|     1.0|    3.0|\n",
            "|   2.0|     1.0|     3.0|    2.0|     1.0|     1.0|    20.0|   62.0|    20.0|     2.0|     1.0|     2.0|    2.0|     2.0|     1.0|    3.0|\n",
            "|   1.0|     1.0|     4.0|    5.0|     1.0|     1.0|    14.0|   40.0|    30.0|     3.0|    16.0|     1.0|    2.0|     2.0|     1.0|    3.0|\n",
            "+------+--------+--------+-------+--------+--------+--------+-------+--------+--------+--------+--------+-------+--------+--------+-------+\n",
            "only showing top 6 rows\n",
            "\n"
          ]
        }
      ]
    },
    {
      "cell_type": "code",
      "source": [
        "data_2020F.groupBy(data_2020F.SEXVAR).count().show()"
      ],
      "metadata": {
        "id": "CoTuRoK51VPT",
        "outputId": "d7486ab7-c674-4bf4-9bc2-5da7ddbccb68",
        "colab": {
          "base_uri": "https://localhost:8080/"
        }
      },
      "execution_count": 93,
      "outputs": [
        {
          "output_type": "stream",
          "name": "stdout",
          "text": [
            "+------+------+\n",
            "|SEXVAR| count|\n",
            "+------+------+\n",
            "|     1|183942|\n",
            "|     2|218016|\n",
            "+------+------+\n",
            "\n"
          ]
        }
      ]
    },
    {
      "cell_type": "code",
      "source": [
        "data_2020F.groupBy(data_2020F.CNCRTYP1==24.0).count().show()"
      ],
      "metadata": {
        "id": "RZbcoKagZ2_E",
        "outputId": "a1f44e2b-a5c1-4efd-bad7-dd2acf8f55f6",
        "colab": {
          "base_uri": "https://localhost:8080/",
          "height": 171
        }
      },
      "execution_count": 106,
      "outputs": [
        {
          "output_type": "error",
          "ename": "NameError",
          "evalue": "ignored",
          "traceback": [
            "\u001b[0;31m---------------------------------------------------------------------------\u001b[0m",
            "\u001b[0;31mNameError\u001b[0m                                 Traceback (most recent call last)",
            "\u001b[0;32m<ipython-input-106-6e0a8b89057b>\u001b[0m in \u001b[0;36m<module>\u001b[0;34m\u001b[0m\n\u001b[0;32m----> 1\u001b[0;31m \u001b[0mdata_2020F\u001b[0m\u001b[0;34m.\u001b[0m\u001b[0mgroupBy\u001b[0m\u001b[0;34m(\u001b[0m\u001b[0mdata_2020F\u001b[0m\u001b[0;34m.\u001b[0m\u001b[0mCNCRTYP1\u001b[0m\u001b[0;34m==\u001b[0m\u001b[0mnull\u001b[0m\u001b[0;34m)\u001b[0m\u001b[0;34m.\u001b[0m\u001b[0mcount\u001b[0m\u001b[0;34m(\u001b[0m\u001b[0;34m)\u001b[0m\u001b[0;34m.\u001b[0m\u001b[0mshow\u001b[0m\u001b[0;34m(\u001b[0m\u001b[0;34m)\u001b[0m\u001b[0;34m\u001b[0m\u001b[0;34m\u001b[0m\u001b[0m\n\u001b[0m",
            "\u001b[0;31mNameError\u001b[0m: name 'null' is not defined"
          ]
        }
      ]
    },
    {
      "cell_type": "code",
      "source": [
        "data_2020F.printSchema()"
      ],
      "metadata": {
        "id": "StPBdjha05Yn",
        "outputId": "71fec7d6-75f7-4401-fd40-e4e1a3ac5290",
        "colab": {
          "base_uri": "https://localhost:8080/"
        }
      },
      "execution_count": 88,
      "outputs": [
        {
          "output_type": "stream",
          "name": "stdout",
          "text": [
            "root\n",
            " |-- SEXVAR: double (nullable = true)\n",
            " |-- _AGE65YR: double (nullable = true)\n",
            " |-- _BMI5CAT: double (nullable = true)\n",
            " |-- GENHLTH: double (nullable = true)\n",
            " |-- SMOKE100: double (nullable = true)\n",
            " |-- _SMOKER3: double (nullable = true)\n",
            " |-- LCSFIRST: double (nullable = true)\n",
            " |-- LCSLAST: double (nullable = true)\n",
            " |-- LCSNUMCG: double (nullable = true)\n",
            " |-- LCSCTSCN: double (nullable = true)\n",
            " |-- CNCRTYP1: double (nullable = true)\n",
            " |-- STOPSMK2: double (nullable = true)\n",
            " |-- ASTHMA3: double (nullable = true)\n",
            " |-- CHCCOPD2: double (nullable = true)\n",
            " |-- ECIGARET: double (nullable = true)\n",
            " |-- ECIGNOW: double (nullable = true)\n",
            "\n"
          ]
        }
      ]
    },
    {
      "cell_type": "code",
      "source": [
        "data_2020F.printSchema()"
      ],
      "metadata": {
        "colab": {
          "base_uri": "https://localhost:8080/"
        },
        "id": "h9j-e6yDtUlz",
        "outputId": "d5ab312b-9b37-4b44-dd83-bbac507c37ee"
      },
      "execution_count": 95,
      "outputs": [
        {
          "output_type": "stream",
          "name": "stdout",
          "text": [
            "root\n",
            " |-- SEXVAR: integer (nullable = true)\n",
            " |-- _AGE65YR: integer (nullable = true)\n",
            " |-- _BMI5CAT: integer (nullable = true)\n",
            " |-- GENHLTH: integer (nullable = true)\n",
            " |-- SMOKE100: integer (nullable = true)\n",
            " |-- _SMOKER3: integer (nullable = true)\n",
            " |-- LCSFIRST: integer (nullable = true)\n",
            " |-- LCSLAST: integer (nullable = true)\n",
            " |-- LCSNUMCG: integer (nullable = true)\n",
            " |-- LCSCTSCN: integer (nullable = true)\n",
            " |-- CNCRTYP1: integer (nullable = true)\n",
            " |-- STOPSMK2: integer (nullable = true)\n",
            " |-- ASTHMA3: integer (nullable = true)\n",
            " |-- CHCCOPD2: integer (nullable = true)\n",
            " |-- ECIGARET: integer (nullable = true)\n",
            " |-- ECIGNOW: integer (nullable = true)\n",
            "\n"
          ]
        }
      ]
    },
    {
      "cell_type": "code",
      "source": [
        "#data_2020F = data_2020F.fillna(0)\n",
        "data_2020F.show(6)"
      ],
      "metadata": {
        "colab": {
          "base_uri": "https://localhost:8080/"
        },
        "id": "y4ZlpTXoWfdi",
        "outputId": "3b303423-ed20-487c-a772-99c07a9c6b07"
      },
      "execution_count": 97,
      "outputs": [
        {
          "output_type": "stream",
          "name": "stdout",
          "text": [
            "+------+--------+--------+-------+--------+--------+--------+-------+--------+--------+--------+--------+-------+--------+--------+-------+\n",
            "|SEXVAR|_AGE65YR|_BMI5CAT|GENHLTH|SMOKE100|_SMOKER3|LCSFIRST|LCSLAST|LCSNUMCG|LCSCTSCN|CNCRTYP1|STOPSMK2|ASTHMA3|CHCCOPD2|ECIGARET|ECIGNOW|\n",
            "+------+--------+--------+-------+--------+--------+--------+-------+--------+--------+--------+--------+-------+--------+--------+-------+\n",
            "|     2|       1|       1|      2|       1|       1|    null|   null|    null|    null|    null|       2|      1|       1|       1|      3|\n",
            "|     2|       2|       3|      3|    null|       9|    null|   null|    null|    null|    null|    null|      1|       2|    null|   null|\n",
            "|     2|       2|    null|      3|       2|       4|    null|   null|    null|    null|    null|    null|      2|       2|       2|   null|\n",
            "|     2|       2|    null|      1|       2|       4|    null|   null|    null|    null|    null|    null|      2|       2|       2|   null|\n",
            "|     2|       2|       2|      2|       2|       4|    null|   null|    null|    null|    null|    null|      2|       2|       2|   null|\n",
            "|     1|       2|       3|      4|       1|       3|    null|   null|    null|    null|    null|    null|      1|       1|       1|      3|\n",
            "+------+--------+--------+-------+--------+--------+--------+-------+--------+--------+--------+--------+-------+--------+--------+-------+\n",
            "only showing top 6 rows\n",
            "\n"
          ]
        }
      ]
    },
    {
      "cell_type": "code",
      "source": [
        "#@title User Defined Functions (UDF) for prediction label\n",
        "\n",
        "from pyspark.sql.functions import udf\n",
        "from pyspark.sql.types import *\n",
        "y_udf = udf(lambda y: 1 if y == 24 else 0, StringType())\n",
        "\n",
        "x_age = udf(lambda x: 0 if x==3 else x, StringType())\n",
        "x_bmi = udf(lambda x: x if (x>0 and x<5) else 2, StringType())\n",
        "x_smoke = udf(lambda x: x if (x>0 and x<5) else 4, StringType())\n",
        "x_agefirst = udf(lambda x: x if (x>0 and x<101) else 0, StringType())\n",
        "x_agelast = udf(lambda x: x if (x>0 and x<101) else 0, StringType())\n",
        "x_numcig = udf(lambda x: x if (x>0 and x<301) else 0, StringType())\n",
        "x_CT = udf(lambda x: x if (x>0 and x<4 and x!=2) else 0, StringType())\n",
        "x_ecig = udf(lambda x: x if (x>0 and x<3) else 3, StringType())\n",
        "x_health = udf(lambda x: x if (x<6) else 3, StringType())\n",
        "x_bool = udf(lambda x: 1 if (x==1) else 0, StringType())\n",
        "\n",
        "processed_2020 = data_2020F.withColumn(\"Gender\", x_udf('SEXVAR')).drop(\"SEXVAR\")\\\n",
        "                    .withColumn(\"Age65\", x_age('_AGE65YR')).drop(\"_AGE65YR\")\\\n",
        "                    .withColumn(\"BMI\", x_bmi('_BMI5CAT')).drop(\"_BMI5CAT\")\\\n",
        "                    .withColumn(\"GeneralHealth\", x_health('GENHLTH')).drop(\"GENHLTH\")\\\n",
        "                    .withColumn(\"Smoked100\", x_bool('SMOKE100')).drop(\"SMOKE100\")\\\n",
        "                    .withColumn(\"SmokerStatus\", x_smoke('_SMOKER3')).drop(\"_SMOKER3\")\\\n",
        "                    .withColumn(\"FirstSmokedAge\", x_agefirst('LCSFIRST')).drop(\"LCSFIRST\")\\\n",
        "                    .withColumn(\"LastSmokedAge\", x_agelast('LCSLAST')).drop(\"LCSLAST\")\\\n",
        "                    .withColumn(\"AvgNumCigADay\", x_numcig('LCSNUMCG')).drop(\"LCSNUMCG\")\\\n",
        "                    .withColumn(\"HasCTScan\", x_CT('LCSCTSCN')).drop(\"LCSCTSCN\")\\\n",
        "                    .withColumn(\"StopSmoking\", x_bool('STOPSMK2')).drop(\"STOPSMK2\")\\\n",
        "                    .withColumn(\"HasAsthma\", x_bool('ASTHMA3')).drop(\"ASTHMA3\")\\\n",
        "                    .withColumn(\"HasChronicDisease\", x_bool('CHCCOPD2')).drop(\"CHCCOPD2\")\\\n",
        "                    .withColumn(\"EverUsedEcig\", x_bool('ECIGARET')).drop(\"ECIGARET\")\\\n",
        "                    .withColumn(\"EcigLevel\", x_ecig('ECIGNOW')).drop(\"ECIGNOW\")\\\n",
        "                    .withColumn(\"HasLungCancer\", y_udf('CNCRTYP1')).drop(\"CNCRTYP1\")\n",
        "                    "
      ],
      "metadata": {
        "id": "eDAVhS70Eyfx"
      },
      "execution_count": 118,
      "outputs": []
    },
    {
      "cell_type": "code",
      "source": [
        "processed_2020.show()"
      ],
      "metadata": {
        "id": "uzq9-ilF8ydD",
        "outputId": "fecb4938-9820-4674-fb83-f8cbcbfe6441",
        "colab": {
          "base_uri": "https://localhost:8080/",
          "height": 724
        }
      },
      "execution_count": 119,
      "outputs": [
        {
          "output_type": "error",
          "ename": "PythonException",
          "evalue": "ignored",
          "traceback": [
            "\u001b[0;31m---------------------------------------------------------------------------\u001b[0m",
            "\u001b[0;31mPythonException\u001b[0m                           Traceback (most recent call last)",
            "\u001b[0;32m<ipython-input-119-7f0869a0c3d2>\u001b[0m in \u001b[0;36m<module>\u001b[0;34m\u001b[0m\n\u001b[0;32m----> 1\u001b[0;31m \u001b[0mprocessed_2020\u001b[0m\u001b[0;34m.\u001b[0m\u001b[0mshow\u001b[0m\u001b[0;34m(\u001b[0m\u001b[0;34m)\u001b[0m\u001b[0;34m\u001b[0m\u001b[0;34m\u001b[0m\u001b[0m\n\u001b[0m",
            "\u001b[0;32m/content/spark-3.1.1-bin-hadoop3.2/python/pyspark/sql/dataframe.py\u001b[0m in \u001b[0;36mshow\u001b[0;34m(self, n, truncate, vertical)\u001b[0m\n\u001b[1;32m    482\u001b[0m         \"\"\"\n\u001b[1;32m    483\u001b[0m         \u001b[0;32mif\u001b[0m \u001b[0misinstance\u001b[0m\u001b[0;34m(\u001b[0m\u001b[0mtruncate\u001b[0m\u001b[0;34m,\u001b[0m \u001b[0mbool\u001b[0m\u001b[0;34m)\u001b[0m \u001b[0;32mand\u001b[0m \u001b[0mtruncate\u001b[0m\u001b[0;34m:\u001b[0m\u001b[0;34m\u001b[0m\u001b[0;34m\u001b[0m\u001b[0m\n\u001b[0;32m--> 484\u001b[0;31m             \u001b[0mprint\u001b[0m\u001b[0;34m(\u001b[0m\u001b[0mself\u001b[0m\u001b[0;34m.\u001b[0m\u001b[0m_jdf\u001b[0m\u001b[0;34m.\u001b[0m\u001b[0mshowString\u001b[0m\u001b[0;34m(\u001b[0m\u001b[0mn\u001b[0m\u001b[0;34m,\u001b[0m \u001b[0;36m20\u001b[0m\u001b[0;34m,\u001b[0m \u001b[0mvertical\u001b[0m\u001b[0;34m)\u001b[0m\u001b[0;34m)\u001b[0m\u001b[0;34m\u001b[0m\u001b[0;34m\u001b[0m\u001b[0m\n\u001b[0m\u001b[1;32m    485\u001b[0m         \u001b[0;32melse\u001b[0m\u001b[0;34m:\u001b[0m\u001b[0;34m\u001b[0m\u001b[0;34m\u001b[0m\u001b[0m\n\u001b[1;32m    486\u001b[0m             \u001b[0mprint\u001b[0m\u001b[0;34m(\u001b[0m\u001b[0mself\u001b[0m\u001b[0;34m.\u001b[0m\u001b[0m_jdf\u001b[0m\u001b[0;34m.\u001b[0m\u001b[0mshowString\u001b[0m\u001b[0;34m(\u001b[0m\u001b[0mn\u001b[0m\u001b[0;34m,\u001b[0m \u001b[0mint\u001b[0m\u001b[0;34m(\u001b[0m\u001b[0mtruncate\u001b[0m\u001b[0;34m)\u001b[0m\u001b[0;34m,\u001b[0m \u001b[0mvertical\u001b[0m\u001b[0;34m)\u001b[0m\u001b[0;34m)\u001b[0m\u001b[0;34m\u001b[0m\u001b[0;34m\u001b[0m\u001b[0m\n",
            "\u001b[0;32m/content/spark-3.1.1-bin-hadoop3.2/python/lib/py4j-0.10.9-src.zip/py4j/java_gateway.py\u001b[0m in \u001b[0;36m__call__\u001b[0;34m(self, *args)\u001b[0m\n\u001b[1;32m   1302\u001b[0m \u001b[0;34m\u001b[0m\u001b[0m\n\u001b[1;32m   1303\u001b[0m         \u001b[0manswer\u001b[0m \u001b[0;34m=\u001b[0m \u001b[0mself\u001b[0m\u001b[0;34m.\u001b[0m\u001b[0mgateway_client\u001b[0m\u001b[0;34m.\u001b[0m\u001b[0msend_command\u001b[0m\u001b[0;34m(\u001b[0m\u001b[0mcommand\u001b[0m\u001b[0;34m)\u001b[0m\u001b[0;34m\u001b[0m\u001b[0;34m\u001b[0m\u001b[0m\n\u001b[0;32m-> 1304\u001b[0;31m         return_value = get_return_value(\n\u001b[0m\u001b[1;32m   1305\u001b[0m             answer, self.gateway_client, self.target_id, self.name)\n\u001b[1;32m   1306\u001b[0m \u001b[0;34m\u001b[0m\u001b[0m\n",
            "\u001b[0;32m/content/spark-3.1.1-bin-hadoop3.2/python/pyspark/sql/utils.py\u001b[0m in \u001b[0;36mdeco\u001b[0;34m(*a, **kw)\u001b[0m\n\u001b[1;32m    115\u001b[0m                 \u001b[0;31m# Hide where the exception came from that shows a non-Pythonic\u001b[0m\u001b[0;34m\u001b[0m\u001b[0;34m\u001b[0m\u001b[0;34m\u001b[0m\u001b[0m\n\u001b[1;32m    116\u001b[0m                 \u001b[0;31m# JVM exception message.\u001b[0m\u001b[0;34m\u001b[0m\u001b[0;34m\u001b[0m\u001b[0;34m\u001b[0m\u001b[0m\n\u001b[0;32m--> 117\u001b[0;31m                 \u001b[0;32mraise\u001b[0m \u001b[0mconverted\u001b[0m \u001b[0;32mfrom\u001b[0m \u001b[0;32mNone\u001b[0m\u001b[0;34m\u001b[0m\u001b[0;34m\u001b[0m\u001b[0m\n\u001b[0m\u001b[1;32m    118\u001b[0m             \u001b[0;32melse\u001b[0m\u001b[0;34m:\u001b[0m\u001b[0;34m\u001b[0m\u001b[0;34m\u001b[0m\u001b[0m\n\u001b[1;32m    119\u001b[0m                 \u001b[0;32mraise\u001b[0m\u001b[0;34m\u001b[0m\u001b[0;34m\u001b[0m\u001b[0m\n",
            "\u001b[0;31mPythonException\u001b[0m: \n  An exception was thrown from the Python worker. Please see the stack trace below.\nTraceback (most recent call last):\n  File \"/content/spark-3.1.1-bin-hadoop3.2/python/lib/pyspark.zip/pyspark/worker.py\", line 604, in main\n    process()\n  File \"/content/spark-3.1.1-bin-hadoop3.2/python/lib/pyspark.zip/pyspark/worker.py\", line 596, in process\n    serializer.dump_stream(out_iter, outfile)\n  File \"/content/spark-3.1.1-bin-hadoop3.2/python/lib/pyspark.zip/pyspark/serializers.py\", line 211, in dump_stream\n    self.serializer.dump_stream(self._batched(iterator), stream)\n  File \"/content/spark-3.1.1-bin-hadoop3.2/python/lib/pyspark.zip/pyspark/serializers.py\", line 132, in dump_stream\n    for obj in iterator:\n  File \"/content/spark-3.1.1-bin-hadoop3.2/python/lib/pyspark.zip/pyspark/serializers.py\", line 200, in _batched\n    for item in iterator:\n  File \"/content/spark-3.1.1-bin-hadoop3.2/python/lib/pyspark.zip/pyspark/worker.py\", line 450, in mapper\n    result = tuple(f(*[a[o] for o in arg_offsets]) for (arg_offsets, f) in udfs)\n  File \"/content/spark-3.1.1-bin-hadoop3.2/python/lib/pyspark.zip/pyspark/worker.py\", line 450, in <genexpr>\n    result = tuple(f(*[a[o] for o in arg_offsets]) for (arg_offsets, f) in udfs)\n  File \"/content/spark-3.1.1-bin-hadoop3.2/python/lib/pyspark.zip/pyspark/worker.py\", line 85, in <lambda>\n    return lambda *a: f(*a)\n  File \"/content/spark-3.1.1-bin-hadoop3.2/python/lib/pyspark.zip/pyspark/util.py\", line 73, in wrapper\n    return f(*args, **kwargs)\n  File \"<ipython-input-103-73c68449db1b>\", line 6, in <lambda>\nAttributeError: 'int' object has no attribute 'isNull'\n"
          ]
        }
      ]
    },
    {
      "cell_type": "code",
      "source": [
        "from pyspark.sql.functions import *\n",
        "\n",
        "\n",
        "                    #.withColumn(\"LastSmokedAge\", regexp_replace('LastSmokedAge', '0', '30'))\\\n",
        "                    #.withColumn(\"AvgNumCigADay\", regexp_replace('Smoked100', '0', '2'))\\\n",
        "data_raw_copy = data_raw_copy.withColumn(\"BMI\", regexp_replace('BMI', 'null', '2'))\\\n",
        "                    .withColumn(\"GeneralHealth\", regexp_replace('GeneralHealth', '0', '2'))\\\n",
        "                    .withColumn(\"Smoked100\", regexp_replace('Smoked100', '0', '2'))\\\n",
        "                    .withColumn(\"SmokerStatus\", regexp_replace('SmokerStatus', '0', '4'))\\\n",
        "                    .withColumn(\"FirstSmokedAge\", regexp_replace('FirstSmokedAge', '0', '18'))\\\n",
        "                    .withColumn(\"HasCTScan\", regexp_replace('HasCTScan', '0', '2'))\\\n",
        "                    .withColumn(\"StopSmoking\", regexp_replace('StopSmoking', '0', '2'))\\\n",
        "                    .withColumn(\"HasAsthma\", regexp_replace('HasAsthma', '0', '2'))\\\n",
        "                    .withColumn(\"HasChronicDisease\", regexp_replace('HasChronicDisease', '0', '2'))"
      ],
      "metadata": {
        "colab": {
          "base_uri": "https://localhost:8080/"
        },
        "id": "RQLWe9R0FcXD",
        "outputId": "d51fad1d-0848-4517-f345-862590ece9a4"
      },
      "execution_count": 27,
      "outputs": [
        {
          "output_type": "stream",
          "name": "stdout",
          "text": [
            "root\n",
            " |-- Gender: string (nullable = true)\n",
            " |-- Age65: string (nullable = true)\n",
            " |-- BMI: string (nullable = true)\n",
            " |-- GeneralHealth: string (nullable = true)\n",
            " |-- Smoked100: string (nullable = true)\n",
            " |-- SmokerStatus: string (nullable = true)\n",
            " |-- FirstSmokedAge: string (nullable = true)\n",
            " |-- LastSmokedAge: string (nullable = true)\n",
            " |-- AvgNumCigADay: string (nullable = true)\n",
            " |-- HasCTScan: string (nullable = true)\n",
            " |-- StopSmoking: string (nullable = true)\n",
            " |-- HasAsthma: string (nullable = true)\n",
            " |-- HasChronicDisease: string (nullable = true)\n",
            " |-- HasLungCancer: string (nullable = true)\n",
            "\n"
          ]
        }
      ]
    },
    {
      "cell_type": "code",
      "source": [
        "processed_2020.show(5)"
      ],
      "metadata": {
        "colab": {
          "base_uri": "https://localhost:8080/",
          "height": 724
        },
        "id": "oyyWRy2pVQtv",
        "outputId": "7856b58c-deff-438b-f917-e75cda2dacf6"
      },
      "execution_count": 120,
      "outputs": [
        {
          "output_type": "error",
          "ename": "PythonException",
          "evalue": "ignored",
          "traceback": [
            "\u001b[0;31m---------------------------------------------------------------------------\u001b[0m",
            "\u001b[0;31mPythonException\u001b[0m                           Traceback (most recent call last)",
            "\u001b[0;32m<ipython-input-120-ccbf888a54b1>\u001b[0m in \u001b[0;36m<module>\u001b[0;34m\u001b[0m\n\u001b[0;32m----> 1\u001b[0;31m \u001b[0mprocessed_2020\u001b[0m\u001b[0;34m.\u001b[0m\u001b[0mshow\u001b[0m\u001b[0;34m(\u001b[0m\u001b[0;36m5\u001b[0m\u001b[0;34m)\u001b[0m\u001b[0;34m\u001b[0m\u001b[0;34m\u001b[0m\u001b[0m\n\u001b[0m",
            "\u001b[0;32m/content/spark-3.1.1-bin-hadoop3.2/python/pyspark/sql/dataframe.py\u001b[0m in \u001b[0;36mshow\u001b[0;34m(self, n, truncate, vertical)\u001b[0m\n\u001b[1;32m    482\u001b[0m         \"\"\"\n\u001b[1;32m    483\u001b[0m         \u001b[0;32mif\u001b[0m \u001b[0misinstance\u001b[0m\u001b[0;34m(\u001b[0m\u001b[0mtruncate\u001b[0m\u001b[0;34m,\u001b[0m \u001b[0mbool\u001b[0m\u001b[0;34m)\u001b[0m \u001b[0;32mand\u001b[0m \u001b[0mtruncate\u001b[0m\u001b[0;34m:\u001b[0m\u001b[0;34m\u001b[0m\u001b[0;34m\u001b[0m\u001b[0m\n\u001b[0;32m--> 484\u001b[0;31m             \u001b[0mprint\u001b[0m\u001b[0;34m(\u001b[0m\u001b[0mself\u001b[0m\u001b[0;34m.\u001b[0m\u001b[0m_jdf\u001b[0m\u001b[0;34m.\u001b[0m\u001b[0mshowString\u001b[0m\u001b[0;34m(\u001b[0m\u001b[0mn\u001b[0m\u001b[0;34m,\u001b[0m \u001b[0;36m20\u001b[0m\u001b[0;34m,\u001b[0m \u001b[0mvertical\u001b[0m\u001b[0;34m)\u001b[0m\u001b[0;34m)\u001b[0m\u001b[0;34m\u001b[0m\u001b[0;34m\u001b[0m\u001b[0m\n\u001b[0m\u001b[1;32m    485\u001b[0m         \u001b[0;32melse\u001b[0m\u001b[0;34m:\u001b[0m\u001b[0;34m\u001b[0m\u001b[0;34m\u001b[0m\u001b[0m\n\u001b[1;32m    486\u001b[0m             \u001b[0mprint\u001b[0m\u001b[0;34m(\u001b[0m\u001b[0mself\u001b[0m\u001b[0;34m.\u001b[0m\u001b[0m_jdf\u001b[0m\u001b[0;34m.\u001b[0m\u001b[0mshowString\u001b[0m\u001b[0;34m(\u001b[0m\u001b[0mn\u001b[0m\u001b[0;34m,\u001b[0m \u001b[0mint\u001b[0m\u001b[0;34m(\u001b[0m\u001b[0mtruncate\u001b[0m\u001b[0;34m)\u001b[0m\u001b[0;34m,\u001b[0m \u001b[0mvertical\u001b[0m\u001b[0;34m)\u001b[0m\u001b[0;34m)\u001b[0m\u001b[0;34m\u001b[0m\u001b[0;34m\u001b[0m\u001b[0m\n",
            "\u001b[0;32m/content/spark-3.1.1-bin-hadoop3.2/python/lib/py4j-0.10.9-src.zip/py4j/java_gateway.py\u001b[0m in \u001b[0;36m__call__\u001b[0;34m(self, *args)\u001b[0m\n\u001b[1;32m   1302\u001b[0m \u001b[0;34m\u001b[0m\u001b[0m\n\u001b[1;32m   1303\u001b[0m         \u001b[0manswer\u001b[0m \u001b[0;34m=\u001b[0m \u001b[0mself\u001b[0m\u001b[0;34m.\u001b[0m\u001b[0mgateway_client\u001b[0m\u001b[0;34m.\u001b[0m\u001b[0msend_command\u001b[0m\u001b[0;34m(\u001b[0m\u001b[0mcommand\u001b[0m\u001b[0;34m)\u001b[0m\u001b[0;34m\u001b[0m\u001b[0;34m\u001b[0m\u001b[0m\n\u001b[0;32m-> 1304\u001b[0;31m         return_value = get_return_value(\n\u001b[0m\u001b[1;32m   1305\u001b[0m             answer, self.gateway_client, self.target_id, self.name)\n\u001b[1;32m   1306\u001b[0m \u001b[0;34m\u001b[0m\u001b[0m\n",
            "\u001b[0;32m/content/spark-3.1.1-bin-hadoop3.2/python/pyspark/sql/utils.py\u001b[0m in \u001b[0;36mdeco\u001b[0;34m(*a, **kw)\u001b[0m\n\u001b[1;32m    115\u001b[0m                 \u001b[0;31m# Hide where the exception came from that shows a non-Pythonic\u001b[0m\u001b[0;34m\u001b[0m\u001b[0;34m\u001b[0m\u001b[0;34m\u001b[0m\u001b[0m\n\u001b[1;32m    116\u001b[0m                 \u001b[0;31m# JVM exception message.\u001b[0m\u001b[0;34m\u001b[0m\u001b[0;34m\u001b[0m\u001b[0;34m\u001b[0m\u001b[0m\n\u001b[0;32m--> 117\u001b[0;31m                 \u001b[0;32mraise\u001b[0m \u001b[0mconverted\u001b[0m \u001b[0;32mfrom\u001b[0m \u001b[0;32mNone\u001b[0m\u001b[0;34m\u001b[0m\u001b[0;34m\u001b[0m\u001b[0m\n\u001b[0m\u001b[1;32m    118\u001b[0m             \u001b[0;32melse\u001b[0m\u001b[0;34m:\u001b[0m\u001b[0;34m\u001b[0m\u001b[0;34m\u001b[0m\u001b[0m\n\u001b[1;32m    119\u001b[0m                 \u001b[0;32mraise\u001b[0m\u001b[0;34m\u001b[0m\u001b[0;34m\u001b[0m\u001b[0m\n",
            "\u001b[0;31mPythonException\u001b[0m: \n  An exception was thrown from the Python worker. Please see the stack trace below.\nTraceback (most recent call last):\n  File \"/content/spark-3.1.1-bin-hadoop3.2/python/lib/pyspark.zip/pyspark/worker.py\", line 604, in main\n    process()\n  File \"/content/spark-3.1.1-bin-hadoop3.2/python/lib/pyspark.zip/pyspark/worker.py\", line 596, in process\n    serializer.dump_stream(out_iter, outfile)\n  File \"/content/spark-3.1.1-bin-hadoop3.2/python/lib/pyspark.zip/pyspark/serializers.py\", line 211, in dump_stream\n    self.serializer.dump_stream(self._batched(iterator), stream)\n  File \"/content/spark-3.1.1-bin-hadoop3.2/python/lib/pyspark.zip/pyspark/serializers.py\", line 132, in dump_stream\n    for obj in iterator:\n  File \"/content/spark-3.1.1-bin-hadoop3.2/python/lib/pyspark.zip/pyspark/serializers.py\", line 200, in _batched\n    for item in iterator:\n  File \"/content/spark-3.1.1-bin-hadoop3.2/python/lib/pyspark.zip/pyspark/worker.py\", line 450, in mapper\n    result = tuple(f(*[a[o] for o in arg_offsets]) for (arg_offsets, f) in udfs)\n  File \"/content/spark-3.1.1-bin-hadoop3.2/python/lib/pyspark.zip/pyspark/worker.py\", line 450, in <genexpr>\n    result = tuple(f(*[a[o] for o in arg_offsets]) for (arg_offsets, f) in udfs)\n  File \"/content/spark-3.1.1-bin-hadoop3.2/python/lib/pyspark.zip/pyspark/worker.py\", line 85, in <lambda>\n    return lambda *a: f(*a)\n  File \"/content/spark-3.1.1-bin-hadoop3.2/python/lib/pyspark.zip/pyspark/util.py\", line 73, in wrapper\n    return f(*args, **kwargs)\n  File \"<ipython-input-103-73c68449db1b>\", line 6, in <lambda>\nAttributeError: 'int' object has no attribute 'isNull'\n"
          ]
        }
      ]
    },
    {
      "cell_type": "code",
      "source": [
        "processed_2020.groupBy(processed_2020.HasLungCancer).count().show()\n",
        "# Data is unbalanced :)"
      ],
      "metadata": {
        "colab": {
          "base_uri": "https://localhost:8080/"
        },
        "id": "flLjDFqKFksT",
        "outputId": "46e8f2bc-beac-4d64-c6cd-bc7ad9f16390"
      },
      "execution_count": 29,
      "outputs": [
        {
          "output_type": "stream",
          "name": "stdout",
          "text": [
            "+-------------+------+\n",
            "|HasLungCancer| count|\n",
            "+-------------+------+\n",
            "|            0|401518|\n",
            "|            1|   440|\n",
            "+-------------+------+\n",
            "\n"
          ]
        }
      ]
    },
    {
      "cell_type": "code",
      "source": [
        "#@title Data Integration 2\n",
        "data_2017 = spark.read.csv('./2017.csv', inferSchema=True, header=True)\n",
        "\n",
        "# preview the data\n",
        "# data type\n",
        "print('-'*10, 'data types', '-'*10)\n",
        "pd.DataFrame(data_2017.dtypes)"
      ],
      "metadata": {
        "colab": {
          "base_uri": "https://localhost:8080/",
          "height": 442
        },
        "outputId": "fe68d222-a8b9-4e3b-a5e8-c54f4e69eed7",
        "id": "fpqW-agTF9SI"
      },
      "execution_count": 30,
      "outputs": [
        {
          "output_type": "stream",
          "name": "stdout",
          "text": [
            "---------- data types ----------\n"
          ]
        },
        {
          "output_type": "execute_result",
          "data": {
            "text/plain": [
              "            0       1\n",
              "0         _c0     int\n",
              "1      _STATE     int\n",
              "2      FMONTH     int\n",
              "3       IDATE     int\n",
              "4      IMONTH     int\n",
              "..        ...     ...\n",
              "354  _RFSEAT2     int\n",
              "355  _RFSEAT3     int\n",
              "356  _FLSHOT6  string\n",
              "357  _PNEUMO2  string\n",
              "358  _AIDTST3  string\n",
              "\n",
              "[359 rows x 2 columns]"
            ],
            "text/html": [
              "\n",
              "  <div id=\"df-54be5dcd-62dd-47de-a168-d4d28a712d25\">\n",
              "    <div class=\"colab-df-container\">\n",
              "      <div>\n",
              "<style scoped>\n",
              "    .dataframe tbody tr th:only-of-type {\n",
              "        vertical-align: middle;\n",
              "    }\n",
              "\n",
              "    .dataframe tbody tr th {\n",
              "        vertical-align: top;\n",
              "    }\n",
              "\n",
              "    .dataframe thead th {\n",
              "        text-align: right;\n",
              "    }\n",
              "</style>\n",
              "<table border=\"1\" class=\"dataframe\">\n",
              "  <thead>\n",
              "    <tr style=\"text-align: right;\">\n",
              "      <th></th>\n",
              "      <th>0</th>\n",
              "      <th>1</th>\n",
              "    </tr>\n",
              "  </thead>\n",
              "  <tbody>\n",
              "    <tr>\n",
              "      <th>0</th>\n",
              "      <td>_c0</td>\n",
              "      <td>int</td>\n",
              "    </tr>\n",
              "    <tr>\n",
              "      <th>1</th>\n",
              "      <td>_STATE</td>\n",
              "      <td>int</td>\n",
              "    </tr>\n",
              "    <tr>\n",
              "      <th>2</th>\n",
              "      <td>FMONTH</td>\n",
              "      <td>int</td>\n",
              "    </tr>\n",
              "    <tr>\n",
              "      <th>3</th>\n",
              "      <td>IDATE</td>\n",
              "      <td>int</td>\n",
              "    </tr>\n",
              "    <tr>\n",
              "      <th>4</th>\n",
              "      <td>IMONTH</td>\n",
              "      <td>int</td>\n",
              "    </tr>\n",
              "    <tr>\n",
              "      <th>...</th>\n",
              "      <td>...</td>\n",
              "      <td>...</td>\n",
              "    </tr>\n",
              "    <tr>\n",
              "      <th>354</th>\n",
              "      <td>_RFSEAT2</td>\n",
              "      <td>int</td>\n",
              "    </tr>\n",
              "    <tr>\n",
              "      <th>355</th>\n",
              "      <td>_RFSEAT3</td>\n",
              "      <td>int</td>\n",
              "    </tr>\n",
              "    <tr>\n",
              "      <th>356</th>\n",
              "      <td>_FLSHOT6</td>\n",
              "      <td>string</td>\n",
              "    </tr>\n",
              "    <tr>\n",
              "      <th>357</th>\n",
              "      <td>_PNEUMO2</td>\n",
              "      <td>string</td>\n",
              "    </tr>\n",
              "    <tr>\n",
              "      <th>358</th>\n",
              "      <td>_AIDTST3</td>\n",
              "      <td>string</td>\n",
              "    </tr>\n",
              "  </tbody>\n",
              "</table>\n",
              "<p>359 rows × 2 columns</p>\n",
              "</div>\n",
              "      <button class=\"colab-df-convert\" onclick=\"convertToInteractive('df-54be5dcd-62dd-47de-a168-d4d28a712d25')\"\n",
              "              title=\"Convert this dataframe to an interactive table.\"\n",
              "              style=\"display:none;\">\n",
              "        \n",
              "  <svg xmlns=\"http://www.w3.org/2000/svg\" height=\"24px\"viewBox=\"0 0 24 24\"\n",
              "       width=\"24px\">\n",
              "    <path d=\"M0 0h24v24H0V0z\" fill=\"none\"/>\n",
              "    <path d=\"M18.56 5.44l.94 2.06.94-2.06 2.06-.94-2.06-.94-.94-2.06-.94 2.06-2.06.94zm-11 1L8.5 8.5l.94-2.06 2.06-.94-2.06-.94L8.5 2.5l-.94 2.06-2.06.94zm10 10l.94 2.06.94-2.06 2.06-.94-2.06-.94-.94-2.06-.94 2.06-2.06.94z\"/><path d=\"M17.41 7.96l-1.37-1.37c-.4-.4-.92-.59-1.43-.59-.52 0-1.04.2-1.43.59L10.3 9.45l-7.72 7.72c-.78.78-.78 2.05 0 2.83L4 21.41c.39.39.9.59 1.41.59.51 0 1.02-.2 1.41-.59l7.78-7.78 2.81-2.81c.8-.78.8-2.07 0-2.86zM5.41 20L4 18.59l7.72-7.72 1.47 1.35L5.41 20z\"/>\n",
              "  </svg>\n",
              "      </button>\n",
              "      \n",
              "  <style>\n",
              "    .colab-df-container {\n",
              "      display:flex;\n",
              "      flex-wrap:wrap;\n",
              "      gap: 12px;\n",
              "    }\n",
              "\n",
              "    .colab-df-convert {\n",
              "      background-color: #E8F0FE;\n",
              "      border: none;\n",
              "      border-radius: 50%;\n",
              "      cursor: pointer;\n",
              "      display: none;\n",
              "      fill: #1967D2;\n",
              "      height: 32px;\n",
              "      padding: 0 0 0 0;\n",
              "      width: 32px;\n",
              "    }\n",
              "\n",
              "    .colab-df-convert:hover {\n",
              "      background-color: #E2EBFA;\n",
              "      box-shadow: 0px 1px 2px rgba(60, 64, 67, 0.3), 0px 1px 3px 1px rgba(60, 64, 67, 0.15);\n",
              "      fill: #174EA6;\n",
              "    }\n",
              "\n",
              "    [theme=dark] .colab-df-convert {\n",
              "      background-color: #3B4455;\n",
              "      fill: #D2E3FC;\n",
              "    }\n",
              "\n",
              "    [theme=dark] .colab-df-convert:hover {\n",
              "      background-color: #434B5C;\n",
              "      box-shadow: 0px 1px 3px 1px rgba(0, 0, 0, 0.15);\n",
              "      filter: drop-shadow(0px 1px 2px rgba(0, 0, 0, 0.3));\n",
              "      fill: #FFFFFF;\n",
              "    }\n",
              "  </style>\n",
              "\n",
              "      <script>\n",
              "        const buttonEl =\n",
              "          document.querySelector('#df-54be5dcd-62dd-47de-a168-d4d28a712d25 button.colab-df-convert');\n",
              "        buttonEl.style.display =\n",
              "          google.colab.kernel.accessAllowed ? 'block' : 'none';\n",
              "\n",
              "        async function convertToInteractive(key) {\n",
              "          const element = document.querySelector('#df-54be5dcd-62dd-47de-a168-d4d28a712d25');\n",
              "          const dataTable =\n",
              "            await google.colab.kernel.invokeFunction('convertToInteractive',\n",
              "                                                     [key], {});\n",
              "          if (!dataTable) return;\n",
              "\n",
              "          const docLinkHtml = 'Like what you see? Visit the ' +\n",
              "            '<a target=\"_blank\" href=https://colab.research.google.com/notebooks/data_table.ipynb>data table notebook</a>'\n",
              "            + ' to learn more about interactive tables.';\n",
              "          element.innerHTML = '';\n",
              "          dataTable['output_type'] = 'display_data';\n",
              "          await google.colab.output.renderOutput(dataTable, element);\n",
              "          const docLink = document.createElement('div');\n",
              "          docLink.innerHTML = docLinkHtml;\n",
              "          element.appendChild(docLink);\n",
              "        }\n",
              "      </script>\n",
              "    </div>\n",
              "  </div>\n",
              "  "
            ]
          },
          "metadata": {},
          "execution_count": 30
        }
      ]
    },
    {
      "cell_type": "code",
      "source": [
        "data_2017F = data_2017.select('SEX', '_AGE65YR', '_BMI5CAT', 'GENHLTH', 'SMOKE100', '_SMOKER3',\n",
        "                  'LCSFIRST', 'LCSLAST', 'LCSNUMCG', 'LCSCTSCN', 'CNCRTYP1',\n",
        "                  'STOPSMK2', 'ASTHMA3', 'CHCCOPD1') #'ECIGARET',  'ECIGNOW'\n",
        "data_2017F.show(6)"
      ],
      "metadata": {
        "outputId": "8b763b8a-81e2-4920-b52a-ee5262af851a",
        "colab": {
          "base_uri": "https://localhost:8080/"
        },
        "id": "6y-28e5EF9SO"
      },
      "execution_count": 31,
      "outputs": [
        {
          "output_type": "stream",
          "name": "stdout",
          "text": [
            "+---+--------+--------+-------+--------+--------+--------+-------+--------+--------+--------+--------+-------+--------+\n",
            "|SEX|_AGE65YR|_BMI5CAT|GENHLTH|SMOKE100|_SMOKER3|LCSFIRST|LCSLAST|LCSNUMCG|LCSCTSCN|CNCRTYP1|STOPSMK2|ASTHMA3|CHCCOPD1|\n",
            "+---+--------+--------+-------+--------+--------+--------+-------+--------+--------+--------+--------+-------+--------+\n",
            "|  2|       2|       3|      2|       2|       4|      NA|     NA|      NA|      NA|      NA|      NA|      2|       2|\n",
            "|  1|       2|       3|      2|       2|       4|      NA|     NA|      NA|      NA|      NA|      NA|      2|       2|\n",
            "|  1|       2|       3|      3|       2|       4|      NA|     NA|      NA|      NA|      NA|      NA|      2|       2|\n",
            "|  2|       2|       3|      4|       2|       4|      NA|     NA|      NA|      NA|      NA|      NA|      2|       1|\n",
            "|  2|       2|       2|      4|       1|       3|      NA|     NA|      NA|      NA|      NA|      NA|      1|       1|\n",
            "|  1|       2|       3|      3|       1|       1|      NA|     NA|      NA|      NA|      NA|       2|      2|       2|\n",
            "+---+--------+--------+-------+--------+--------+--------+-------+--------+--------+--------+--------+-------+--------+\n",
            "only showing top 6 rows\n",
            "\n"
          ]
        }
      ]
    },
    {
      "cell_type": "code",
      "source": [
        "print('Columns with null values:')\n",
        "print('-'*25)\n",
        "data_2017F.select([eval('data_2017F.' + x + '.isNull().cast(\"int\").alias(\"' + x + '\")') for x in data_2017F.columns]).\\\n",
        "    groupBy().sum().toPandas()"
      ],
      "metadata": {
        "outputId": "540a7455-8502-46c0-9987-7b7051a28dcf",
        "colab": {
          "base_uri": "https://localhost:8080/",
          "height": 181
        },
        "id": "aV_J-yJ1F9SP"
      },
      "execution_count": 32,
      "outputs": [
        {
          "output_type": "stream",
          "name": "stdout",
          "text": [
            "Columns with null values:\n",
            "-------------------------\n"
          ]
        },
        {
          "output_type": "execute_result",
          "data": {
            "text/plain": [
              "   sum(SEX)  sum(_AGE65YR)  sum(_BMI5CAT)  sum(GENHLTH)  sum(SMOKE100)  \\\n",
              "0         0              1              1             0              0   \n",
              "\n",
              "   sum(_SMOKER3)  sum(LCSFIRST)  sum(LCSLAST)  sum(LCSNUMCG)  sum(LCSCTSCN)  \\\n",
              "0              1              1             1              1              1   \n",
              "\n",
              "   sum(CNCRTYP1)  sum(STOPSMK2)  sum(ASTHMA3)  sum(CHCCOPD1)  \n",
              "0              1              0             0              0  "
            ],
            "text/html": [
              "\n",
              "  <div id=\"df-385bf5df-363a-4580-91c1-9d4c537c2697\">\n",
              "    <div class=\"colab-df-container\">\n",
              "      <div>\n",
              "<style scoped>\n",
              "    .dataframe tbody tr th:only-of-type {\n",
              "        vertical-align: middle;\n",
              "    }\n",
              "\n",
              "    .dataframe tbody tr th {\n",
              "        vertical-align: top;\n",
              "    }\n",
              "\n",
              "    .dataframe thead th {\n",
              "        text-align: right;\n",
              "    }\n",
              "</style>\n",
              "<table border=\"1\" class=\"dataframe\">\n",
              "  <thead>\n",
              "    <tr style=\"text-align: right;\">\n",
              "      <th></th>\n",
              "      <th>sum(SEX)</th>\n",
              "      <th>sum(_AGE65YR)</th>\n",
              "      <th>sum(_BMI5CAT)</th>\n",
              "      <th>sum(GENHLTH)</th>\n",
              "      <th>sum(SMOKE100)</th>\n",
              "      <th>sum(_SMOKER3)</th>\n",
              "      <th>sum(LCSFIRST)</th>\n",
              "      <th>sum(LCSLAST)</th>\n",
              "      <th>sum(LCSNUMCG)</th>\n",
              "      <th>sum(LCSCTSCN)</th>\n",
              "      <th>sum(CNCRTYP1)</th>\n",
              "      <th>sum(STOPSMK2)</th>\n",
              "      <th>sum(ASTHMA3)</th>\n",
              "      <th>sum(CHCCOPD1)</th>\n",
              "    </tr>\n",
              "  </thead>\n",
              "  <tbody>\n",
              "    <tr>\n",
              "      <th>0</th>\n",
              "      <td>0</td>\n",
              "      <td>1</td>\n",
              "      <td>1</td>\n",
              "      <td>0</td>\n",
              "      <td>0</td>\n",
              "      <td>1</td>\n",
              "      <td>1</td>\n",
              "      <td>1</td>\n",
              "      <td>1</td>\n",
              "      <td>1</td>\n",
              "      <td>1</td>\n",
              "      <td>0</td>\n",
              "      <td>0</td>\n",
              "      <td>0</td>\n",
              "    </tr>\n",
              "  </tbody>\n",
              "</table>\n",
              "</div>\n",
              "      <button class=\"colab-df-convert\" onclick=\"convertToInteractive('df-385bf5df-363a-4580-91c1-9d4c537c2697')\"\n",
              "              title=\"Convert this dataframe to an interactive table.\"\n",
              "              style=\"display:none;\">\n",
              "        \n",
              "  <svg xmlns=\"http://www.w3.org/2000/svg\" height=\"24px\"viewBox=\"0 0 24 24\"\n",
              "       width=\"24px\">\n",
              "    <path d=\"M0 0h24v24H0V0z\" fill=\"none\"/>\n",
              "    <path d=\"M18.56 5.44l.94 2.06.94-2.06 2.06-.94-2.06-.94-.94-2.06-.94 2.06-2.06.94zm-11 1L8.5 8.5l.94-2.06 2.06-.94-2.06-.94L8.5 2.5l-.94 2.06-2.06.94zm10 10l.94 2.06.94-2.06 2.06-.94-2.06-.94-.94-2.06-.94 2.06-2.06.94z\"/><path d=\"M17.41 7.96l-1.37-1.37c-.4-.4-.92-.59-1.43-.59-.52 0-1.04.2-1.43.59L10.3 9.45l-7.72 7.72c-.78.78-.78 2.05 0 2.83L4 21.41c.39.39.9.59 1.41.59.51 0 1.02-.2 1.41-.59l7.78-7.78 2.81-2.81c.8-.78.8-2.07 0-2.86zM5.41 20L4 18.59l7.72-7.72 1.47 1.35L5.41 20z\"/>\n",
              "  </svg>\n",
              "      </button>\n",
              "      \n",
              "  <style>\n",
              "    .colab-df-container {\n",
              "      display:flex;\n",
              "      flex-wrap:wrap;\n",
              "      gap: 12px;\n",
              "    }\n",
              "\n",
              "    .colab-df-convert {\n",
              "      background-color: #E8F0FE;\n",
              "      border: none;\n",
              "      border-radius: 50%;\n",
              "      cursor: pointer;\n",
              "      display: none;\n",
              "      fill: #1967D2;\n",
              "      height: 32px;\n",
              "      padding: 0 0 0 0;\n",
              "      width: 32px;\n",
              "    }\n",
              "\n",
              "    .colab-df-convert:hover {\n",
              "      background-color: #E2EBFA;\n",
              "      box-shadow: 0px 1px 2px rgba(60, 64, 67, 0.3), 0px 1px 3px 1px rgba(60, 64, 67, 0.15);\n",
              "      fill: #174EA6;\n",
              "    }\n",
              "\n",
              "    [theme=dark] .colab-df-convert {\n",
              "      background-color: #3B4455;\n",
              "      fill: #D2E3FC;\n",
              "    }\n",
              "\n",
              "    [theme=dark] .colab-df-convert:hover {\n",
              "      background-color: #434B5C;\n",
              "      box-shadow: 0px 1px 3px 1px rgba(0, 0, 0, 0.15);\n",
              "      filter: drop-shadow(0px 1px 2px rgba(0, 0, 0, 0.3));\n",
              "      fill: #FFFFFF;\n",
              "    }\n",
              "  </style>\n",
              "\n",
              "      <script>\n",
              "        const buttonEl =\n",
              "          document.querySelector('#df-385bf5df-363a-4580-91c1-9d4c537c2697 button.colab-df-convert');\n",
              "        buttonEl.style.display =\n",
              "          google.colab.kernel.accessAllowed ? 'block' : 'none';\n",
              "\n",
              "        async function convertToInteractive(key) {\n",
              "          const element = document.querySelector('#df-385bf5df-363a-4580-91c1-9d4c537c2697');\n",
              "          const dataTable =\n",
              "            await google.colab.kernel.invokeFunction('convertToInteractive',\n",
              "                                                     [key], {});\n",
              "          if (!dataTable) return;\n",
              "\n",
              "          const docLinkHtml = 'Like what you see? Visit the ' +\n",
              "            '<a target=\"_blank\" href=https://colab.research.google.com/notebooks/data_table.ipynb>data table notebook</a>'\n",
              "            + ' to learn more about interactive tables.';\n",
              "          element.innerHTML = '';\n",
              "          dataTable['output_type'] = 'display_data';\n",
              "          await google.colab.output.renderOutput(dataTable, element);\n",
              "          const docLink = document.createElement('div');\n",
              "          docLink.innerHTML = docLinkHtml;\n",
              "          element.appendChild(docLink);\n",
              "        }\n",
              "      </script>\n",
              "    </div>\n",
              "  </div>\n",
              "  "
            ]
          },
          "metadata": {},
          "execution_count": 32
        }
      ]
    },
    {
      "cell_type": "code",
      "source": [
        "#401958\n",
        "data_2017F = data_2017F.na.drop(how=\"any\")\n",
        "data_2017F.count()"
      ],
      "metadata": {
        "outputId": "fa521bae-f475-4e8e-e5bb-9625f063d820",
        "colab": {
          "base_uri": "https://localhost:8080/"
        },
        "id": "7EY6U960F9SP"
      },
      "execution_count": 33,
      "outputs": [
        {
          "output_type": "execute_result",
          "data": {
            "text/plain": [
              "450015"
            ]
          },
          "metadata": {},
          "execution_count": 33
        }
      ]
    },
    {
      "cell_type": "code",
      "source": [
        "data_2017F.show(6)"
      ],
      "metadata": {
        "outputId": "7d1917d7-d860-4954-87d2-cdbe0252ea24",
        "colab": {
          "base_uri": "https://localhost:8080/"
        },
        "id": "K3swrzG6F9SP"
      },
      "execution_count": 34,
      "outputs": [
        {
          "output_type": "stream",
          "name": "stdout",
          "text": [
            "+---+--------+--------+-------+--------+--------+--------+-------+--------+--------+--------+--------+-------+--------+\n",
            "|SEX|_AGE65YR|_BMI5CAT|GENHLTH|SMOKE100|_SMOKER3|LCSFIRST|LCSLAST|LCSNUMCG|LCSCTSCN|CNCRTYP1|STOPSMK2|ASTHMA3|CHCCOPD1|\n",
            "+---+--------+--------+-------+--------+--------+--------+-------+--------+--------+--------+--------+-------+--------+\n",
            "|  2|       2|       3|      2|       2|       4|      NA|     NA|      NA|      NA|      NA|      NA|      2|       2|\n",
            "|  1|       2|       3|      2|       2|       4|      NA|     NA|      NA|      NA|      NA|      NA|      2|       2|\n",
            "|  1|       2|       3|      3|       2|       4|      NA|     NA|      NA|      NA|      NA|      NA|      2|       2|\n",
            "|  2|       2|       3|      4|       2|       4|      NA|     NA|      NA|      NA|      NA|      NA|      2|       1|\n",
            "|  2|       2|       2|      4|       1|       3|      NA|     NA|      NA|      NA|      NA|      NA|      1|       1|\n",
            "|  1|       2|       3|      3|       1|       1|      NA|     NA|      NA|      NA|      NA|       2|      2|       2|\n",
            "+---+--------+--------+-------+--------+--------+--------+-------+--------+--------+--------+--------+-------+--------+\n",
            "only showing top 6 rows\n",
            "\n"
          ]
        }
      ]
    },
    {
      "cell_type": "code",
      "source": [
        "data_2017F.filter(data_2017F.CNCRTYP1 != 'NA').count()"
      ],
      "metadata": {
        "outputId": "05379495-da28-47f5-dbeb-422e907129b6",
        "colab": {
          "base_uri": "https://localhost:8080/"
        },
        "id": "2zg5NjMOF9SP"
      },
      "execution_count": 35,
      "outputs": [
        {
          "output_type": "execute_result",
          "data": {
            "text/plain": [
              "7976"
            ]
          },
          "metadata": {},
          "execution_count": 35
        }
      ]
    },
    {
      "cell_type": "code",
      "source": [
        "data_2017F.printSchema()"
      ],
      "metadata": {
        "outputId": "2d360db9-64d8-421a-c175-a5496c42f614",
        "colab": {
          "base_uri": "https://localhost:8080/"
        },
        "id": "v4xWm_D-F9SP"
      },
      "execution_count": 36,
      "outputs": [
        {
          "output_type": "stream",
          "name": "stdout",
          "text": [
            "root\n",
            " |-- SEX: integer (nullable = true)\n",
            " |-- _AGE65YR: integer (nullable = true)\n",
            " |-- _BMI5CAT: string (nullable = true)\n",
            " |-- GENHLTH: string (nullable = true)\n",
            " |-- SMOKE100: string (nullable = true)\n",
            " |-- _SMOKER3: integer (nullable = true)\n",
            " |-- LCSFIRST: string (nullable = true)\n",
            " |-- LCSLAST: string (nullable = true)\n",
            " |-- LCSNUMCG: string (nullable = true)\n",
            " |-- LCSCTSCN: string (nullable = true)\n",
            " |-- CNCRTYP1: string (nullable = true)\n",
            " |-- STOPSMK2: string (nullable = true)\n",
            " |-- ASTHMA3: string (nullable = true)\n",
            " |-- CHCCOPD1: string (nullable = true)\n",
            "\n"
          ]
        }
      ]
    },
    {
      "cell_type": "code",
      "source": [
        "data_2017F = data_2017F.fillna(0)"
      ],
      "metadata": {
        "id": "7A0kg4qpZ02s"
      },
      "execution_count": 37,
      "outputs": []
    },
    {
      "cell_type": "code",
      "source": [
        "#@title User Defined Functions (UDF) for prediction label\n",
        "\n",
        "from pyspark.sql.functions import udf\n",
        "from pyspark.sql.types import *\n",
        "y_udf = udf(lambda y: '1' if y == '24' else '0', StringType())\n",
        "x_udf = udf(lambda x: '0' if (x=='NA' or x=='7' or x=='77' or x=='777' or x=='9' or x=='99' or x=='888' or x=='999') else x, StringType())\n",
        "x1_udf = udf(lambda x: 0 if (x==7 or x==77 or x==777 or x==9 or x==99 or x==888 or x==999) else x, StringType())\n",
        "\n",
        "processed_2017 = data_2017F.withColumn(\"Gender\", x1_udf('SEX')).drop(\"SEX\")\\\n",
        "                    .withColumn(\"Age65\", x_age('_AGE65YR')).drop(\"_AGE65YR\")\\\n",
        "                    .withColumn(\"BMI\", x_udf('_BMI5CAT')).drop(\"_BMI5CAT\")\\\n",
        "                    .withColumn(\"GeneralHealth\", x_udf('GENHLTH')).drop(\"GENHLTH\")\\\n",
        "                    .withColumn(\"Smoked100\", x_udf('SMOKE100')).drop(\"SMOKE100\")\\\n",
        "                    .withColumn(\"SmokerStatus\", x1_udf('_SMOKER3')).drop(\"_SMOKER3\")\\\n",
        "                    .withColumn(\"FirstSmokedAge\", x_udf('LCSFIRST')).drop(\"LCSFIRST\")\\\n",
        "                    .withColumn(\"LastSmokedAge\", x_udf('LCSLAST')).drop(\"LCSLAST\")\\\n",
        "                    .withColumn(\"AvgNumCigADay\", x_udf('LCSNUMCG')).drop(\"LCSNUMCG\")\\\n",
        "                    .withColumn(\"HasCTScan\", x_udf('LCSCTSCN')).drop(\"LCSCTSCN\")\\\n",
        "                    .withColumn(\"StopSmoking\", x_udf('STOPSMK2')).drop(\"STOPSMK2\")\\\n",
        "                    .withColumn(\"HasAsthma\", x_udf('ASTHMA3')).drop(\"ASTHMA3\")\\\n",
        "                    .withColumn(\"HasChronicDisease\", x_udf('CHCCOPD1')).drop(\"CHCCOPD1\")\\\n",
        "                    .withColumn(\"HasLungCancer\", y_udf('CNCRTYP1')).drop(\"CNCRTYP1\")\n",
        "                    "
      ],
      "metadata": {
        "id": "OHPRRAe-F9SP"
      },
      "execution_count": 38,
      "outputs": []
    },
    {
      "cell_type": "code",
      "source": [
        "processed_2017.printSchema()"
      ],
      "metadata": {
        "outputId": "d03a2b10-1dcc-4431-9516-75e6a887b13d",
        "colab": {
          "base_uri": "https://localhost:8080/"
        },
        "id": "3W5UncMqF9SP"
      },
      "execution_count": 39,
      "outputs": [
        {
          "output_type": "stream",
          "name": "stdout",
          "text": [
            "root\n",
            " |-- Gender: string (nullable = true)\n",
            " |-- Age65: string (nullable = true)\n",
            " |-- BMI: string (nullable = true)\n",
            " |-- GeneralHealth: string (nullable = true)\n",
            " |-- Smoked100: string (nullable = true)\n",
            " |-- SmokerStatus: string (nullable = true)\n",
            " |-- FirstSmokedAge: string (nullable = true)\n",
            " |-- LastSmokedAge: string (nullable = true)\n",
            " |-- AvgNumCigADay: string (nullable = true)\n",
            " |-- HasCTScan: string (nullable = true)\n",
            " |-- StopSmoking: string (nullable = true)\n",
            " |-- HasAsthma: string (nullable = true)\n",
            " |-- HasChronicDisease: string (nullable = true)\n",
            " |-- HasLungCancer: string (nullable = true)\n",
            "\n"
          ]
        }
      ]
    },
    {
      "cell_type": "code",
      "source": [
        "processed_2017.groupBy(processed_2017.HasLungCancer).count().show()\n",
        "# Data is unbalanced :)"
      ],
      "metadata": {
        "outputId": "9b4a8310-b32b-4770-df33-9690cff607af",
        "colab": {
          "base_uri": "https://localhost:8080/"
        },
        "id": "s_XNJ9JgF9SP"
      },
      "execution_count": 40,
      "outputs": [
        {
          "output_type": "stream",
          "name": "stdout",
          "text": [
            "+-------------+------+\n",
            "|HasLungCancer| count|\n",
            "+-------------+------+\n",
            "|            0|449859|\n",
            "|            1|   156|\n",
            "+-------------+------+\n",
            "\n"
          ]
        }
      ]
    },
    {
      "cell_type": "code",
      "source": [
        "#@title Data Integration 3\n",
        "data_2018 = spark.read.csv('./2018.csv', inferSchema=True, header=True)\n",
        "\n",
        "# preview the data\n",
        "# data type\n",
        "print('-'*10, 'data types', '-'*10)\n",
        "pd.DataFrame(data_2018.dtypes)"
      ],
      "metadata": {
        "colab": {
          "base_uri": "https://localhost:8080/",
          "height": 442
        },
        "outputId": "81b0c5c9-0c95-409f-8e46-47d4cf9d5f97",
        "id": "OV3SzAuNI6qy"
      },
      "execution_count": 41,
      "outputs": [
        {
          "output_type": "stream",
          "name": "stdout",
          "text": [
            "---------- data types ----------\n"
          ]
        },
        {
          "output_type": "execute_result",
          "data": {
            "text/plain": [
              "            0       1\n",
              "0         _c0     int\n",
              "1      _STATE     int\n",
              "2      FMONTH     int\n",
              "3       IDATE     int\n",
              "4      IMONTH     int\n",
              "..        ...     ...\n",
              "271  _HFOB3YR  string\n",
              "272    _FS5YR  string\n",
              "273   _FOBTFS  string\n",
              "274   _CRCREC  string\n",
              "275  _AIDTST3  string\n",
              "\n",
              "[276 rows x 2 columns]"
            ],
            "text/html": [
              "\n",
              "  <div id=\"df-04f79391-3cfb-426a-96d5-2f325f9b99d3\">\n",
              "    <div class=\"colab-df-container\">\n",
              "      <div>\n",
              "<style scoped>\n",
              "    .dataframe tbody tr th:only-of-type {\n",
              "        vertical-align: middle;\n",
              "    }\n",
              "\n",
              "    .dataframe tbody tr th {\n",
              "        vertical-align: top;\n",
              "    }\n",
              "\n",
              "    .dataframe thead th {\n",
              "        text-align: right;\n",
              "    }\n",
              "</style>\n",
              "<table border=\"1\" class=\"dataframe\">\n",
              "  <thead>\n",
              "    <tr style=\"text-align: right;\">\n",
              "      <th></th>\n",
              "      <th>0</th>\n",
              "      <th>1</th>\n",
              "    </tr>\n",
              "  </thead>\n",
              "  <tbody>\n",
              "    <tr>\n",
              "      <th>0</th>\n",
              "      <td>_c0</td>\n",
              "      <td>int</td>\n",
              "    </tr>\n",
              "    <tr>\n",
              "      <th>1</th>\n",
              "      <td>_STATE</td>\n",
              "      <td>int</td>\n",
              "    </tr>\n",
              "    <tr>\n",
              "      <th>2</th>\n",
              "      <td>FMONTH</td>\n",
              "      <td>int</td>\n",
              "    </tr>\n",
              "    <tr>\n",
              "      <th>3</th>\n",
              "      <td>IDATE</td>\n",
              "      <td>int</td>\n",
              "    </tr>\n",
              "    <tr>\n",
              "      <th>4</th>\n",
              "      <td>IMONTH</td>\n",
              "      <td>int</td>\n",
              "    </tr>\n",
              "    <tr>\n",
              "      <th>...</th>\n",
              "      <td>...</td>\n",
              "      <td>...</td>\n",
              "    </tr>\n",
              "    <tr>\n",
              "      <th>271</th>\n",
              "      <td>_HFOB3YR</td>\n",
              "      <td>string</td>\n",
              "    </tr>\n",
              "    <tr>\n",
              "      <th>272</th>\n",
              "      <td>_FS5YR</td>\n",
              "      <td>string</td>\n",
              "    </tr>\n",
              "    <tr>\n",
              "      <th>273</th>\n",
              "      <td>_FOBTFS</td>\n",
              "      <td>string</td>\n",
              "    </tr>\n",
              "    <tr>\n",
              "      <th>274</th>\n",
              "      <td>_CRCREC</td>\n",
              "      <td>string</td>\n",
              "    </tr>\n",
              "    <tr>\n",
              "      <th>275</th>\n",
              "      <td>_AIDTST3</td>\n",
              "      <td>string</td>\n",
              "    </tr>\n",
              "  </tbody>\n",
              "</table>\n",
              "<p>276 rows × 2 columns</p>\n",
              "</div>\n",
              "      <button class=\"colab-df-convert\" onclick=\"convertToInteractive('df-04f79391-3cfb-426a-96d5-2f325f9b99d3')\"\n",
              "              title=\"Convert this dataframe to an interactive table.\"\n",
              "              style=\"display:none;\">\n",
              "        \n",
              "  <svg xmlns=\"http://www.w3.org/2000/svg\" height=\"24px\"viewBox=\"0 0 24 24\"\n",
              "       width=\"24px\">\n",
              "    <path d=\"M0 0h24v24H0V0z\" fill=\"none\"/>\n",
              "    <path d=\"M18.56 5.44l.94 2.06.94-2.06 2.06-.94-2.06-.94-.94-2.06-.94 2.06-2.06.94zm-11 1L8.5 8.5l.94-2.06 2.06-.94-2.06-.94L8.5 2.5l-.94 2.06-2.06.94zm10 10l.94 2.06.94-2.06 2.06-.94-2.06-.94-.94-2.06-.94 2.06-2.06.94z\"/><path d=\"M17.41 7.96l-1.37-1.37c-.4-.4-.92-.59-1.43-.59-.52 0-1.04.2-1.43.59L10.3 9.45l-7.72 7.72c-.78.78-.78 2.05 0 2.83L4 21.41c.39.39.9.59 1.41.59.51 0 1.02-.2 1.41-.59l7.78-7.78 2.81-2.81c.8-.78.8-2.07 0-2.86zM5.41 20L4 18.59l7.72-7.72 1.47 1.35L5.41 20z\"/>\n",
              "  </svg>\n",
              "      </button>\n",
              "      \n",
              "  <style>\n",
              "    .colab-df-container {\n",
              "      display:flex;\n",
              "      flex-wrap:wrap;\n",
              "      gap: 12px;\n",
              "    }\n",
              "\n",
              "    .colab-df-convert {\n",
              "      background-color: #E8F0FE;\n",
              "      border: none;\n",
              "      border-radius: 50%;\n",
              "      cursor: pointer;\n",
              "      display: none;\n",
              "      fill: #1967D2;\n",
              "      height: 32px;\n",
              "      padding: 0 0 0 0;\n",
              "      width: 32px;\n",
              "    }\n",
              "\n",
              "    .colab-df-convert:hover {\n",
              "      background-color: #E2EBFA;\n",
              "      box-shadow: 0px 1px 2px rgba(60, 64, 67, 0.3), 0px 1px 3px 1px rgba(60, 64, 67, 0.15);\n",
              "      fill: #174EA6;\n",
              "    }\n",
              "\n",
              "    [theme=dark] .colab-df-convert {\n",
              "      background-color: #3B4455;\n",
              "      fill: #D2E3FC;\n",
              "    }\n",
              "\n",
              "    [theme=dark] .colab-df-convert:hover {\n",
              "      background-color: #434B5C;\n",
              "      box-shadow: 0px 1px 3px 1px rgba(0, 0, 0, 0.15);\n",
              "      filter: drop-shadow(0px 1px 2px rgba(0, 0, 0, 0.3));\n",
              "      fill: #FFFFFF;\n",
              "    }\n",
              "  </style>\n",
              "\n",
              "      <script>\n",
              "        const buttonEl =\n",
              "          document.querySelector('#df-04f79391-3cfb-426a-96d5-2f325f9b99d3 button.colab-df-convert');\n",
              "        buttonEl.style.display =\n",
              "          google.colab.kernel.accessAllowed ? 'block' : 'none';\n",
              "\n",
              "        async function convertToInteractive(key) {\n",
              "          const element = document.querySelector('#df-04f79391-3cfb-426a-96d5-2f325f9b99d3');\n",
              "          const dataTable =\n",
              "            await google.colab.kernel.invokeFunction('convertToInteractive',\n",
              "                                                     [key], {});\n",
              "          if (!dataTable) return;\n",
              "\n",
              "          const docLinkHtml = 'Like what you see? Visit the ' +\n",
              "            '<a target=\"_blank\" href=https://colab.research.google.com/notebooks/data_table.ipynb>data table notebook</a>'\n",
              "            + ' to learn more about interactive tables.';\n",
              "          element.innerHTML = '';\n",
              "          dataTable['output_type'] = 'display_data';\n",
              "          await google.colab.output.renderOutput(dataTable, element);\n",
              "          const docLink = document.createElement('div');\n",
              "          docLink.innerHTML = docLinkHtml;\n",
              "          element.appendChild(docLink);\n",
              "        }\n",
              "      </script>\n",
              "    </div>\n",
              "  </div>\n",
              "  "
            ]
          },
          "metadata": {},
          "execution_count": 41
        }
      ]
    },
    {
      "cell_type": "code",
      "source": [
        "data_2018F = data_2018.select('SEX1', '_AGE65YR', '_BMI5CAT', 'GENHLTH', 'SMOKE100', '_SMOKER3',\n",
        "                  'LCSFIRST', 'LCSLAST', 'LCSNUMCG', 'LCSCTSCN', 'CNCRTYP1',\n",
        "                  'STOPSMK2', 'ASTHMA3', 'CHCCOPD1') #'ECIGARET',  'ECIGNOW'\n",
        "data_2018F.show(6)"
      ],
      "metadata": {
        "outputId": "060b002e-6396-4abd-9969-80d884b70ae5",
        "colab": {
          "base_uri": "https://localhost:8080/"
        },
        "id": "KvRzP3z5I6rC"
      },
      "execution_count": 42,
      "outputs": [
        {
          "output_type": "stream",
          "name": "stdout",
          "text": [
            "+----+--------+--------+-------+--------+--------+--------+-------+--------+--------+--------+--------+-------+--------+\n",
            "|SEX1|_AGE65YR|_BMI5CAT|GENHLTH|SMOKE100|_SMOKER3|LCSFIRST|LCSLAST|LCSNUMCG|LCSCTSCN|CNCRTYP1|STOPSMK2|ASTHMA3|CHCCOPD1|\n",
            "+----+--------+--------+-------+--------+--------+--------+-------+--------+--------+--------+--------+-------+--------+\n",
            "|   2|       2|       2|      2|       2|       4|      NA|     NA|      NA|      NA|      NA|      NA|      2|       2|\n",
            "|   2|       1|       4|      3|       1|       1|      NA|     NA|      NA|      NA|      NA|       1|      2|       2|\n",
            "|   2|       2|       3|      5|       2|       4|      NA|     NA|      NA|      NA|      NA|      NA|      2|       2|\n",
            "|   1|       2|       3|      1|       2|       4|      NA|     NA|      NA|      NA|      NA|      NA|      2|       2|\n",
            "|   2|       1|      NA|      2|       2|       4|      NA|     NA|      NA|      NA|      NA|      NA|      2|       2|\n",
            "|   2|       2|       4|      2|       2|       4|      NA|     NA|      NA|      NA|      NA|      NA|      1|       2|\n",
            "+----+--------+--------+-------+--------+--------+--------+-------+--------+--------+--------+--------+-------+--------+\n",
            "only showing top 6 rows\n",
            "\n"
          ]
        }
      ]
    },
    {
      "cell_type": "code",
      "source": [
        "print('Columns with null values:')\n",
        "print('-'*25)\n",
        "data_2018F.select([eval('data_2018F.' + x + '.isNull().cast(\"int\").alias(\"' + x + '\")') for x in data_2018F.columns]).\\\n",
        "    groupBy().sum().toPandas()"
      ],
      "metadata": {
        "outputId": "882f5426-36e0-4b8d-8fc8-7209dc12ce8c",
        "colab": {
          "base_uri": "https://localhost:8080/",
          "height": 181
        },
        "id": "C6d0Yio_I6rD"
      },
      "execution_count": 43,
      "outputs": [
        {
          "output_type": "stream",
          "name": "stdout",
          "text": [
            "Columns with null values:\n",
            "-------------------------\n"
          ]
        },
        {
          "output_type": "execute_result",
          "data": {
            "text/plain": [
              "   sum(SEX1)  sum(_AGE65YR)  sum(_BMI5CAT)  sum(GENHLTH)  sum(SMOKE100)  \\\n",
              "0          0              1              1             0              0   \n",
              "\n",
              "   sum(_SMOKER3)  sum(LCSFIRST)  sum(LCSLAST)  sum(LCSNUMCG)  sum(LCSCTSCN)  \\\n",
              "0              1              1             1              1              1   \n",
              "\n",
              "   sum(CNCRTYP1)  sum(STOPSMK2)  sum(ASTHMA3)  sum(CHCCOPD1)  \n",
              "0              1              0             0              0  "
            ],
            "text/html": [
              "\n",
              "  <div id=\"df-876ad15e-a6a6-4b06-938c-db8a565995d7\">\n",
              "    <div class=\"colab-df-container\">\n",
              "      <div>\n",
              "<style scoped>\n",
              "    .dataframe tbody tr th:only-of-type {\n",
              "        vertical-align: middle;\n",
              "    }\n",
              "\n",
              "    .dataframe tbody tr th {\n",
              "        vertical-align: top;\n",
              "    }\n",
              "\n",
              "    .dataframe thead th {\n",
              "        text-align: right;\n",
              "    }\n",
              "</style>\n",
              "<table border=\"1\" class=\"dataframe\">\n",
              "  <thead>\n",
              "    <tr style=\"text-align: right;\">\n",
              "      <th></th>\n",
              "      <th>sum(SEX1)</th>\n",
              "      <th>sum(_AGE65YR)</th>\n",
              "      <th>sum(_BMI5CAT)</th>\n",
              "      <th>sum(GENHLTH)</th>\n",
              "      <th>sum(SMOKE100)</th>\n",
              "      <th>sum(_SMOKER3)</th>\n",
              "      <th>sum(LCSFIRST)</th>\n",
              "      <th>sum(LCSLAST)</th>\n",
              "      <th>sum(LCSNUMCG)</th>\n",
              "      <th>sum(LCSCTSCN)</th>\n",
              "      <th>sum(CNCRTYP1)</th>\n",
              "      <th>sum(STOPSMK2)</th>\n",
              "      <th>sum(ASTHMA3)</th>\n",
              "      <th>sum(CHCCOPD1)</th>\n",
              "    </tr>\n",
              "  </thead>\n",
              "  <tbody>\n",
              "    <tr>\n",
              "      <th>0</th>\n",
              "      <td>0</td>\n",
              "      <td>1</td>\n",
              "      <td>1</td>\n",
              "      <td>0</td>\n",
              "      <td>0</td>\n",
              "      <td>1</td>\n",
              "      <td>1</td>\n",
              "      <td>1</td>\n",
              "      <td>1</td>\n",
              "      <td>1</td>\n",
              "      <td>1</td>\n",
              "      <td>0</td>\n",
              "      <td>0</td>\n",
              "      <td>0</td>\n",
              "    </tr>\n",
              "  </tbody>\n",
              "</table>\n",
              "</div>\n",
              "      <button class=\"colab-df-convert\" onclick=\"convertToInteractive('df-876ad15e-a6a6-4b06-938c-db8a565995d7')\"\n",
              "              title=\"Convert this dataframe to an interactive table.\"\n",
              "              style=\"display:none;\">\n",
              "        \n",
              "  <svg xmlns=\"http://www.w3.org/2000/svg\" height=\"24px\"viewBox=\"0 0 24 24\"\n",
              "       width=\"24px\">\n",
              "    <path d=\"M0 0h24v24H0V0z\" fill=\"none\"/>\n",
              "    <path d=\"M18.56 5.44l.94 2.06.94-2.06 2.06-.94-2.06-.94-.94-2.06-.94 2.06-2.06.94zm-11 1L8.5 8.5l.94-2.06 2.06-.94-2.06-.94L8.5 2.5l-.94 2.06-2.06.94zm10 10l.94 2.06.94-2.06 2.06-.94-2.06-.94-.94-2.06-.94 2.06-2.06.94z\"/><path d=\"M17.41 7.96l-1.37-1.37c-.4-.4-.92-.59-1.43-.59-.52 0-1.04.2-1.43.59L10.3 9.45l-7.72 7.72c-.78.78-.78 2.05 0 2.83L4 21.41c.39.39.9.59 1.41.59.51 0 1.02-.2 1.41-.59l7.78-7.78 2.81-2.81c.8-.78.8-2.07 0-2.86zM5.41 20L4 18.59l7.72-7.72 1.47 1.35L5.41 20z\"/>\n",
              "  </svg>\n",
              "      </button>\n",
              "      \n",
              "  <style>\n",
              "    .colab-df-container {\n",
              "      display:flex;\n",
              "      flex-wrap:wrap;\n",
              "      gap: 12px;\n",
              "    }\n",
              "\n",
              "    .colab-df-convert {\n",
              "      background-color: #E8F0FE;\n",
              "      border: none;\n",
              "      border-radius: 50%;\n",
              "      cursor: pointer;\n",
              "      display: none;\n",
              "      fill: #1967D2;\n",
              "      height: 32px;\n",
              "      padding: 0 0 0 0;\n",
              "      width: 32px;\n",
              "    }\n",
              "\n",
              "    .colab-df-convert:hover {\n",
              "      background-color: #E2EBFA;\n",
              "      box-shadow: 0px 1px 2px rgba(60, 64, 67, 0.3), 0px 1px 3px 1px rgba(60, 64, 67, 0.15);\n",
              "      fill: #174EA6;\n",
              "    }\n",
              "\n",
              "    [theme=dark] .colab-df-convert {\n",
              "      background-color: #3B4455;\n",
              "      fill: #D2E3FC;\n",
              "    }\n",
              "\n",
              "    [theme=dark] .colab-df-convert:hover {\n",
              "      background-color: #434B5C;\n",
              "      box-shadow: 0px 1px 3px 1px rgba(0, 0, 0, 0.15);\n",
              "      filter: drop-shadow(0px 1px 2px rgba(0, 0, 0, 0.3));\n",
              "      fill: #FFFFFF;\n",
              "    }\n",
              "  </style>\n",
              "\n",
              "      <script>\n",
              "        const buttonEl =\n",
              "          document.querySelector('#df-876ad15e-a6a6-4b06-938c-db8a565995d7 button.colab-df-convert');\n",
              "        buttonEl.style.display =\n",
              "          google.colab.kernel.accessAllowed ? 'block' : 'none';\n",
              "\n",
              "        async function convertToInteractive(key) {\n",
              "          const element = document.querySelector('#df-876ad15e-a6a6-4b06-938c-db8a565995d7');\n",
              "          const dataTable =\n",
              "            await google.colab.kernel.invokeFunction('convertToInteractive',\n",
              "                                                     [key], {});\n",
              "          if (!dataTable) return;\n",
              "\n",
              "          const docLinkHtml = 'Like what you see? Visit the ' +\n",
              "            '<a target=\"_blank\" href=https://colab.research.google.com/notebooks/data_table.ipynb>data table notebook</a>'\n",
              "            + ' to learn more about interactive tables.';\n",
              "          element.innerHTML = '';\n",
              "          dataTable['output_type'] = 'display_data';\n",
              "          await google.colab.output.renderOutput(dataTable, element);\n",
              "          const docLink = document.createElement('div');\n",
              "          docLink.innerHTML = docLinkHtml;\n",
              "          element.appendChild(docLink);\n",
              "        }\n",
              "      </script>\n",
              "    </div>\n",
              "  </div>\n",
              "  "
            ]
          },
          "metadata": {},
          "execution_count": 43
        }
      ]
    },
    {
      "cell_type": "code",
      "source": [
        "#401958\n",
        "data_2018F = data_2018F.na.drop(how=\"any\")\n",
        "data_2018F.count()"
      ],
      "metadata": {
        "outputId": "e4401ba1-90d6-4362-a5cd-664cc0a9b97d",
        "colab": {
          "base_uri": "https://localhost:8080/"
        },
        "id": "4NPPejlaI6rD"
      },
      "execution_count": 44,
      "outputs": [
        {
          "output_type": "execute_result",
          "data": {
            "text/plain": [
              "437435"
            ]
          },
          "metadata": {},
          "execution_count": 44
        }
      ]
    },
    {
      "cell_type": "code",
      "source": [
        "data_2018F.show(6)"
      ],
      "metadata": {
        "outputId": "74dc2c01-0c4d-4ef4-f74a-1fc9c2f7a22d",
        "colab": {
          "base_uri": "https://localhost:8080/"
        },
        "id": "dpZZLsdHI6rD"
      },
      "execution_count": 45,
      "outputs": [
        {
          "output_type": "stream",
          "name": "stdout",
          "text": [
            "+----+--------+--------+-------+--------+--------+--------+-------+--------+--------+--------+--------+-------+--------+\n",
            "|SEX1|_AGE65YR|_BMI5CAT|GENHLTH|SMOKE100|_SMOKER3|LCSFIRST|LCSLAST|LCSNUMCG|LCSCTSCN|CNCRTYP1|STOPSMK2|ASTHMA3|CHCCOPD1|\n",
            "+----+--------+--------+-------+--------+--------+--------+-------+--------+--------+--------+--------+-------+--------+\n",
            "|   2|       2|       2|      2|       2|       4|      NA|     NA|      NA|      NA|      NA|      NA|      2|       2|\n",
            "|   2|       1|       4|      3|       1|       1|      NA|     NA|      NA|      NA|      NA|       1|      2|       2|\n",
            "|   2|       2|       3|      5|       2|       4|      NA|     NA|      NA|      NA|      NA|      NA|      2|       2|\n",
            "|   1|       2|       3|      1|       2|       4|      NA|     NA|      NA|      NA|      NA|      NA|      2|       2|\n",
            "|   2|       1|      NA|      2|       2|       4|      NA|     NA|      NA|      NA|      NA|      NA|      2|       2|\n",
            "|   2|       2|       4|      2|       2|       4|      NA|     NA|      NA|      NA|      NA|      NA|      1|       2|\n",
            "+----+--------+--------+-------+--------+--------+--------+-------+--------+--------+--------+--------+-------+--------+\n",
            "only showing top 6 rows\n",
            "\n"
          ]
        }
      ]
    },
    {
      "cell_type": "code",
      "source": [
        "data_2018F.filter(data_2018F.CNCRTYP1 != 'NA').count()"
      ],
      "metadata": {
        "outputId": "58f9f456-943e-43ac-a13f-85b342571a4e",
        "colab": {
          "base_uri": "https://localhost:8080/"
        },
        "id": "nfJJf0ejI6rD"
      },
      "execution_count": 46,
      "outputs": [
        {
          "output_type": "execute_result",
          "data": {
            "text/plain": [
              "6187"
            ]
          },
          "metadata": {},
          "execution_count": 46
        }
      ]
    },
    {
      "cell_type": "code",
      "source": [
        "data_2018F.printSchema()"
      ],
      "metadata": {
        "outputId": "6858377f-aec9-4c83-8168-2d09ba9d7803",
        "colab": {
          "base_uri": "https://localhost:8080/"
        },
        "id": "6Zlge_5TI6rD"
      },
      "execution_count": 47,
      "outputs": [
        {
          "output_type": "stream",
          "name": "stdout",
          "text": [
            "root\n",
            " |-- SEX1: integer (nullable = true)\n",
            " |-- _AGE65YR: integer (nullable = true)\n",
            " |-- _BMI5CAT: string (nullable = true)\n",
            " |-- GENHLTH: string (nullable = true)\n",
            " |-- SMOKE100: string (nullable = true)\n",
            " |-- _SMOKER3: integer (nullable = true)\n",
            " |-- LCSFIRST: string (nullable = true)\n",
            " |-- LCSLAST: string (nullable = true)\n",
            " |-- LCSNUMCG: string (nullable = true)\n",
            " |-- LCSCTSCN: string (nullable = true)\n",
            " |-- CNCRTYP1: string (nullable = true)\n",
            " |-- STOPSMK2: string (nullable = true)\n",
            " |-- ASTHMA3: string (nullable = true)\n",
            " |-- CHCCOPD1: string (nullable = true)\n",
            "\n"
          ]
        }
      ]
    },
    {
      "cell_type": "code",
      "source": [
        "data_2018F = data_2018F.fillna(0)"
      ],
      "metadata": {
        "id": "MAluNwHra2VL"
      },
      "execution_count": 48,
      "outputs": []
    },
    {
      "cell_type": "code",
      "source": [
        "#@title User Defined Functions (UDF) for prediction label\n",
        "\n",
        "from pyspark.sql.functions import udf\n",
        "from pyspark.sql.types import *\n",
        "y_udf = udf(lambda y: '1' if y == '24' else '0', StringType())\n",
        "x_udf = udf(lambda x: '0' if (x=='NA' or x=='7' or x=='77' or x=='777' or x=='9' or x=='99' or x=='888' or x=='999') else x, StringType())\n",
        "\n",
        "processed_2018 = data_2018F.withColumn(\"Gender\", x1_udf('SEX1')).drop(\"SEX1\")\\\n",
        "                    .withColumn(\"Age65\", x_age('_AGE65YR')).drop(\"_AGE65YR\")\\\n",
        "                    .withColumn(\"BMI\", x_udf('_BMI5CAT')).drop(\"_BMI5CAT\")\\\n",
        "                    .withColumn(\"GeneralHealth\", x_udf('GENHLTH')).drop(\"GENHLTH\")\\\n",
        "                    .withColumn(\"Smoked100\", x_udf('SMOKE100')).drop(\"SMOKE100\")\\\n",
        "                    .withColumn(\"SmokerStatus\", x1_udf('_SMOKER3')).drop(\"_SMOKER3\")\\\n",
        "                    .withColumn(\"FirstSmokedAge\", x_udf('LCSFIRST')).drop(\"LCSFIRST\")\\\n",
        "                    .withColumn(\"LastSmokedAge\", x_udf('LCSLAST')).drop(\"LCSLAST\")\\\n",
        "                    .withColumn(\"AvgNumCigADay\", x_udf('LCSNUMCG')).drop(\"LCSNUMCG\")\\\n",
        "                    .withColumn(\"HasCTScan\", x_udf('LCSCTSCN')).drop(\"LCSCTSCN\")\\\n",
        "                    .withColumn(\"StopSmoking\", x_udf('STOPSMK2')).drop(\"STOPSMK2\")\\\n",
        "                    .withColumn(\"HasAsthma\", x_udf('ASTHMA3')).drop(\"ASTHMA3\")\\\n",
        "                    .withColumn(\"HasChronicDisease\", x_udf('CHCCOPD1')).drop(\"CHCCOPD1\")\\\n",
        "                    .withColumn(\"HasLungCancer\", y_udf('CNCRTYP1')).drop(\"CNCRTYP1\")\n",
        "                    "
      ],
      "metadata": {
        "id": "I1GbhzusI6rE"
      },
      "execution_count": 49,
      "outputs": []
    },
    {
      "cell_type": "code",
      "source": [
        "processed_2018.printSchema()"
      ],
      "metadata": {
        "outputId": "5e3f6ff9-266a-4612-dab0-48c0495d959a",
        "colab": {
          "base_uri": "https://localhost:8080/"
        },
        "id": "iBVYUWmvI6rE"
      },
      "execution_count": 50,
      "outputs": [
        {
          "output_type": "stream",
          "name": "stdout",
          "text": [
            "root\n",
            " |-- Gender: string (nullable = true)\n",
            " |-- Age65: string (nullable = true)\n",
            " |-- BMI: string (nullable = true)\n",
            " |-- GeneralHealth: string (nullable = true)\n",
            " |-- Smoked100: string (nullable = true)\n",
            " |-- SmokerStatus: string (nullable = true)\n",
            " |-- FirstSmokedAge: string (nullable = true)\n",
            " |-- LastSmokedAge: string (nullable = true)\n",
            " |-- AvgNumCigADay: string (nullable = true)\n",
            " |-- HasCTScan: string (nullable = true)\n",
            " |-- StopSmoking: string (nullable = true)\n",
            " |-- HasAsthma: string (nullable = true)\n",
            " |-- HasChronicDisease: string (nullable = true)\n",
            " |-- HasLungCancer: string (nullable = true)\n",
            "\n"
          ]
        }
      ]
    },
    {
      "cell_type": "code",
      "source": [
        "processed_2018.groupBy(processed_2018.HasLungCancer).count().show()\n",
        "# Data is unbalanced :)"
      ],
      "metadata": {
        "outputId": "2b83abac-4a2b-46f3-f28e-1a080f418b66",
        "colab": {
          "base_uri": "https://localhost:8080/"
        },
        "id": "Y6WQEJZZI6rE"
      },
      "execution_count": 51,
      "outputs": [
        {
          "output_type": "stream",
          "name": "stdout",
          "text": [
            "+-------------+------+\n",
            "|HasLungCancer| count|\n",
            "+-------------+------+\n",
            "|            0|437284|\n",
            "|            1|   151|\n",
            "+-------------+------+\n",
            "\n"
          ]
        }
      ]
    },
    {
      "cell_type": "code",
      "source": [
        "#@title Data Integration 4\n",
        "data_2019 = spark.read.csv('./2019.csv', inferSchema=True, header=True)\n",
        "\n",
        "# preview the data\n",
        "# data type\n",
        "print('-'*10, 'data types', '-'*10)\n",
        "pd.DataFrame(data_2019.dtypes)"
      ],
      "metadata": {
        "colab": {
          "base_uri": "https://localhost:8080/",
          "height": 442
        },
        "outputId": "9eaec220-13d6-4a2f-9ba8-ba80be3fee10",
        "id": "a0GVWDOuJ1pl"
      },
      "execution_count": 52,
      "outputs": [
        {
          "output_type": "stream",
          "name": "stdout",
          "text": [
            "---------- data types ----------\n"
          ]
        },
        {
          "output_type": "execute_result",
          "data": {
            "text/plain": [
              "            0       1\n",
              "0         _c0     int\n",
              "1      _STATE     int\n",
              "2      FMONTH     int\n",
              "3       IDATE     int\n",
              "4      IMONTH     int\n",
              "..        ...     ...\n",
              "338  _FRUITE1     int\n",
              "339  _VEGETE1     int\n",
              "340  _FLSHOT7  string\n",
              "341  _PNEUMO3  string\n",
              "342  _AIDTST4  string\n",
              "\n",
              "[343 rows x 2 columns]"
            ],
            "text/html": [
              "\n",
              "  <div id=\"df-11b83202-ef56-4ba2-a0bd-c29339a6d2ec\">\n",
              "    <div class=\"colab-df-container\">\n",
              "      <div>\n",
              "<style scoped>\n",
              "    .dataframe tbody tr th:only-of-type {\n",
              "        vertical-align: middle;\n",
              "    }\n",
              "\n",
              "    .dataframe tbody tr th {\n",
              "        vertical-align: top;\n",
              "    }\n",
              "\n",
              "    .dataframe thead th {\n",
              "        text-align: right;\n",
              "    }\n",
              "</style>\n",
              "<table border=\"1\" class=\"dataframe\">\n",
              "  <thead>\n",
              "    <tr style=\"text-align: right;\">\n",
              "      <th></th>\n",
              "      <th>0</th>\n",
              "      <th>1</th>\n",
              "    </tr>\n",
              "  </thead>\n",
              "  <tbody>\n",
              "    <tr>\n",
              "      <th>0</th>\n",
              "      <td>_c0</td>\n",
              "      <td>int</td>\n",
              "    </tr>\n",
              "    <tr>\n",
              "      <th>1</th>\n",
              "      <td>_STATE</td>\n",
              "      <td>int</td>\n",
              "    </tr>\n",
              "    <tr>\n",
              "      <th>2</th>\n",
              "      <td>FMONTH</td>\n",
              "      <td>int</td>\n",
              "    </tr>\n",
              "    <tr>\n",
              "      <th>3</th>\n",
              "      <td>IDATE</td>\n",
              "      <td>int</td>\n",
              "    </tr>\n",
              "    <tr>\n",
              "      <th>4</th>\n",
              "      <td>IMONTH</td>\n",
              "      <td>int</td>\n",
              "    </tr>\n",
              "    <tr>\n",
              "      <th>...</th>\n",
              "      <td>...</td>\n",
              "      <td>...</td>\n",
              "    </tr>\n",
              "    <tr>\n",
              "      <th>338</th>\n",
              "      <td>_FRUITE1</td>\n",
              "      <td>int</td>\n",
              "    </tr>\n",
              "    <tr>\n",
              "      <th>339</th>\n",
              "      <td>_VEGETE1</td>\n",
              "      <td>int</td>\n",
              "    </tr>\n",
              "    <tr>\n",
              "      <th>340</th>\n",
              "      <td>_FLSHOT7</td>\n",
              "      <td>string</td>\n",
              "    </tr>\n",
              "    <tr>\n",
              "      <th>341</th>\n",
              "      <td>_PNEUMO3</td>\n",
              "      <td>string</td>\n",
              "    </tr>\n",
              "    <tr>\n",
              "      <th>342</th>\n",
              "      <td>_AIDTST4</td>\n",
              "      <td>string</td>\n",
              "    </tr>\n",
              "  </tbody>\n",
              "</table>\n",
              "<p>343 rows × 2 columns</p>\n",
              "</div>\n",
              "      <button class=\"colab-df-convert\" onclick=\"convertToInteractive('df-11b83202-ef56-4ba2-a0bd-c29339a6d2ec')\"\n",
              "              title=\"Convert this dataframe to an interactive table.\"\n",
              "              style=\"display:none;\">\n",
              "        \n",
              "  <svg xmlns=\"http://www.w3.org/2000/svg\" height=\"24px\"viewBox=\"0 0 24 24\"\n",
              "       width=\"24px\">\n",
              "    <path d=\"M0 0h24v24H0V0z\" fill=\"none\"/>\n",
              "    <path d=\"M18.56 5.44l.94 2.06.94-2.06 2.06-.94-2.06-.94-.94-2.06-.94 2.06-2.06.94zm-11 1L8.5 8.5l.94-2.06 2.06-.94-2.06-.94L8.5 2.5l-.94 2.06-2.06.94zm10 10l.94 2.06.94-2.06 2.06-.94-2.06-.94-.94-2.06-.94 2.06-2.06.94z\"/><path d=\"M17.41 7.96l-1.37-1.37c-.4-.4-.92-.59-1.43-.59-.52 0-1.04.2-1.43.59L10.3 9.45l-7.72 7.72c-.78.78-.78 2.05 0 2.83L4 21.41c.39.39.9.59 1.41.59.51 0 1.02-.2 1.41-.59l7.78-7.78 2.81-2.81c.8-.78.8-2.07 0-2.86zM5.41 20L4 18.59l7.72-7.72 1.47 1.35L5.41 20z\"/>\n",
              "  </svg>\n",
              "      </button>\n",
              "      \n",
              "  <style>\n",
              "    .colab-df-container {\n",
              "      display:flex;\n",
              "      flex-wrap:wrap;\n",
              "      gap: 12px;\n",
              "    }\n",
              "\n",
              "    .colab-df-convert {\n",
              "      background-color: #E8F0FE;\n",
              "      border: none;\n",
              "      border-radius: 50%;\n",
              "      cursor: pointer;\n",
              "      display: none;\n",
              "      fill: #1967D2;\n",
              "      height: 32px;\n",
              "      padding: 0 0 0 0;\n",
              "      width: 32px;\n",
              "    }\n",
              "\n",
              "    .colab-df-convert:hover {\n",
              "      background-color: #E2EBFA;\n",
              "      box-shadow: 0px 1px 2px rgba(60, 64, 67, 0.3), 0px 1px 3px 1px rgba(60, 64, 67, 0.15);\n",
              "      fill: #174EA6;\n",
              "    }\n",
              "\n",
              "    [theme=dark] .colab-df-convert {\n",
              "      background-color: #3B4455;\n",
              "      fill: #D2E3FC;\n",
              "    }\n",
              "\n",
              "    [theme=dark] .colab-df-convert:hover {\n",
              "      background-color: #434B5C;\n",
              "      box-shadow: 0px 1px 3px 1px rgba(0, 0, 0, 0.15);\n",
              "      filter: drop-shadow(0px 1px 2px rgba(0, 0, 0, 0.3));\n",
              "      fill: #FFFFFF;\n",
              "    }\n",
              "  </style>\n",
              "\n",
              "      <script>\n",
              "        const buttonEl =\n",
              "          document.querySelector('#df-11b83202-ef56-4ba2-a0bd-c29339a6d2ec button.colab-df-convert');\n",
              "        buttonEl.style.display =\n",
              "          google.colab.kernel.accessAllowed ? 'block' : 'none';\n",
              "\n",
              "        async function convertToInteractive(key) {\n",
              "          const element = document.querySelector('#df-11b83202-ef56-4ba2-a0bd-c29339a6d2ec');\n",
              "          const dataTable =\n",
              "            await google.colab.kernel.invokeFunction('convertToInteractive',\n",
              "                                                     [key], {});\n",
              "          if (!dataTable) return;\n",
              "\n",
              "          const docLinkHtml = 'Like what you see? Visit the ' +\n",
              "            '<a target=\"_blank\" href=https://colab.research.google.com/notebooks/data_table.ipynb>data table notebook</a>'\n",
              "            + ' to learn more about interactive tables.';\n",
              "          element.innerHTML = '';\n",
              "          dataTable['output_type'] = 'display_data';\n",
              "          await google.colab.output.renderOutput(dataTable, element);\n",
              "          const docLink = document.createElement('div');\n",
              "          docLink.innerHTML = docLinkHtml;\n",
              "          element.appendChild(docLink);\n",
              "        }\n",
              "      </script>\n",
              "    </div>\n",
              "  </div>\n",
              "  "
            ]
          },
          "metadata": {},
          "execution_count": 52
        }
      ]
    },
    {
      "cell_type": "code",
      "source": [
        "data_2019F = data_2019.select('SEXVAR', '_AGE65YR', '_BMI5CAT', 'GENHLTH', 'SMOKE100', '_SMOKER3',\n",
        "                  'LCSFIRST', 'LCSLAST', 'LCSNUMCG', 'LCSCTSCN', 'CNCRTYP1',\n",
        "                  'STOPSMK2', 'ASTHMA3', 'CHCCOPD2') #'ECIGARET',  'ECIGNOW'\n",
        "data_2019F.show(6)"
      ],
      "metadata": {
        "id": "3qoKhmNjJ1pl",
        "outputId": "f29f60a5-e125-40ae-fe9f-31bc00788a90",
        "colab": {
          "base_uri": "https://localhost:8080/"
        }
      },
      "execution_count": 53,
      "outputs": [
        {
          "output_type": "stream",
          "name": "stdout",
          "text": [
            "+------+--------+--------+-------+--------+--------+--------+-------+--------+--------+--------+--------+-------+--------+\n",
            "|SEXVAR|_AGE65YR|_BMI5CAT|GENHLTH|SMOKE100|_SMOKER3|LCSFIRST|LCSLAST|LCSNUMCG|LCSCTSCN|CNCRTYP1|STOPSMK2|ASTHMA3|CHCCOPD2|\n",
            "+------+--------+--------+-------+--------+--------+--------+-------+--------+--------+--------+--------+-------+--------+\n",
            "|     2|       2|       3|      3|       1|       3|      NA|     NA|      NA|      NA|      NA|      NA|      2|       2|\n",
            "|     2|       2|       2|      4|       2|       4|      NA|     NA|      NA|      NA|      NA|      NA|      2|       2|\n",
            "|     2|       2|       4|      3|       2|       4|      NA|     NA|      NA|      NA|      NA|      NA|      2|       2|\n",
            "|     2|       2|       2|      4|      NA|       9|      NA|     NA|      NA|      NA|      NA|      NA|      2|       1|\n",
            "|     2|       2|       2|      2|       1|       3|      NA|     NA|      NA|      NA|      NA|      NA|      2|       2|\n",
            "|     2|       3|      NA|      2|      NA|       9|      NA|     NA|      NA|      NA|      NA|      NA|      2|       2|\n",
            "+------+--------+--------+-------+--------+--------+--------+-------+--------+--------+--------+--------+-------+--------+\n",
            "only showing top 6 rows\n",
            "\n"
          ]
        }
      ]
    },
    {
      "cell_type": "code",
      "source": [
        "print('Columns with null values:')\n",
        "print('-'*25)\n",
        "data_2019F.select([eval('data_2019F.' + x + '.isNull().cast(\"int\").alias(\"' + x + '\")') for x in data_2019F.columns]).\\\n",
        "    groupBy().sum().toPandas()"
      ],
      "metadata": {
        "id": "xgu2EkJ6J1pl",
        "outputId": "0c513a3c-2e1c-4850-9dd8-68d8956570c6",
        "colab": {
          "base_uri": "https://localhost:8080/",
          "height": 181
        }
      },
      "execution_count": 54,
      "outputs": [
        {
          "output_type": "stream",
          "name": "stdout",
          "text": [
            "Columns with null values:\n",
            "-------------------------\n"
          ]
        },
        {
          "output_type": "execute_result",
          "data": {
            "text/plain": [
              "   sum(SEXVAR)  sum(_AGE65YR)  sum(_BMI5CAT)  sum(GENHLTH)  sum(SMOKE100)  \\\n",
              "0            0              0              0             0              0   \n",
              "\n",
              "   sum(_SMOKER3)  sum(LCSFIRST)  sum(LCSLAST)  sum(LCSNUMCG)  sum(LCSCTSCN)  \\\n",
              "0              0              0             0              0              0   \n",
              "\n",
              "   sum(CNCRTYP1)  sum(STOPSMK2)  sum(ASTHMA3)  sum(CHCCOPD2)  \n",
              "0              0              0             0              0  "
            ],
            "text/html": [
              "\n",
              "  <div id=\"df-5a7d39a7-8069-4a96-9635-a4178c30c318\">\n",
              "    <div class=\"colab-df-container\">\n",
              "      <div>\n",
              "<style scoped>\n",
              "    .dataframe tbody tr th:only-of-type {\n",
              "        vertical-align: middle;\n",
              "    }\n",
              "\n",
              "    .dataframe tbody tr th {\n",
              "        vertical-align: top;\n",
              "    }\n",
              "\n",
              "    .dataframe thead th {\n",
              "        text-align: right;\n",
              "    }\n",
              "</style>\n",
              "<table border=\"1\" class=\"dataframe\">\n",
              "  <thead>\n",
              "    <tr style=\"text-align: right;\">\n",
              "      <th></th>\n",
              "      <th>sum(SEXVAR)</th>\n",
              "      <th>sum(_AGE65YR)</th>\n",
              "      <th>sum(_BMI5CAT)</th>\n",
              "      <th>sum(GENHLTH)</th>\n",
              "      <th>sum(SMOKE100)</th>\n",
              "      <th>sum(_SMOKER3)</th>\n",
              "      <th>sum(LCSFIRST)</th>\n",
              "      <th>sum(LCSLAST)</th>\n",
              "      <th>sum(LCSNUMCG)</th>\n",
              "      <th>sum(LCSCTSCN)</th>\n",
              "      <th>sum(CNCRTYP1)</th>\n",
              "      <th>sum(STOPSMK2)</th>\n",
              "      <th>sum(ASTHMA3)</th>\n",
              "      <th>sum(CHCCOPD2)</th>\n",
              "    </tr>\n",
              "  </thead>\n",
              "  <tbody>\n",
              "    <tr>\n",
              "      <th>0</th>\n",
              "      <td>0</td>\n",
              "      <td>0</td>\n",
              "      <td>0</td>\n",
              "      <td>0</td>\n",
              "      <td>0</td>\n",
              "      <td>0</td>\n",
              "      <td>0</td>\n",
              "      <td>0</td>\n",
              "      <td>0</td>\n",
              "      <td>0</td>\n",
              "      <td>0</td>\n",
              "      <td>0</td>\n",
              "      <td>0</td>\n",
              "      <td>0</td>\n",
              "    </tr>\n",
              "  </tbody>\n",
              "</table>\n",
              "</div>\n",
              "      <button class=\"colab-df-convert\" onclick=\"convertToInteractive('df-5a7d39a7-8069-4a96-9635-a4178c30c318')\"\n",
              "              title=\"Convert this dataframe to an interactive table.\"\n",
              "              style=\"display:none;\">\n",
              "        \n",
              "  <svg xmlns=\"http://www.w3.org/2000/svg\" height=\"24px\"viewBox=\"0 0 24 24\"\n",
              "       width=\"24px\">\n",
              "    <path d=\"M0 0h24v24H0V0z\" fill=\"none\"/>\n",
              "    <path d=\"M18.56 5.44l.94 2.06.94-2.06 2.06-.94-2.06-.94-.94-2.06-.94 2.06-2.06.94zm-11 1L8.5 8.5l.94-2.06 2.06-.94-2.06-.94L8.5 2.5l-.94 2.06-2.06.94zm10 10l.94 2.06.94-2.06 2.06-.94-2.06-.94-.94-2.06-.94 2.06-2.06.94z\"/><path d=\"M17.41 7.96l-1.37-1.37c-.4-.4-.92-.59-1.43-.59-.52 0-1.04.2-1.43.59L10.3 9.45l-7.72 7.72c-.78.78-.78 2.05 0 2.83L4 21.41c.39.39.9.59 1.41.59.51 0 1.02-.2 1.41-.59l7.78-7.78 2.81-2.81c.8-.78.8-2.07 0-2.86zM5.41 20L4 18.59l7.72-7.72 1.47 1.35L5.41 20z\"/>\n",
              "  </svg>\n",
              "      </button>\n",
              "      \n",
              "  <style>\n",
              "    .colab-df-container {\n",
              "      display:flex;\n",
              "      flex-wrap:wrap;\n",
              "      gap: 12px;\n",
              "    }\n",
              "\n",
              "    .colab-df-convert {\n",
              "      background-color: #E8F0FE;\n",
              "      border: none;\n",
              "      border-radius: 50%;\n",
              "      cursor: pointer;\n",
              "      display: none;\n",
              "      fill: #1967D2;\n",
              "      height: 32px;\n",
              "      padding: 0 0 0 0;\n",
              "      width: 32px;\n",
              "    }\n",
              "\n",
              "    .colab-df-convert:hover {\n",
              "      background-color: #E2EBFA;\n",
              "      box-shadow: 0px 1px 2px rgba(60, 64, 67, 0.3), 0px 1px 3px 1px rgba(60, 64, 67, 0.15);\n",
              "      fill: #174EA6;\n",
              "    }\n",
              "\n",
              "    [theme=dark] .colab-df-convert {\n",
              "      background-color: #3B4455;\n",
              "      fill: #D2E3FC;\n",
              "    }\n",
              "\n",
              "    [theme=dark] .colab-df-convert:hover {\n",
              "      background-color: #434B5C;\n",
              "      box-shadow: 0px 1px 3px 1px rgba(0, 0, 0, 0.15);\n",
              "      filter: drop-shadow(0px 1px 2px rgba(0, 0, 0, 0.3));\n",
              "      fill: #FFFFFF;\n",
              "    }\n",
              "  </style>\n",
              "\n",
              "      <script>\n",
              "        const buttonEl =\n",
              "          document.querySelector('#df-5a7d39a7-8069-4a96-9635-a4178c30c318 button.colab-df-convert');\n",
              "        buttonEl.style.display =\n",
              "          google.colab.kernel.accessAllowed ? 'block' : 'none';\n",
              "\n",
              "        async function convertToInteractive(key) {\n",
              "          const element = document.querySelector('#df-5a7d39a7-8069-4a96-9635-a4178c30c318');\n",
              "          const dataTable =\n",
              "            await google.colab.kernel.invokeFunction('convertToInteractive',\n",
              "                                                     [key], {});\n",
              "          if (!dataTable) return;\n",
              "\n",
              "          const docLinkHtml = 'Like what you see? Visit the ' +\n",
              "            '<a target=\"_blank\" href=https://colab.research.google.com/notebooks/data_table.ipynb>data table notebook</a>'\n",
              "            + ' to learn more about interactive tables.';\n",
              "          element.innerHTML = '';\n",
              "          dataTable['output_type'] = 'display_data';\n",
              "          await google.colab.output.renderOutput(dataTable, element);\n",
              "          const docLink = document.createElement('div');\n",
              "          docLink.innerHTML = docLinkHtml;\n",
              "          element.appendChild(docLink);\n",
              "        }\n",
              "      </script>\n",
              "    </div>\n",
              "  </div>\n",
              "  "
            ]
          },
          "metadata": {},
          "execution_count": 54
        }
      ]
    },
    {
      "cell_type": "code",
      "source": [
        "data_2019F = data_2019F.na.drop(how=\"any\")\n",
        "data_2019F.count()"
      ],
      "metadata": {
        "id": "7LNr5x_LJ1pl",
        "outputId": "2a3c5ea2-d640-4048-876a-c226e14beab4",
        "colab": {
          "base_uri": "https://localhost:8080/"
        }
      },
      "execution_count": 55,
      "outputs": [
        {
          "output_type": "execute_result",
          "data": {
            "text/plain": [
              "418268"
            ]
          },
          "metadata": {},
          "execution_count": 55
        }
      ]
    },
    {
      "cell_type": "code",
      "source": [
        "data_2019F.show(6)"
      ],
      "metadata": {
        "id": "_Pi8ZvtuJ1pl",
        "outputId": "28f6122e-0878-4c35-df80-63fbe9dce753",
        "colab": {
          "base_uri": "https://localhost:8080/"
        }
      },
      "execution_count": 56,
      "outputs": [
        {
          "output_type": "stream",
          "name": "stdout",
          "text": [
            "+------+--------+--------+-------+--------+--------+--------+-------+--------+--------+--------+--------+-------+--------+\n",
            "|SEXVAR|_AGE65YR|_BMI5CAT|GENHLTH|SMOKE100|_SMOKER3|LCSFIRST|LCSLAST|LCSNUMCG|LCSCTSCN|CNCRTYP1|STOPSMK2|ASTHMA3|CHCCOPD2|\n",
            "+------+--------+--------+-------+--------+--------+--------+-------+--------+--------+--------+--------+-------+--------+\n",
            "|     2|       2|       3|      3|       1|       3|      NA|     NA|      NA|      NA|      NA|      NA|      2|       2|\n",
            "|     2|       2|       2|      4|       2|       4|      NA|     NA|      NA|      NA|      NA|      NA|      2|       2|\n",
            "|     2|       2|       4|      3|       2|       4|      NA|     NA|      NA|      NA|      NA|      NA|      2|       2|\n",
            "|     2|       2|       2|      4|      NA|       9|      NA|     NA|      NA|      NA|      NA|      NA|      2|       1|\n",
            "|     2|       2|       2|      2|       1|       3|      NA|     NA|      NA|      NA|      NA|      NA|      2|       2|\n",
            "|     2|       3|      NA|      2|      NA|       9|      NA|     NA|      NA|      NA|      NA|      NA|      2|       2|\n",
            "+------+--------+--------+-------+--------+--------+--------+-------+--------+--------+--------+--------+-------+--------+\n",
            "only showing top 6 rows\n",
            "\n"
          ]
        }
      ]
    },
    {
      "cell_type": "code",
      "source": [
        "data_2019F.filter(data_2019F.CNCRTYP1 != 'NA').count()"
      ],
      "metadata": {
        "id": "p7YlFDENJ1pm",
        "outputId": "97a501ac-5c14-4dae-e09e-fc6a4e9f50cb",
        "colab": {
          "base_uri": "https://localhost:8080/"
        }
      },
      "execution_count": 57,
      "outputs": [
        {
          "output_type": "execute_result",
          "data": {
            "text/plain": [
              "888"
            ]
          },
          "metadata": {},
          "execution_count": 57
        }
      ]
    },
    {
      "cell_type": "code",
      "source": [
        "data_2019F.printSchema()"
      ],
      "metadata": {
        "id": "rNFFkz0uJ1pm",
        "outputId": "f1597d19-105e-4c64-c5fa-fe99338bfec5",
        "colab": {
          "base_uri": "https://localhost:8080/"
        }
      },
      "execution_count": 58,
      "outputs": [
        {
          "output_type": "stream",
          "name": "stdout",
          "text": [
            "root\n",
            " |-- SEXVAR: integer (nullable = true)\n",
            " |-- _AGE65YR: integer (nullable = true)\n",
            " |-- _BMI5CAT: string (nullable = true)\n",
            " |-- GENHLTH: string (nullable = true)\n",
            " |-- SMOKE100: string (nullable = true)\n",
            " |-- _SMOKER3: integer (nullable = true)\n",
            " |-- LCSFIRST: string (nullable = true)\n",
            " |-- LCSLAST: string (nullable = true)\n",
            " |-- LCSNUMCG: string (nullable = true)\n",
            " |-- LCSCTSCN: string (nullable = true)\n",
            " |-- CNCRTYP1: string (nullable = true)\n",
            " |-- STOPSMK2: string (nullable = true)\n",
            " |-- ASTHMA3: string (nullable = true)\n",
            " |-- CHCCOPD2: string (nullable = true)\n",
            "\n"
          ]
        }
      ]
    },
    {
      "cell_type": "code",
      "source": [
        "#@title User Defined Functions (UDF) for prediction label\n",
        "\n",
        "from pyspark.sql.functions import udf\n",
        "from pyspark.sql.types import *\n",
        "y_udf = udf(lambda y: '1' if y == '24' else '0', StringType())\n",
        "x_udf = udf(lambda x: '0' if (x=='NA' or x=='7' or x=='77' or x=='777' or x=='9' or x=='99' or x=='888' or x=='999') else x, StringType())\n",
        "\n",
        "processed_2019 = data_2019F.withColumn(\"Gender\", x_udf('SEXVAR')).drop(\"SEXVAR\")\\\n",
        "                    .withColumn(\"Age65\", x_udf('_AGE65YR')).drop(\"_AGE65YR\")\\\n",
        "                    .withColumn(\"GeneralHealth\", x_udf('GENHLTH')).drop(\"GENHLTH\")\\\n",
        "                    .withColumn(\"Smoked100\", x_udf('SMOKE100')).drop(\"SMOKE100\")\\\n",
        "                    .withColumn(\"SmokerStatus\", x_udf('_SMOKER3')).drop(\"_SMOKER3\")\\\n",
        "                    .withColumn(\"FirstSmokedAge\", x_udf('LCSFIRST')).drop(\"LCSFIRST\")\\\n",
        "                    .withColumn(\"LastSmokedAge\", x_udf('LCSLAST')).drop(\"LCSLAST\")\\\n",
        "                    .withColumn(\"AvgNumCigADay\", x_udf('LCSNUMCG')).drop(\"LCSNUMCG\")\\\n",
        "                    .withColumn(\"HasCTScan\", x_udf('LCSCTSCN')).drop(\"LCSCTSCN\")\\\n",
        "                    .withColumn(\"StopSmoking\", x_udf('STOPSMK2')).drop(\"STOPSMK2\")\\\n",
        "                    .withColumn(\"HasAsthma\", x_udf('ASTHMA3')).drop(\"ASTHMA3\")\\\n",
        "                    .withColumn(\"HasChronicDisease\", x_udf('CHCCOPD2')).drop(\"CHCCOPD2\")\\\n",
        "                    .withColumn(\"HasLungCancer\", y_udf('CNCRTYP1')).drop(\"CNCRTYP1\")\n",
        "                    "
      ],
      "metadata": {
        "id": "AeHO0eHqJ1pm"
      },
      "execution_count": 59,
      "outputs": []
    },
    {
      "cell_type": "code",
      "source": [
        "processed_2019.printSchema()"
      ],
      "metadata": {
        "id": "d6_5G06bJ1pm",
        "outputId": "f7630ae3-11a3-4262-e671-ed374e73a59b",
        "colab": {
          "base_uri": "https://localhost:8080/"
        }
      },
      "execution_count": 60,
      "outputs": [
        {
          "output_type": "stream",
          "name": "stdout",
          "text": [
            "root\n",
            " |-- _BMI5CAT: string (nullable = true)\n",
            " |-- Gender: string (nullable = true)\n",
            " |-- Age65: string (nullable = true)\n",
            " |-- GeneralHealth: string (nullable = true)\n",
            " |-- Smoked100: string (nullable = true)\n",
            " |-- SmokerStatus: string (nullable = true)\n",
            " |-- FirstSmokedAge: string (nullable = true)\n",
            " |-- LastSmokedAge: string (nullable = true)\n",
            " |-- AvgNumCigADay: string (nullable = true)\n",
            " |-- HasCTScan: string (nullable = true)\n",
            " |-- StopSmoking: string (nullable = true)\n",
            " |-- HasAsthma: string (nullable = true)\n",
            " |-- HasChronicDisease: string (nullable = true)\n",
            " |-- HasLungCancer: string (nullable = true)\n",
            "\n"
          ]
        }
      ]
    },
    {
      "cell_type": "code",
      "source": [
        "processed_2019.groupBy(processed_2019.HasLungCancer).count().show()\n",
        "# Data is unbalanced :)"
      ],
      "metadata": {
        "id": "398LfjydJ1pm",
        "outputId": "e7a0109e-0669-4c28-c99f-869532409da0",
        "colab": {
          "base_uri": "https://localhost:8080/"
        }
      },
      "execution_count": 61,
      "outputs": [
        {
          "output_type": "stream",
          "name": "stdout",
          "text": [
            "+-------------+------+\n",
            "|HasLungCancer| count|\n",
            "+-------------+------+\n",
            "|            0|418253|\n",
            "|            1|    15|\n",
            "+-------------+------+\n",
            "\n"
          ]
        }
      ]
    },
    {
      "cell_type": "code",
      "source": [
        "#@title Data Preprocessing\n",
        "data = processed_2020.unionByName(processed_2017)\n",
        "\n",
        "# preview the data\n",
        "# data type\n",
        "print('-'*10, 'data types', '-'*10)\n",
        "pd.DataFrame(data.dtypes)"
      ],
      "metadata": {
        "id": "9Wj7XDTzpcfQ",
        "outputId": "34cdf20c-3f02-4680-9043-d163350b4c41",
        "colab": {
          "base_uri": "https://localhost:8080/",
          "height": 442
        }
      },
      "execution_count": 62,
      "outputs": [
        {
          "output_type": "stream",
          "name": "stdout",
          "text": [
            "---------- data types ----------\n"
          ]
        },
        {
          "output_type": "execute_result",
          "data": {
            "text/plain": [
              "                    0       1\n",
              "0              Gender  string\n",
              "1               Age65  string\n",
              "2                 BMI  string\n",
              "3       GeneralHealth  string\n",
              "4           Smoked100  string\n",
              "..                ...     ...\n",
              "9           HasCTScan  string\n",
              "10        StopSmoking  string\n",
              "11          HasAsthma  string\n",
              "12  HasChronicDisease  string\n",
              "13      HasLungCancer  string\n",
              "\n",
              "[14 rows x 2 columns]"
            ],
            "text/html": [
              "\n",
              "  <div id=\"df-4028538e-1841-4bb2-b6a8-c942c171ea5c\">\n",
              "    <div class=\"colab-df-container\">\n",
              "      <div>\n",
              "<style scoped>\n",
              "    .dataframe tbody tr th:only-of-type {\n",
              "        vertical-align: middle;\n",
              "    }\n",
              "\n",
              "    .dataframe tbody tr th {\n",
              "        vertical-align: top;\n",
              "    }\n",
              "\n",
              "    .dataframe thead th {\n",
              "        text-align: right;\n",
              "    }\n",
              "</style>\n",
              "<table border=\"1\" class=\"dataframe\">\n",
              "  <thead>\n",
              "    <tr style=\"text-align: right;\">\n",
              "      <th></th>\n",
              "      <th>0</th>\n",
              "      <th>1</th>\n",
              "    </tr>\n",
              "  </thead>\n",
              "  <tbody>\n",
              "    <tr>\n",
              "      <th>0</th>\n",
              "      <td>Gender</td>\n",
              "      <td>string</td>\n",
              "    </tr>\n",
              "    <tr>\n",
              "      <th>1</th>\n",
              "      <td>Age65</td>\n",
              "      <td>string</td>\n",
              "    </tr>\n",
              "    <tr>\n",
              "      <th>2</th>\n",
              "      <td>BMI</td>\n",
              "      <td>string</td>\n",
              "    </tr>\n",
              "    <tr>\n",
              "      <th>3</th>\n",
              "      <td>GeneralHealth</td>\n",
              "      <td>string</td>\n",
              "    </tr>\n",
              "    <tr>\n",
              "      <th>4</th>\n",
              "      <td>Smoked100</td>\n",
              "      <td>string</td>\n",
              "    </tr>\n",
              "    <tr>\n",
              "      <th>...</th>\n",
              "      <td>...</td>\n",
              "      <td>...</td>\n",
              "    </tr>\n",
              "    <tr>\n",
              "      <th>9</th>\n",
              "      <td>HasCTScan</td>\n",
              "      <td>string</td>\n",
              "    </tr>\n",
              "    <tr>\n",
              "      <th>10</th>\n",
              "      <td>StopSmoking</td>\n",
              "      <td>string</td>\n",
              "    </tr>\n",
              "    <tr>\n",
              "      <th>11</th>\n",
              "      <td>HasAsthma</td>\n",
              "      <td>string</td>\n",
              "    </tr>\n",
              "    <tr>\n",
              "      <th>12</th>\n",
              "      <td>HasChronicDisease</td>\n",
              "      <td>string</td>\n",
              "    </tr>\n",
              "    <tr>\n",
              "      <th>13</th>\n",
              "      <td>HasLungCancer</td>\n",
              "      <td>string</td>\n",
              "    </tr>\n",
              "  </tbody>\n",
              "</table>\n",
              "<p>14 rows × 2 columns</p>\n",
              "</div>\n",
              "      <button class=\"colab-df-convert\" onclick=\"convertToInteractive('df-4028538e-1841-4bb2-b6a8-c942c171ea5c')\"\n",
              "              title=\"Convert this dataframe to an interactive table.\"\n",
              "              style=\"display:none;\">\n",
              "        \n",
              "  <svg xmlns=\"http://www.w3.org/2000/svg\" height=\"24px\"viewBox=\"0 0 24 24\"\n",
              "       width=\"24px\">\n",
              "    <path d=\"M0 0h24v24H0V0z\" fill=\"none\"/>\n",
              "    <path d=\"M18.56 5.44l.94 2.06.94-2.06 2.06-.94-2.06-.94-.94-2.06-.94 2.06-2.06.94zm-11 1L8.5 8.5l.94-2.06 2.06-.94-2.06-.94L8.5 2.5l-.94 2.06-2.06.94zm10 10l.94 2.06.94-2.06 2.06-.94-2.06-.94-.94-2.06-.94 2.06-2.06.94z\"/><path d=\"M17.41 7.96l-1.37-1.37c-.4-.4-.92-.59-1.43-.59-.52 0-1.04.2-1.43.59L10.3 9.45l-7.72 7.72c-.78.78-.78 2.05 0 2.83L4 21.41c.39.39.9.59 1.41.59.51 0 1.02-.2 1.41-.59l7.78-7.78 2.81-2.81c.8-.78.8-2.07 0-2.86zM5.41 20L4 18.59l7.72-7.72 1.47 1.35L5.41 20z\"/>\n",
              "  </svg>\n",
              "      </button>\n",
              "      \n",
              "  <style>\n",
              "    .colab-df-container {\n",
              "      display:flex;\n",
              "      flex-wrap:wrap;\n",
              "      gap: 12px;\n",
              "    }\n",
              "\n",
              "    .colab-df-convert {\n",
              "      background-color: #E8F0FE;\n",
              "      border: none;\n",
              "      border-radius: 50%;\n",
              "      cursor: pointer;\n",
              "      display: none;\n",
              "      fill: #1967D2;\n",
              "      height: 32px;\n",
              "      padding: 0 0 0 0;\n",
              "      width: 32px;\n",
              "    }\n",
              "\n",
              "    .colab-df-convert:hover {\n",
              "      background-color: #E2EBFA;\n",
              "      box-shadow: 0px 1px 2px rgba(60, 64, 67, 0.3), 0px 1px 3px 1px rgba(60, 64, 67, 0.15);\n",
              "      fill: #174EA6;\n",
              "    }\n",
              "\n",
              "    [theme=dark] .colab-df-convert {\n",
              "      background-color: #3B4455;\n",
              "      fill: #D2E3FC;\n",
              "    }\n",
              "\n",
              "    [theme=dark] .colab-df-convert:hover {\n",
              "      background-color: #434B5C;\n",
              "      box-shadow: 0px 1px 3px 1px rgba(0, 0, 0, 0.15);\n",
              "      filter: drop-shadow(0px 1px 2px rgba(0, 0, 0, 0.3));\n",
              "      fill: #FFFFFF;\n",
              "    }\n",
              "  </style>\n",
              "\n",
              "      <script>\n",
              "        const buttonEl =\n",
              "          document.querySelector('#df-4028538e-1841-4bb2-b6a8-c942c171ea5c button.colab-df-convert');\n",
              "        buttonEl.style.display =\n",
              "          google.colab.kernel.accessAllowed ? 'block' : 'none';\n",
              "\n",
              "        async function convertToInteractive(key) {\n",
              "          const element = document.querySelector('#df-4028538e-1841-4bb2-b6a8-c942c171ea5c');\n",
              "          const dataTable =\n",
              "            await google.colab.kernel.invokeFunction('convertToInteractive',\n",
              "                                                     [key], {});\n",
              "          if (!dataTable) return;\n",
              "\n",
              "          const docLinkHtml = 'Like what you see? Visit the ' +\n",
              "            '<a target=\"_blank\" href=https://colab.research.google.com/notebooks/data_table.ipynb>data table notebook</a>'\n",
              "            + ' to learn more about interactive tables.';\n",
              "          element.innerHTML = '';\n",
              "          dataTable['output_type'] = 'display_data';\n",
              "          await google.colab.output.renderOutput(dataTable, element);\n",
              "          const docLink = document.createElement('div');\n",
              "          docLink.innerHTML = docLinkHtml;\n",
              "          element.appendChild(docLink);\n",
              "        }\n",
              "      </script>\n",
              "    </div>\n",
              "  </div>\n",
              "  "
            ]
          },
          "metadata": {},
          "execution_count": 62
        }
      ]
    },
    {
      "cell_type": "code",
      "source": [
        "data_raw = data.unionByName(processed_2018)\n",
        "\n",
        "# preview the data\n",
        "# data type\n",
        "print('-'*10, 'data types', '-'*10)\n",
        "pd.DataFrame(data_raw.dtypes)"
      ],
      "metadata": {
        "colab": {
          "base_uri": "https://localhost:8080/",
          "height": 442
        },
        "id": "EtwRGyl3R_hb",
        "outputId": "54663571-c4fc-4296-efa5-e868d65592b2"
      },
      "execution_count": 63,
      "outputs": [
        {
          "output_type": "stream",
          "name": "stdout",
          "text": [
            "---------- data types ----------\n"
          ]
        },
        {
          "output_type": "execute_result",
          "data": {
            "text/plain": [
              "                    0       1\n",
              "0              Gender  string\n",
              "1               Age65  string\n",
              "2                 BMI  string\n",
              "3       GeneralHealth  string\n",
              "4           Smoked100  string\n",
              "..                ...     ...\n",
              "9           HasCTScan  string\n",
              "10        StopSmoking  string\n",
              "11          HasAsthma  string\n",
              "12  HasChronicDisease  string\n",
              "13      HasLungCancer  string\n",
              "\n",
              "[14 rows x 2 columns]"
            ],
            "text/html": [
              "\n",
              "  <div id=\"df-50aa1edf-2609-4792-9734-087c8cdd3ba3\">\n",
              "    <div class=\"colab-df-container\">\n",
              "      <div>\n",
              "<style scoped>\n",
              "    .dataframe tbody tr th:only-of-type {\n",
              "        vertical-align: middle;\n",
              "    }\n",
              "\n",
              "    .dataframe tbody tr th {\n",
              "        vertical-align: top;\n",
              "    }\n",
              "\n",
              "    .dataframe thead th {\n",
              "        text-align: right;\n",
              "    }\n",
              "</style>\n",
              "<table border=\"1\" class=\"dataframe\">\n",
              "  <thead>\n",
              "    <tr style=\"text-align: right;\">\n",
              "      <th></th>\n",
              "      <th>0</th>\n",
              "      <th>1</th>\n",
              "    </tr>\n",
              "  </thead>\n",
              "  <tbody>\n",
              "    <tr>\n",
              "      <th>0</th>\n",
              "      <td>Gender</td>\n",
              "      <td>string</td>\n",
              "    </tr>\n",
              "    <tr>\n",
              "      <th>1</th>\n",
              "      <td>Age65</td>\n",
              "      <td>string</td>\n",
              "    </tr>\n",
              "    <tr>\n",
              "      <th>2</th>\n",
              "      <td>BMI</td>\n",
              "      <td>string</td>\n",
              "    </tr>\n",
              "    <tr>\n",
              "      <th>3</th>\n",
              "      <td>GeneralHealth</td>\n",
              "      <td>string</td>\n",
              "    </tr>\n",
              "    <tr>\n",
              "      <th>4</th>\n",
              "      <td>Smoked100</td>\n",
              "      <td>string</td>\n",
              "    </tr>\n",
              "    <tr>\n",
              "      <th>...</th>\n",
              "      <td>...</td>\n",
              "      <td>...</td>\n",
              "    </tr>\n",
              "    <tr>\n",
              "      <th>9</th>\n",
              "      <td>HasCTScan</td>\n",
              "      <td>string</td>\n",
              "    </tr>\n",
              "    <tr>\n",
              "      <th>10</th>\n",
              "      <td>StopSmoking</td>\n",
              "      <td>string</td>\n",
              "    </tr>\n",
              "    <tr>\n",
              "      <th>11</th>\n",
              "      <td>HasAsthma</td>\n",
              "      <td>string</td>\n",
              "    </tr>\n",
              "    <tr>\n",
              "      <th>12</th>\n",
              "      <td>HasChronicDisease</td>\n",
              "      <td>string</td>\n",
              "    </tr>\n",
              "    <tr>\n",
              "      <th>13</th>\n",
              "      <td>HasLungCancer</td>\n",
              "      <td>string</td>\n",
              "    </tr>\n",
              "  </tbody>\n",
              "</table>\n",
              "<p>14 rows × 2 columns</p>\n",
              "</div>\n",
              "      <button class=\"colab-df-convert\" onclick=\"convertToInteractive('df-50aa1edf-2609-4792-9734-087c8cdd3ba3')\"\n",
              "              title=\"Convert this dataframe to an interactive table.\"\n",
              "              style=\"display:none;\">\n",
              "        \n",
              "  <svg xmlns=\"http://www.w3.org/2000/svg\" height=\"24px\"viewBox=\"0 0 24 24\"\n",
              "       width=\"24px\">\n",
              "    <path d=\"M0 0h24v24H0V0z\" fill=\"none\"/>\n",
              "    <path d=\"M18.56 5.44l.94 2.06.94-2.06 2.06-.94-2.06-.94-.94-2.06-.94 2.06-2.06.94zm-11 1L8.5 8.5l.94-2.06 2.06-.94-2.06-.94L8.5 2.5l-.94 2.06-2.06.94zm10 10l.94 2.06.94-2.06 2.06-.94-2.06-.94-.94-2.06-.94 2.06-2.06.94z\"/><path d=\"M17.41 7.96l-1.37-1.37c-.4-.4-.92-.59-1.43-.59-.52 0-1.04.2-1.43.59L10.3 9.45l-7.72 7.72c-.78.78-.78 2.05 0 2.83L4 21.41c.39.39.9.59 1.41.59.51 0 1.02-.2 1.41-.59l7.78-7.78 2.81-2.81c.8-.78.8-2.07 0-2.86zM5.41 20L4 18.59l7.72-7.72 1.47 1.35L5.41 20z\"/>\n",
              "  </svg>\n",
              "      </button>\n",
              "      \n",
              "  <style>\n",
              "    .colab-df-container {\n",
              "      display:flex;\n",
              "      flex-wrap:wrap;\n",
              "      gap: 12px;\n",
              "    }\n",
              "\n",
              "    .colab-df-convert {\n",
              "      background-color: #E8F0FE;\n",
              "      border: none;\n",
              "      border-radius: 50%;\n",
              "      cursor: pointer;\n",
              "      display: none;\n",
              "      fill: #1967D2;\n",
              "      height: 32px;\n",
              "      padding: 0 0 0 0;\n",
              "      width: 32px;\n",
              "    }\n",
              "\n",
              "    .colab-df-convert:hover {\n",
              "      background-color: #E2EBFA;\n",
              "      box-shadow: 0px 1px 2px rgba(60, 64, 67, 0.3), 0px 1px 3px 1px rgba(60, 64, 67, 0.15);\n",
              "      fill: #174EA6;\n",
              "    }\n",
              "\n",
              "    [theme=dark] .colab-df-convert {\n",
              "      background-color: #3B4455;\n",
              "      fill: #D2E3FC;\n",
              "    }\n",
              "\n",
              "    [theme=dark] .colab-df-convert:hover {\n",
              "      background-color: #434B5C;\n",
              "      box-shadow: 0px 1px 3px 1px rgba(0, 0, 0, 0.15);\n",
              "      filter: drop-shadow(0px 1px 2px rgba(0, 0, 0, 0.3));\n",
              "      fill: #FFFFFF;\n",
              "    }\n",
              "  </style>\n",
              "\n",
              "      <script>\n",
              "        const buttonEl =\n",
              "          document.querySelector('#df-50aa1edf-2609-4792-9734-087c8cdd3ba3 button.colab-df-convert');\n",
              "        buttonEl.style.display =\n",
              "          google.colab.kernel.accessAllowed ? 'block' : 'none';\n",
              "\n",
              "        async function convertToInteractive(key) {\n",
              "          const element = document.querySelector('#df-50aa1edf-2609-4792-9734-087c8cdd3ba3');\n",
              "          const dataTable =\n",
              "            await google.colab.kernel.invokeFunction('convertToInteractive',\n",
              "                                                     [key], {});\n",
              "          if (!dataTable) return;\n",
              "\n",
              "          const docLinkHtml = 'Like what you see? Visit the ' +\n",
              "            '<a target=\"_blank\" href=https://colab.research.google.com/notebooks/data_table.ipynb>data table notebook</a>'\n",
              "            + ' to learn more about interactive tables.';\n",
              "          element.innerHTML = '';\n",
              "          dataTable['output_type'] = 'display_data';\n",
              "          await google.colab.output.renderOutput(dataTable, element);\n",
              "          const docLink = document.createElement('div');\n",
              "          docLink.innerHTML = docLinkHtml;\n",
              "          element.appendChild(docLink);\n",
              "        }\n",
              "      </script>\n",
              "    </div>\n",
              "  </div>\n",
              "  "
            ]
          },
          "metadata": {},
          "execution_count": 63
        }
      ]
    },
    {
      "cell_type": "code",
      "source": [
        "# Define schema explitcitly\n",
        "from pyspark.sql.types import *\n",
        "data_raw.columns"
      ],
      "metadata": {
        "id": "w2lEu1Bt9e0x",
        "outputId": "76615c78-f879-466d-b327-45bc0d1e9d17",
        "colab": {
          "base_uri": "https://localhost:8080/"
        }
      },
      "execution_count": 64,
      "outputs": [
        {
          "output_type": "execute_result",
          "data": {
            "text/plain": [
              "['Gender',\n",
              " 'Age65',\n",
              " 'BMI',\n",
              " 'GeneralHealth',\n",
              " 'Smoked100',\n",
              " 'SmokerStatus',\n",
              " 'FirstSmokedAge',\n",
              " 'LastSmokedAge',\n",
              " 'AvgNumCigADay',\n",
              " 'HasCTScan',\n",
              " 'StopSmoking',\n",
              " 'HasAsthma',\n",
              " 'HasChronicDisease',\n",
              " 'HasLungCancer']"
            ]
          },
          "metadata": {},
          "execution_count": 64
        }
      ]
    },
    {
      "cell_type": "code",
      "source": [
        "data_raw.groupBy(data_raw.HasLungCancer).count().show()\n",
        "# Data is unbalanced :)"
      ],
      "metadata": {
        "colab": {
          "base_uri": "https://localhost:8080/"
        },
        "id": "-Zo8rHBWTlOL",
        "outputId": "ad1c3675-88d2-41d6-f898-6af57b750672"
      },
      "execution_count": 65,
      "outputs": [
        {
          "output_type": "stream",
          "name": "stdout",
          "text": [
            "+-------------+-------+\n",
            "|HasLungCancer|  count|\n",
            "+-------------+-------+\n",
            "|            0|1288661|\n",
            "|            1|    747|\n",
            "+-------------+-------+\n",
            "\n"
          ]
        }
      ]
    },
    {
      "cell_type": "code",
      "source": [
        "# data summary\n",
        "print('-'*10, 'data summary', '-'*10)\n",
        "data_raw.describe().toPandas()"
      ],
      "metadata": {
        "colab": {
          "base_uri": "https://localhost:8080/",
          "height": 288
        },
        "id": "DYlL8Hk5Sk-i",
        "outputId": "0cdcb691-9ec1-4216-af85-baa2a618a2e9"
      },
      "execution_count": 66,
      "outputs": [
        {
          "output_type": "stream",
          "name": "stdout",
          "text": [
            "---------- data summary ----------\n"
          ]
        },
        {
          "output_type": "execute_result",
          "data": {
            "text/plain": [
              "  summary              Gender               Age65                 BMI  \\\n",
              "0   count             1289408             1289408             1289408   \n",
              "1    mean  1.5479530140963915   1.328006340894426  2.7138973854668187   \n",
              "2  stddev  0.4998675705749727  0.5057963813415817  1.1568094469630912   \n",
              "3     min                   0                   0                   0   \n",
              "4     max                   2                   2                   4   \n",
              "\n",
              "        GeneralHealth           Smoked100        SmokerStatus  \\\n",
              "0             1289408             1289408             1289408   \n",
              "1  2.5374691331215566  1.5086341949173574  3.1843357571846926   \n",
              "2   1.082762391633306  0.5795246875466048  1.1595266441303385   \n",
              "3                   0                   0                   0   \n",
              "4                   5                   2                   4   \n",
              "\n",
              "       FirstSmokedAge       LastSmokedAge      AvgNumCigADay  \\\n",
              "0             1289408             1289408            1289408   \n",
              "1  0.7682711756092718  1.7161759505137242  0.687531797538095   \n",
              "2  3.7821849709013184   8.946524041357442  4.270878895331059   \n",
              "3                   0                   0                  0   \n",
              "4                   8                  94                 94   \n",
              "\n",
              "             HasCTScan         StopSmoking            HasAsthma  \\\n",
              "0              1289408             1289408              1289408   \n",
              "1  0.20334913386608428  0.1985857075495111   1.8550823323571748   \n",
              "2   0.6421514139918514  0.5316875116963501  0.36124929825902546   \n",
              "3                    0                   0                    0   \n",
              "4                    3                   2                    2   \n",
              "\n",
              "    HasChronicDisease         HasLungCancer  \n",
              "0             1289408               1289408  \n",
              "1  1.9075048394301881  5.793356330967389E-4  \n",
              "2  0.3065137425244624  0.024062428230845666  \n",
              "3                   0                     0  \n",
              "4                   2                     1  "
            ],
            "text/html": [
              "\n",
              "  <div id=\"df-25edfe45-4470-4e82-af23-9fb677d89355\">\n",
              "    <div class=\"colab-df-container\">\n",
              "      <div>\n",
              "<style scoped>\n",
              "    .dataframe tbody tr th:only-of-type {\n",
              "        vertical-align: middle;\n",
              "    }\n",
              "\n",
              "    .dataframe tbody tr th {\n",
              "        vertical-align: top;\n",
              "    }\n",
              "\n",
              "    .dataframe thead th {\n",
              "        text-align: right;\n",
              "    }\n",
              "</style>\n",
              "<table border=\"1\" class=\"dataframe\">\n",
              "  <thead>\n",
              "    <tr style=\"text-align: right;\">\n",
              "      <th></th>\n",
              "      <th>summary</th>\n",
              "      <th>Gender</th>\n",
              "      <th>Age65</th>\n",
              "      <th>BMI</th>\n",
              "      <th>GeneralHealth</th>\n",
              "      <th>Smoked100</th>\n",
              "      <th>SmokerStatus</th>\n",
              "      <th>FirstSmokedAge</th>\n",
              "      <th>LastSmokedAge</th>\n",
              "      <th>AvgNumCigADay</th>\n",
              "      <th>HasCTScan</th>\n",
              "      <th>StopSmoking</th>\n",
              "      <th>HasAsthma</th>\n",
              "      <th>HasChronicDisease</th>\n",
              "      <th>HasLungCancer</th>\n",
              "    </tr>\n",
              "  </thead>\n",
              "  <tbody>\n",
              "    <tr>\n",
              "      <th>0</th>\n",
              "      <td>count</td>\n",
              "      <td>1289408</td>\n",
              "      <td>1289408</td>\n",
              "      <td>1289408</td>\n",
              "      <td>1289408</td>\n",
              "      <td>1289408</td>\n",
              "      <td>1289408</td>\n",
              "      <td>1289408</td>\n",
              "      <td>1289408</td>\n",
              "      <td>1289408</td>\n",
              "      <td>1289408</td>\n",
              "      <td>1289408</td>\n",
              "      <td>1289408</td>\n",
              "      <td>1289408</td>\n",
              "      <td>1289408</td>\n",
              "    </tr>\n",
              "    <tr>\n",
              "      <th>1</th>\n",
              "      <td>mean</td>\n",
              "      <td>1.5479530140963915</td>\n",
              "      <td>1.328006340894426</td>\n",
              "      <td>2.7138973854668187</td>\n",
              "      <td>2.5374691331215566</td>\n",
              "      <td>1.5086341949173574</td>\n",
              "      <td>3.1843357571846926</td>\n",
              "      <td>0.7682711756092718</td>\n",
              "      <td>1.7161759505137242</td>\n",
              "      <td>0.687531797538095</td>\n",
              "      <td>0.20334913386608428</td>\n",
              "      <td>0.1985857075495111</td>\n",
              "      <td>1.8550823323571748</td>\n",
              "      <td>1.9075048394301881</td>\n",
              "      <td>5.793356330967389E-4</td>\n",
              "    </tr>\n",
              "    <tr>\n",
              "      <th>2</th>\n",
              "      <td>stddev</td>\n",
              "      <td>0.4998675705749727</td>\n",
              "      <td>0.5057963813415817</td>\n",
              "      <td>1.1568094469630912</td>\n",
              "      <td>1.082762391633306</td>\n",
              "      <td>0.5795246875466048</td>\n",
              "      <td>1.1595266441303385</td>\n",
              "      <td>3.7821849709013184</td>\n",
              "      <td>8.946524041357442</td>\n",
              "      <td>4.270878895331059</td>\n",
              "      <td>0.6421514139918514</td>\n",
              "      <td>0.5316875116963501</td>\n",
              "      <td>0.36124929825902546</td>\n",
              "      <td>0.3065137425244624</td>\n",
              "      <td>0.024062428230845666</td>\n",
              "    </tr>\n",
              "    <tr>\n",
              "      <th>3</th>\n",
              "      <td>min</td>\n",
              "      <td>0</td>\n",
              "      <td>0</td>\n",
              "      <td>0</td>\n",
              "      <td>0</td>\n",
              "      <td>0</td>\n",
              "      <td>0</td>\n",
              "      <td>0</td>\n",
              "      <td>0</td>\n",
              "      <td>0</td>\n",
              "      <td>0</td>\n",
              "      <td>0</td>\n",
              "      <td>0</td>\n",
              "      <td>0</td>\n",
              "      <td>0</td>\n",
              "    </tr>\n",
              "    <tr>\n",
              "      <th>4</th>\n",
              "      <td>max</td>\n",
              "      <td>2</td>\n",
              "      <td>2</td>\n",
              "      <td>4</td>\n",
              "      <td>5</td>\n",
              "      <td>2</td>\n",
              "      <td>4</td>\n",
              "      <td>8</td>\n",
              "      <td>94</td>\n",
              "      <td>94</td>\n",
              "      <td>3</td>\n",
              "      <td>2</td>\n",
              "      <td>2</td>\n",
              "      <td>2</td>\n",
              "      <td>1</td>\n",
              "    </tr>\n",
              "  </tbody>\n",
              "</table>\n",
              "</div>\n",
              "      <button class=\"colab-df-convert\" onclick=\"convertToInteractive('df-25edfe45-4470-4e82-af23-9fb677d89355')\"\n",
              "              title=\"Convert this dataframe to an interactive table.\"\n",
              "              style=\"display:none;\">\n",
              "        \n",
              "  <svg xmlns=\"http://www.w3.org/2000/svg\" height=\"24px\"viewBox=\"0 0 24 24\"\n",
              "       width=\"24px\">\n",
              "    <path d=\"M0 0h24v24H0V0z\" fill=\"none\"/>\n",
              "    <path d=\"M18.56 5.44l.94 2.06.94-2.06 2.06-.94-2.06-.94-.94-2.06-.94 2.06-2.06.94zm-11 1L8.5 8.5l.94-2.06 2.06-.94-2.06-.94L8.5 2.5l-.94 2.06-2.06.94zm10 10l.94 2.06.94-2.06 2.06-.94-2.06-.94-.94-2.06-.94 2.06-2.06.94z\"/><path d=\"M17.41 7.96l-1.37-1.37c-.4-.4-.92-.59-1.43-.59-.52 0-1.04.2-1.43.59L10.3 9.45l-7.72 7.72c-.78.78-.78 2.05 0 2.83L4 21.41c.39.39.9.59 1.41.59.51 0 1.02-.2 1.41-.59l7.78-7.78 2.81-2.81c.8-.78.8-2.07 0-2.86zM5.41 20L4 18.59l7.72-7.72 1.47 1.35L5.41 20z\"/>\n",
              "  </svg>\n",
              "      </button>\n",
              "      \n",
              "  <style>\n",
              "    .colab-df-container {\n",
              "      display:flex;\n",
              "      flex-wrap:wrap;\n",
              "      gap: 12px;\n",
              "    }\n",
              "\n",
              "    .colab-df-convert {\n",
              "      background-color: #E8F0FE;\n",
              "      border: none;\n",
              "      border-radius: 50%;\n",
              "      cursor: pointer;\n",
              "      display: none;\n",
              "      fill: #1967D2;\n",
              "      height: 32px;\n",
              "      padding: 0 0 0 0;\n",
              "      width: 32px;\n",
              "    }\n",
              "\n",
              "    .colab-df-convert:hover {\n",
              "      background-color: #E2EBFA;\n",
              "      box-shadow: 0px 1px 2px rgba(60, 64, 67, 0.3), 0px 1px 3px 1px rgba(60, 64, 67, 0.15);\n",
              "      fill: #174EA6;\n",
              "    }\n",
              "\n",
              "    [theme=dark] .colab-df-convert {\n",
              "      background-color: #3B4455;\n",
              "      fill: #D2E3FC;\n",
              "    }\n",
              "\n",
              "    [theme=dark] .colab-df-convert:hover {\n",
              "      background-color: #434B5C;\n",
              "      box-shadow: 0px 1px 3px 1px rgba(0, 0, 0, 0.15);\n",
              "      filter: drop-shadow(0px 1px 2px rgba(0, 0, 0, 0.3));\n",
              "      fill: #FFFFFF;\n",
              "    }\n",
              "  </style>\n",
              "\n",
              "      <script>\n",
              "        const buttonEl =\n",
              "          document.querySelector('#df-25edfe45-4470-4e82-af23-9fb677d89355 button.colab-df-convert');\n",
              "        buttonEl.style.display =\n",
              "          google.colab.kernel.accessAllowed ? 'block' : 'none';\n",
              "\n",
              "        async function convertToInteractive(key) {\n",
              "          const element = document.querySelector('#df-25edfe45-4470-4e82-af23-9fb677d89355');\n",
              "          const dataTable =\n",
              "            await google.colab.kernel.invokeFunction('convertToInteractive',\n",
              "                                                     [key], {});\n",
              "          if (!dataTable) return;\n",
              "\n",
              "          const docLinkHtml = 'Like what you see? Visit the ' +\n",
              "            '<a target=\"_blank\" href=https://colab.research.google.com/notebooks/data_table.ipynb>data table notebook</a>'\n",
              "            + ' to learn more about interactive tables.';\n",
              "          element.innerHTML = '';\n",
              "          dataTable['output_type'] = 'display_data';\n",
              "          await google.colab.output.renderOutput(dataTable, element);\n",
              "          const docLink = document.createElement('div');\n",
              "          docLink.innerHTML = docLinkHtml;\n",
              "          element.appendChild(docLink);\n",
              "        }\n",
              "      </script>\n",
              "    </div>\n",
              "  </div>\n",
              "  "
            ]
          },
          "metadata": {},
          "execution_count": 66
        }
      ]
    },
    {
      "cell_type": "code",
      "source": [
        "data_raw_copy = data_raw.select('*')"
      ],
      "metadata": {
        "id": "VDPXbTsrYccn"
      },
      "execution_count": 67,
      "outputs": []
    },
    {
      "cell_type": "code",
      "source": [
        "data_raw_copy = data_raw_copy.where(data_raw.Age65 != '0')\n",
        "data_raw_copy = data_raw_copy.where(data_raw.Gender != '0')"
      ],
      "metadata": {
        "id": "BFyGn2TIf0sj"
      },
      "execution_count": 68,
      "outputs": []
    },
    {
      "cell_type": "code",
      "source": [
        "from pyspark.sql.functions import *\n",
        "\n",
        "\n",
        "                    #.withColumn(\"LastSmokedAge\", regexp_replace('LastSmokedAge', '0', '30'))\\\n",
        "                    #.withColumn(\"AvgNumCigADay\", regexp_replace('Smoked100', '0', '2'))\\\n",
        "data_raw_copy = data_raw_copy.withColumn(\"BMI\", regexp_replace('BMI', '0', '2'))\\\n",
        "                    .withColumn(\"GeneralHealth\", regexp_replace('GeneralHealth', '0', '2'))\\\n",
        "                    .withColumn(\"Smoked100\", regexp_replace('Smoked100', '0', '2'))\\\n",
        "                    .withColumn(\"SmokerStatus\", regexp_replace('SmokerStatus', '0', '4'))\\\n",
        "                    .withColumn(\"FirstSmokedAge\", regexp_replace('FirstSmokedAge', '0', '18'))\\\n",
        "                    .withColumn(\"HasCTScan\", regexp_replace('HasCTScan', '0', '2'))\\\n",
        "                    .withColumn(\"StopSmoking\", regexp_replace('StopSmoking', '0', '2'))\\\n",
        "                    .withColumn(\"HasAsthma\", regexp_replace('HasAsthma', '0', '2'))\\\n",
        "                    .withColumn(\"HasChronicDisease\", regexp_replace('HasChronicDisease', '0', '2'))"
      ],
      "metadata": {
        "id": "wlqLL-QCe5y_"
      },
      "execution_count": 69,
      "outputs": []
    },
    {
      "cell_type": "code",
      "source": [
        "column_subset = [col_ for col_ in data_raw_copy.columns if data_raw_copy.select(col_).dtypes!=\"string\"]\n",
        "for col_ in column_subset:\n",
        "    temp_col = data_raw_copy.groupBy(col_).count()\n",
        "    temp_col = temp_col.dropna(subset=col_)\n",
        "    frequent_category = temp_col.orderBy(\n",
        "                        temp_col['count'].desc()).show()\n",
        "\n",
        "column_subset"
      ],
      "metadata": {
        "id": "dJEbAklKaHxq",
        "outputId": "b607c86e-1e8d-4536-c784-0f83689c2f36",
        "colab": {
          "base_uri": "https://localhost:8080/"
        }
      },
      "execution_count": 70,
      "outputs": [
        {
          "output_type": "stream",
          "name": "stdout",
          "text": [
            "+------+------+\n",
            "|Gender| count|\n",
            "+------+------+\n",
            "|     2|694563|\n",
            "|     1|571033|\n",
            "+------+------+\n",
            "\n",
            "+-----+------+\n",
            "|Age65| count|\n",
            "+-----+------+\n",
            "|    1|820217|\n",
            "|    2|445379|\n",
            "+-----+------+\n",
            "\n",
            "+---+------+\n",
            "|BMI| count|\n",
            "+---+------+\n",
            "|  2|459770|\n",
            "|  3|417180|\n",
            "|  4|369260|\n",
            "|  1| 19386|\n",
            "+---+------+\n",
            "\n",
            "+-------------+------+\n",
            "|GeneralHealth| count|\n",
            "+-------------+------+\n",
            "|            2|421156|\n",
            "|            3|392550|\n",
            "|            1|222932|\n",
            "|            4|166913|\n",
            "|            5| 62045|\n",
            "+-------------+------+\n",
            "\n",
            "+---------+------+\n",
            "|Smoked100| count|\n",
            "+---------+------+\n",
            "|        2|749381|\n",
            "|        1|516215|\n",
            "+---------+------+\n",
            "\n",
            "+------------+------+\n",
            "|SmokerStatus| count|\n",
            "+------------+------+\n",
            "|           4|750522|\n",
            "|           3|339566|\n",
            "|           1|125295|\n",
            "|           2| 50213|\n",
            "+------------+------+\n",
            "\n",
            "+--------------+-------+\n",
            "|FirstSmokedAge|  count|\n",
            "+--------------+-------+\n",
            "|            18|1220205|\n",
            "|            16|   7963|\n",
            "|            15|   5830|\n",
            "|            17|   4920|\n",
            "|           218|   4531|\n",
            "|            14|   3738|\n",
            "|            19|   3207|\n",
            "|            13|   2760|\n",
            "|            21|   2208|\n",
            "|            12|   2012|\n",
            "|            25|   1404|\n",
            "|            22|   1322|\n",
            "|           318|    709|\n",
            "|            23|    624|\n",
            "|           118|    559|\n",
            "|            11|    528|\n",
            "|            24|    483|\n",
            "|            26|    297|\n",
            "|            35|    269|\n",
            "|            28|    256|\n",
            "+--------------+-------+\n",
            "only showing top 20 rows\n",
            "\n",
            "+-------------+-------+\n",
            "|LastSmokedAge|  count|\n",
            "+-------------+-------+\n",
            "|            0|1213929|\n",
            "|           30|   2623|\n",
            "|           40|   2504|\n",
            "|           50|   2095|\n",
            "|           35|   1999|\n",
            "|           25|   1716|\n",
            "|           45|   1504|\n",
            "|           60|   1412|\n",
            "|           55|   1397|\n",
            "|           32|   1234|\n",
            "|           28|   1211|\n",
            "|           20|   1116|\n",
            "|           22|   1096|\n",
            "|           21|   1036|\n",
            "|           27|    992|\n",
            "|           24|    990|\n",
            "|           26|    988|\n",
            "|           38|    958|\n",
            "|           23|    933|\n",
            "|           29|    855|\n",
            "+-------------+-------+\n",
            "only showing top 20 rows\n",
            "\n",
            "+-------------+-------+\n",
            "|AvgNumCigADay|  count|\n",
            "+-------------+-------+\n",
            "|            0|1212467|\n",
            "|           20|  16290|\n",
            "|           10|  11118|\n",
            "|            5|   3742|\n",
            "|           15|   3343|\n",
            "|           40|   2779|\n",
            "|           30|   2558|\n",
            "|            3|   1966|\n",
            "|            4|   1803|\n",
            "|            2|   1615|\n",
            "|            6|   1560|\n",
            "|            1|   1156|\n",
            "|            8|   1136|\n",
            "|           12|    888|\n",
            "|           60|    708|\n",
            "|           25|    666|\n",
            "|           50|    301|\n",
            "|           18|    209|\n",
            "|           35|    172|\n",
            "|           80|    112|\n",
            "+-------------+-------+\n",
            "only showing top 20 rows\n",
            "\n",
            "+---------+-------+\n",
            "|HasCTScan|  count|\n",
            "+---------+-------+\n",
            "|        2|1236436|\n",
            "|        3|  22224|\n",
            "|        1|   6936|\n",
            "+---------+-------+\n",
            "\n",
            "+-----------+-------+\n",
            "|StopSmoking|  count|\n",
            "+-----------+-------+\n",
            "|          2|1169758|\n",
            "|          1|  95838|\n",
            "+-----------+-------+\n",
            "\n",
            "+---------+-------+\n",
            "|HasAsthma|  count|\n",
            "+---------+-------+\n",
            "|        2|1089961|\n",
            "|        1| 175635|\n",
            "+---------+-------+\n",
            "\n",
            "+-----------------+-------+\n",
            "|HasChronicDisease|  count|\n",
            "+-----------------+-------+\n",
            "|                2|1160608|\n",
            "|                1| 104988|\n",
            "+-----------------+-------+\n",
            "\n",
            "+-------------+-------+\n",
            "|HasLungCancer|  count|\n",
            "+-------------+-------+\n",
            "|            0|1264855|\n",
            "|            1|    741|\n",
            "+-------------+-------+\n",
            "\n"
          ]
        },
        {
          "output_type": "execute_result",
          "data": {
            "text/plain": [
              "['Gender',\n",
              " 'Age65',\n",
              " 'BMI',\n",
              " 'GeneralHealth',\n",
              " 'Smoked100',\n",
              " 'SmokerStatus',\n",
              " 'FirstSmokedAge',\n",
              " 'LastSmokedAge',\n",
              " 'AvgNumCigADay',\n",
              " 'HasCTScan',\n",
              " 'StopSmoking',\n",
              " 'HasAsthma',\n",
              " 'HasChronicDisease',\n",
              " 'HasLungCancer']"
            ]
          },
          "metadata": {},
          "execution_count": 70
        }
      ]
    },
    {
      "cell_type": "code",
      "source": [
        "column_subset = [col_ for col_ in data_raw.columns if data_raw.select(col_).dtypes!=\"string\"]\n",
        "for col_ in column_subset:\n",
        "    temp_col = data_raw.groupBy(col_).count()\n",
        "    temp_col = temp_col.dropna(subset=col_)\n",
        "    frequent_category = temp_col.orderBy(\n",
        "                        temp_col['count'].desc()).show()\n",
        "\n",
        "column_subset"
      ],
      "metadata": {
        "id": "VM34527llA5I",
        "outputId": "471ebf57-230c-4c27-8f88-2e3a14d17b55",
        "colab": {
          "base_uri": "https://localhost:8080/"
        }
      },
      "execution_count": 71,
      "outputs": [
        {
          "output_type": "stream",
          "name": "stdout",
          "text": [
            "+------+------+\n",
            "|Gender| count|\n",
            "+------+------+\n",
            "|     2|707932|\n",
            "|     1|580079|\n",
            "|     0|  1397|\n",
            "+------+------+\n",
            "\n",
            "+-----+------+\n",
            "|Age65| count|\n",
            "+-----+------+\n",
            "|    1|820814|\n",
            "|    2|445764|\n",
            "|    0| 22830|\n",
            "+-----+------+\n",
            "\n",
            "+---+------+\n",
            "|BMI| count|\n",
            "+---+------+\n",
            "|  3|421971|\n",
            "|  4|372179|\n",
            "|  2|362499|\n",
            "|  0|113065|\n",
            "|  1| 19694|\n",
            "+---+------+\n",
            "\n",
            "+-------------+------+\n",
            "|GeneralHealth| count|\n",
            "+-------------+------+\n",
            "|            2|425815|\n",
            "|            3|400324|\n",
            "|            1|227909|\n",
            "|            4|169213|\n",
            "|            5| 62894|\n",
            "|            0|  3253|\n",
            "+-------------+------+\n",
            "\n",
            "+---------+------+\n",
            "|Smoked100| count|\n",
            "+---------+------+\n",
            "|        2|711232|\n",
            "|        1|522781|\n",
            "|        0| 55395|\n",
            "+---------+------+\n",
            "\n",
            "+------------+------+\n",
            "|SmokerStatus| count|\n",
            "+------------+------+\n",
            "|           4|711232|\n",
            "|           3|344310|\n",
            "|           1|126402|\n",
            "|           0| 56640|\n",
            "|           2| 50824|\n",
            "+------------+------+\n",
            "\n",
            "+--------------+-------+\n",
            "|FirstSmokedAge|  count|\n",
            "+--------------+-------+\n",
            "|             0|1234016|\n",
            "|            18|   9567|\n",
            "|            16|   8039|\n",
            "|            15|   5878|\n",
            "|            17|   4972|\n",
            "|            20|   4579|\n",
            "|            14|   3763|\n",
            "|            19|   3237|\n",
            "|            13|   2789|\n",
            "|            21|   2243|\n",
            "|            12|   2022|\n",
            "|            25|   1414|\n",
            "|            22|   1336|\n",
            "|            30|    713|\n",
            "|            23|    631|\n",
            "|            10|    568|\n",
            "|            11|    529|\n",
            "|            24|    487|\n",
            "|            26|    301|\n",
            "|            35|    271|\n",
            "+--------------+-------+\n",
            "only showing top 20 rows\n",
            "\n",
            "+-------------+-------+\n",
            "|LastSmokedAge|  count|\n",
            "+-------------+-------+\n",
            "|            0|1237334|\n",
            "|           30|   2648|\n",
            "|           40|   2535|\n",
            "|           50|   2123|\n",
            "|           35|   2021|\n",
            "|           25|   1736|\n",
            "|           45|   1516|\n",
            "|           60|   1421|\n",
            "|           55|   1405|\n",
            "|           32|   1242|\n",
            "|           28|   1225|\n",
            "|           20|   1129|\n",
            "|           22|   1109|\n",
            "|           21|   1042|\n",
            "|           24|   1001|\n",
            "|           27|   1000|\n",
            "|           26|    998|\n",
            "|           38|    968|\n",
            "|           23|    945|\n",
            "|           29|    861|\n",
            "+-------------+-------+\n",
            "only showing top 20 rows\n",
            "\n",
            "+-------------+-------+\n",
            "|AvgNumCigADay|  count|\n",
            "+-------------+-------+\n",
            "|            0|1235676|\n",
            "|           20|  16469|\n",
            "|           10|  11241|\n",
            "|            5|   3793|\n",
            "|           15|   3388|\n",
            "|           40|   2806|\n",
            "|           30|   2586|\n",
            "|            3|   1996|\n",
            "|            4|   1819|\n",
            "|            2|   1638|\n",
            "|            6|   1568|\n",
            "|            1|   1172|\n",
            "|            8|   1156|\n",
            "|           12|    894|\n",
            "|           60|    717|\n",
            "|           25|    671|\n",
            "|           50|    304|\n",
            "|           18|    213|\n",
            "|           35|    174|\n",
            "|           80|    113|\n",
            "+-------------+-------+\n",
            "only showing top 20 rows\n",
            "\n",
            "+---------+-------+\n",
            "|HasCTScan|  count|\n",
            "+---------+-------+\n",
            "|        0|1166068|\n",
            "|        2|  93764|\n",
            "|        3|  22548|\n",
            "|        1|   7028|\n",
            "+---------+-------+\n",
            "\n",
            "+-----------+-------+\n",
            "|StopSmoking|  count|\n",
            "+-----------+-------+\n",
            "|          0|1112998|\n",
            "|          1|  96762|\n",
            "|          2|  79648|\n",
            "+-----------+-------+\n",
            "\n",
            "+---------+-------+\n",
            "|HasAsthma|  count|\n",
            "+---------+-------+\n",
            "|        2|1106795|\n",
            "|        1| 178368|\n",
            "|        0|   4245|\n",
            "+---------+-------+\n",
            "\n",
            "+-----------------+-------+\n",
            "|HasChronicDisease|  count|\n",
            "+-----------------+-------+\n",
            "|                2|1176598|\n",
            "|                1| 106356|\n",
            "|                0|   6454|\n",
            "+-----------------+-------+\n",
            "\n",
            "+-------------+-------+\n",
            "|HasLungCancer|  count|\n",
            "+-------------+-------+\n",
            "|            0|1288661|\n",
            "|            1|    747|\n",
            "+-------------+-------+\n",
            "\n"
          ]
        },
        {
          "output_type": "execute_result",
          "data": {
            "text/plain": [
              "['Gender',\n",
              " 'Age65',\n",
              " 'BMI',\n",
              " 'GeneralHealth',\n",
              " 'Smoked100',\n",
              " 'SmokerStatus',\n",
              " 'FirstSmokedAge',\n",
              " 'LastSmokedAge',\n",
              " 'AvgNumCigADay',\n",
              " 'HasCTScan',\n",
              " 'StopSmoking',\n",
              " 'HasAsthma',\n",
              " 'HasChronicDisease',\n",
              " 'HasLungCancer']"
            ]
          },
          "metadata": {},
          "execution_count": 71
        }
      ]
    },
    {
      "cell_type": "code",
      "source": [
        "column_subset = [col_ for col_ in data_raw.columns if data_raw.select(col_).dtypes!=\"string\"]\n",
        "for col_ in column_subset:\n",
        "    temp_col = data_raw.groupBy(col_).count()\n",
        "    temp_col = temp_col.dropna(subset=col_)\n",
        "    frequent_category=temp_col.orderBy(\n",
        "                     temp_col['count'].desc()).collect()[0][0]\n",
        "    data_raw = data_raw.replace(frequent_category, subset=col_)\n",
        "data_raw.show()"
      ],
      "metadata": {
        "id": "bEdqlAECjanv",
        "outputId": "7fa386af-46e0-4249-8997-122dd4473ff0",
        "colab": {
          "base_uri": "https://localhost:8080/",
          "height": 353
        }
      },
      "execution_count": 72,
      "outputs": [
        {
          "output_type": "error",
          "ename": "TypeError",
          "evalue": "ignored",
          "traceback": [
            "\u001b[0;31m---------------------------------------------------------------------------\u001b[0m",
            "\u001b[0;31mTypeError\u001b[0m                                 Traceback (most recent call last)",
            "\u001b[0;32m<ipython-input-72-170cde53ac17>\u001b[0m in \u001b[0;36m<module>\u001b[0;34m\u001b[0m\n\u001b[1;32m      5\u001b[0m     frequent_category=temp_col.orderBy(\n\u001b[1;32m      6\u001b[0m                      temp_col['count'].desc()).collect()[0][0]\n\u001b[0;32m----> 7\u001b[0;31m     \u001b[0mdata_raw\u001b[0m \u001b[0;34m=\u001b[0m \u001b[0mdata_raw\u001b[0m\u001b[0;34m.\u001b[0m\u001b[0mreplace\u001b[0m\u001b[0;34m(\u001b[0m\u001b[0mfrequent_category\u001b[0m\u001b[0;34m,\u001b[0m \u001b[0msubset\u001b[0m\u001b[0;34m=\u001b[0m\u001b[0mcol_\u001b[0m\u001b[0;34m)\u001b[0m\u001b[0;34m\u001b[0m\u001b[0;34m\u001b[0m\u001b[0m\n\u001b[0m\u001b[1;32m      8\u001b[0m \u001b[0mdata_raw\u001b[0m\u001b[0;34m.\u001b[0m\u001b[0mshow\u001b[0m\u001b[0;34m(\u001b[0m\u001b[0;34m)\u001b[0m\u001b[0;34m\u001b[0m\u001b[0;34m\u001b[0m\u001b[0m\n",
            "\u001b[0;32m/content/spark-3.1.1-bin-hadoop3.2/python/pyspark/sql/dataframe.py\u001b[0m in \u001b[0;36mreplace\u001b[0;34m(self, to_replace, value, subset)\u001b[0m\n\u001b[1;32m   2162\u001b[0m                 \u001b[0mvalue\u001b[0m \u001b[0;34m=\u001b[0m \u001b[0;32mNone\u001b[0m\u001b[0;34m\u001b[0m\u001b[0;34m\u001b[0m\u001b[0m\n\u001b[1;32m   2163\u001b[0m             \u001b[0;32melse\u001b[0m\u001b[0;34m:\u001b[0m\u001b[0;34m\u001b[0m\u001b[0;34m\u001b[0m\u001b[0m\n\u001b[0;32m-> 2164\u001b[0;31m                 \u001b[0;32mraise\u001b[0m \u001b[0mTypeError\u001b[0m\u001b[0;34m(\u001b[0m\u001b[0;34m\"value argument is required when to_replace is not a dictionary.\"\u001b[0m\u001b[0;34m)\u001b[0m\u001b[0;34m\u001b[0m\u001b[0;34m\u001b[0m\u001b[0m\n\u001b[0m\u001b[1;32m   2165\u001b[0m \u001b[0;34m\u001b[0m\u001b[0m\n\u001b[1;32m   2166\u001b[0m         \u001b[0;31m# Helper functions\u001b[0m\u001b[0;34m\u001b[0m\u001b[0;34m\u001b[0m\u001b[0;34m\u001b[0m\u001b[0m\n",
            "\u001b[0;31mTypeError\u001b[0m: value argument is required when to_replace is not a dictionary."
          ]
        }
      ]
    },
    {
      "cell_type": "code",
      "source": [
        "data_raw.write.option(\"header\",True).csv(\"final_data\")"
      ],
      "metadata": {
        "id": "z3SdUg_bX0tO"
      },
      "execution_count": 73,
      "outputs": []
    },
    {
      "cell_type": "markdown",
      "source": [
        "# Step 4: Decision Tree Classification with PySpark"
      ],
      "metadata": {
        "id": "ub67FIvzs5vs"
      }
    },
    {
      "cell_type": "code",
      "source": [
        "#@title Process categorical columns\n",
        "from pyspark.ml.feature import StringIndexer, OneHotEncoder, VectorAssembler, Imputer, BucketedRandomProjectionLSH,VectorSlicer\n",
        "from pyspark.sql.window import Window\n",
        "from pyspark.ml.linalg import Vectors,VectorUDT\n",
        "from pyspark.sql.functions import array, create_map, struct\n",
        "from pyspark.ml import Pipeline\n",
        "\n",
        "# categorical columns\n",
        "categorical_columns = data_raw.columns[0:12]"
      ],
      "metadata": {
        "id": "0PHTGS3G8FLF"
      },
      "execution_count": null,
      "outputs": []
    },
    {
      "cell_type": "code",
      "source": [
        "#@title Build StringIndexer stages\n",
        "stringindexer_stages = [StringIndexer(inputCol=c, outputCol='strindexed_' + c) for c in categorical_columns]\n",
        "# encode label column and add it to stringindexer_stages\n",
        "stringindexer_stages += [StringIndexer(inputCol='HasLungCancer', outputCol='label')]"
      ],
      "metadata": {
        "id": "9b83GKwjBWrz"
      },
      "execution_count": null,
      "outputs": []
    },
    {
      "cell_type": "code",
      "source": [
        "#@title Build OneHotEncoder stages\n",
        "onehotencoder_stages = [OneHotEncoder(inputCol='strindexed_' + c, outputCol='onehot_' + c) for c in categorical_columns]"
      ],
      "metadata": {
        "id": "aJyA-6l9Bajq"
      },
      "execution_count": null,
      "outputs": []
    },
    {
      "cell_type": "code",
      "source": [
        "#@title Build VectorAssembler stage\n",
        "feature_columns = ['onehot_' + c for c in categorical_columns]\n",
        "vectorassembler_stage = VectorAssembler(inputCols=feature_columns, outputCol='features') "
      ],
      "metadata": {
        "id": "LzJTtiGeBeqs"
      },
      "execution_count": null,
      "outputs": []
    },
    {
      "cell_type": "code",
      "source": [
        "#@title Build Pipeline model\n",
        "# all stages\n",
        "all_stages = stringindexer_stages + onehotencoder_stages + [vectorassembler_stage]\n",
        "pipeline = Pipeline(stages=all_stages)"
      ],
      "metadata": {
        "id": "tC1kr4rUB-Q2"
      },
      "execution_count": null,
      "outputs": []
    },
    {
      "cell_type": "code",
      "source": [
        "#@title Fit pipeline model\n",
        "pipeline_model = pipeline.fit(data_raw)"
      ],
      "metadata": {
        "id": "bp3Yj3uQBguI"
      },
      "execution_count": null,
      "outputs": []
    },
    {
      "cell_type": "code",
      "source": [
        "#@title Transform data\n",
        "final_columns = feature_columns + ['features', 'label']\n",
        "df_raw = pipeline_model.transform(data_raw).\\\n",
        "            select(final_columns)\n",
        "            \n",
        "df_raw.show(5)"
      ],
      "metadata": {
        "id": "f8k_MQ5aB_aF"
      },
      "execution_count": null,
      "outputs": []
    },
    {
      "cell_type": "code",
      "source": [
        "#@title Split data into traning and test sets\n",
        "training, test = df_raw.randomSplit([0.8, 0.2], seed=1234)"
      ],
      "metadata": {
        "id": "dywcNlfzBmFe"
      },
      "execution_count": null,
      "outputs": []
    },
    {
      "cell_type": "code",
      "source": [
        "##@title Data Imputing\n",
        "#    inputCols = ['Age of Employee', 'Experience (in years)', 'Salary (per month - $)'],\n",
        "#    outputCols = [\"{}_imputed\".format(a) for a in ['Age of Employee', 'Experience (in years)', 'Salary (per month - $)']]\n",
        "#).setStrategy(\"mean\")"
      ],
      "metadata": {
        "id": "uBdTvD8K1wH5"
      },
      "execution_count": null,
      "outputs": []
    },
    {
      "cell_type": "code",
      "source": [
        "training.printSchema() #'onehot_SEXVAR', 'onehot__AGE65YR', 'onehot__BMI5CAT', 'onehot_GENHLTH',\n",
        "                       #     'onehot_SMOKE100', 'onehot__SMOKER3', 'onehot_LCSFIRST', 'onehot_LCSLAST',\n",
        "                       #     'onehot_LCSNUMCG', 'onehot_LCSCTSCN', 'onehot_STOPSMK2', 'onehot_ASTHMA3', "
      ],
      "metadata": {
        "id": "42qiFRVy49LG"
      },
      "execution_count": null,
      "outputs": []
    },
    {
      "cell_type": "code",
      "source": [
        "#@title Data balancing using SMOTE\n",
        "#K-nearest neighbor algorithm to simulate the minority sample\n",
        "from imblearn.over_sampling import SMOTE\n",
        "\n",
        "features = training.select(['features']).toPandas()\n",
        "\n",
        "labels = training.select('label').toPandas()"
      ],
      "metadata": {
        "id": "djvCj8i5439U"
      },
      "execution_count": null,
      "outputs": []
    },
    {
      "cell_type": "code",
      "source": [
        "sm = SMOTE(sampling_strategy = 'not majority', k_neighbors = 50, random_state = 42)\n",
        "\n",
        "features, labels = sm.fit_resample(features, labels)"
      ],
      "metadata": {
        "id": "cw74cJ3LMnY1"
      },
      "execution_count": null,
      "outputs": []
    },
    {
      "cell_type": "code",
      "source": [
        "features['label'] = labels.values\n",
        "features = spark.createDataFrame(features)"
      ],
      "metadata": {
        "id": "AqpukeY159CG"
      },
      "execution_count": null,
      "outputs": []
    },
    {
      "cell_type": "code",
      "source": [
        "#@title Build cross validation \n",
        "from pyspark.ml.regression import GeneralizedLinearRegression\n",
        "from pyspark.ml.classification import LogisticRegression, DecisionTreeClassifier\n",
        "\n",
        "dt = DecisionTreeClassifier(featuresCol='features', labelCol='label')"
      ],
      "metadata": {
        "id": "qwlu-9rjCSQV"
      },
      "execution_count": null,
      "outputs": []
    },
    {
      "cell_type": "code",
      "source": [
        "#@title Parameter grid\n",
        "from pyspark.ml.tuning import ParamGridBuilder\n",
        "param_grid = ParamGridBuilder().\\\n",
        "    addGrid(dt.maxDepth, [2,3,4,5]).\\\n",
        "    build()"
      ],
      "metadata": {
        "id": "ZuREkLzgD6Ld"
      },
      "execution_count": null,
      "outputs": []
    },
    {
      "cell_type": "code",
      "source": [
        "#@title Evaluator\n",
        "from pyspark.ml.evaluation import BinaryClassificationEvaluator\n",
        "evaluator = BinaryClassificationEvaluator(rawPredictionCol=\"rawPrediction\", metricName=\"areaUnderROC\")"
      ],
      "metadata": {
        "id": "yW2VQAJKG6XH"
      },
      "execution_count": null,
      "outputs": []
    },
    {
      "cell_type": "code",
      "source": [
        "#@title Cross-validation model\n",
        "from pyspark.ml.tuning import CrossValidator\n",
        "cv = CrossValidator(estimator=dt, estimatorParamMaps=param_grid, evaluator=evaluator, numFolds=4)"
      ],
      "metadata": {
        "id": "v7kKnG8iG6-n"
      },
      "execution_count": null,
      "outputs": []
    },
    {
      "cell_type": "code",
      "source": [
        "#@title Fit cross validation model\n",
        "cv_model = cv.fit(df_raw)"
      ],
      "metadata": {
        "id": "3DzaANdoG9hu"
      },
      "execution_count": null,
      "outputs": []
    },
    {
      "cell_type": "code",
      "source": [
        "show_columns = ['features', 'label', 'prediction', 'rawPrediction', 'probability']"
      ],
      "metadata": {
        "id": "jao_fUI9HHwB"
      },
      "execution_count": null,
      "outputs": []
    },
    {
      "cell_type": "code",
      "source": [
        "#@title Prediction on training data\n",
        "pred_training_cv = cv_model.transform(training)\n",
        "pred_training_cv.select(show_columns).show(5, truncate=False)"
      ],
      "metadata": {
        "id": "kwGsJiVKHLrX"
      },
      "execution_count": null,
      "outputs": []
    },
    {
      "cell_type": "code",
      "source": [
        "#@title Prediction on test data\n",
        "pred_test_cv = cv_model.transform(test)\n",
        "pred_test_cv.select(show_columns).show(5, truncate=False)"
      ],
      "metadata": {
        "id": "6u9U-X7DHQXr"
      },
      "execution_count": null,
      "outputs": []
    },
    {
      "cell_type": "code",
      "source": [
        "#@title Confusion matrix\n",
        "label_and_pred = cv_model.transform(df_raw).select('label', 'prediction')\n",
        "label_and_pred.rdd.zipWithIndex().countByKey()"
      ],
      "metadata": {
        "id": "pMlMaoENHXE8"
      },
      "execution_count": null,
      "outputs": []
    },
    {
      "cell_type": "code",
      "source": [
        "print('The best MaxDepth is:', cv_model.bestModel._java_obj.getMaxDepth())"
      ],
      "metadata": {
        "id": "sedo-bSOJpKp"
      },
      "execution_count": null,
      "outputs": []
    }
  ]
}