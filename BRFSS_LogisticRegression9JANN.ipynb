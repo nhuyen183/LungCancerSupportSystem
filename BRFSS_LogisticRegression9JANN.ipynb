{
  "nbformat": 4,
  "nbformat_minor": 0,
  "metadata": {
    "colab": {
      "provenance": [],
      "authorship_tag": "ABX9TyNSVbit84Hep02PKOvpNJ8X",
      "include_colab_link": true
    },
    "kernelspec": {
      "name": "python3",
      "display_name": "Python 3"
    },
    "language_info": {
      "name": "python"
    }
  },
  "cells": [
    {
      "cell_type": "markdown",
      "metadata": {
        "id": "view-in-github",
        "colab_type": "text"
      },
      "source": [
        "<a href=\"https://colab.research.google.com/github/nhuyen183/LungCancerSupportSystem/blob/master/BRFSS_LogisticRegression9JANN.ipynb\" target=\"_parent\"><img src=\"https://colab.research.google.com/assets/colab-badge.svg\" alt=\"Open In Colab\"/></a>"
      ]
    },
    {
      "cell_type": "code",
      "execution_count": 9,
      "metadata": {
        "colab": {
          "base_uri": "https://localhost:8080/"
        },
        "id": "8B7eaubtZ_Kj",
        "outputId": "c6ef5e18-c2b5-4520-c822-d8ed4b18a843"
      },
      "outputs": [
        {
          "output_type": "stream",
          "name": "stdout",
          "text": [
            "Looking in indexes: https://pypi.org/simple, https://us-python.pkg.dev/colab-wheels/public/simple/\n",
            "Requirement already satisfied: category_encoders in /usr/local/lib/python3.8/dist-packages (2.5.1.post0)\n",
            "Requirement already satisfied: scipy>=1.0.0 in /usr/local/lib/python3.8/dist-packages (from category_encoders) (1.7.3)\n",
            "Requirement already satisfied: statsmodels>=0.9.0 in /usr/local/lib/python3.8/dist-packages (from category_encoders) (0.12.2)\n",
            "Requirement already satisfied: scikit-learn>=0.20.0 in /usr/local/lib/python3.8/dist-packages (from category_encoders) (1.0.2)\n",
            "Requirement already satisfied: pandas>=1.0.5 in /usr/local/lib/python3.8/dist-packages (from category_encoders) (1.3.5)\n",
            "Requirement already satisfied: numpy>=1.14.0 in /usr/local/lib/python3.8/dist-packages (from category_encoders) (1.21.6)\n",
            "Requirement already satisfied: patsy>=0.5.1 in /usr/local/lib/python3.8/dist-packages (from category_encoders) (0.5.3)\n",
            "Requirement already satisfied: pytz>=2017.3 in /usr/local/lib/python3.8/dist-packages (from pandas>=1.0.5->category_encoders) (2022.7)\n",
            "Requirement already satisfied: python-dateutil>=2.7.3 in /usr/local/lib/python3.8/dist-packages (from pandas>=1.0.5->category_encoders) (2.8.2)\n",
            "Requirement already satisfied: six in /usr/local/lib/python3.8/dist-packages (from patsy>=0.5.1->category_encoders) (1.15.0)\n",
            "Requirement already satisfied: joblib>=0.11 in /usr/local/lib/python3.8/dist-packages (from scikit-learn>=0.20.0->category_encoders) (1.2.0)\n",
            "Requirement already satisfied: threadpoolctl>=2.0.0 in /usr/local/lib/python3.8/dist-packages (from scikit-learn>=0.20.0->category_encoders) (3.1.0)\n"
          ]
        }
      ],
      "source": [
        "#@title Import Libraries { vertical-output: true, display-mode: \"both\" }\n",
        "\n",
        "import sqlite3\n",
        "import warnings\n",
        "\n",
        "import matplotlib.pyplot as plt\n",
        "import numpy as np\n",
        "import pandas as pd\n",
        "import seaborn as sns\n",
        "\n",
        "!pip install category_encoders\n",
        "from category_encoders import OneHotEncoder\n",
        "\n",
        "from sklearn.linear_model import LogisticRegression\n",
        "from sklearn.metrics import accuracy_score\n",
        "from sklearn.model_selection import train_test_split\n",
        "from sklearn.pipeline import Pipeline, make_pipeline\n",
        "from sklearn.utils.validation import check_is_fitted"
      ]
    },
    {
      "cell_type": "code",
      "source": [
        "#@title df_structure { display-mode: \"both\" }\n",
        "\n",
        "from  glob import glob\n",
        "filenames = glob('./part*.csv')\n",
        "appended_data = []  # create a list\n",
        "for f in filenames:\n",
        "  df = pd.read_csv(f, index_col=None)\n",
        "  appended_data.append(df)  # append to the list\n",
        "df_structure = pd.concat(appended_data, axis=0)\n",
        "df_structure.info()"
      ],
      "metadata": {
        "colab": {
          "base_uri": "https://localhost:8080/"
        },
        "id": "6cwVYFkxaMAu",
        "outputId": "d333458c-6213-4418-dca7-a158df142d94"
      },
      "execution_count": 110,
      "outputs": [
        {
          "output_type": "stream",
          "name": "stdout",
          "text": [
            "<class 'pandas.core.frame.DataFrame'>\n",
            "Int64Index: 1211175 entries, 0 to 75640\n",
            "Data columns (total 14 columns):\n",
            " #   Column             Non-Null Count    Dtype\n",
            "---  ------             --------------    -----\n",
            " 0   Gender             1211175 non-null  int64\n",
            " 1   Age65              1211175 non-null  int64\n",
            " 2   BMI                1211175 non-null  int64\n",
            " 3   GeneralHealth      1211175 non-null  int64\n",
            " 4   Smoked100          1211175 non-null  int64\n",
            " 5   SmokerStatus       1211175 non-null  int64\n",
            " 6   FirstSmokedAge     1211175 non-null  int64\n",
            " 7   LastSmokedAge      1211175 non-null  int64\n",
            " 8   AvgNumCigADay      1211175 non-null  int64\n",
            " 9   HasCTScan          1211175 non-null  int64\n",
            " 10  StopSmoking        1211175 non-null  int64\n",
            " 11  HasAsthma          1211175 non-null  int64\n",
            " 12  HasChronicDisease  1211175 non-null  int64\n",
            " 13  HasLungCancer      1211175 non-null  int64\n",
            "dtypes: int64(14)\n",
            "memory usage: 138.6 MB\n"
          ]
        }
      ]
    },
    {
      "cell_type": "code",
      "source": [
        "df=df_structure"
      ],
      "metadata": {
        "id": "faazJz6NbUhf"
      },
      "execution_count": 111,
      "outputs": []
    },
    {
      "cell_type": "code",
      "source": [
        "#@title HasLungCancer { display-mode: \"both\" }\n",
        "print (df[\"HasLungCancer\"].value_counts())"
      ],
      "metadata": {
        "id": "oWwUzqxZbZpP",
        "colab": {
          "base_uri": "https://localhost:8080/"
        },
        "outputId": "2218361d-16c1-450c-fc8e-2aba114d0fba"
      },
      "execution_count": 112,
      "outputs": [
        {
          "output_type": "stream",
          "name": "stdout",
          "text": [
            "0    1210428\n",
            "1        747\n",
            "Name: HasLungCancer, dtype: int64\n"
          ]
        }
      ]
    },
    {
      "cell_type": "code",
      "source": [
        "df.info()"
      ],
      "metadata": {
        "id": "LDHYgfI1bpAo",
        "colab": {
          "base_uri": "https://localhost:8080/"
        },
        "outputId": "320338d4-83fe-4d14-e618-6a417a82854a"
      },
      "execution_count": 13,
      "outputs": [
        {
          "output_type": "stream",
          "name": "stdout",
          "text": [
            "<class 'pandas.core.frame.DataFrame'>\n",
            "Int64Index: 1211175 entries, 0 to 75640\n",
            "Data columns (total 14 columns):\n",
            " #   Column             Non-Null Count    Dtype\n",
            "---  ------             --------------    -----\n",
            " 0   Gender             1211175 non-null  int64\n",
            " 1   Age65              1211175 non-null  int64\n",
            " 2   BMI                1211175 non-null  int64\n",
            " 3   GeneralHealth      1211175 non-null  int64\n",
            " 4   Smoked100          1211175 non-null  int64\n",
            " 5   SmokerStatus       1211175 non-null  int64\n",
            " 6   FirstSmokedAge     1211175 non-null  int64\n",
            " 7   LastSmokedAge      1211175 non-null  int64\n",
            " 8   AvgNumCigADay      1211175 non-null  int64\n",
            " 9   HasCTScan          1211175 non-null  int64\n",
            " 10  StopSmoking        1211175 non-null  int64\n",
            " 11  HasAsthma          1211175 non-null  int64\n",
            " 12  HasChronicDisease  1211175 non-null  int64\n",
            " 13  HasLungCancer      1211175 non-null  int64\n",
            "dtypes: int64(14)\n",
            "memory usage: 138.6 MB\n"
          ]
        }
      ]
    },
    {
      "cell_type": "code",
      "source": [
        "# Create correlation matrix\n",
        "correlation = df.select_dtypes(\"number\").drop(columns=\"HasLungCancer\").corr()\n",
        "\n",
        "# Plot heatmap of `correlation`\n",
        "sns.heatmap(correlation);"
      ],
      "metadata": {
        "id": "E8l_qP1DbwRv",
        "colab": {
          "base_uri": "https://localhost:8080/",
          "height": 356
        },
        "outputId": "3f56c108-32e3-4446-f820-a407c3e94a64"
      },
      "execution_count": 14,
      "outputs": [
        {
          "output_type": "display_data",
          "data": {
            "text/plain": [
              "<Figure size 432x288 with 2 Axes>"
            ],
            "image/png": "[encoded data removed]"
          },
          "metadata": {
            "needs_background": "light"
          }
        }
      ]
    },
    {
      "cell_type": "code",
      "source": [
        "majority_class_prop, minority_class_prop = y.value_counts(normalize=True)\n",
        "print(majority_class_prop, minority_class_prop)"
      ],
      "metadata": {
        "id": "YGHcp5Amb8nT"
      },
      "execution_count": null,
      "outputs": []
    },
    {
      "cell_type": "code",
      "source": [
        "X = df.drop(columns='HasLungCancer').values\n",
        "y = df['HasLungCancer'].values\n",
        "\n",
        "from imblearn.over_sampling import SMOTE\n",
        "# transform the dataset\n",
        "sm = SMOTE(random_state=42)\n",
        "X, y = sm.fit_resample(X, y)"
      ],
      "metadata": {
        "id": "UNvG_jHXvAzX"
      },
      "execution_count": 113,
      "outputs": []
    },
    {
      "cell_type": "code",
      "source": [
        "X_train, X_test, y_train, y_test = train_test_split(X, y, test_size=0.3, random_state=42)\n",
        "\n",
        "print(\"X_train shape:\", X_train.shape)\n",
        "print(\"y_train shape:\", y_train.shape)\n",
        "print(\"X_test shape:\", X_test.shape)\n",
        "print(\"y_test shape:\", y_test.shape)"
      ],
      "metadata": {
        "id": "99ihsBYBu3ul",
        "outputId": "ecc208b5-b867-481f-c79d-96387bb74d50",
        "colab": {
          "base_uri": "https://localhost:8080/"
        }
      },
      "execution_count": 114,
      "outputs": [
        {
          "output_type": "stream",
          "name": "stdout",
          "text": [
            "X_train shape: (1694599, 13)\n",
            "y_train shape: (1694599,)\n",
            "X_test shape: (726257, 13)\n",
            "y_test shape: (726257,)\n"
          ]
        }
      ]
    },
    {
      "cell_type": "code",
      "source": [
        "# Build model\n",
        "from sklearn.preprocessing import StandardScaler\n",
        "from sklearn.preprocessing import MinMaxScaler\n",
        "\n",
        "classifier = make_pipeline(MinMaxScaler(), LogisticRegression(max_iter=2000))\n",
        "\n",
        "# Fit model to training data\n",
        "history = classifier.fit(X_train, y_train)\n",
        "print(classifier)"
      ],
      "metadata": {
        "id": "RVOyeRubsPQE",
        "outputId": "fbc0177a-2c53-4ea3-bfb4-e0b7eee86538",
        "colab": {
          "base_uri": "https://localhost:8080/"
        }
      },
      "execution_count": 115,
      "outputs": [
        {
          "output_type": "stream",
          "name": "stdout",
          "text": [
            "Pipeline(steps=[('minmaxscaler', MinMaxScaler()),\n",
            "                ('logisticregression', LogisticRegression(max_iter=2000))])\n"
          ]
        }
      ]
    },
    {
      "cell_type": "code",
      "source": [
        "#@title Evaluate the model { display-mode: \"both\" }\n",
        "acc_train = accuracy_score(y_train, classifier.predict(X_train))\n",
        "acc_test = classifier.score(X_test, y_test)\n",
        "\n",
        "print(\"Training Accuracy:\", round(acc_train, 4))\n",
        "print(\"Test Accuracy:\", round(acc_test, 4))"
      ],
      "metadata": {
        "id": "t1057yFXvT-f",
        "outputId": "69b29bb2-1b52-4d3b-bd7a-2c8152f66d16",
        "colab": {
          "base_uri": "https://localhost:8080/"
        }
      },
      "execution_count": 116,
      "outputs": [
        {
          "output_type": "stream",
          "name": "stdout",
          "text": [
            "Training Accuracy: 0.7881\n",
            "Test Accuracy: 0.7877\n"
          ]
        }
      ]
    },
    {
      "cell_type": "code",
      "source": [
        "#acc_baseline = y_train.value_counts(normalize=True).max()\n",
        "#print(\"Baseline Accuracy:\", round(acc_baseline, 2))\n",
        "\n",
        "# Predicting the Test set results\n",
        "y_pred = classifier.predict(X_test)\n",
        "print(np.concatenate((y_pred.reshape(len(y_pred),1), y_test.reshape(len(y_test),1)),1))"
      ],
      "metadata": {
        "colab": {
          "base_uri": "https://localhost:8080/"
        },
        "id": "HSMZD7BziiIG",
        "outputId": "f34b3537-fce1-4e6d-b361-a97c297f4f42"
      },
      "execution_count": 117,
      "outputs": [
        {
          "output_type": "stream",
          "name": "stdout",
          "text": [
            "[[1 1]\n",
            " [0 1]\n",
            " [1 1]\n",
            " ...\n",
            " [0 0]\n",
            " [1 0]\n",
            " [1 1]]\n"
          ]
        }
      ]
    },
    {
      "cell_type": "code",
      "source": [
        "# Making the Confusion Matrix\n",
        "from sklearn.metrics import confusion_matrix, accuracy_score, classification_report\n",
        "cm = confusion_matrix(y_test, y_pred)\n",
        "print(cm)\n",
        "acc = accuracy_score(y_test, y_pred)\n",
        "metrics = classification_report(y_test, y_pred)\n",
        "print(metrics)\n",
        "print(acc)"
      ],
      "metadata": {
        "id": "OEiEggZNsKKo",
        "outputId": "7ac1a10f-8135-4192-ba80-39f4ceca9128",
        "colab": {
          "base_uri": "https://localhost:8080/"
        }
      },
      "execution_count": 118,
      "outputs": [
        {
          "output_type": "stream",
          "name": "stdout",
          "text": [
            "[[287801  74928]\n",
            " [ 79287 284241]]\n",
            "              precision    recall  f1-score   support\n",
            "\n",
            "           0       0.78      0.79      0.79    362729\n",
            "           1       0.79      0.78      0.79    363528\n",
            "\n",
            "    accuracy                           0.79    726257\n",
            "   macro avg       0.79      0.79      0.79    726257\n",
            "weighted avg       0.79      0.79      0.79    726257\n",
            "\n",
            "0.787657812592512\n"
          ]
        }
      ]
    },
    {
      "cell_type": "code",
      "source": [
        "import seaborn as sns\n",
        "\n",
        "ax = sns.heatmap(cm, annot=True, cmap='Blues')\n",
        "\n",
        "ax.set_title('Seaborn Confusion Matrix with labels\\n\\n');\n",
        "ax.set_xlabel('\\nPredicted Values')\n",
        "ax.set_ylabel('Actual Values ');\n",
        "\n",
        "## Ticket labels - List must be in alphabetical order\n",
        "ax.xaxis.set_ticklabels(['False','True'])\n",
        "ax.yaxis.set_ticklabels(['False','True'])\n",
        "\n",
        "## Display the visualization of the Confusion Matrix.\n",
        "plt.show()"
      ],
      "metadata": {
        "id": "uoEJfOnVspOU",
        "outputId": "862f1da4-2bcf-48e2-9ba2-aeefa219ebdd",
        "colab": {
          "base_uri": "https://localhost:8080/",
          "height": 337
        }
      },
      "execution_count": 48,
      "outputs": [
        {
          "output_type": "display_data",
          "data": {
            "text/plain": [
              "<Figure size 432x288 with 2 Axes>"
            ],
            "image/png": "[encoded data removed]"
          },
          "metadata": {
            "needs_background": "light"
          }
        }
      ]
    },
    {
      "cell_type": "code",
      "source": [
        "classifier.named_steps[\"logisticregression\"].intercept_[0]"
      ],
      "metadata": {
        "id": "fm_LgSKk6VoA",
        "outputId": "99aa0613-05b8-48b4-a7f9-5449721697de",
        "colab": {
          "base_uri": "https://localhost:8080/"
        }
      },
      "execution_count": 119,
      "outputs": [
        {
          "output_type": "execute_result",
          "data": {
            "text/plain": [
              "-2.437075873879961"
            ]
          },
          "metadata": {},
          "execution_count": 119
        }
      ]
    },
    {
      "cell_type": "code",
      "source": [
        "classifier.named_steps[\"logisticregression\"].coef_[0]"
      ],
      "metadata": {
        "id": "RCjkDziQ6eCy",
        "outputId": "34f6c74f-ce3a-4efa-cf57-78b39e980982",
        "colab": {
          "base_uri": "https://localhost:8080/"
        }
      },
      "execution_count": 120,
      "outputs": [
        {
          "output_type": "execute_result",
          "data": {
            "text/plain": [
              "array([-0.69150862,  1.05928149, -1.43314058,  2.94472252,  1.81208021,\n",
              "        1.24714366, -2.86235414, -0.98776991,  3.14499985,  0.32709557,\n",
              "       -0.32270737, -0.82729817,  1.42141651])"
            ]
          },
          "metadata": {},
          "execution_count": 120
        }
      ]
    },
    {
      "cell_type": "code",
      "source": [
        "features = classifier.named_steps[\"minmaxscaler\"].get_feature_names_out(['Gender','Age65','BMI','GeneralHealth','Smoked100','SmokerStatus','FirstSmokedAge','LastSmokedAge','AvgNumCigADay','HasCTScan','StopSmoking','HasAsthma','HasChronicDisease'])\n",
        "importances = classifier.named_steps[\"logisticregression\"].coef_[0]\n",
        "print(features, importances)"
      ],
      "metadata": {
        "id": "P6Ih0JMTrkWs",
        "outputId": "ed6fa96b-7047-4550-cfea-1a4c5c93b65e",
        "colab": {
          "base_uri": "https://localhost:8080/"
        }
      },
      "execution_count": 121,
      "outputs": [
        {
          "output_type": "stream",
          "name": "stdout",
          "text": [
            "['Gender' 'Age65' 'BMI' 'GeneralHealth' 'Smoked100' 'SmokerStatus'\n",
            " 'FirstSmokedAge' 'LastSmokedAge' 'AvgNumCigADay' 'HasCTScan'\n",
            " 'StopSmoking' 'HasAsthma' 'HasChronicDisease'] [-0.69150862  1.05928149 -1.43314058  2.94472252  1.81208021  1.24714366\n",
            " -2.86235414 -0.98776991  3.14499985  0.32709557 -0.32270737 -0.82729817\n",
            "  1.42141651]\n"
          ]
        }
      ]
    },
    {
      "cell_type": "code",
      "source": [
        "odds_ratios = pd.Series(np.exp(importances),index=features).sort_values()\n",
        "odds_ratios"
      ],
      "metadata": {
        "id": "QVpK3ghTrn6N",
        "colab": {
          "base_uri": "https://localhost:8080/"
        },
        "outputId": "e29e1458-56db-41e3-e71f-f0ba89c495cb"
      },
      "execution_count": 122,
      "outputs": [
        {
          "output_type": "execute_result",
          "data": {
            "text/plain": [
              "FirstSmokedAge        0.057134\n",
              "BMI                   0.238559\n",
              "LastSmokedAge         0.372406\n",
              "HasAsthma             0.437229\n",
              "Gender                0.500820\n",
              "StopSmoking           0.724186\n",
              "HasCTScan             1.386934\n",
              "Age65                 2.884298\n",
              "SmokerStatus          3.480388\n",
              "HasChronicDisease     4.142985\n",
              "Smoked100             6.123172\n",
              "GeneralHealth        19.005388\n",
              "AvgNumCigADay        23.219672\n",
              "dtype: float64"
            ]
          },
          "metadata": {},
          "execution_count": 122
        }
      ]
    },
    {
      "cell_type": "code",
      "source": [
        "# Horizontal bar chart, five largest coefficients\n",
        "odds_ratios.plot(kind=\"barh\")\n",
        "plt.xlabel(\"Odds Ratio\");"
      ],
      "metadata": {
        "id": "RU6NKCO7rq9Y",
        "colab": {
          "base_uri": "https://localhost:8080/",
          "height": 279
        },
        "outputId": "10db6195-1ffc-4f04-e08f-66a3610e9a11"
      },
      "execution_count": 123,
      "outputs": [
        {
          "output_type": "display_data",
          "data": {
            "text/plain": [
              "<Figure size 432x288 with 1 Axes>"
            ],
            "image/png": "[encoded data removed]"
          },
          "metadata": {
            "needs_background": "light"
          }
        }
      ]
    },
    {
      "cell_type": "code",
      "source": [
        "import matplotlib.pyplot as plt\n",
        "loss_train = history.history['accuracy']\n",
        "\n",
        "loss_val = history.history['val_accuracy']\n",
        "\n",
        "epochs = range(1,51)\n",
        "\n",
        "plt.plot(epochs, loss_train, 'g', label='Training accuracy')\n",
        "\n",
        "plt.plot(epochs, loss_val, 'b', label='validation accuracy')\n",
        "\n",
        "plt.title('Training and Validation accuracy')\n",
        "\n",
        "plt.xlabel('Epochs')\n",
        "\n",
        "plt.ylabel('Accuracy')\n",
        "\n",
        "plt.legend()\n",
        "\n",
        "plt.show()"
      ],
      "metadata": {
        "id": "JhRxWi8o-Oud",
        "outputId": "3f909527-0a98-4dd7-8f0c-ebffafc6c587",
        "colab": {
          "base_uri": "https://localhost:8080/",
          "height": 244
        }
      },
      "execution_count": 124,
      "outputs": [
        {
          "output_type": "error",
          "ename": "AttributeError",
          "evalue": "ignored",
          "traceback": [
            "\u001b[0;31m---------------------------------------------------------------------------\u001b[0m",
            "\u001b[0;31mAttributeError\u001b[0m                            Traceback (most recent call last)",
            "\u001b[0;32m<ipython-input-124-1d2f78a15c83>\u001b[0m in \u001b[0;36m<module>\u001b[0;34m\u001b[0m\n\u001b[1;32m      1\u001b[0m \u001b[0;32mimport\u001b[0m \u001b[0mmatplotlib\u001b[0m\u001b[0;34m.\u001b[0m\u001b[0mpyplot\u001b[0m \u001b[0;32mas\u001b[0m \u001b[0mplt\u001b[0m\u001b[0;34m\u001b[0m\u001b[0;34m\u001b[0m\u001b[0m\n\u001b[0;32m----> 2\u001b[0;31m \u001b[0mloss_train\u001b[0m \u001b[0;34m=\u001b[0m \u001b[0mhistory\u001b[0m\u001b[0;34m.\u001b[0m\u001b[0mhistory\u001b[0m\u001b[0;34m[\u001b[0m\u001b[0;34m'accuracy'\u001b[0m\u001b[0;34m]\u001b[0m\u001b[0;34m\u001b[0m\u001b[0;34m\u001b[0m\u001b[0m\n\u001b[0m\u001b[1;32m      3\u001b[0m \u001b[0;34m\u001b[0m\u001b[0m\n\u001b[1;32m      4\u001b[0m \u001b[0mloss_val\u001b[0m \u001b[0;34m=\u001b[0m \u001b[0mhistory\u001b[0m\u001b[0;34m.\u001b[0m\u001b[0mhistory\u001b[0m\u001b[0;34m[\u001b[0m\u001b[0;34m'val_accuracy'\u001b[0m\u001b[0;34m]\u001b[0m\u001b[0;34m\u001b[0m\u001b[0;34m\u001b[0m\u001b[0m\n\u001b[1;32m      5\u001b[0m \u001b[0;34m\u001b[0m\u001b[0m\n",
            "\u001b[0;31mAttributeError\u001b[0m: 'Pipeline' object has no attribute 'history'"
          ]
        }
      ]
    },
    {
      "cell_type": "markdown",
      "source": [
        "This chart shows the features that are least likely to be in a building that is severely damaged."
      ],
      "metadata": {
        "id": "IfGaKlc2CIsQ"
      }
    },
    {
      "cell_type": "code",
      "source": [
        "import matplotlib.pyplot as plt\n",
        "loss_train = history.history['train_loss']\n",
        "\n",
        "loss_val = history.history['val_loss']\n",
        "\n",
        "epochs = range(1,35)\n",
        "\n",
        "plt.plot(epochs, loss_train, 'g', label='Training loss')\n",
        "\n",
        "plt.plot(epochs, loss_val, 'b', label='validation loss')\n",
        "\n",
        "plt.title('Training and Validation loss')\n",
        "\n",
        "plt.xlabel('Epochs')\n",
        "\n",
        "plt.ylabel('Loss')\n",
        "\n",
        "plt.legend()\n",
        "\n",
        "plt.show()"
      ],
      "metadata": {
        "id": "dgQzKBZkiyU3"
      },
      "execution_count": null,
      "outputs": []
    },
    {
      "cell_type": "code",
      "source": [
        "# Feature Scaling\n",
        "from sklearn.preprocessing import StandardScaler\n",
        "import tensorflow as tf\n",
        "sc = StandardScaler()\n",
        "X_train = sc.fit_transform(X_train)\n",
        "X_test = sc.transform(X_test)\n",
        "\n",
        "\n",
        "# Initializing the ANN\n",
        "ann = tf.keras.models.Sequential()\n",
        "\n",
        "# Adding the input layer and the first hidden layer\n",
        "ann.add(tf.keras.layers.Dense(units=200, input_dim=13, activation='relu'))\n",
        "# Adding the second hidden layer\n",
        "ann.add(tf.keras.layers.Dense(units=100, activation='relu'))\n",
        "\n",
        "# Adding the output layer\n",
        "ann.add(tf.keras.layers.Dense(units=1, activation='sigmoid'))\n",
        "\n",
        "# Part 3 - Training the ANN\n",
        "\n",
        "# Compiling the ANN\n",
        "ann.compile(optimizer = 'sgd', loss = 'binary_crossentropy', metrics = ['accuracy', 'binary_crossentropy'])\n",
        "print(ann.summary())\n",
        "\n",
        "# Training the ANN on the Training set\n",
        "history = ann.fit(X_train, y_train, validation_data=(X_test, y_test), batch_size = 100, epochs =10, verbose=1)"
      ],
      "metadata": {
        "colab": {
          "base_uri": "https://localhost:8080/"
        },
        "id": "28xJb_egjNYe",
        "outputId": "7cc94b4f-356e-4d09-9bce-94308a95bfcf"
      },
      "execution_count": 133,
      "outputs": [
        {
          "output_type": "stream",
          "name": "stdout",
          "text": [
            "Model: \"sequential_4\"\n",
            "_________________________________________________________________\n",
            " Layer (type)                Output Shape              Param #   \n",
            "=================================================================\n",
            " dense_12 (Dense)            (None, 200)               2800      \n",
            "                                                                 \n",
            " dense_13 (Dense)            (None, 100)               20100     \n",
            "                                                                 \n",
            " dense_14 (Dense)            (None, 1)                 101       \n",
            "                                                                 \n",
            "=================================================================\n",
            "Total params: 23,001\n",
            "Trainable params: 23,001\n",
            "Non-trainable params: 0\n",
            "_________________________________________________________________\n",
            "None\n",
            "Epoch 1/10\n",
            "16946/16946 [==============================] - 48s 3ms/step - loss: 0.4045 - accuracy: 0.8207 - binary_crossentropy: 0.4045 - val_loss: 0.3736 - val_accuracy: 0.8373 - val_binary_crossentropy: 0.3736\n",
            "Epoch 2/10\n",
            "16946/16946 [==============================] - 52s 3ms/step - loss: 0.3554 - accuracy: 0.8442 - binary_crossentropy: 0.3554 - val_loss: 0.3398 - val_accuracy: 0.8517 - val_binary_crossentropy: 0.3398\n",
            "Epoch 3/10\n",
            "16946/16946 [==============================] - 52s 3ms/step - loss: 0.3276 - accuracy: 0.8563 - binary_crossentropy: 0.3276 - val_loss: 0.3181 - val_accuracy: 0.8619 - val_binary_crossentropy: 0.3181\n",
            "Epoch 4/10\n",
            "16946/16946 [==============================] - 46s 3ms/step - loss: 0.3109 - accuracy: 0.8631 - binary_crossentropy: 0.3109 - val_loss: 0.3069 - val_accuracy: 0.8621 - val_binary_crossentropy: 0.3069\n",
            "Epoch 5/10\n",
            "16946/16946 [==============================] - 46s 3ms/step - loss: 0.3008 - accuracy: 0.8665 - binary_crossentropy: 0.3008 - val_loss: 0.2983 - val_accuracy: 0.8682 - val_binary_crossentropy: 0.2983\n",
            "Epoch 6/10\n",
            "16946/16946 [==============================] - 49s 3ms/step - loss: 0.2948 - accuracy: 0.8688 - binary_crossentropy: 0.2948 - val_loss: 0.2952 - val_accuracy: 0.8678 - val_binary_crossentropy: 0.2952\n",
            "Epoch 7/10\n",
            "16946/16946 [==============================] - 45s 3ms/step - loss: 0.2907 - accuracy: 0.8701 - binary_crossentropy: 0.2907 - val_loss: 0.2903 - val_accuracy: 0.8693 - val_binary_crossentropy: 0.2903\n",
            "Epoch 8/10\n",
            "16946/16946 [==============================] - 46s 3ms/step - loss: 0.2878 - accuracy: 0.8711 - binary_crossentropy: 0.2878 - val_loss: 0.2895 - val_accuracy: 0.8686 - val_binary_crossentropy: 0.2895\n",
            "Epoch 9/10\n",
            "16946/16946 [==============================] - 49s 3ms/step - loss: 0.2856 - accuracy: 0.8715 - binary_crossentropy: 0.2856 - val_loss: 0.2840 - val_accuracy: 0.8746 - val_binary_crossentropy: 0.2840\n",
            "Epoch 10/10\n",
            "16946/16946 [==============================] - 53s 3ms/step - loss: 0.2837 - accuracy: 0.8723 - binary_crossentropy: 0.2837 - val_loss: 0.2855 - val_accuracy: 0.8700 - val_binary_crossentropy: 0.2855\n"
          ]
        }
      ]
    },
    {
      "cell_type": "code",
      "source": [
        "plt.plot(history.history['binary_crossentropy'])\n",
        "plt.title('Loss Function Over Epochs')\n",
        "plt.ylabel('loss value')\n",
        "plt.xlabel('No. epoch')\n",
        "plt.show()"
      ],
      "metadata": {
        "id": "eIYNv9quBTD5",
        "outputId": "13aa8ceb-ae8f-455d-a006-a6f4e1d66f19",
        "colab": {
          "base_uri": "https://localhost:8080/",
          "height": 295
        }
      },
      "execution_count": 134,
      "outputs": [
        {
          "output_type": "display_data",
          "data": {
            "text/plain": [
              "<Figure size 432x288 with 1 Axes>"
            ],
            "image/png": "[encoded data removed]"
          },
          "metadata": {
            "needs_background": "light"
          }
        }
      ]
    },
    {
      "cell_type": "code",
      "source": [
        "y_pred = classifier.predict_proba(X_test)\n",
        "\n",
        "#y_predInverse = sc.inverse_transform(y_pred)\n",
        "#y_testInverse = sc.inverse_transform(y_test)"
      ],
      "metadata": {
        "id": "Ih6eEjYnBW2q"
      },
      "execution_count": 137,
      "outputs": []
    },
    {
      "cell_type": "code",
      "source": [
        "def plotGraph(y_test,y_pred,classifier):\n",
        "    if max(y_test) >= max(y_pred):\n",
        "        my_range = int(max(y_test))\n",
        "    else:\n",
        "        my_range = int(max(y_pred))\n",
        "    plt.scatter(range(len(y_test)), y_test, color='blue')\n",
        "    plt.scatter(range(len(y_pred)), y_pred, color='red')\n",
        "    plt.title(classifier)\n",
        "    plt.show()\n",
        "    return\n",
        "\n",
        "plotGraph(y_test, y_pred, \"test\")"
      ],
      "metadata": {
        "id": "w4zP9y4oD2N2",
        "outputId": "aeda063b-177d-4018-cbc9-ee8a6d387d76",
        "colab": {
          "base_uri": "https://localhost:8080/",
          "height": 335
        }
      },
      "execution_count": 139,
      "outputs": [
        {
          "output_type": "error",
          "ename": "ValueError",
          "evalue": "ignored",
          "traceback": [
            "\u001b[0;31m---------------------------------------------------------------------------\u001b[0m",
            "\u001b[0;31mValueError\u001b[0m                                Traceback (most recent call last)",
            "\u001b[0;32m<ipython-input-139-72ea5e120007>\u001b[0m in \u001b[0;36m<module>\u001b[0;34m\u001b[0m\n\u001b[1;32m     10\u001b[0m     \u001b[0;32mreturn\u001b[0m\u001b[0;34m\u001b[0m\u001b[0;34m\u001b[0m\u001b[0m\n\u001b[1;32m     11\u001b[0m \u001b[0;34m\u001b[0m\u001b[0m\n\u001b[0;32m---> 12\u001b[0;31m \u001b[0mplotGraph\u001b[0m\u001b[0;34m(\u001b[0m\u001b[0my_test\u001b[0m\u001b[0;34m,\u001b[0m \u001b[0my_pred\u001b[0m\u001b[0;34m,\u001b[0m \u001b[0;34m\"test\"\u001b[0m\u001b[0;34m)\u001b[0m\u001b[0;34m\u001b[0m\u001b[0;34m\u001b[0m\u001b[0m\n\u001b[0m",
            "\u001b[0;32m<ipython-input-139-72ea5e120007>\u001b[0m in \u001b[0;36mplotGraph\u001b[0;34m(y_test, y_pred, classifier)\u001b[0m\n\u001b[1;32m      1\u001b[0m \u001b[0;32mdef\u001b[0m \u001b[0mplotGraph\u001b[0m\u001b[0;34m(\u001b[0m\u001b[0my_test\u001b[0m\u001b[0;34m,\u001b[0m\u001b[0my_pred\u001b[0m\u001b[0;34m,\u001b[0m\u001b[0mclassifier\u001b[0m\u001b[0;34m)\u001b[0m\u001b[0;34m:\u001b[0m\u001b[0;34m\u001b[0m\u001b[0;34m\u001b[0m\u001b[0m\n\u001b[0;32m----> 2\u001b[0;31m     \u001b[0;32mif\u001b[0m \u001b[0mmax\u001b[0m\u001b[0;34m(\u001b[0m\u001b[0my_test\u001b[0m\u001b[0;34m)\u001b[0m \u001b[0;34m>=\u001b[0m \u001b[0mmax\u001b[0m\u001b[0;34m(\u001b[0m\u001b[0my_pred\u001b[0m\u001b[0;34m)\u001b[0m\u001b[0;34m:\u001b[0m\u001b[0;34m\u001b[0m\u001b[0;34m\u001b[0m\u001b[0m\n\u001b[0m\u001b[1;32m      3\u001b[0m         \u001b[0mmy_range\u001b[0m \u001b[0;34m=\u001b[0m \u001b[0mint\u001b[0m\u001b[0;34m(\u001b[0m\u001b[0mmax\u001b[0m\u001b[0;34m(\u001b[0m\u001b[0my_test\u001b[0m\u001b[0;34m)\u001b[0m\u001b[0;34m)\u001b[0m\u001b[0;34m\u001b[0m\u001b[0;34m\u001b[0m\u001b[0m\n\u001b[1;32m      4\u001b[0m     \u001b[0;32melse\u001b[0m\u001b[0;34m:\u001b[0m\u001b[0;34m\u001b[0m\u001b[0;34m\u001b[0m\u001b[0m\n\u001b[1;32m      5\u001b[0m         \u001b[0mmy_range\u001b[0m \u001b[0;34m=\u001b[0m \u001b[0mint\u001b[0m\u001b[0;34m(\u001b[0m\u001b[0mmax\u001b[0m\u001b[0;34m(\u001b[0m\u001b[0my_pred\u001b[0m\u001b[0;34m)\u001b[0m\u001b[0;34m)\u001b[0m\u001b[0;34m\u001b[0m\u001b[0;34m\u001b[0m\u001b[0m\n",
            "\u001b[0;31mValueError\u001b[0m: The truth value of an array with more than one element is ambiguous. Use a.any() or a.all()"
          ]
        }
      ]
    },
    {
      "cell_type": "code",
      "source": [
        "def buildModel(optimizer):\n",
        "    # Initialising the ANN\n",
        "    classifier = Sequential()\n",
        "    \n",
        "    # Adding the input layer and the first hidden layer\n",
        "    classifier.add(Dense(units = 200, input_dim = 13, activation = 'relu'))\n",
        "    \n",
        "    # Adding the second hidden layer\n",
        "    classifier.add(Dense(units = 100, activation = 'relu'))\n",
        "    \n",
        "    # Adding the output layer\n",
        "    classifier.add(Dense(units = 1, activation = 'sigmoid'))\n",
        "    \n",
        "    # Compiling the ANN\n",
        "    classifier.compile(loss='binary_crossentropy', optimizer=optimizer, metrics=['mean_absolute_error', 'binary_crossentropy'])\n",
        "    \n",
        "    return classifier"
      ],
      "metadata": {
        "id": "BXtdVBF0EGe1"
      },
      "execution_count": 147,
      "outputs": []
    },
    {
      "cell_type": "code",
      "source": [
        "from sklearn.model_selection import GridSearchCV \n",
        "from tensorflow.keras.wrappers.scikit_learn import KerasRegressor\n",
        "import tensorflow as tf\n",
        "from sklearn.model_selection import GridSearchCV\n",
        "from tensorflow.keras.models import Sequential\n",
        "from tensorflow.keras.layers import Dense\n",
        "from tensorflow.keras.layers import Dropout\n",
        "\n",
        "classifier = KerasRegressor(build_fn = buildModel)\n",
        "#What hyperparameter we want to play with\n",
        "parameters = {'batch_size': [13, 26, 39, 100, 128],\n",
        "              'epochs': [50, 60],\n",
        "              'optimizer': ['adam', 'binary_crossentropy']}\n",
        "grid_search = GridSearchCV(estimator = classifier,\n",
        "                           param_grid = parameters,\n",
        "                           scoring = 'neg_mean_absolute_error',\n",
        "                           cv = 5)\n",
        "grid_search = grid_search.fit(X_train, y_train, verbose = 0)"
      ],
      "metadata": {
        "id": "Ut3C7Pm1FIaY",
        "outputId": "c4d25501-1fd9-49af-99a8-82190bd4824e",
        "colab": {
          "base_uri": "https://localhost:8080/"
        }
      },
      "execution_count": null,
      "outputs": [
        {
          "metadata": {
            "tags": null
          },
          "name": "stderr",
          "output_type": "stream",
          "text": [
            "<ipython-input-148-eef258e06780>:9: DeprecationWarning: KerasRegressor is deprecated, use Sci-Keras (https://github.com/adriangb/scikeras) instead. See https://www.adriangb.com/scikeras/stable/migration.html for help migrating.\n",
            "  classifier = KerasRegressor(build_fn = buildModel)\n"
          ]
        },
        {
          "metadata": {
            "tags": null
          },
          "name": "stdout",
          "output_type": "stream",
          "text": [
            "26071/26071 [==============================] - 25s 955us/step\n",
            "26071/26071 [==============================] - 69s 3ms/step\n",
            "26071/26071 [==============================] - 25s 951us/step\n"
          ]
        }
      ]
    },
    {
      "cell_type": "code",
      "source": [
        "best_parameters = grid_search.best_params_\n",
        "best_score = grid_search.best_score_\n",
        "\n",
        "print(\"Best Parameters: \" + str(best_parameters))"
      ],
      "metadata": {
        "id": "AC49nkrJKsra"
      },
      "execution_count": null,
      "outputs": []
    },
    {
      "cell_type": "code",
      "source": [],
      "metadata": {
        "id": "q0YM0s_3H7yP"
      },
      "execution_count": null,
      "outputs": []
    },
    {
      "cell_type": "code",
      "source": [],
      "metadata": {
        "id": "Kehtu2voH4SA"
      },
      "execution_count": null,
      "outputs": []
    },
    {
      "cell_type": "code",
      "source": [
        "import matplotlib.pyplot as plt\n",
        "loss_train = history.history['loss']\n",
        "\n",
        "loss_val = history.history['val_loss']\n",
        "\n",
        "epochs = range(1,51)\n",
        "\n",
        "plt.plot(epochs, loss_train, 'g', label='Training loss')\n",
        "\n",
        "plt.plot(epochs, loss_val, 'b', label='validation loss')\n",
        "\n",
        "plt.title('Training and Validation loss')\n",
        "\n",
        "plt.xlabel('Epochs')\n",
        "\n",
        "plt.ylabel('Loss')\n",
        "\n",
        "plt.legend()\n",
        "\n",
        "plt.show()"
      ],
      "metadata": {
        "id": "UpAZ58Ufj2wh"
      },
      "execution_count": null,
      "outputs": []
    },
    {
      "cell_type": "code",
      "source": [
        "loss_train = history.history['accuracy']\n",
        "\n",
        "loss_val = history.history['val_accuracy']\n",
        "\n",
        "epochs = range(1,51)\n",
        "\n",
        "plt.plot(epochs, loss_train, 'g', label='Training accuracy')\n",
        "\n",
        "plt.plot(epochs, loss_val, 'b', label='validation accuracy')\n",
        "\n",
        "plt.title('Training and Validation accuracy')\n",
        "\n",
        "plt.xlabel('Epochs')\n",
        "\n",
        "plt.ylabel('Accuracy')\n",
        "\n",
        "plt.legend()\n",
        "\n",
        "plt.show()"
      ],
      "metadata": {
        "id": "9jcv84n7krDS"
      },
      "execution_count": null,
      "outputs": []
    },
    {
      "cell_type": "code",
      "source": [],
      "metadata": {
        "id": "sPbBx8BG-LMX"
      },
      "execution_count": null,
      "outputs": []
    }
  ]
}