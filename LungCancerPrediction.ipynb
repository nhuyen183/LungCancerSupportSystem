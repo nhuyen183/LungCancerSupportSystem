{
 "cells": [
  {
   "cell_type": "code",
   "execution_count": 1,
   "id": "705d9e7d",
   "metadata": {},
   "outputs": [],
   "source": [
    "import numpy as np\n",
    "import pandas as pd\n",
    "\n",
    "import matplotlib.pyplot as plt\n",
    "\n",
    "from sklearn import model_selection\n",
    "from sklearn import preprocessing\n",
    "from sklearn import metrics\n",
    "\n",
    "from sklearn import neighbors\n",
    "from sklearn import naive_bayes\n",
    "from sklearn import discriminant_analysis\n",
    "from sklearn import linear_model\n",
    "from sklearn import tree\n",
    "from sklearn import ensemble\n",
    "from sklearn import svm\n",
    "import seaborn as sns\n",
    "from sklearn.ensemble import RandomForestClassifier"
   ]
  },
  {
   "cell_type": "code",
   "execution_count": 2,
   "id": "a62a0881",
   "metadata": {},
   "outputs": [
    {
     "data": {
      "text/html": [
       "<div>\n",
       "<style scoped>\n",
       "    .dataframe tbody tr th:only-of-type {\n",
       "        vertical-align: middle;\n",
       "    }\n",
       "\n",
       "    .dataframe tbody tr th {\n",
       "        vertical-align: top;\n",
       "    }\n",
       "\n",
       "    .dataframe thead th {\n",
       "        text-align: right;\n",
       "    }\n",
       "</style>\n",
       "<table border=\"1\" class=\"dataframe\">\n",
       "  <thead>\n",
       "    <tr style=\"text-align: right;\">\n",
       "      <th></th>\n",
       "      <th>GENDER</th>\n",
       "      <th>AGE</th>\n",
       "      <th>SMOKING</th>\n",
       "      <th>YELLOW_FINGERS</th>\n",
       "      <th>ANXIETY</th>\n",
       "      <th>PEER_PRESSURE</th>\n",
       "      <th>CHRONIC DISEASE</th>\n",
       "      <th>FATIGUE</th>\n",
       "      <th>ALLERGY</th>\n",
       "      <th>WHEEZING</th>\n",
       "      <th>ALCOHOL CONSUMING</th>\n",
       "      <th>COUGHING</th>\n",
       "      <th>SHORTNESS OF BREATH</th>\n",
       "      <th>SWALLOWING DIFFICULTY</th>\n",
       "      <th>CHEST PAIN</th>\n",
       "      <th>LUNG_CANCER</th>\n",
       "    </tr>\n",
       "  </thead>\n",
       "  <tbody>\n",
       "    <tr>\n",
       "      <th>0</th>\n",
       "      <td>1</td>\n",
       "      <td>69</td>\n",
       "      <td>0</td>\n",
       "      <td>1</td>\n",
       "      <td>1</td>\n",
       "      <td>0</td>\n",
       "      <td>0</td>\n",
       "      <td>1</td>\n",
       "      <td>0</td>\n",
       "      <td>1</td>\n",
       "      <td>1</td>\n",
       "      <td>1</td>\n",
       "      <td>1</td>\n",
       "      <td>1</td>\n",
       "      <td>1</td>\n",
       "      <td>1</td>\n",
       "    </tr>\n",
       "    <tr>\n",
       "      <th>1</th>\n",
       "      <td>1</td>\n",
       "      <td>74</td>\n",
       "      <td>1</td>\n",
       "      <td>0</td>\n",
       "      <td>0</td>\n",
       "      <td>0</td>\n",
       "      <td>1</td>\n",
       "      <td>1</td>\n",
       "      <td>1</td>\n",
       "      <td>0</td>\n",
       "      <td>0</td>\n",
       "      <td>0</td>\n",
       "      <td>1</td>\n",
       "      <td>1</td>\n",
       "      <td>1</td>\n",
       "      <td>1</td>\n",
       "    </tr>\n",
       "    <tr>\n",
       "      <th>2</th>\n",
       "      <td>0</td>\n",
       "      <td>59</td>\n",
       "      <td>0</td>\n",
       "      <td>0</td>\n",
       "      <td>0</td>\n",
       "      <td>1</td>\n",
       "      <td>0</td>\n",
       "      <td>1</td>\n",
       "      <td>0</td>\n",
       "      <td>1</td>\n",
       "      <td>0</td>\n",
       "      <td>1</td>\n",
       "      <td>1</td>\n",
       "      <td>0</td>\n",
       "      <td>1</td>\n",
       "      <td>0</td>\n",
       "    </tr>\n",
       "    <tr>\n",
       "      <th>3</th>\n",
       "      <td>1</td>\n",
       "      <td>63</td>\n",
       "      <td>1</td>\n",
       "      <td>1</td>\n",
       "      <td>1</td>\n",
       "      <td>0</td>\n",
       "      <td>0</td>\n",
       "      <td>0</td>\n",
       "      <td>0</td>\n",
       "      <td>0</td>\n",
       "      <td>1</td>\n",
       "      <td>0</td>\n",
       "      <td>0</td>\n",
       "      <td>1</td>\n",
       "      <td>1</td>\n",
       "      <td>0</td>\n",
       "    </tr>\n",
       "    <tr>\n",
       "      <th>4</th>\n",
       "      <td>0</td>\n",
       "      <td>63</td>\n",
       "      <td>0</td>\n",
       "      <td>1</td>\n",
       "      <td>0</td>\n",
       "      <td>0</td>\n",
       "      <td>0</td>\n",
       "      <td>0</td>\n",
       "      <td>0</td>\n",
       "      <td>1</td>\n",
       "      <td>0</td>\n",
       "      <td>1</td>\n",
       "      <td>1</td>\n",
       "      <td>0</td>\n",
       "      <td>0</td>\n",
       "      <td>0</td>\n",
       "    </tr>\n",
       "  </tbody>\n",
       "</table>\n",
       "</div>"
      ],
      "text/plain": [
       "   GENDER  AGE  SMOKING  YELLOW_FINGERS  ANXIETY  PEER_PRESSURE  \\\n",
       "0       1   69        0               1        1              0   \n",
       "1       1   74        1               0        0              0   \n",
       "2       0   59        0               0        0              1   \n",
       "3       1   63        1               1        1              0   \n",
       "4       0   63        0               1        0              0   \n",
       "\n",
       "   CHRONIC DISEASE  FATIGUE   ALLERGY   WHEEZING  ALCOHOL CONSUMING  COUGHING  \\\n",
       "0                0         1         0         1                  1         1   \n",
       "1                1         1         1         0                  0         0   \n",
       "2                0         1         0         1                  0         1   \n",
       "3                0         0         0         0                  1         0   \n",
       "4                0         0         0         1                  0         1   \n",
       "\n",
       "   SHORTNESS OF BREATH  SWALLOWING DIFFICULTY  CHEST PAIN  LUNG_CANCER  \n",
       "0                    1                      1           1            1  \n",
       "1                    1                      1           1            1  \n",
       "2                    1                      0           1            0  \n",
       "3                    0                      1           1            0  \n",
       "4                    1                      0           0            0  "
      ]
     },
     "execution_count": 2,
     "metadata": {},
     "output_type": "execute_result"
    }
   ],
   "source": [
    "data_file = pd.read_csv(\"survey lung cancer.csv\")\n",
    "GENDER = \"GENDER\"\n",
    "AGE = \"AGE\"\n",
    "SMOKING = \"SMOKING\"\n",
    "LUNG_CANCER = \"LUNG_CANCER\"\n",
    "CHRONIC_DISEASE = \"CHRONIC DISEASE\"\n",
    "data_df = pd.read_csv(\"survey lung cancer.csv\")\n",
    "\n",
    "for col in data_df.columns:\n",
    "    if col != AGE:\n",
    "        data_df[col] = data_df[col].astype('category').cat.codes\n",
    "data_df.head(5)"
   ]
  },
  {
   "cell_type": "code",
   "execution_count": 3,
   "id": "716fcc00",
   "metadata": {},
   "outputs": [
    {
     "data": {
      "text/plain": [
       "1    270\n",
       "0     39\n",
       "Name: LUNG_CANCER, dtype: int64"
      ]
     },
     "execution_count": 3,
     "metadata": {},
     "output_type": "execute_result"
    }
   ],
   "source": [
    "data_df['LUNG_CANCER'].value_counts()"
   ]
  },
  {
   "cell_type": "code",
   "execution_count": 4,
   "id": "e319a746",
   "metadata": {},
   "outputs": [],
   "source": [
    "# Seperate the data into people without lung cancer and those with it\n",
    "no_data = data_df[data_df[LUNG_CANCER] == 0]\n",
    "yes_data = data_df[data_df[LUNG_CANCER] == 1]"
   ]
  },
  {
   "cell_type": "code",
   "execution_count": 5,
   "id": "3bea08f0",
   "metadata": {},
   "outputs": [],
   "source": [
    "from sklearn.utils import resample"
   ]
  },
  {
   "cell_type": "code",
   "execution_count": 6,
   "id": "fcec0c15",
   "metadata": {},
   "outputs": [
    {
     "data": {
      "text/plain": [
       "1    270\n",
       "0    269\n",
       "Name: LUNG_CANCER, dtype: int64"
      ]
     },
     "execution_count": 6,
     "metadata": {},
     "output_type": "execute_result"
    }
   ],
   "source": [
    "data_majority = data_df[data_df.LUNG_CANCER==1]\n",
    "data_minority = data_df[data_df.LUNG_CANCER==0]\n",
    "\n",
    "data_minority_upresampled = resample(data_minority,\n",
    "                                   replace=True,\n",
    "                                   n_samples=269,\n",
    "                                   random_state=4)\n",
    "\n",
    "data = pd.concat([data_majority, data_minority_upresampled])\n",
    "data['LUNG_CANCER'].value_counts()"
   ]
  },
  {
   "cell_type": "code",
   "execution_count": 7,
   "id": "0f70894f",
   "metadata": {},
   "outputs": [],
   "source": [
    "#data_upsampled.to_csv('D:/upsampled.csv')"
   ]
  },
  {
   "cell_type": "code",
   "execution_count": 8,
   "id": "5bc300f0",
   "metadata": {},
   "outputs": [
    {
     "data": {
      "text/html": [
       "<div>\n",
       "<style scoped>\n",
       "    .dataframe tbody tr th:only-of-type {\n",
       "        vertical-align: middle;\n",
       "    }\n",
       "\n",
       "    .dataframe tbody tr th {\n",
       "        vertical-align: top;\n",
       "    }\n",
       "\n",
       "    .dataframe thead th {\n",
       "        text-align: right;\n",
       "    }\n",
       "</style>\n",
       "<table border=\"1\" class=\"dataframe\">\n",
       "  <thead>\n",
       "    <tr style=\"text-align: right;\">\n",
       "      <th></th>\n",
       "      <th>GENDER</th>\n",
       "      <th>AGE</th>\n",
       "      <th>SMOKING</th>\n",
       "      <th>YELLOW_FINGERS</th>\n",
       "      <th>ANXIETY</th>\n",
       "      <th>PEER_PRESSURE</th>\n",
       "      <th>CHRONIC DISEASE</th>\n",
       "      <th>FATIGUE</th>\n",
       "      <th>ALLERGY</th>\n",
       "      <th>WHEEZING</th>\n",
       "      <th>ALCOHOL CONSUMING</th>\n",
       "      <th>COUGHING</th>\n",
       "      <th>SHORTNESS OF BREATH</th>\n",
       "      <th>SWALLOWING DIFFICULTY</th>\n",
       "      <th>CHEST PAIN</th>\n",
       "      <th>LUNG_CANCER</th>\n",
       "    </tr>\n",
       "  </thead>\n",
       "  <tbody>\n",
       "    <tr>\n",
       "      <th>GENDER</th>\n",
       "      <td>1.000000</td>\n",
       "      <td>0.053034</td>\n",
       "      <td>0.013795</td>\n",
       "      <td>-0.101761</td>\n",
       "      <td>0.008924</td>\n",
       "      <td>-0.022488</td>\n",
       "      <td>-0.160542</td>\n",
       "      <td>-0.123299</td>\n",
       "      <td>0.152937</td>\n",
       "      <td>0.195022</td>\n",
       "      <td>0.487007</td>\n",
       "      <td>0.110961</td>\n",
       "      <td>-0.127003</td>\n",
       "      <td>0.106336</td>\n",
       "      <td>0.453347</td>\n",
       "      <td>0.113331</td>\n",
       "    </tr>\n",
       "    <tr>\n",
       "      <th>AGE</th>\n",
       "      <td>0.053034</td>\n",
       "      <td>1.000000</td>\n",
       "      <td>-0.067120</td>\n",
       "      <td>-0.039480</td>\n",
       "      <td>0.051928</td>\n",
       "      <td>0.125363</td>\n",
       "      <td>-0.035446</td>\n",
       "      <td>0.009101</td>\n",
       "      <td>-0.034332</td>\n",
       "      <td>0.138633</td>\n",
       "      <td>0.143110</td>\n",
       "      <td>0.191779</td>\n",
       "      <td>-0.033381</td>\n",
       "      <td>-0.004218</td>\n",
       "      <td>0.021997</td>\n",
       "      <td>0.166834</td>\n",
       "    </tr>\n",
       "    <tr>\n",
       "      <th>SMOKING</th>\n",
       "      <td>0.013795</td>\n",
       "      <td>-0.067120</td>\n",
       "      <td>1.000000</td>\n",
       "      <td>-0.072564</td>\n",
       "      <td>0.060021</td>\n",
       "      <td>-0.016181</td>\n",
       "      <td>-0.081117</td>\n",
       "      <td>0.039806</td>\n",
       "      <td>0.176385</td>\n",
       "      <td>-0.141425</td>\n",
       "      <td>0.006192</td>\n",
       "      <td>-0.160457</td>\n",
       "      <td>-0.009227</td>\n",
       "      <td>0.033272</td>\n",
       "      <td>0.116128</td>\n",
       "      <td>0.128004</td>\n",
       "    </tr>\n",
       "    <tr>\n",
       "      <th>YELLOW_FINGERS</th>\n",
       "      <td>-0.101761</td>\n",
       "      <td>-0.039480</td>\n",
       "      <td>-0.072564</td>\n",
       "      <td>1.000000</td>\n",
       "      <td>0.443188</td>\n",
       "      <td>0.152721</td>\n",
       "      <td>-0.071894</td>\n",
       "      <td>-0.293359</td>\n",
       "      <td>-0.106982</td>\n",
       "      <td>0.010794</td>\n",
       "      <td>-0.121288</td>\n",
       "      <td>0.154925</td>\n",
       "      <td>-0.146664</td>\n",
       "      <td>0.381276</td>\n",
       "      <td>0.014088</td>\n",
       "      <td>0.198507</td>\n",
       "    </tr>\n",
       "    <tr>\n",
       "      <th>ANXIETY</th>\n",
       "      <td>0.008924</td>\n",
       "      <td>0.051928</td>\n",
       "      <td>0.060021</td>\n",
       "      <td>0.443188</td>\n",
       "      <td>1.000000</td>\n",
       "      <td>0.122630</td>\n",
       "      <td>-0.044979</td>\n",
       "      <td>-0.218399</td>\n",
       "      <td>-0.126870</td>\n",
       "      <td>-0.236965</td>\n",
       "      <td>-0.012848</td>\n",
       "      <td>-0.139669</td>\n",
       "      <td>-0.373462</td>\n",
       "      <td>0.471913</td>\n",
       "      <td>-0.047375</td>\n",
       "      <td>0.158786</td>\n",
       "    </tr>\n",
       "    <tr>\n",
       "      <th>PEER_PRESSURE</th>\n",
       "      <td>-0.022488</td>\n",
       "      <td>0.125363</td>\n",
       "      <td>-0.016181</td>\n",
       "      <td>0.152721</td>\n",
       "      <td>0.122630</td>\n",
       "      <td>1.000000</td>\n",
       "      <td>0.143461</td>\n",
       "      <td>0.049814</td>\n",
       "      <td>0.022248</td>\n",
       "      <td>0.081947</td>\n",
       "      <td>0.049987</td>\n",
       "      <td>0.005754</td>\n",
       "      <td>-0.123383</td>\n",
       "      <td>0.268856</td>\n",
       "      <td>0.102634</td>\n",
       "      <td>0.311043</td>\n",
       "    </tr>\n",
       "    <tr>\n",
       "      <th>CHRONIC DISEASE</th>\n",
       "      <td>-0.160542</td>\n",
       "      <td>-0.035446</td>\n",
       "      <td>-0.081117</td>\n",
       "      <td>-0.071894</td>\n",
       "      <td>-0.044979</td>\n",
       "      <td>0.143461</td>\n",
       "      <td>1.000000</td>\n",
       "      <td>0.038425</td>\n",
       "      <td>0.216899</td>\n",
       "      <td>-0.053833</td>\n",
       "      <td>0.116194</td>\n",
       "      <td>-0.192224</td>\n",
       "      <td>0.066013</td>\n",
       "      <td>0.084499</td>\n",
       "      <td>-0.079913</td>\n",
       "      <td>0.244002</td>\n",
       "    </tr>\n",
       "    <tr>\n",
       "      <th>FATIGUE</th>\n",
       "      <td>-0.123299</td>\n",
       "      <td>0.009101</td>\n",
       "      <td>0.039806</td>\n",
       "      <td>-0.293359</td>\n",
       "      <td>-0.218399</td>\n",
       "      <td>0.049814</td>\n",
       "      <td>0.038425</td>\n",
       "      <td>1.000000</td>\n",
       "      <td>0.125596</td>\n",
       "      <td>0.153600</td>\n",
       "      <td>-0.100524</td>\n",
       "      <td>0.028123</td>\n",
       "      <td>0.491690</td>\n",
       "      <td>-0.119271</td>\n",
       "      <td>-0.032266</td>\n",
       "      <td>0.234971</td>\n",
       "    </tr>\n",
       "    <tr>\n",
       "      <th>ALLERGY</th>\n",
       "      <td>0.152937</td>\n",
       "      <td>-0.034332</td>\n",
       "      <td>0.176385</td>\n",
       "      <td>-0.106982</td>\n",
       "      <td>-0.126870</td>\n",
       "      <td>0.022248</td>\n",
       "      <td>0.216899</td>\n",
       "      <td>0.125596</td>\n",
       "      <td>1.000000</td>\n",
       "      <td>0.272138</td>\n",
       "      <td>0.420668</td>\n",
       "      <td>0.242412</td>\n",
       "      <td>0.060401</td>\n",
       "      <td>0.087579</td>\n",
       "      <td>0.300952</td>\n",
       "      <td>0.513200</td>\n",
       "    </tr>\n",
       "    <tr>\n",
       "      <th>WHEEZING</th>\n",
       "      <td>0.195022</td>\n",
       "      <td>0.138633</td>\n",
       "      <td>-0.141425</td>\n",
       "      <td>0.010794</td>\n",
       "      <td>-0.236965</td>\n",
       "      <td>0.081947</td>\n",
       "      <td>-0.053833</td>\n",
       "      <td>0.153600</td>\n",
       "      <td>0.272138</td>\n",
       "      <td>1.000000</td>\n",
       "      <td>0.353470</td>\n",
       "      <td>0.503504</td>\n",
       "      <td>0.188566</td>\n",
       "      <td>0.113846</td>\n",
       "      <td>0.257012</td>\n",
       "      <td>0.362466</td>\n",
       "    </tr>\n",
       "    <tr>\n",
       "      <th>ALCOHOL CONSUMING</th>\n",
       "      <td>0.487007</td>\n",
       "      <td>0.143110</td>\n",
       "      <td>0.006192</td>\n",
       "      <td>-0.121288</td>\n",
       "      <td>-0.012848</td>\n",
       "      <td>0.049987</td>\n",
       "      <td>0.116194</td>\n",
       "      <td>-0.100524</td>\n",
       "      <td>0.420668</td>\n",
       "      <td>0.353470</td>\n",
       "      <td>1.000000</td>\n",
       "      <td>0.273196</td>\n",
       "      <td>-0.142142</td>\n",
       "      <td>0.130365</td>\n",
       "      <td>0.325877</td>\n",
       "      <td>0.438350</td>\n",
       "    </tr>\n",
       "    <tr>\n",
       "      <th>COUGHING</th>\n",
       "      <td>0.110961</td>\n",
       "      <td>0.191779</td>\n",
       "      <td>-0.160457</td>\n",
       "      <td>0.154925</td>\n",
       "      <td>-0.139669</td>\n",
       "      <td>0.005754</td>\n",
       "      <td>-0.192224</td>\n",
       "      <td>0.028123</td>\n",
       "      <td>0.242412</td>\n",
       "      <td>0.503504</td>\n",
       "      <td>0.273196</td>\n",
       "      <td>1.000000</td>\n",
       "      <td>0.205813</td>\n",
       "      <td>-0.081559</td>\n",
       "      <td>0.110672</td>\n",
       "      <td>0.318046</td>\n",
       "    </tr>\n",
       "    <tr>\n",
       "      <th>SHORTNESS OF BREATH</th>\n",
       "      <td>-0.127003</td>\n",
       "      <td>-0.033381</td>\n",
       "      <td>-0.009227</td>\n",
       "      <td>-0.146664</td>\n",
       "      <td>-0.373462</td>\n",
       "      <td>-0.123383</td>\n",
       "      <td>0.066013</td>\n",
       "      <td>0.491690</td>\n",
       "      <td>0.060401</td>\n",
       "      <td>0.188566</td>\n",
       "      <td>-0.142142</td>\n",
       "      <td>0.205813</td>\n",
       "      <td>1.000000</td>\n",
       "      <td>-0.121972</td>\n",
       "      <td>-0.058402</td>\n",
       "      <td>0.133406</td>\n",
       "    </tr>\n",
       "    <tr>\n",
       "      <th>SWALLOWING DIFFICULTY</th>\n",
       "      <td>0.106336</td>\n",
       "      <td>-0.004218</td>\n",
       "      <td>0.033272</td>\n",
       "      <td>0.381276</td>\n",
       "      <td>0.471913</td>\n",
       "      <td>0.268856</td>\n",
       "      <td>0.084499</td>\n",
       "      <td>-0.119271</td>\n",
       "      <td>0.087579</td>\n",
       "      <td>0.113846</td>\n",
       "      <td>0.130365</td>\n",
       "      <td>-0.081559</td>\n",
       "      <td>-0.121972</td>\n",
       "      <td>1.000000</td>\n",
       "      <td>0.251810</td>\n",
       "      <td>0.410165</td>\n",
       "    </tr>\n",
       "    <tr>\n",
       "      <th>CHEST PAIN</th>\n",
       "      <td>0.453347</td>\n",
       "      <td>0.021997</td>\n",
       "      <td>0.116128</td>\n",
       "      <td>0.014088</td>\n",
       "      <td>-0.047375</td>\n",
       "      <td>0.102634</td>\n",
       "      <td>-0.079913</td>\n",
       "      <td>-0.032266</td>\n",
       "      <td>0.300952</td>\n",
       "      <td>0.257012</td>\n",
       "      <td>0.325877</td>\n",
       "      <td>0.110672</td>\n",
       "      <td>-0.058402</td>\n",
       "      <td>0.251810</td>\n",
       "      <td>1.000000</td>\n",
       "      <td>0.296979</td>\n",
       "    </tr>\n",
       "    <tr>\n",
       "      <th>LUNG_CANCER</th>\n",
       "      <td>0.113331</td>\n",
       "      <td>0.166834</td>\n",
       "      <td>0.128004</td>\n",
       "      <td>0.198507</td>\n",
       "      <td>0.158786</td>\n",
       "      <td>0.311043</td>\n",
       "      <td>0.244002</td>\n",
       "      <td>0.234971</td>\n",
       "      <td>0.513200</td>\n",
       "      <td>0.362466</td>\n",
       "      <td>0.438350</td>\n",
       "      <td>0.318046</td>\n",
       "      <td>0.133406</td>\n",
       "      <td>0.410165</td>\n",
       "      <td>0.296979</td>\n",
       "      <td>1.000000</td>\n",
       "    </tr>\n",
       "  </tbody>\n",
       "</table>\n",
       "</div>"
      ],
      "text/plain": [
       "                         GENDER       AGE   SMOKING  YELLOW_FINGERS   ANXIETY  \\\n",
       "GENDER                 1.000000  0.053034  0.013795       -0.101761  0.008924   \n",
       "AGE                    0.053034  1.000000 -0.067120       -0.039480  0.051928   \n",
       "SMOKING                0.013795 -0.067120  1.000000       -0.072564  0.060021   \n",
       "YELLOW_FINGERS        -0.101761 -0.039480 -0.072564        1.000000  0.443188   \n",
       "ANXIETY                0.008924  0.051928  0.060021        0.443188  1.000000   \n",
       "PEER_PRESSURE         -0.022488  0.125363 -0.016181        0.152721  0.122630   \n",
       "CHRONIC DISEASE       -0.160542 -0.035446 -0.081117       -0.071894 -0.044979   \n",
       "FATIGUE               -0.123299  0.009101  0.039806       -0.293359 -0.218399   \n",
       "ALLERGY                0.152937 -0.034332  0.176385       -0.106982 -0.126870   \n",
       "WHEEZING               0.195022  0.138633 -0.141425        0.010794 -0.236965   \n",
       "ALCOHOL CONSUMING      0.487007  0.143110  0.006192       -0.121288 -0.012848   \n",
       "COUGHING               0.110961  0.191779 -0.160457        0.154925 -0.139669   \n",
       "SHORTNESS OF BREATH   -0.127003 -0.033381 -0.009227       -0.146664 -0.373462   \n",
       "SWALLOWING DIFFICULTY  0.106336 -0.004218  0.033272        0.381276  0.471913   \n",
       "CHEST PAIN             0.453347  0.021997  0.116128        0.014088 -0.047375   \n",
       "LUNG_CANCER            0.113331  0.166834  0.128004        0.198507  0.158786   \n",
       "\n",
       "                       PEER_PRESSURE  CHRONIC DISEASE  FATIGUE   ALLERGY   \\\n",
       "GENDER                     -0.022488        -0.160542 -0.123299  0.152937   \n",
       "AGE                         0.125363        -0.035446  0.009101 -0.034332   \n",
       "SMOKING                    -0.016181        -0.081117  0.039806  0.176385   \n",
       "YELLOW_FINGERS              0.152721        -0.071894 -0.293359 -0.106982   \n",
       "ANXIETY                     0.122630        -0.044979 -0.218399 -0.126870   \n",
       "PEER_PRESSURE               1.000000         0.143461  0.049814  0.022248   \n",
       "CHRONIC DISEASE             0.143461         1.000000  0.038425  0.216899   \n",
       "FATIGUE                     0.049814         0.038425  1.000000  0.125596   \n",
       "ALLERGY                     0.022248         0.216899  0.125596  1.000000   \n",
       "WHEEZING                    0.081947        -0.053833  0.153600  0.272138   \n",
       "ALCOHOL CONSUMING           0.049987         0.116194 -0.100524  0.420668   \n",
       "COUGHING                    0.005754        -0.192224  0.028123  0.242412   \n",
       "SHORTNESS OF BREATH        -0.123383         0.066013  0.491690  0.060401   \n",
       "SWALLOWING DIFFICULTY       0.268856         0.084499 -0.119271  0.087579   \n",
       "CHEST PAIN                  0.102634        -0.079913 -0.032266  0.300952   \n",
       "LUNG_CANCER                 0.311043         0.244002  0.234971  0.513200   \n",
       "\n",
       "                       WHEEZING  ALCOHOL CONSUMING  COUGHING  \\\n",
       "GENDER                 0.195022           0.487007  0.110961   \n",
       "AGE                    0.138633           0.143110  0.191779   \n",
       "SMOKING               -0.141425           0.006192 -0.160457   \n",
       "YELLOW_FINGERS         0.010794          -0.121288  0.154925   \n",
       "ANXIETY               -0.236965          -0.012848 -0.139669   \n",
       "PEER_PRESSURE          0.081947           0.049987  0.005754   \n",
       "CHRONIC DISEASE       -0.053833           0.116194 -0.192224   \n",
       "FATIGUE                0.153600          -0.100524  0.028123   \n",
       "ALLERGY                0.272138           0.420668  0.242412   \n",
       "WHEEZING               1.000000           0.353470  0.503504   \n",
       "ALCOHOL CONSUMING      0.353470           1.000000  0.273196   \n",
       "COUGHING               0.503504           0.273196  1.000000   \n",
       "SHORTNESS OF BREATH    0.188566          -0.142142  0.205813   \n",
       "SWALLOWING DIFFICULTY  0.113846           0.130365 -0.081559   \n",
       "CHEST PAIN             0.257012           0.325877  0.110672   \n",
       "LUNG_CANCER            0.362466           0.438350  0.318046   \n",
       "\n",
       "                       SHORTNESS OF BREATH  SWALLOWING DIFFICULTY  CHEST PAIN  \\\n",
       "GENDER                           -0.127003               0.106336    0.453347   \n",
       "AGE                              -0.033381              -0.004218    0.021997   \n",
       "SMOKING                          -0.009227               0.033272    0.116128   \n",
       "YELLOW_FINGERS                   -0.146664               0.381276    0.014088   \n",
       "ANXIETY                          -0.373462               0.471913   -0.047375   \n",
       "PEER_PRESSURE                    -0.123383               0.268856    0.102634   \n",
       "CHRONIC DISEASE                   0.066013               0.084499   -0.079913   \n",
       "FATIGUE                           0.491690              -0.119271   -0.032266   \n",
       "ALLERGY                           0.060401               0.087579    0.300952   \n",
       "WHEEZING                          0.188566               0.113846    0.257012   \n",
       "ALCOHOL CONSUMING                -0.142142               0.130365    0.325877   \n",
       "COUGHING                          0.205813              -0.081559    0.110672   \n",
       "SHORTNESS OF BREATH               1.000000              -0.121972   -0.058402   \n",
       "SWALLOWING DIFFICULTY            -0.121972               1.000000    0.251810   \n",
       "CHEST PAIN                       -0.058402               0.251810    1.000000   \n",
       "LUNG_CANCER                       0.133406               0.410165    0.296979   \n",
       "\n",
       "                       LUNG_CANCER  \n",
       "GENDER                    0.113331  \n",
       "AGE                       0.166834  \n",
       "SMOKING                   0.128004  \n",
       "YELLOW_FINGERS            0.198507  \n",
       "ANXIETY                   0.158786  \n",
       "PEER_PRESSURE             0.311043  \n",
       "CHRONIC DISEASE           0.244002  \n",
       "FATIGUE                   0.234971  \n",
       "ALLERGY                   0.513200  \n",
       "WHEEZING                  0.362466  \n",
       "ALCOHOL CONSUMING         0.438350  \n",
       "COUGHING                  0.318046  \n",
       "SHORTNESS OF BREATH       0.133406  \n",
       "SWALLOWING DIFFICULTY     0.410165  \n",
       "CHEST PAIN                0.296979  \n",
       "LUNG_CANCER               1.000000  "
      ]
     },
     "execution_count": 8,
     "metadata": {},
     "output_type": "execute_result"
    }
   ],
   "source": [
    "data.corr()"
   ]
  },
  {
   "cell_type": "code",
   "execution_count": 9,
   "id": "94cb7832",
   "metadata": {},
   "outputs": [
    {
     "data": {
      "text/plain": [
       "<AxesSubplot:>"
      ]
     },
     "execution_count": 9,
     "metadata": {},
     "output_type": "execute_result"
    },
    {
     "data": {
      "image/png": "[encoded data removed]",
      "text/plain": [
       "<Figure size 1080x720 with 2 Axes>"
      ]
     },
     "metadata": {
      "needs_background": "light"
     },
     "output_type": "display_data"
    }
   ],
   "source": [
    "matrix = np.triu(data.corr())\n",
    "plt.figure(figsize = (15,10))\n",
    "sns.heatmap(data.corr(), annot=True, mask=matrix)"
   ]
  },
  {
   "cell_type": "markdown",
   "id": "a3ba34fc",
   "metadata": {},
   "source": [
    "# Age"
   ]
  },
  {
   "cell_type": "code",
   "execution_count": 10,
   "id": "0ff66a01",
   "metadata": {},
   "outputs": [
    {
     "data": {
      "text/plain": [
       "<AxesSubplot:title={'center':'Age vs. lung cancer'}, ylabel='Frequency'>"
      ]
     },
     "execution_count": 10,
     "metadata": {},
     "output_type": "execute_result"
    },
    {
     "data": {
      "image/png": "[encoded data removed]",
      "text/plain": [
       "<Figure size 432x288 with 1 Axes>"
      ]
     },
     "metadata": {
      "needs_background": "light"
     },
     "output_type": "display_data"
    }
   ],
   "source": [
    "yes_data[AGE].plot(title=\"Age vs. lung cancer\", kind=\"hist\")\n",
    "no_data[AGE].plot(kind=\"hist\")"
   ]
  },
  {
   "cell_type": "markdown",
   "id": "ea25f325",
   "metadata": {},
   "source": [
    "# Smoking"
   ]
  },
  {
   "cell_type": "code",
   "execution_count": 11,
   "id": "3be7e930",
   "metadata": {},
   "outputs": [
    {
     "data": {
      "text/plain": [
       "<AxesSubplot:title={'center':'Smoking vs. lung cancer'}>"
      ]
     },
     "execution_count": 11,
     "metadata": {},
     "output_type": "execute_result"
    },
    {
     "data": {
      "image/png": "[encoded data removed]",
      "text/plain": [
       "<Figure size 432x288 with 1 Axes>"
      ]
     },
     "metadata": {
      "needs_background": "light"
     },
     "output_type": "display_data"
    }
   ],
   "source": [
    "yes_data[SMOKING].value_counts().plot(title=\"Smoking vs. lung cancer\", kind=\"bar\")"
   ]
  },
  {
   "cell_type": "code",
   "execution_count": 12,
   "id": "37556c08",
   "metadata": {},
   "outputs": [
    {
     "data": {
      "text/plain": [
       "<AxesSubplot:title={'center':'Non-smoking vs. lung cancer'}>"
      ]
     },
     "execution_count": 12,
     "metadata": {},
     "output_type": "execute_result"
    },
    {
     "data": {
      "image/png": "[encoded data removed]",
      "text/plain": [
       "<Figure size 432x288 with 1 Axes>"
      ]
     },
     "metadata": {
      "needs_background": "light"
     },
     "output_type": "display_data"
    }
   ],
   "source": [
    "no_data[SMOKING].value_counts().plot(title=\"Non-smoking vs. lung cancer\", kind=\"bar\")"
   ]
  },
  {
   "cell_type": "markdown",
   "id": "319a5dd5",
   "metadata": {},
   "source": [
    "# Chronic Disease"
   ]
  },
  {
   "cell_type": "code",
   "execution_count": 13,
   "id": "e6a84422",
   "metadata": {},
   "outputs": [
    {
     "data": {
      "text/plain": [
       "<AxesSubplot:title={'center':'Chronic disease vs. lung cancer'}>"
      ]
     },
     "execution_count": 13,
     "metadata": {},
     "output_type": "execute_result"
    },
    {
     "data": {
      "image/png": "[encoded data removed]",
      "text/plain": [
       "<Figure size 432x288 with 1 Axes>"
      ]
     },
     "metadata": {
      "needs_background": "light"
     },
     "output_type": "display_data"
    }
   ],
   "source": [
    "yes_data[CHRONIC_DISEASE].value_counts().plot(title=\"Chronic disease vs. lung cancer\", kind=\"bar\")"
   ]
  },
  {
   "cell_type": "code",
   "execution_count": 14,
   "id": "390af0ba",
   "metadata": {},
   "outputs": [
    {
     "data": {
      "text/plain": [
       "<AxesSubplot:title={'center':'Chronic disease vs. lung cancer'}>"
      ]
     },
     "execution_count": 14,
     "metadata": {},
     "output_type": "execute_result"
    },
    {
     "data": {
      "image/png": "[encoded data removed]",
      "text/plain": [
       "<Figure size 432x288 with 1 Axes>"
      ]
     },
     "metadata": {
      "needs_background": "light"
     },
     "output_type": "display_data"
    }
   ],
   "source": [
    "no_data[CHRONIC_DISEASE].value_counts().plot(title=\"Chronic disease vs. lung cancer\", kind=\"bar\")"
   ]
  },
  {
   "cell_type": "markdown",
   "id": "b4a2d073",
   "metadata": {},
   "source": [
    "# Making Predictions"
   ]
  },
  {
   "cell_type": "code",
   "execution_count": 15,
   "id": "90a30e0c",
   "metadata": {},
   "outputs": [],
   "source": [
    "# Seperate the data into training and validation set\n",
    "data_X = data.iloc[:, 0:15]\n",
    "# data_X = preprocessing.scale(data_X) \n",
    "# Scaling helps linearSVC converge\n",
    "data_y = data.iloc[:, 15]\n",
    "train_X, test_X, train_y, test_y = model_selection.train_test_split(\n",
    "    data_X, data_y, test_size = 0.2, random_state=0)"
   ]
  },
  {
   "cell_type": "code",
   "execution_count": 16,
   "id": "f8b78fa7",
   "metadata": {},
   "outputs": [],
   "source": [
    "def run_classifiers(classifiers, train_X, train_y, test_X, test_y):\n",
    "    \"\"\"\n",
    "    Fits each classifier to the training data and runs it on the test data.\n",
    "    Prints out the training and test accuracies.\n",
    "    \"\"\"\n",
    "    results = [] # list of 3-tuples: (classifier name, train accuracy, test accuracy)\n",
    "    \n",
    "    for clf in classifiers:\n",
    "        # Run classifier on train and test data\n",
    "        clf.fit(train_X, train_y)\n",
    "        train_pred = clf.predict(train_X)\n",
    "        train_acc = metrics.accuracy_score(train_y, train_pred)\n",
    "\n",
    "        test_pred = clf.predict(test_X)\n",
    "        test_acc = metrics.accuracy_score(test_y, test_pred)\n",
    "        \n",
    "        # Print out misclassification metrics\n",
    "        conf_mat = metrics.confusion_matrix(test_y, test_pred)\n",
    "        precision = conf_mat[1][1] / (conf_mat[1][1] + conf_mat[0][1])\n",
    "        recall = conf_mat[1][1] / (conf_mat[1][1] + conf_mat[1][0])\n",
    "        f1_score = 2 * ((precision * recall) / (precision + recall))\n",
    "        \n",
    "        print(f\"{type(clf).__name__}\")\n",
    "        print('-----------------------------')\n",
    "        print(f\"Precision rate = {precision}\")\n",
    "        print(f\"Recall rate = {recall}\")\n",
    "        print(\"F1 score = {f1_score}\\n\")\n",
    "        print(conf_mat)\n",
    "        print('-----------------------------')\n",
    "        \n",
    "        # Store results\n",
    "        results.append( ((type(clf).__name__), train_acc, test_acc))\n",
    "        \n",
    "        return results"
   ]
  },
  {
   "cell_type": "code",
   "execution_count": 17,
   "id": "480e21b9",
   "metadata": {},
   "outputs": [
    {
     "name": "stdout",
     "output_type": "stream",
     "text": [
      "LinearDiscriminantAnalysis\n",
      "-----------------------------\n",
      "Precision rate = 0.8846153846153846\n",
      "Recall rate = 0.8679245283018868\n",
      "F1 score = {f1_score}\n",
      "\n",
      "[[49  6]\n",
      " [ 7 46]]\n",
      "-----------------------------\n"
     ]
    },
    {
     "data": {
      "text/plain": [
       "[('LinearDiscriminantAnalysis', 0.9164733178654292, 0.8796296296296297)]"
      ]
     },
     "execution_count": 17,
     "metadata": {},
     "output_type": "execute_result"
    }
   ],
   "source": [
    "classifiers = [\n",
    "    discriminant_analysis.LinearDiscriminantAnalysis(),\n",
    "    linear_model.LogisticRegression(solver=\"lbfgs\", max_iter=200),\n",
    "    ensemble.AdaBoostClassifier(),\n",
    "    svm.SVC(C=1, gamma=1, kernel='rbf'),\n",
    "    RandomForestClassifier(max_depth=5)\n",
    "]\n",
    "results = run_classifiers(classifiers, train_X, train_y, test_X, test_y)\n",
    "results"
   ]
  },
  {
   "cell_type": "code",
   "execution_count": 18,
   "id": "da449e60",
   "metadata": {},
   "outputs": [
    {
     "name": "stdout",
     "output_type": "stream",
     "text": [
      "LinearDiscriminantAnalysis 0.9164733178654292\n"
     ]
    }
   ],
   "source": [
    "classifier_names = [clf[0] for clf in results]\n",
    "train_acc = [clf[1] for clf in results]\n",
    "test_acc = [clf[2] for clf in results]\n",
    "\n",
    "for i in range(len(classifier_names)):\n",
    "    print(classifier_names[i], train_acc[i])"
   ]
  },
  {
   "cell_type": "code",
   "execution_count": 19,
   "id": "b342d773",
   "metadata": {},
   "outputs": [],
   "source": [
    "Accuracy_df = pd.DataFrame(test_acc, classifier_names)\n",
    "Accuracy_df.reset_index(inplace=True)"
   ]
  },
  {
   "cell_type": "code",
   "execution_count": 20,
   "id": "4181418b",
   "metadata": {},
   "outputs": [
    {
     "data": {
      "text/html": [
       "<div>\n",
       "<style scoped>\n",
       "    .dataframe tbody tr th:only-of-type {\n",
       "        vertical-align: middle;\n",
       "    }\n",
       "\n",
       "    .dataframe tbody tr th {\n",
       "        vertical-align: top;\n",
       "    }\n",
       "\n",
       "    .dataframe thead th {\n",
       "        text-align: right;\n",
       "    }\n",
       "</style>\n",
       "<table border=\"1\" class=\"dataframe\">\n",
       "  <thead>\n",
       "    <tr style=\"text-align: right;\">\n",
       "      <th></th>\n",
       "      <th>Algorithm</th>\n",
       "      <th>Accuracy</th>\n",
       "    </tr>\n",
       "  </thead>\n",
       "  <tbody>\n",
       "    <tr>\n",
       "      <th>0</th>\n",
       "      <td>LinearDiscriminantAnalysis</td>\n",
       "      <td>0.87963</td>\n",
       "    </tr>\n",
       "  </tbody>\n",
       "</table>\n",
       "</div>"
      ],
      "text/plain": [
       "                    Algorithm  Accuracy\n",
       "0  LinearDiscriminantAnalysis   0.87963"
      ]
     },
     "execution_count": 20,
     "metadata": {},
     "output_type": "execute_result"
    }
   ],
   "source": [
    "Accuracy_df\n",
    "Accuracy_df.columns = ['Algorithm', 'Accuracy']\n",
    "Accuracy_df"
   ]
  },
  {
   "cell_type": "code",
   "execution_count": 21,
   "id": "baa20fba",
   "metadata": {},
   "outputs": [
    {
     "data": {
      "image/png": "[encoded data removed]",
      "text/plain": [
       "<Figure size 1080x360 with 1 Axes>"
      ]
     },
     "metadata": {
      "needs_background": "light"
     },
     "output_type": "display_data"
    }
   ],
   "source": [
    "plt.figure(figsize=(15,5))\n",
    "ax = sns.barplot(x='Algorithm', y='Accuracy', data = Accuracy_df).set(title='Accuracy with Different Classification Algorithms')"
   ]
  },
  {
   "cell_type": "code",
   "execution_count": 22,
   "id": "9bab9dc0",
   "metadata": {},
   "outputs": [
    {
     "name": "stdout",
     "output_type": "stream",
     "text": [
      "0.986024575977847\n"
     ]
    }
   ],
   "source": [
    "from sklearn.model_selection import cross_val_score\n",
    "print(cross_val_score(svm.SVC(C=1, break_ties=False, cache_size=200,\n",
    "                             class_weight=None, coef0=0.0,\n",
    "                             decision_function_shape='ovr', degree=3, gamma=1, kernel='rbf',\n",
    "                             max_iter=-1,\n",
    "                             probability=False, random_state=None, shrinking=True, tol=0.001,\n",
    "                             verbose=False), train_X, train_y, cv=4, scoring=\"accuracy\").mean())"
   ]
  },
  {
   "cell_type": "markdown",
   "id": "d2b1cdb3",
   "metadata": {},
   "source": [
    "# Parameters SVM"
   ]
  },
  {
   "cell_type": "markdown",
   "id": "bf6b83fd",
   "metadata": {},
   "source": [
    "C=1, break_ties=False, cache_size=200, class_weight=None, coef0=0.0, decision_function_shape='ovr', degree=3, gamma=1, kernel='rbf', max_iter=-1, probability=False, random_state=None, shrinking=True, tol=0.001, verbose=False"
   ]
  },
  {
   "cell_type": "code",
   "execution_count": 23,
   "id": "f46f6e99",
   "metadata": {},
   "outputs": [
    {
     "name": "stdout",
     "output_type": "stream",
     "text": [
      "Fitting 5 folds for each of 25 candidates, totalling 125 fits\n",
      "[CV 1/5] END ........C=0.1, gamma=1, kernel=rbf;, score=0.586 total time=   0.0s\n",
      "[CV 2/5] END ........C=0.1, gamma=1, kernel=rbf;, score=0.593 total time=   0.0s\n",
      "[CV 3/5] END ........C=0.1, gamma=1, kernel=rbf;, score=0.547 total time=   0.0s\n",
      "[CV 4/5] END ........C=0.1, gamma=1, kernel=rbf;, score=0.581 total time=   0.0s\n",
      "[CV 5/5] END ........C=0.1, gamma=1, kernel=rbf;, score=0.581 total time=   0.0s\n",
      "[CV 1/5] END ......C=0.1, gamma=0.1, kernel=rbf;, score=0.874 total time=   0.0s\n",
      "[CV 2/5] END ......C=0.1, gamma=0.1, kernel=rbf;, score=0.756 total time=   0.0s\n",
      "[CV 3/5] END ......C=0.1, gamma=0.1, kernel=rbf;, score=0.767 total time=   0.0s\n",
      "[CV 4/5] END ......C=0.1, gamma=0.1, kernel=rbf;, score=0.860 total time=   0.0s\n",
      "[CV 5/5] END ......C=0.1, gamma=0.1, kernel=rbf;, score=0.826 total time=   0.0s\n",
      "[CV 1/5] END .....C=0.1, gamma=0.01, kernel=rbf;, score=0.736 total time=   0.0s\n",
      "[CV 2/5] END .....C=0.1, gamma=0.01, kernel=rbf;, score=0.593 total time=   0.0s\n",
      "[CV 3/5] END .....C=0.1, gamma=0.01, kernel=rbf;, score=0.616 total time=   0.0s\n",
      "[CV 4/5] END .....C=0.1, gamma=0.01, kernel=rbf;, score=0.465 total time=   0.0s\n",
      "[CV 5/5] END .....C=0.1, gamma=0.01, kernel=rbf;, score=0.581 total time=   0.0s\n",
      "[CV 1/5] END ....C=0.1, gamma=0.001, kernel=rbf;, score=0.506 total time=   0.0s\n",
      "[CV 2/5] END ....C=0.1, gamma=0.001, kernel=rbf;, score=0.512 total time=   0.0s\n",
      "[CV 3/5] END ....C=0.1, gamma=0.001, kernel=rbf;, score=0.500 total time=   0.0s\n",
      "[CV 4/5] END ....C=0.1, gamma=0.001, kernel=rbf;, score=0.488 total time=   0.0s\n",
      "[CV 5/5] END ....C=0.1, gamma=0.001, kernel=rbf;, score=0.523 total time=   0.0s\n",
      "[CV 1/5] END ...C=0.1, gamma=0.0001, kernel=rbf;, score=0.506 total time=   0.0s\n",
      "[CV 2/5] END ...C=0.1, gamma=0.0001, kernel=rbf;, score=0.500 total time=   0.0s\n",
      "[CV 3/5] END ...C=0.1, gamma=0.0001, kernel=rbf;, score=0.500 total time=   0.0s\n",
      "[CV 4/5] END ...C=0.1, gamma=0.0001, kernel=rbf;, score=0.500 total time=   0.0s\n",
      "[CV 5/5] END ...C=0.1, gamma=0.0001, kernel=rbf;, score=0.512 total time=   0.0s\n",
      "[CV 1/5] END ..........C=1, gamma=1, kernel=rbf;, score=1.000 total time=   0.0s\n",
      "[CV 2/5] END ..........C=1, gamma=1, kernel=rbf;, score=1.000 total time=   0.0s\n",
      "[CV 3/5] END ..........C=1, gamma=1, kernel=rbf;, score=1.000 total time=   0.0s\n",
      "[CV 4/5] END ..........C=1, gamma=1, kernel=rbf;, score=1.000 total time=   0.0s\n",
      "[CV 5/5] END ..........C=1, gamma=1, kernel=rbf;, score=0.988 total time=   0.0s\n",
      "[CV 1/5] END ........C=1, gamma=0.1, kernel=rbf;, score=0.954 total time=   0.0s\n",
      "[CV 2/5] END ........C=1, gamma=0.1, kernel=rbf;, score=0.919 total time=   0.0s\n",
      "[CV 3/5] END ........C=1, gamma=0.1, kernel=rbf;, score=0.930 total time=   0.0s\n",
      "[CV 4/5] END ........C=1, gamma=0.1, kernel=rbf;, score=1.000 total time=   0.0s\n",
      "[CV 5/5] END ........C=1, gamma=0.1, kernel=rbf;, score=0.919 total time=   0.0s\n",
      "[CV 1/5] END .......C=1, gamma=0.01, kernel=rbf;, score=0.885 total time=   0.0s\n",
      "[CV 2/5] END .......C=1, gamma=0.01, kernel=rbf;, score=0.860 total time=   0.0s\n",
      "[CV 3/5] END .......C=1, gamma=0.01, kernel=rbf;, score=0.814 total time=   0.0s\n",
      "[CV 4/5] END .......C=1, gamma=0.01, kernel=rbf;, score=0.942 total time=   0.0s\n",
      "[CV 5/5] END .......C=1, gamma=0.01, kernel=rbf;, score=0.802 total time=   0.0s\n",
      "[CV 1/5] END ......C=1, gamma=0.001, kernel=rbf;, score=0.747 total time=   0.0s\n",
      "[CV 2/5] END ......C=1, gamma=0.001, kernel=rbf;, score=0.570 total time=   0.0s\n",
      "[CV 3/5] END ......C=1, gamma=0.001, kernel=rbf;, score=0.616 total time=   0.0s\n",
      "[CV 4/5] END ......C=1, gamma=0.001, kernel=rbf;, score=0.558 total time=   0.0s\n",
      "[CV 5/5] END ......C=1, gamma=0.001, kernel=rbf;, score=0.616 total time=   0.0s\n",
      "[CV 1/5] END .....C=1, gamma=0.0001, kernel=rbf;, score=0.506 total time=   0.0s\n",
      "[CV 2/5] END .....C=1, gamma=0.0001, kernel=rbf;, score=0.500 total time=   0.0s\n",
      "[CV 3/5] END .....C=1, gamma=0.0001, kernel=rbf;, score=0.535 total time=   0.0s\n",
      "[CV 4/5] END .....C=1, gamma=0.0001, kernel=rbf;, score=0.465 total time=   0.0s\n",
      "[CV 5/5] END .....C=1, gamma=0.0001, kernel=rbf;, score=0.512 total time=   0.0s\n",
      "[CV 1/5] END .........C=10, gamma=1, kernel=rbf;, score=1.000 total time=   0.0s\n",
      "[CV 2/5] END .........C=10, gamma=1, kernel=rbf;, score=1.000 total time=   0.0s\n",
      "[CV 3/5] END .........C=10, gamma=1, kernel=rbf;, score=1.000 total time=   0.0s\n",
      "[CV 4/5] END .........C=10, gamma=1, kernel=rbf;, score=1.000 total time=   0.0s\n",
      "[CV 5/5] END .........C=10, gamma=1, kernel=rbf;, score=0.988 total time=   0.0s\n",
      "[CV 1/5] END .......C=10, gamma=0.1, kernel=rbf;, score=0.989 total time=   0.0s\n",
      "[CV 2/5] END .......C=10, gamma=0.1, kernel=rbf;, score=1.000 total time=   0.0s\n",
      "[CV 3/5] END .......C=10, gamma=0.1, kernel=rbf;, score=0.953 total time=   0.0s\n",
      "[CV 4/5] END .......C=10, gamma=0.1, kernel=rbf;, score=0.988 total time=   0.0s\n",
      "[CV 5/5] END .......C=10, gamma=0.1, kernel=rbf;, score=0.930 total time=   0.0s\n",
      "[CV 1/5] END ......C=10, gamma=0.01, kernel=rbf;, score=0.920 total time=   0.0s\n",
      "[CV 2/5] END ......C=10, gamma=0.01, kernel=rbf;, score=0.919 total time=   0.0s\n",
      "[CV 3/5] END ......C=10, gamma=0.01, kernel=rbf;, score=0.930 total time=   0.0s\n",
      "[CV 4/5] END ......C=10, gamma=0.01, kernel=rbf;, score=0.953 total time=   0.0s\n",
      "[CV 5/5] END ......C=10, gamma=0.01, kernel=rbf;, score=0.872 total time=   0.0s\n",
      "[CV 1/5] END .....C=10, gamma=0.001, kernel=rbf;, score=0.908 total time=   0.0s\n",
      "[CV 2/5] END .....C=10, gamma=0.001, kernel=rbf;, score=0.895 total time=   0.0s\n",
      "[CV 3/5] END .....C=10, gamma=0.001, kernel=rbf;, score=0.826 total time=   0.0s\n",
      "[CV 4/5] END .....C=10, gamma=0.001, kernel=rbf;, score=0.942 total time=   0.0s\n",
      "[CV 5/5] END .....C=10, gamma=0.001, kernel=rbf;, score=0.837 total time=   0.0s\n",
      "[CV 1/5] END ....C=10, gamma=0.0001, kernel=rbf;, score=0.759 total time=   0.0s\n",
      "[CV 2/5] END ....C=10, gamma=0.0001, kernel=rbf;, score=0.663 total time=   0.0s\n",
      "[CV 3/5] END ....C=10, gamma=0.0001, kernel=rbf;, score=0.709 total time=   0.0s\n",
      "[CV 4/5] END ....C=10, gamma=0.0001, kernel=rbf;, score=0.640 total time=   0.0s\n",
      "[CV 5/5] END ....C=10, gamma=0.0001, kernel=rbf;, score=0.651 total time=   0.0s\n",
      "[CV 1/5] END ........C=100, gamma=1, kernel=rbf;, score=1.000 total time=   0.0s\n",
      "[CV 2/5] END ........C=100, gamma=1, kernel=rbf;, score=1.000 total time=   0.0s\n",
      "[CV 3/5] END ........C=100, gamma=1, kernel=rbf;, score=1.000 total time=   0.0s\n",
      "[CV 4/5] END ........C=100, gamma=1, kernel=rbf;, score=1.000 total time=   0.0s\n",
      "[CV 5/5] END ........C=100, gamma=1, kernel=rbf;, score=0.988 total time=   0.0s\n",
      "[CV 1/5] END ......C=100, gamma=0.1, kernel=rbf;, score=0.989 total time=   0.0s\n",
      "[CV 2/5] END ......C=100, gamma=0.1, kernel=rbf;, score=1.000 total time=   0.0s\n",
      "[CV 3/5] END ......C=100, gamma=0.1, kernel=rbf;, score=0.953 total time=   0.0s\n",
      "[CV 4/5] END ......C=100, gamma=0.1, kernel=rbf;, score=0.988 total time=   0.0s\n",
      "[CV 5/5] END ......C=100, gamma=0.1, kernel=rbf;, score=0.930 total time=   0.0s\n",
      "[CV 1/5] END .....C=100, gamma=0.01, kernel=rbf;, score=0.943 total time=   0.0s\n",
      "[CV 2/5] END .....C=100, gamma=0.01, kernel=rbf;, score=0.965 total time=   0.0s\n",
      "[CV 3/5] END .....C=100, gamma=0.01, kernel=rbf;, score=0.930 total time=   0.0s\n",
      "[CV 4/5] END .....C=100, gamma=0.01, kernel=rbf;, score=0.965 total time=   0.0s\n",
      "[CV 5/5] END .....C=100, gamma=0.01, kernel=rbf;, score=0.919 total time=   0.0s\n",
      "[CV 1/5] END ....C=100, gamma=0.001, kernel=rbf;, score=0.920 total time=   0.0s\n",
      "[CV 2/5] END ....C=100, gamma=0.001, kernel=rbf;, score=0.919 total time=   0.0s\n",
      "[CV 3/5] END ....C=100, gamma=0.001, kernel=rbf;, score=0.849 total time=   0.0s\n",
      "[CV 4/5] END ....C=100, gamma=0.001, kernel=rbf;, score=0.895 total time=   0.0s\n",
      "[CV 5/5] END ....C=100, gamma=0.001, kernel=rbf;, score=0.837 total time=   0.0s\n",
      "[CV 1/5] END ...C=100, gamma=0.0001, kernel=rbf;, score=0.897 total time=   0.0s\n",
      "[CV 2/5] END ...C=100, gamma=0.0001, kernel=rbf;, score=0.895 total time=   0.0s\n",
      "[CV 3/5] END ...C=100, gamma=0.0001, kernel=rbf;, score=0.860 total time=   0.0s\n",
      "[CV 4/5] END ...C=100, gamma=0.0001, kernel=rbf;, score=0.930 total time=   0.0s\n",
      "[CV 5/5] END ...C=100, gamma=0.0001, kernel=rbf;, score=0.837 total time=   0.0s\n",
      "[CV 1/5] END .......C=1000, gamma=1, kernel=rbf;, score=1.000 total time=   0.0s\n"
     ]
    },
    {
     "name": "stdout",
     "output_type": "stream",
     "text": [
      "[CV 2/5] END .......C=1000, gamma=1, kernel=rbf;, score=1.000 total time=   0.0s\n",
      "[CV 3/5] END .......C=1000, gamma=1, kernel=rbf;, score=1.000 total time=   0.0s\n",
      "[CV 4/5] END .......C=1000, gamma=1, kernel=rbf;, score=1.000 total time=   0.0s\n",
      "[CV 5/5] END .......C=1000, gamma=1, kernel=rbf;, score=0.988 total time=   0.0s\n",
      "[CV 1/5] END .....C=1000, gamma=0.1, kernel=rbf;, score=0.989 total time=   0.0s\n",
      "[CV 2/5] END .....C=1000, gamma=0.1, kernel=rbf;, score=1.000 total time=   0.0s\n",
      "[CV 3/5] END .....C=1000, gamma=0.1, kernel=rbf;, score=0.953 total time=   0.0s\n",
      "[CV 4/5] END .....C=1000, gamma=0.1, kernel=rbf;, score=0.988 total time=   0.0s\n",
      "[CV 5/5] END .....C=1000, gamma=0.1, kernel=rbf;, score=0.930 total time=   0.0s\n",
      "[CV 1/5] END ....C=1000, gamma=0.01, kernel=rbf;, score=0.943 total time=   0.0s\n",
      "[CV 2/5] END ....C=1000, gamma=0.01, kernel=rbf;, score=0.977 total time=   0.0s\n",
      "[CV 3/5] END ....C=1000, gamma=0.01, kernel=rbf;, score=0.965 total time=   0.0s\n",
      "[CV 4/5] END ....C=1000, gamma=0.01, kernel=rbf;, score=0.988 total time=   0.0s\n",
      "[CV 5/5] END ....C=1000, gamma=0.01, kernel=rbf;, score=0.930 total time=   0.0s\n",
      "[CV 1/5] END ...C=1000, gamma=0.001, kernel=rbf;, score=0.943 total time=   0.0s\n",
      "[CV 2/5] END ...C=1000, gamma=0.001, kernel=rbf;, score=0.942 total time=   0.0s\n",
      "[CV 3/5] END ...C=1000, gamma=0.001, kernel=rbf;, score=0.919 total time=   0.0s\n",
      "[CV 4/5] END ...C=1000, gamma=0.001, kernel=rbf;, score=0.953 total time=   0.0s\n",
      "[CV 5/5] END ...C=1000, gamma=0.001, kernel=rbf;, score=0.860 total time=   0.0s\n",
      "[CV 1/5] END ..C=1000, gamma=0.0001, kernel=rbf;, score=0.908 total time=   0.0s\n",
      "[CV 2/5] END ..C=1000, gamma=0.0001, kernel=rbf;, score=0.907 total time=   0.0s\n",
      "[CV 3/5] END ..C=1000, gamma=0.0001, kernel=rbf;, score=0.849 total time=   0.0s\n",
      "[CV 4/5] END ..C=1000, gamma=0.0001, kernel=rbf;, score=0.895 total time=   0.0s\n",
      "[CV 5/5] END ..C=1000, gamma=0.0001, kernel=rbf;, score=0.849 total time=   0.0s\n"
     ]
    },
    {
     "data": {
      "text/plain": [
       "GridSearchCV(estimator=SVC(),\n",
       "             param_grid={'C': [0.1, 1, 10, 100, 1000],\n",
       "                         'gamma': [1, 0.1, 0.01, 0.001, 0.0001],\n",
       "                         'kernel': ['rbf']},\n",
       "             verbose=3)"
      ]
     },
     "execution_count": 23,
     "metadata": {},
     "output_type": "execute_result"
    }
   ],
   "source": [
    "from sklearn.svm import SVC\n",
    "from sklearn.model_selection import GridSearchCV\n",
    "\n",
    "# Defining parameter range\n",
    "param_grid = {'C': [0.1, 1, 10, 100, 1000],\n",
    "             'gamma': [1, 0.1, 0.01, 0.001, 0.0001],\n",
    "             'kernel': ['rbf']}\n",
    "\n",
    "grid = GridSearchCV(SVC(), param_grid, refit = True, verbose=3)\n",
    "\n",
    "# fitting the model for grid search\n",
    "grid.fit(train_X, train_y)"
   ]
  },
  {
   "cell_type": "code",
   "execution_count": 24,
   "id": "13aec1cb",
   "metadata": {},
   "outputs": [
    {
     "name": "stdout",
     "output_type": "stream",
     "text": [
      "{'C': 1, 'gamma': 1, 'kernel': 'rbf'}\n",
      "SVC(C=1, gamma=1)\n"
     ]
    }
   ],
   "source": [
    "# print best parameter after tuning\n",
    "print(grid.best_params_)\n",
    "\n",
    "# print how the model looks after hyper-parameter tuning\n",
    "print(grid.best_estimator_)"
   ]
  },
  {
   "cell_type": "markdown",
   "id": "a269af34",
   "metadata": {},
   "source": [
    "# Construct Model"
   ]
  },
  {
   "cell_type": "code",
   "execution_count": 2,
   "id": "86273e3a",
   "metadata": {},
   "outputs": [
    {
     "data": {
      "text/html": [
       "<div>\n",
       "<style scoped>\n",
       "    .dataframe tbody tr th:only-of-type {\n",
       "        vertical-align: middle;\n",
       "    }\n",
       "\n",
       "    .dataframe tbody tr th {\n",
       "        vertical-align: top;\n",
       "    }\n",
       "\n",
       "    .dataframe thead th {\n",
       "        text-align: right;\n",
       "    }\n",
       "</style>\n",
       "<table border=\"1\" class=\"dataframe\">\n",
       "  <thead>\n",
       "    <tr style=\"text-align: right;\">\n",
       "      <th></th>\n",
       "      <th>GENDER</th>\n",
       "      <th>AGE</th>\n",
       "      <th>SMOKING</th>\n",
       "      <th>YELLOW_FINGERS</th>\n",
       "      <th>ANXIETY</th>\n",
       "      <th>PEER_PRESSURE</th>\n",
       "      <th>CHRONIC DISEASE</th>\n",
       "      <th>FATIGUE</th>\n",
       "      <th>ALLERGY</th>\n",
       "      <th>WHEEZING</th>\n",
       "      <th>ALCOHOL CONSUMING</th>\n",
       "      <th>COUGHING</th>\n",
       "      <th>SHORTNESS OF BREATH</th>\n",
       "      <th>SWALLOWING DIFFICULTY</th>\n",
       "      <th>CHEST PAIN</th>\n",
       "      <th>LUNG_CANCER</th>\n",
       "    </tr>\n",
       "  </thead>\n",
       "  <tbody>\n",
       "    <tr>\n",
       "      <th>0</th>\n",
       "      <td>1</td>\n",
       "      <td>69</td>\n",
       "      <td>0</td>\n",
       "      <td>1</td>\n",
       "      <td>1</td>\n",
       "      <td>0</td>\n",
       "      <td>0</td>\n",
       "      <td>1</td>\n",
       "      <td>0</td>\n",
       "      <td>1</td>\n",
       "      <td>1</td>\n",
       "      <td>1</td>\n",
       "      <td>1</td>\n",
       "      <td>1</td>\n",
       "      <td>1</td>\n",
       "      <td>1</td>\n",
       "    </tr>\n",
       "    <tr>\n",
       "      <th>1</th>\n",
       "      <td>1</td>\n",
       "      <td>74</td>\n",
       "      <td>1</td>\n",
       "      <td>0</td>\n",
       "      <td>0</td>\n",
       "      <td>0</td>\n",
       "      <td>1</td>\n",
       "      <td>1</td>\n",
       "      <td>1</td>\n",
       "      <td>0</td>\n",
       "      <td>0</td>\n",
       "      <td>0</td>\n",
       "      <td>1</td>\n",
       "      <td>1</td>\n",
       "      <td>1</td>\n",
       "      <td>1</td>\n",
       "    </tr>\n",
       "    <tr>\n",
       "      <th>2</th>\n",
       "      <td>0</td>\n",
       "      <td>59</td>\n",
       "      <td>0</td>\n",
       "      <td>0</td>\n",
       "      <td>0</td>\n",
       "      <td>1</td>\n",
       "      <td>0</td>\n",
       "      <td>1</td>\n",
       "      <td>0</td>\n",
       "      <td>1</td>\n",
       "      <td>0</td>\n",
       "      <td>1</td>\n",
       "      <td>1</td>\n",
       "      <td>0</td>\n",
       "      <td>1</td>\n",
       "      <td>0</td>\n",
       "    </tr>\n",
       "    <tr>\n",
       "      <th>3</th>\n",
       "      <td>1</td>\n",
       "      <td>63</td>\n",
       "      <td>1</td>\n",
       "      <td>1</td>\n",
       "      <td>1</td>\n",
       "      <td>0</td>\n",
       "      <td>0</td>\n",
       "      <td>0</td>\n",
       "      <td>0</td>\n",
       "      <td>0</td>\n",
       "      <td>1</td>\n",
       "      <td>0</td>\n",
       "      <td>0</td>\n",
       "      <td>1</td>\n",
       "      <td>1</td>\n",
       "      <td>0</td>\n",
       "    </tr>\n",
       "    <tr>\n",
       "      <th>4</th>\n",
       "      <td>0</td>\n",
       "      <td>63</td>\n",
       "      <td>0</td>\n",
       "      <td>1</td>\n",
       "      <td>0</td>\n",
       "      <td>0</td>\n",
       "      <td>0</td>\n",
       "      <td>0</td>\n",
       "      <td>0</td>\n",
       "      <td>1</td>\n",
       "      <td>0</td>\n",
       "      <td>1</td>\n",
       "      <td>1</td>\n",
       "      <td>0</td>\n",
       "      <td>0</td>\n",
       "      <td>0</td>\n",
       "    </tr>\n",
       "  </tbody>\n",
       "</table>\n",
       "</div>"
      ],
      "text/plain": [
       "   GENDER  AGE  SMOKING  YELLOW_FINGERS  ANXIETY  PEER_PRESSURE  \\\n",
       "0       1   69        0               1        1              0   \n",
       "1       1   74        1               0        0              0   \n",
       "2       0   59        0               0        0              1   \n",
       "3       1   63        1               1        1              0   \n",
       "4       0   63        0               1        0              0   \n",
       "\n",
       "   CHRONIC DISEASE  FATIGUE   ALLERGY   WHEEZING  ALCOHOL CONSUMING  COUGHING  \\\n",
       "0                0         1         0         1                  1         1   \n",
       "1                1         1         1         0                  0         0   \n",
       "2                0         1         0         1                  0         1   \n",
       "3                0         0         0         0                  1         0   \n",
       "4                0         0         0         1                  0         1   \n",
       "\n",
       "   SHORTNESS OF BREATH  SWALLOWING DIFFICULTY  CHEST PAIN  LUNG_CANCER  \n",
       "0                    1                      1           1            1  \n",
       "1                    1                      1           1            1  \n",
       "2                    1                      0           1            0  \n",
       "3                    0                      1           1            0  \n",
       "4                    1                      0           0            0  "
      ]
     },
     "execution_count": 2,
     "metadata": {},
     "output_type": "execute_result"
    }
   ],
   "source": [
    "#from numpy import loadtxt\n",
    "#data_file = loadtxt('survey lung cancer.csv', delimiter=',')\n",
    "data_file = pd.read_csv(\"survey lung cancer.csv\")\n",
    "GENDER = \"GENDER\"\n",
    "AGE = \"AGE\"\n",
    "SMOKING = \"SMOKING\"\n",
    "LUNG_CANCER = \"LUNG_CANCER\"\n",
    "CHRONIC_DISEASE = \"CHRONIC DISEASE\"\n",
    "data_df = pd.read_csv(\"survey lung cancer.csv\")\n",
    "\n",
    "for col in data_df.columns:\n",
    "    if col != AGE:\n",
    "        data_df[col] = data_df[col].astype('category').cat.codes\n",
    "data_df.head(5)"
   ]
  },
  {
   "cell_type": "code",
   "execution_count": 3,
   "id": "10815664",
   "metadata": {},
   "outputs": [],
   "source": [
    "# Load lung survey data, split train, val and test\n",
    "from sklearn.model_selection import train_test_split\n",
    "\n",
    "X = data_df.iloc[:, 0:15]\n",
    "y = data_df.iloc[:, -1]"
   ]
  },
  {
   "cell_type": "code",
   "execution_count": 4,
   "id": "3e8bba25",
   "metadata": {},
   "outputs": [],
   "source": [
    "X_train_val, X_test, y_train_val, y_test = train_test_split(X, y, test_size=0.2)\n",
    "X_train, X_val, y_train, y_val = train_test_split(X_train_val, y_train_val, test_size=0.2)"
   ]
  },
  {
   "cell_type": "code",
   "execution_count": 11,
   "id": "e99d71fe",
   "metadata": {},
   "outputs": [
    {
     "name": "stdout",
     "output_type": "stream",
     "text": [
      "Model: \"sequential_1\"\n",
      "_________________________________________________________________\n",
      "Layer (type)                 Output Shape              Param #   \n",
      "=================================================================\n",
      "dense_3 (Dense)              (None, 30)                480       \n",
      "_________________________________________________________________\n",
      "dense_4 (Dense)              (None, 15)                465       \n",
      "_________________________________________________________________\n",
      "dense_5 (Dense)              (None, 1)                 16        \n",
      "=================================================================\n",
      "Total params: 961\n",
      "Trainable params: 961\n",
      "Non-trainable params: 0\n",
      "_________________________________________________________________\n"
     ]
    }
   ],
   "source": [
    "from tensorflow.python.keras import Sequential\n",
    "from tensorflow.python.keras.layers import Dense\n",
    "from tensorflow.python.keras import models\n",
    "from tensorflow.python.keras.models import load_model\n",
    "\n",
    "model = Sequential()\n",
    "model.add(Dense(30, input_dim=15, activation='relu'))\n",
    "model.add(Dense(15, activation='relu'))\n",
    "model.add(Dense(1, activation='sigmoid'))\n",
    "model.summary()"
   ]
  },
  {
   "cell_type": "code",
   "execution_count": 12,
   "id": "4d30c32b",
   "metadata": {},
   "outputs": [],
   "source": [
    "# train model: epoch, batch_size, validation\n",
    "model.compile(loss='binary_crossentropy', optimizer='adam', metrics=['accuracy'])"
   ]
  },
  {
   "cell_type": "code",
   "execution_count": 13,
   "id": "cd12ac87",
   "metadata": {},
   "outputs": [
    {
     "name": "stdout",
     "output_type": "stream",
     "text": [
      "Epoch 1/100\n",
      "14/14 [==============================] - 2s 29ms/step - loss: 9.4837 - accuracy: 0.1168 - val_loss: 4.8538 - val_accuracy: 0.1400\n",
      "Epoch 2/100\n",
      "14/14 [==============================] - 0s 9ms/step - loss: 2.1586 - accuracy: 0.3096 - val_loss: 0.4442 - val_accuracy: 0.8600\n",
      "Epoch 3/100\n",
      "14/14 [==============================] - 0s 8ms/step - loss: 0.4136 - accuracy: 0.8832 - val_loss: 0.6136 - val_accuracy: 0.8600\n",
      "Epoch 4/100\n",
      "14/14 [==============================] - 0s 7ms/step - loss: 0.4486 - accuracy: 0.8832 - val_loss: 0.5532 - val_accuracy: 0.8600\n",
      "Epoch 5/100\n",
      "14/14 [==============================] - 0s 6ms/step - loss: 0.3811 - accuracy: 0.8832 - val_loss: 0.4559 - val_accuracy: 0.8600\n",
      "Epoch 6/100\n",
      "14/14 [==============================] - 0s 5ms/step - loss: 0.3689 - accuracy: 0.8832 - val_loss: 0.4403 - val_accuracy: 0.8600\n",
      "Epoch 7/100\n",
      "14/14 [==============================] - 0s 5ms/step - loss: 0.3657 - accuracy: 0.8832 - val_loss: 0.4477 - val_accuracy: 0.8600\n",
      "Epoch 8/100\n",
      "14/14 [==============================] - 0s 5ms/step - loss: 0.3583 - accuracy: 0.8832 - val_loss: 0.4427 - val_accuracy: 0.8600\n",
      "Epoch 9/100\n",
      "14/14 [==============================] - 0s 5ms/step - loss: 0.3568 - accuracy: 0.8832 - val_loss: 0.4361 - val_accuracy: 0.8600\n",
      "Epoch 10/100\n",
      "14/14 [==============================] - 0s 5ms/step - loss: 0.3604 - accuracy: 0.8832 - val_loss: 0.4467 - val_accuracy: 0.8600\n",
      "Epoch 11/100\n",
      "14/14 [==============================] - 0s 5ms/step - loss: 0.3543 - accuracy: 0.8832 - val_loss: 0.4267 - val_accuracy: 0.8600\n",
      "Epoch 12/100\n",
      "14/14 [==============================] - 0s 5ms/step - loss: 0.3459 - accuracy: 0.8832 - val_loss: 0.4240 - val_accuracy: 0.8600\n",
      "Epoch 13/100\n",
      "14/14 [==============================] - 0s 5ms/step - loss: 0.3409 - accuracy: 0.8832 - val_loss: 0.4114 - val_accuracy: 0.8600\n",
      "Epoch 14/100\n",
      "14/14 [==============================] - 0s 5ms/step - loss: 0.3421 - accuracy: 0.8832 - val_loss: 0.4174 - val_accuracy: 0.8600\n",
      "Epoch 15/100\n",
      "14/14 [==============================] - 0s 6ms/step - loss: 0.3352 - accuracy: 0.8832 - val_loss: 0.4128 - val_accuracy: 0.8600\n",
      "Epoch 16/100\n",
      "14/14 [==============================] - 0s 6ms/step - loss: 0.3322 - accuracy: 0.8832 - val_loss: 0.4111 - val_accuracy: 0.8600\n",
      "Epoch 17/100\n",
      "14/14 [==============================] - 0s 6ms/step - loss: 0.3286 - accuracy: 0.8832 - val_loss: 0.4051 - val_accuracy: 0.8600\n",
      "Epoch 18/100\n",
      "14/14 [==============================] - 0s 7ms/step - loss: 0.3278 - accuracy: 0.8832 - val_loss: 0.3960 - val_accuracy: 0.8600\n",
      "Epoch 19/100\n",
      "14/14 [==============================] - 0s 6ms/step - loss: 0.3267 - accuracy: 0.8832 - val_loss: 0.3933 - val_accuracy: 0.8600\n",
      "Epoch 20/100\n",
      "14/14 [==============================] - 0s 6ms/step - loss: 0.3203 - accuracy: 0.8832 - val_loss: 0.3910 - val_accuracy: 0.8600\n",
      "Epoch 21/100\n",
      "14/14 [==============================] - 0s 7ms/step - loss: 0.3166 - accuracy: 0.8832 - val_loss: 0.3900 - val_accuracy: 0.8600\n",
      "Epoch 22/100\n",
      "14/14 [==============================] - 0s 7ms/step - loss: 0.3119 - accuracy: 0.8832 - val_loss: 0.3799 - val_accuracy: 0.8600\n",
      "Epoch 23/100\n",
      "14/14 [==============================] - 0s 6ms/step - loss: 0.3121 - accuracy: 0.8832 - val_loss: 0.3799 - val_accuracy: 0.8600\n",
      "Epoch 24/100\n",
      "14/14 [==============================] - 0s 7ms/step - loss: 0.3070 - accuracy: 0.8832 - val_loss: 0.3834 - val_accuracy: 0.8600\n",
      "Epoch 25/100\n",
      "14/14 [==============================] - 0s 7ms/step - loss: 0.3064 - accuracy: 0.8832 - val_loss: 0.3852 - val_accuracy: 0.8600\n",
      "Epoch 26/100\n",
      "14/14 [==============================] - 0s 6ms/step - loss: 0.3038 - accuracy: 0.8832 - val_loss: 0.3731 - val_accuracy: 0.8600\n",
      "Epoch 27/100\n",
      "14/14 [==============================] - 0s 7ms/step - loss: 0.3029 - accuracy: 0.8832 - val_loss: 0.3712 - val_accuracy: 0.8600\n",
      "Epoch 28/100\n",
      "14/14 [==============================] - 0s 6ms/step - loss: 0.2996 - accuracy: 0.8832 - val_loss: 0.3786 - val_accuracy: 0.8600\n",
      "Epoch 29/100\n",
      "14/14 [==============================] - 0s 6ms/step - loss: 0.2989 - accuracy: 0.8832 - val_loss: 0.3627 - val_accuracy: 0.8600\n",
      "Epoch 30/100\n",
      "14/14 [==============================] - 0s 7ms/step - loss: 0.2924 - accuracy: 0.8832 - val_loss: 0.3658 - val_accuracy: 0.8600\n",
      "Epoch 31/100\n",
      "14/14 [==============================] - 0s 7ms/step - loss: 0.2906 - accuracy: 0.8832 - val_loss: 0.3626 - val_accuracy: 0.8600\n",
      "Epoch 32/100\n",
      "14/14 [==============================] - 0s 6ms/step - loss: 0.2904 - accuracy: 0.8832 - val_loss: 0.3482 - val_accuracy: 0.8600\n",
      "Epoch 33/100\n",
      "14/14 [==============================] - 0s 9ms/step - loss: 0.2860 - accuracy: 0.8832 - val_loss: 0.3616 - val_accuracy: 0.8600\n",
      "Epoch 34/100\n",
      "14/14 [==============================] - 0s 6ms/step - loss: 0.2854 - accuracy: 0.8832 - val_loss: 0.3535 - val_accuracy: 0.8600\n",
      "Epoch 35/100\n",
      "14/14 [==============================] - 0s 7ms/step - loss: 0.2801 - accuracy: 0.8832 - val_loss: 0.3418 - val_accuracy: 0.8600\n",
      "Epoch 36/100\n",
      "14/14 [==============================] - 0s 6ms/step - loss: 0.2864 - accuracy: 0.8832 - val_loss: 0.3384 - val_accuracy: 0.8600\n",
      "Epoch 37/100\n",
      "14/14 [==============================] - 0s 5ms/step - loss: 0.2940 - accuracy: 0.8832 - val_loss: 0.3598 - val_accuracy: 0.8600\n",
      "Epoch 38/100\n",
      "14/14 [==============================] - 0s 5ms/step - loss: 0.2864 - accuracy: 0.8832 - val_loss: 0.3282 - val_accuracy: 0.8600\n",
      "Epoch 39/100\n",
      "14/14 [==============================] - 0s 5ms/step - loss: 0.2707 - accuracy: 0.8832 - val_loss: 0.3556 - val_accuracy: 0.8600\n",
      "Epoch 40/100\n",
      "14/14 [==============================] - 0s 5ms/step - loss: 0.2719 - accuracy: 0.8832 - val_loss: 0.3340 - val_accuracy: 0.8600\n",
      "Epoch 41/100\n",
      "14/14 [==============================] - 0s 5ms/step - loss: 0.2666 - accuracy: 0.8832 - val_loss: 0.3232 - val_accuracy: 0.8600\n",
      "Epoch 42/100\n",
      "14/14 [==============================] - 0s 5ms/step - loss: 0.2742 - accuracy: 0.8883 - val_loss: 0.3245 - val_accuracy: 0.8600\n",
      "Epoch 43/100\n",
      "14/14 [==============================] - 0s 5ms/step - loss: 0.2637 - accuracy: 0.8832 - val_loss: 0.3490 - val_accuracy: 0.8600\n",
      "Epoch 44/100\n",
      "14/14 [==============================] - 0s 4ms/step - loss: 0.2659 - accuracy: 0.8832 - val_loss: 0.3281 - val_accuracy: 0.8600\n",
      "Epoch 45/100\n",
      "14/14 [==============================] - 0s 5ms/step - loss: 0.2641 - accuracy: 0.8832 - val_loss: 0.3224 - val_accuracy: 0.8600\n",
      "Epoch 46/100\n",
      "14/14 [==============================] - 0s 6ms/step - loss: 0.2612 - accuracy: 0.8832 - val_loss: 0.3407 - val_accuracy: 0.8600\n",
      "Epoch 47/100\n",
      "14/14 [==============================] - 0s 6ms/step - loss: 0.2557 - accuracy: 0.8832 - val_loss: 0.3159 - val_accuracy: 0.8600\n",
      "Epoch 48/100\n",
      "14/14 [==============================] - 0s 7ms/step - loss: 0.2516 - accuracy: 0.8832 - val_loss: 0.3182 - val_accuracy: 0.8600\n",
      "Epoch 49/100\n",
      "14/14 [==============================] - 0s 8ms/step - loss: 0.2499 - accuracy: 0.8832 - val_loss: 0.3204 - val_accuracy: 0.8600\n",
      "Epoch 50/100\n",
      "14/14 [==============================] - 0s 6ms/step - loss: 0.2522 - accuracy: 0.8832 - val_loss: 0.3153 - val_accuracy: 0.8600\n",
      "Epoch 51/100\n",
      "14/14 [==============================] - 0s 5ms/step - loss: 0.2477 - accuracy: 0.8832 - val_loss: 0.3072 - val_accuracy: 0.8600\n",
      "Epoch 52/100\n",
      "14/14 [==============================] - 0s 5ms/step - loss: 0.2474 - accuracy: 0.8832 - val_loss: 0.3145 - val_accuracy: 0.8600\n",
      "Epoch 53/100\n",
      "14/14 [==============================] - 0s 5ms/step - loss: 0.2469 - accuracy: 0.8832 - val_loss: 0.3023 - val_accuracy: 0.8600\n",
      "Epoch 54/100\n",
      "14/14 [==============================] - 0s 6ms/step - loss: 0.2412 - accuracy: 0.8832 - val_loss: 0.3043 - val_accuracy: 0.8600\n",
      "Epoch 55/100\n",
      "14/14 [==============================] - 0s 5ms/step - loss: 0.2447 - accuracy: 0.8985 - val_loss: 0.2964 - val_accuracy: 0.8600\n",
      "Epoch 56/100\n",
      "14/14 [==============================] - 0s 7ms/step - loss: 0.2392 - accuracy: 0.8883 - val_loss: 0.3210 - val_accuracy: 0.8600\n",
      "Epoch 57/100\n",
      "14/14 [==============================] - 0s 7ms/step - loss: 0.2363 - accuracy: 0.8832 - val_loss: 0.2976 - val_accuracy: 0.8600\n",
      "Epoch 58/100\n",
      "14/14 [==============================] - 0s 9ms/step - loss: 0.2338 - accuracy: 0.8985 - val_loss: 0.2904 - val_accuracy: 0.8600\n"
     ]
    },
    {
     "name": "stdout",
     "output_type": "stream",
     "text": [
      "Epoch 59/100\n",
      "14/14 [==============================] - 0s 7ms/step - loss: 0.2324 - accuracy: 0.8832 - val_loss: 0.2925 - val_accuracy: 0.8600\n",
      "Epoch 60/100\n",
      "14/14 [==============================] - 0s 7ms/step - loss: 0.2529 - accuracy: 0.8985 - val_loss: 0.2843 - val_accuracy: 0.8600\n",
      "Epoch 61/100\n",
      "14/14 [==============================] - 0s 8ms/step - loss: 0.2335 - accuracy: 0.8934 - val_loss: 0.2949 - val_accuracy: 0.8600\n",
      "Epoch 62/100\n",
      "14/14 [==============================] - 0s 9ms/step - loss: 0.2272 - accuracy: 0.9036 - val_loss: 0.2800 - val_accuracy: 0.8600\n",
      "Epoch 63/100\n",
      "14/14 [==============================] - 0s 8ms/step - loss: 0.2282 - accuracy: 0.8883 - val_loss: 0.2866 - val_accuracy: 0.8600\n",
      "Epoch 64/100\n",
      "14/14 [==============================] - 0s 6ms/step - loss: 0.2276 - accuracy: 0.9086 - val_loss: 0.2783 - val_accuracy: 0.8600\n",
      "Epoch 65/100\n",
      "14/14 [==============================] - 0s 5ms/step - loss: 0.2211 - accuracy: 0.8883 - val_loss: 0.3000 - val_accuracy: 0.8600\n",
      "Epoch 66/100\n",
      "14/14 [==============================] - 0s 6ms/step - loss: 0.2242 - accuracy: 0.8883 - val_loss: 0.2810 - val_accuracy: 0.8600\n",
      "Epoch 67/100\n",
      "14/14 [==============================] - 0s 5ms/step - loss: 0.2267 - accuracy: 0.9036 - val_loss: 0.2744 - val_accuracy: 0.8600\n",
      "Epoch 68/100\n",
      "14/14 [==============================] - 0s 5ms/step - loss: 0.2216 - accuracy: 0.8934 - val_loss: 0.2892 - val_accuracy: 0.8600\n",
      "Epoch 69/100\n",
      "14/14 [==============================] - 0s 5ms/step - loss: 0.2198 - accuracy: 0.8934 - val_loss: 0.2738 - val_accuracy: 0.8600\n",
      "Epoch 70/100\n",
      "14/14 [==============================] - 0s 8ms/step - loss: 0.2196 - accuracy: 0.9086 - val_loss: 0.2760 - val_accuracy: 0.8600\n",
      "Epoch 71/100\n",
      "14/14 [==============================] - 0s 6ms/step - loss: 0.2245 - accuracy: 0.8883 - val_loss: 0.2817 - val_accuracy: 0.8600\n",
      "Epoch 72/100\n",
      "14/14 [==============================] - 0s 7ms/step - loss: 0.2172 - accuracy: 0.9036 - val_loss: 0.2712 - val_accuracy: 0.8600\n",
      "Epoch 73/100\n",
      "14/14 [==============================] - 0s 6ms/step - loss: 0.2252 - accuracy: 0.8934 - val_loss: 0.2892 - val_accuracy: 0.8600\n",
      "Epoch 74/100\n",
      "14/14 [==============================] - 0s 5ms/step - loss: 0.2143 - accuracy: 0.9086 - val_loss: 0.2617 - val_accuracy: 0.9000\n",
      "Epoch 75/100\n",
      "14/14 [==============================] - 0s 4ms/step - loss: 0.2146 - accuracy: 0.9086 - val_loss: 0.2712 - val_accuracy: 0.8600\n",
      "Epoch 76/100\n",
      "14/14 [==============================] - 0s 4ms/step - loss: 0.2288 - accuracy: 0.8832 - val_loss: 0.2981 - val_accuracy: 0.8600\n",
      "Epoch 77/100\n",
      "14/14 [==============================] - 0s 5ms/step - loss: 0.2143 - accuracy: 0.9086 - val_loss: 0.2559 - val_accuracy: 0.9000\n",
      "Epoch 78/100\n",
      "14/14 [==============================] - 0s 5ms/step - loss: 0.2155 - accuracy: 0.9036 - val_loss: 0.2747 - val_accuracy: 0.8600\n",
      "Epoch 79/100\n",
      "14/14 [==============================] - 0s 5ms/step - loss: 0.2090 - accuracy: 0.9086 - val_loss: 0.2650 - val_accuracy: 0.8800\n",
      "Epoch 80/100\n",
      "14/14 [==============================] - 0s 4ms/step - loss: 0.2081 - accuracy: 0.9036 - val_loss: 0.2769 - val_accuracy: 0.8600\n",
      "Epoch 81/100\n",
      "14/14 [==============================] - 0s 5ms/step - loss: 0.2110 - accuracy: 0.8985 - val_loss: 0.2624 - val_accuracy: 0.9000\n",
      "Epoch 82/100\n",
      "14/14 [==============================] - 0s 6ms/step - loss: 0.2059 - accuracy: 0.9137 - val_loss: 0.2558 - val_accuracy: 0.9000\n",
      "Epoch 83/100\n",
      "14/14 [==============================] - 0s 5ms/step - loss: 0.2029 - accuracy: 0.9086 - val_loss: 0.2710 - val_accuracy: 0.8600\n",
      "Epoch 84/100\n",
      "14/14 [==============================] - 0s 4ms/step - loss: 0.2108 - accuracy: 0.9036 - val_loss: 0.2632 - val_accuracy: 0.9000\n",
      "Epoch 85/100\n",
      "14/14 [==============================] - 0s 5ms/step - loss: 0.2010 - accuracy: 0.9188 - val_loss: 0.2488 - val_accuracy: 0.9000\n",
      "Epoch 86/100\n",
      "14/14 [==============================] - 0s 5ms/step - loss: 0.2057 - accuracy: 0.9086 - val_loss: 0.2654 - val_accuracy: 0.8600\n",
      "Epoch 87/100\n",
      "14/14 [==============================] - 0s 5ms/step - loss: 0.2041 - accuracy: 0.9137 - val_loss: 0.2514 - val_accuracy: 0.9000\n",
      "Epoch 88/100\n",
      "14/14 [==============================] - 0s 5ms/step - loss: 0.2108 - accuracy: 0.9036 - val_loss: 0.2559 - val_accuracy: 0.9000\n",
      "Epoch 89/100\n",
      "14/14 [==============================] - 0s 5ms/step - loss: 0.2097 - accuracy: 0.9239 - val_loss: 0.2477 - val_accuracy: 0.9000\n",
      "Epoch 90/100\n",
      "14/14 [==============================] - 0s 6ms/step - loss: 0.2044 - accuracy: 0.9036 - val_loss: 0.2468 - val_accuracy: 0.9000\n",
      "Epoch 91/100\n",
      "14/14 [==============================] - 0s 5ms/step - loss: 0.2026 - accuracy: 0.9239 - val_loss: 0.2629 - val_accuracy: 0.9000\n",
      "Epoch 92/100\n",
      "14/14 [==============================] - 0s 5ms/step - loss: 0.2083 - accuracy: 0.9036 - val_loss: 0.2502 - val_accuracy: 0.9000\n",
      "Epoch 93/100\n",
      "14/14 [==============================] - 0s 4ms/step - loss: 0.1967 - accuracy: 0.9239 - val_loss: 0.2424 - val_accuracy: 0.9000\n",
      "Epoch 94/100\n",
      "14/14 [==============================] - 0s 5ms/step - loss: 0.1943 - accuracy: 0.9137 - val_loss: 0.2587 - val_accuracy: 0.9000\n",
      "Epoch 95/100\n",
      "14/14 [==============================] - 0s 5ms/step - loss: 0.1957 - accuracy: 0.9036 - val_loss: 0.2462 - val_accuracy: 0.9000\n",
      "Epoch 96/100\n",
      "14/14 [==============================] - 0s 5ms/step - loss: 0.1939 - accuracy: 0.9188 - val_loss: 0.2387 - val_accuracy: 0.9000\n",
      "Epoch 97/100\n",
      "14/14 [==============================] - 0s 5ms/step - loss: 0.1955 - accuracy: 0.9239 - val_loss: 0.2533 - val_accuracy: 0.9000\n",
      "Epoch 98/100\n",
      "14/14 [==============================] - 0s 5ms/step - loss: 0.1985 - accuracy: 0.9086 - val_loss: 0.2568 - val_accuracy: 0.9000\n",
      "Epoch 99/100\n",
      "14/14 [==============================] - 0s 5ms/step - loss: 0.1926 - accuracy: 0.9137 - val_loss: 0.2382 - val_accuracy: 0.9000\n",
      "Epoch 100/100\n",
      "14/14 [==============================] - 0s 5ms/step - loss: 0.1915 - accuracy: 0.9239 - val_loss: 0.2497 - val_accuracy: 0.9000\n"
     ]
    },
    {
     "data": {
      "text/plain": [
       "<tensorflow.python.keras.callbacks.History at 0x1fc1b40c6a0>"
      ]
     },
     "execution_count": 13,
     "metadata": {},
     "output_type": "execute_result"
    }
   ],
   "source": [
    "model.fit(X_train, y_train, epochs=100, batch_size=15, validation_data=(X_val, y_val))"
   ]
  },
  {
   "cell_type": "code",
   "execution_count": 14,
   "id": "01b835c5",
   "metadata": {},
   "outputs": [],
   "source": [
    "model.save(\"mymodel.h5\")"
   ]
  },
  {
   "cell_type": "code",
   "execution_count": 15,
   "id": "d61b4687",
   "metadata": {},
   "outputs": [],
   "source": [
    "model = load_model(\"mymodel.h5\")"
   ]
  },
  {
   "cell_type": "code",
   "execution_count": 17,
   "id": "af4e16c4",
   "metadata": {},
   "outputs": [
    {
     "name": "stdout",
     "output_type": "stream",
     "text": [
      "2/2 [==============================] - 0s 10ms/step - loss: 0.2057 - accuracy: 0.8871\n",
      "Loss =  0.20565162599086761\n",
      "Acc =  0.8870967626571655\n"
     ]
    }
   ],
   "source": [
    "#validation\n",
    "loss, acc = model.evaluate(X_test, y_test)\n",
    "print(\"Loss = \", loss)\n",
    "print(\"Acc = \", acc)"
   ]
  },
  {
   "cell_type": "code",
   "execution_count": 28,
   "id": "8846fe9f",
   "metadata": {},
   "outputs": [
    {
     "data": {
      "text/plain": [
       "array([[0.95875084],\n",
       "       [0.76440704],\n",
       "       [0.9648863 ],\n",
       "       [0.9666197 ],\n",
       "       [0.9980188 ],\n",
       "       [0.97995836],\n",
       "       [0.9018598 ],\n",
       "       [0.417297  ],\n",
       "       [0.9793102 ],\n",
       "       [0.83457774],\n",
       "       [0.996693  ],\n",
       "       [0.9925252 ],\n",
       "       [0.38699764],\n",
       "       [0.9942001 ],\n",
       "       [0.747028  ],\n",
       "       [0.9570285 ],\n",
       "       [0.6906784 ],\n",
       "       [0.98276865],\n",
       "       [0.95180553],\n",
       "       [0.98615533],\n",
       "       [0.9820784 ],\n",
       "       [0.28103518],\n",
       "       [0.9638043 ],\n",
       "       [0.8919753 ],\n",
       "       [0.9939934 ],\n",
       "       [0.93977827],\n",
       "       [0.36001626],\n",
       "       [0.99443316],\n",
       "       [0.96392846],\n",
       "       [0.95864785],\n",
       "       [0.40504575],\n",
       "       [0.88565797],\n",
       "       [0.9760494 ],\n",
       "       [0.9725966 ],\n",
       "       [0.9956    ],\n",
       "       [0.39896402],\n",
       "       [0.81649894],\n",
       "       [0.9902538 ],\n",
       "       [0.9702996 ],\n",
       "       [0.8198447 ],\n",
       "       [0.9879913 ],\n",
       "       [0.9203054 ],\n",
       "       [0.9763081 ],\n",
       "       [0.9534427 ],\n",
       "       [0.72804374],\n",
       "       [0.9664688 ],\n",
       "       [0.99548084],\n",
       "       [0.97508085],\n",
       "       [0.9918619 ],\n",
       "       [0.7154107 ],\n",
       "       [0.9888514 ],\n",
       "       [0.9775913 ],\n",
       "       [0.943746  ],\n",
       "       [0.9859413 ],\n",
       "       [0.96979463],\n",
       "       [0.9715103 ],\n",
       "       [0.9701254 ],\n",
       "       [0.9818054 ],\n",
       "       [0.95654577],\n",
       "       [0.99695134],\n",
       "       [0.72592926],\n",
       "       [0.9415145 ]], dtype=float32)"
      ]
     },
     "execution_count": 28,
     "metadata": {},
     "output_type": "execute_result"
    }
   ],
   "source": [
    "model.predict(X_test)"
   ]
  },
  {
   "cell_type": "code",
   "execution_count": 33,
   "id": "ebfa1a55",
   "metadata": {},
   "outputs": [
    {
     "data": {
      "text/plain": [
       "(1, 15)"
      ]
     },
     "execution_count": 33,
     "metadata": {},
     "output_type": "execute_result"
    }
   ],
   "source": [
    "v = np.array([[1,74,0,0,0,0,0,0,0,0,0,0,0,0,0]])\n",
    "v.shape"
   ]
  },
  {
   "cell_type": "code",
   "execution_count": 34,
   "id": "6b21adb1",
   "metadata": {},
   "outputs": [
    {
     "data": {
      "text/plain": [
       "array([[0.08718869]], dtype=float32)"
      ]
     },
     "execution_count": 34,
     "metadata": {},
     "output_type": "execute_result"
    }
   ],
   "source": [
    "model.predict(v)"
   ]
  },
  {
   "cell_type": "code",
   "execution_count": 107,
   "id": "85592c78",
   "metadata": {},
   "outputs": [
    {
     "ename": "KeyError",
     "evalue": "10",
     "output_type": "error",
     "traceback": [
      "\u001b[1;31m---------------------------------------------------------------------------\u001b[0m",
      "\u001b[1;31mKeyError\u001b[0m                                  Traceback (most recent call last)",
      "\u001b[1;32mC:\\Python\\Python39\\lib\\site-packages\\pandas\\core\\indexes\\base.py\u001b[0m in \u001b[0;36mget_loc\u001b[1;34m(self, key, method, tolerance)\u001b[0m\n\u001b[0;32m   3360\u001b[0m             \u001b[1;32mtry\u001b[0m\u001b[1;33m:\u001b[0m\u001b[1;33m\u001b[0m\u001b[1;33m\u001b[0m\u001b[0m\n\u001b[1;32m-> 3361\u001b[1;33m                 \u001b[1;32mreturn\u001b[0m \u001b[0mself\u001b[0m\u001b[1;33m.\u001b[0m\u001b[0m_engine\u001b[0m\u001b[1;33m.\u001b[0m\u001b[0mget_loc\u001b[0m\u001b[1;33m(\u001b[0m\u001b[0mcasted_key\u001b[0m\u001b[1;33m)\u001b[0m\u001b[1;33m\u001b[0m\u001b[1;33m\u001b[0m\u001b[0m\n\u001b[0m\u001b[0;32m   3362\u001b[0m             \u001b[1;32mexcept\u001b[0m \u001b[0mKeyError\u001b[0m \u001b[1;32mas\u001b[0m \u001b[0merr\u001b[0m\u001b[1;33m:\u001b[0m\u001b[1;33m\u001b[0m\u001b[1;33m\u001b[0m\u001b[0m\n",
      "\u001b[1;32mC:\\Python\\Python39\\lib\\site-packages\\pandas\\_libs\\index.pyx\u001b[0m in \u001b[0;36mpandas._libs.index.IndexEngine.get_loc\u001b[1;34m()\u001b[0m\n",
      "\u001b[1;32mC:\\Python\\Python39\\lib\\site-packages\\pandas\\_libs\\index.pyx\u001b[0m in \u001b[0;36mpandas._libs.index.IndexEngine.get_loc\u001b[1;34m()\u001b[0m\n",
      "\u001b[1;32mpandas\\_libs\\hashtable_class_helper.pxi\u001b[0m in \u001b[0;36mpandas._libs.hashtable.PyObjectHashTable.get_item\u001b[1;34m()\u001b[0m\n",
      "\u001b[1;32mpandas\\_libs\\hashtable_class_helper.pxi\u001b[0m in \u001b[0;36mpandas._libs.hashtable.PyObjectHashTable.get_item\u001b[1;34m()\u001b[0m\n",
      "\u001b[1;31mKeyError\u001b[0m: 10",
      "\nThe above exception was the direct cause of the following exception:\n",
      "\u001b[1;31mKeyError\u001b[0m                                  Traceback (most recent call last)",
      "\u001b[1;32m<ipython-input-107-ef82b08dcc4a>\u001b[0m in \u001b[0;36m<module>\u001b[1;34m\u001b[0m\n\u001b[1;32m----> 1\u001b[1;33m \u001b[0mX_new\u001b[0m \u001b[1;33m=\u001b[0m \u001b[0mX_test\u001b[0m\u001b[1;33m[\u001b[0m\u001b[1;36m10\u001b[0m\u001b[1;33m]\u001b[0m\u001b[1;33m\u001b[0m\u001b[1;33m\u001b[0m\u001b[0m\n\u001b[0m\u001b[0;32m      2\u001b[0m \u001b[0my_new\u001b[0m \u001b[1;33m=\u001b[0m \u001b[0my_test\u001b[0m\u001b[1;33m[\u001b[0m\u001b[1;36m10\u001b[0m\u001b[1;33m]\u001b[0m\u001b[1;33m\u001b[0m\u001b[1;33m\u001b[0m\u001b[0m\n\u001b[0;32m      3\u001b[0m \u001b[1;33m\u001b[0m\u001b[0m\n\u001b[0;32m      4\u001b[0m \u001b[1;31m#X_new = np.expand_dims(X_new, axis=0)\u001b[0m\u001b[1;33m\u001b[0m\u001b[1;33m\u001b[0m\u001b[1;33m\u001b[0m\u001b[0m\n\u001b[0;32m      5\u001b[0m \u001b[1;33m\u001b[0m\u001b[0m\n",
      "\u001b[1;32mC:\\Python\\Python39\\lib\\site-packages\\pandas\\core\\frame.py\u001b[0m in \u001b[0;36m__getitem__\u001b[1;34m(self, key)\u001b[0m\n\u001b[0;32m   3456\u001b[0m             \u001b[1;32mif\u001b[0m \u001b[0mself\u001b[0m\u001b[1;33m.\u001b[0m\u001b[0mcolumns\u001b[0m\u001b[1;33m.\u001b[0m\u001b[0mnlevels\u001b[0m \u001b[1;33m>\u001b[0m \u001b[1;36m1\u001b[0m\u001b[1;33m:\u001b[0m\u001b[1;33m\u001b[0m\u001b[1;33m\u001b[0m\u001b[0m\n\u001b[0;32m   3457\u001b[0m                 \u001b[1;32mreturn\u001b[0m \u001b[0mself\u001b[0m\u001b[1;33m.\u001b[0m\u001b[0m_getitem_multilevel\u001b[0m\u001b[1;33m(\u001b[0m\u001b[0mkey\u001b[0m\u001b[1;33m)\u001b[0m\u001b[1;33m\u001b[0m\u001b[1;33m\u001b[0m\u001b[0m\n\u001b[1;32m-> 3458\u001b[1;33m             \u001b[0mindexer\u001b[0m \u001b[1;33m=\u001b[0m \u001b[0mself\u001b[0m\u001b[1;33m.\u001b[0m\u001b[0mcolumns\u001b[0m\u001b[1;33m.\u001b[0m\u001b[0mget_loc\u001b[0m\u001b[1;33m(\u001b[0m\u001b[0mkey\u001b[0m\u001b[1;33m)\u001b[0m\u001b[1;33m\u001b[0m\u001b[1;33m\u001b[0m\u001b[0m\n\u001b[0m\u001b[0;32m   3459\u001b[0m             \u001b[1;32mif\u001b[0m \u001b[0mis_integer\u001b[0m\u001b[1;33m(\u001b[0m\u001b[0mindexer\u001b[0m\u001b[1;33m)\u001b[0m\u001b[1;33m:\u001b[0m\u001b[1;33m\u001b[0m\u001b[1;33m\u001b[0m\u001b[0m\n\u001b[0;32m   3460\u001b[0m                 \u001b[0mindexer\u001b[0m \u001b[1;33m=\u001b[0m \u001b[1;33m[\u001b[0m\u001b[0mindexer\u001b[0m\u001b[1;33m]\u001b[0m\u001b[1;33m\u001b[0m\u001b[1;33m\u001b[0m\u001b[0m\n",
      "\u001b[1;32mC:\\Python\\Python39\\lib\\site-packages\\pandas\\core\\indexes\\base.py\u001b[0m in \u001b[0;36mget_loc\u001b[1;34m(self, key, method, tolerance)\u001b[0m\n\u001b[0;32m   3361\u001b[0m                 \u001b[1;32mreturn\u001b[0m \u001b[0mself\u001b[0m\u001b[1;33m.\u001b[0m\u001b[0m_engine\u001b[0m\u001b[1;33m.\u001b[0m\u001b[0mget_loc\u001b[0m\u001b[1;33m(\u001b[0m\u001b[0mcasted_key\u001b[0m\u001b[1;33m)\u001b[0m\u001b[1;33m\u001b[0m\u001b[1;33m\u001b[0m\u001b[0m\n\u001b[0;32m   3362\u001b[0m             \u001b[1;32mexcept\u001b[0m \u001b[0mKeyError\u001b[0m \u001b[1;32mas\u001b[0m \u001b[0merr\u001b[0m\u001b[1;33m:\u001b[0m\u001b[1;33m\u001b[0m\u001b[1;33m\u001b[0m\u001b[0m\n\u001b[1;32m-> 3363\u001b[1;33m                 \u001b[1;32mraise\u001b[0m \u001b[0mKeyError\u001b[0m\u001b[1;33m(\u001b[0m\u001b[0mkey\u001b[0m\u001b[1;33m)\u001b[0m \u001b[1;32mfrom\u001b[0m \u001b[0merr\u001b[0m\u001b[1;33m\u001b[0m\u001b[1;33m\u001b[0m\u001b[0m\n\u001b[0m\u001b[0;32m   3364\u001b[0m \u001b[1;33m\u001b[0m\u001b[0m\n\u001b[0;32m   3365\u001b[0m         \u001b[1;32mif\u001b[0m \u001b[0mis_scalar\u001b[0m\u001b[1;33m(\u001b[0m\u001b[0mkey\u001b[0m\u001b[1;33m)\u001b[0m \u001b[1;32mand\u001b[0m \u001b[0misna\u001b[0m\u001b[1;33m(\u001b[0m\u001b[0mkey\u001b[0m\u001b[1;33m)\u001b[0m \u001b[1;32mand\u001b[0m \u001b[1;32mnot\u001b[0m \u001b[0mself\u001b[0m\u001b[1;33m.\u001b[0m\u001b[0mhasnans\u001b[0m\u001b[1;33m:\u001b[0m\u001b[1;33m\u001b[0m\u001b[1;33m\u001b[0m\u001b[0m\n",
      "\u001b[1;31mKeyError\u001b[0m: 10"
     ]
    }
   ],
   "source": [
    "X_new = np.expand_dims(X_new, axis=0)\n",
    "\n",
    "y_predict = model.predict(X_new)\n",
    "result = \"Presence of Lung Cancer (1)\"\n",
    "if y_predict <= 0.5:\n",
    "    result = \"Absence of Lung Cancer (0)\"\n",
    "print(\"Your lung cancer detection result: \", result)\n",
    "print(\"The assigned number for the result: \", y_new)"
   ]
  }
 ],
 "metadata": {
  "kernelspec": {
   "display_name": "Python 3",
   "language": "python",
   "name": "python3"
  },
  "language_info": {
   "codemirror_mode": {
    "name": "ipython",
    "version": 3
   },
   "file_extension": ".py",
   "mimetype": "text/x-python",
   "name": "python",
   "nbconvert_exporter": "python",
   "pygments_lexer": "ipython3",
   "version": "3.8.5"
  }
 },
 "nbformat": 4,
 "nbformat_minor": 5
}
