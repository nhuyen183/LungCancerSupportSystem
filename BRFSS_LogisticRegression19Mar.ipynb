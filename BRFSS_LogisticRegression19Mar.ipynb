{
  "nbformat": 4,
  "nbformat_minor": 0,
  "metadata": {
    "colab": {
      "provenance": [],
      "authorship_tag": "ABX9TyON6duTgkCypLksk+rCShS0",
      "include_colab_link": true
    },
    "kernelspec": {
      "name": "python3",
      "display_name": "Python 3"
    },
    "language_info": {
      "name": "python"
    }
  },
  "cells": [
    {
      "cell_type": "markdown",
      "metadata": {
        "id": "view-in-github",
        "colab_type": "text"
      },
      "source": [
        "<a href=\"https://colab.research.google.com/github/nhuyen183/LungCancerSupportSystem/blob/master/BRFSS_LogisticRegression19Mar.ipynb\" target=\"_parent\"><img src=\"https://colab.research.google.com/assets/colab-badge.svg\" alt=\"Open In Colab\"/></a>"
      ]
    },
    {
      "cell_type": "code",
      "execution_count": 1,
      "metadata": {
        "colab": {
          "base_uri": "https://localhost:8080/"
        },
        "id": "8B7eaubtZ_Kj",
        "outputId": "371fedcb-a247-4bec-9a55-e2c47b6eae1a"
      },
      "outputs": [
        {
          "output_type": "stream",
          "name": "stdout",
          "text": [
            "Looking in indexes: https://pypi.org/simple, https://us-python.pkg.dev/colab-wheels/public/simple/\n",
            "Collecting category_encoders\n",
            "  Downloading category_encoders-2.6.0-py2.py3-none-any.whl (81 kB)\n",
            "\u001b[2K     \u001b[90m━━━━━━━━━━━━━━━━━━━━━━━━━━━━━━━━━━━━━━━━\u001b[0m \u001b[32m81.2/81.2 KB\u001b[0m \u001b[31m9.4 MB/s\u001b[0m eta \u001b[36m0:00:00\u001b[0m\n",
            "\u001b[?25hRequirement already satisfied: patsy>=0.5.1 in /usr/local/lib/python3.9/dist-packages (from category_encoders) (0.5.3)\n",
            "Requirement already satisfied: numpy>=1.14.0 in /usr/local/lib/python3.9/dist-packages (from category_encoders) (1.22.4)\n",
            "Requirement already satisfied: scipy>=1.0.0 in /usr/local/lib/python3.9/dist-packages (from category_encoders) (1.10.1)\n",
            "Requirement already satisfied: statsmodels>=0.9.0 in /usr/local/lib/python3.9/dist-packages (from category_encoders) (0.13.5)\n",
            "Requirement already satisfied: scikit-learn>=0.20.0 in /usr/local/lib/python3.9/dist-packages (from category_encoders) (1.2.2)\n",
            "Requirement already satisfied: pandas>=1.0.5 in /usr/local/lib/python3.9/dist-packages (from category_encoders) (1.4.4)\n",
            "Requirement already satisfied: pytz>=2020.1 in /usr/local/lib/python3.9/dist-packages (from pandas>=1.0.5->category_encoders) (2022.7.1)\n",
            "Requirement already satisfied: python-dateutil>=2.8.1 in /usr/local/lib/python3.9/dist-packages (from pandas>=1.0.5->category_encoders) (2.8.2)\n",
            "Requirement already satisfied: six in /usr/local/lib/python3.9/dist-packages (from patsy>=0.5.1->category_encoders) (1.15.0)\n",
            "Requirement already satisfied: threadpoolctl>=2.0.0 in /usr/local/lib/python3.9/dist-packages (from scikit-learn>=0.20.0->category_encoders) (3.1.0)\n",
            "Requirement already satisfied: joblib>=1.1.1 in /usr/local/lib/python3.9/dist-packages (from scikit-learn>=0.20.0->category_encoders) (1.1.1)\n",
            "Requirement already satisfied: packaging>=21.3 in /usr/local/lib/python3.9/dist-packages (from statsmodels>=0.9.0->category_encoders) (23.0)\n",
            "Installing collected packages: category_encoders\n",
            "Successfully installed category_encoders-2.6.0\n"
          ]
        }
      ],
      "source": [
        "#@title Import Libraries { vertical-output: true, display-mode: \"both\" }\n",
        "\n",
        "import sqlite3\n",
        "import warnings\n",
        "\n",
        "import matplotlib.pyplot as plt\n",
        "import numpy as np\n",
        "import pandas as pd\n",
        "import seaborn as sns\n",
        "\n",
        "!pip install category_encoders\n",
        "from category_encoders import OneHotEncoder\n",
        "\n",
        "from sklearn.linear_model import LogisticRegression\n",
        "from sklearn.metrics import accuracy_score\n",
        "from sklearn.model_selection import train_test_split\n",
        "from sklearn.pipeline import Pipeline, make_pipeline\n",
        "from sklearn.utils.validation import check_is_fitted"
      ]
    },
    {
      "cell_type": "code",
      "source": [
        "#@title df_structure { display-mode: \"both\" }\n",
        "\n",
        "from  glob import glob\n",
        "filenames = glob('./*.csv')\n",
        "appended_data = []  # create a list\n",
        "for f in filenames:\n",
        "  df = pd.read_csv(f, index_col=None)\n",
        "  appended_data.append(df)  # append to the list\n",
        "df_structure = pd.concat(appended_data, axis=0)\n",
        "df_structure.info()"
      ],
      "metadata": {
        "colab": {
          "base_uri": "https://localhost:8080/"
        },
        "id": "6cwVYFkxaMAu",
        "outputId": "bd75235b-9ca6-476d-8c4b-d28566d430e3"
      },
      "execution_count": 108,
      "outputs": [
        {
          "output_type": "stream",
          "name": "stdout",
          "text": [
            "<class 'pandas.core.frame.DataFrame'>\n",
            "Int64Index: 1155762 entries, 0 to 106523\n",
            "Data columns (total 18 columns):\n",
            " #   Column             Non-Null Count    Dtype\n",
            "---  ------             --------------    -----\n",
            " 0   Gender             1155762 non-null  int64\n",
            " 1   Age65              1155762 non-null  int64\n",
            " 2   BMI                1155762 non-null  int64\n",
            " 3   GeneralHealth      1155762 non-null  int64\n",
            " 4   CheckupFreq        1155762 non-null  int64\n",
            " 5   Exercise           1155762 non-null  int64\n",
            " 6   Smoked100          1155762 non-null  int64\n",
            " 7   SmokerStatus       1155762 non-null  int64\n",
            " 8   StopSmoking        1155762 non-null  int64\n",
            " 9   TimeSinceQuitSmk   1155762 non-null  int64\n",
            " 10  EverUsedEcig       1155762 non-null  int64\n",
            " 11  EcigLevel          1155762 non-null  int64\n",
            " 12  HasCTScan          1155762 non-null  int64\n",
            " 13  HasChronicDisease  1155762 non-null  int64\n",
            " 14  HasAsthma          1155762 non-null  int64\n",
            " 15  HadStroke          1155762 non-null  int64\n",
            " 16  HadHeartDisease    1155762 non-null  int64\n",
            " 17  HasLungCancer      1155762 non-null  int64\n",
            "dtypes: int64(18)\n",
            "memory usage: 167.5 MB\n"
          ]
        }
      ]
    },
    {
      "cell_type": "code",
      "source": [
        "df=df_structure"
      ],
      "metadata": {
        "id": "faazJz6NbUhf"
      },
      "execution_count": 109,
      "outputs": []
    },
    {
      "cell_type": "code",
      "source": [
        "#@title df_structure { display-mode: \"both\" }\n",
        "\n",
        "from  glob import glob\n",
        "filenames_train = glob('./p*.csv')\n",
        "appended_data = []  # create a list\n",
        "for f in filenames_train:\n",
        "  df = pd.read_csv(f, index_col=None)\n",
        "  appended_data.append(df)  # append to the list\n",
        "df_structure_train = pd.concat(appended_data, axis=0)\n",
        "df_structure_train.info()"
      ],
      "metadata": {
        "colab": {
          "base_uri": "https://localhost:8080/"
        },
        "outputId": "b6e9b38d-b92b-480b-c969-8807883d106a",
        "id": "OzvpGv9kCgFF"
      },
      "execution_count": 73,
      "outputs": [
        {
          "output_type": "stream",
          "name": "stdout",
          "text": [
            "<class 'pandas.core.frame.DataFrame'>\n",
            "Int64Index: 764463 entries, 0 to 106523\n",
            "Data columns (total 18 columns):\n",
            " #   Column             Non-Null Count   Dtype\n",
            "---  ------             --------------   -----\n",
            " 0   Gender             764463 non-null  int64\n",
            " 1   Age65              764463 non-null  int64\n",
            " 2   BMI                764463 non-null  int64\n",
            " 3   GeneralHealth      764463 non-null  int64\n",
            " 4   CheckupFreq        764463 non-null  int64\n",
            " 5   Exercise           764463 non-null  int64\n",
            " 6   Smoked100          764463 non-null  int64\n",
            " 7   SmokerStatus       764463 non-null  int64\n",
            " 8   StopSmoking        764463 non-null  int64\n",
            " 9   TimeSinceQuitSmk   764463 non-null  int64\n",
            " 10  EverUsedEcig       764463 non-null  int64\n",
            " 11  EcigLevel          764463 non-null  int64\n",
            " 12  HasCTScan          764463 non-null  int64\n",
            " 13  HasChronicDisease  764463 non-null  int64\n",
            " 14  HasAsthma          764463 non-null  int64\n",
            " 15  HadStroke          764463 non-null  int64\n",
            " 16  HadHeartDisease    764463 non-null  int64\n",
            " 17  HasLungCancer      764463 non-null  int64\n",
            "dtypes: int64(18)\n",
            "memory usage: 110.8 MB\n"
          ]
        }
      ]
    },
    {
      "cell_type": "code",
      "source": [
        "df_train=df_structure_train"
      ],
      "metadata": {
        "id": "aifUq1EkCgFR"
      },
      "execution_count": 74,
      "outputs": []
    },
    {
      "cell_type": "code",
      "source": [
        "#@title df_structure { display-mode: \"both\" }\n",
        "\n",
        "from  glob import glob\n",
        "filenames_train = glob('./t*.csv')\n",
        "appended_data = []  # create a list\n",
        "for f in filenames_train:\n",
        "  df = pd.read_csv(f, index_col=None)\n",
        "  appended_data.append(df)  # append to the list\n",
        "df_structure_test = pd.concat(appended_data, axis=0)\n",
        "df_structure_test.info()"
      ],
      "metadata": {
        "colab": {
          "base_uri": "https://localhost:8080/"
        },
        "outputId": "171f523f-d96f-4ee3-de5c-ea8d4175e6a9",
        "id": "fnvSQzYgCs2f"
      },
      "execution_count": 77,
      "outputs": [
        {
          "output_type": "stream",
          "name": "stdout",
          "text": [
            "<class 'pandas.core.frame.DataFrame'>\n",
            "Int64Index: 391299 entries, 0 to 104080\n",
            "Data columns (total 18 columns):\n",
            " #   Column             Non-Null Count   Dtype\n",
            "---  ------             --------------   -----\n",
            " 0   Gender             391299 non-null  int64\n",
            " 1   Age65              391299 non-null  int64\n",
            " 2   BMI                391299 non-null  int64\n",
            " 3   GeneralHealth      391299 non-null  int64\n",
            " 4   CheckupFreq        391299 non-null  int64\n",
            " 5   Exercise           391299 non-null  int64\n",
            " 6   Smoked100          391299 non-null  int64\n",
            " 7   SmokerStatus       391299 non-null  int64\n",
            " 8   StopSmoking        391299 non-null  int64\n",
            " 9   TimeSinceQuitSmk   391299 non-null  int64\n",
            " 10  EverUsedEcig       391299 non-null  int64\n",
            " 11  EcigLevel          391299 non-null  int64\n",
            " 12  HasCTScan          391299 non-null  int64\n",
            " 13  HasChronicDisease  391299 non-null  int64\n",
            " 14  HasAsthma          391299 non-null  int64\n",
            " 15  HadStroke          391299 non-null  int64\n",
            " 16  HadHeartDisease    391299 non-null  int64\n",
            " 17  HasLungCancer      391299 non-null  int64\n",
            "dtypes: int64(18)\n",
            "memory usage: 56.7 MB\n"
          ]
        }
      ]
    },
    {
      "cell_type": "code",
      "source": [
        "df_test=df_structure_test"
      ],
      "metadata": {
        "id": "4LP4N7HFCs2g"
      },
      "execution_count": 78,
      "outputs": []
    },
    {
      "cell_type": "code",
      "source": [
        "X_train = df_train.drop(columns='HasLungCancer')\n",
        "y_train = df_train['HasLungCancer']\n",
        "X_test = df_test.drop(columns='HasLungCancer')\n",
        "y_test = df_test['HasLungCancer']\n"
      ],
      "metadata": {
        "id": "i1MXfVGuDIED"
      },
      "execution_count": 79,
      "outputs": []
    },
    {
      "cell_type": "code",
      "source": [],
      "metadata": {
        "id": "I3D1i1RTDIpA"
      },
      "execution_count": null,
      "outputs": []
    },
    {
      "cell_type": "code",
      "source": [
        "from google.colab import drive\n",
        "drive.mount('drive', force_remount=True)\n",
        "\n",
        "df.to_csv('/content/drive/My Drive/BRFSSdata.csv', encoding='utf-8', index=False)"
      ],
      "metadata": {
        "id": "bvrVXgGU1oBZ",
        "outputId": "624b94e7-22c9-4a29-f7cf-d7594661f347",
        "colab": {
          "base_uri": "https://localhost:8080/"
        }
      },
      "execution_count": 30,
      "outputs": [
        {
          "output_type": "stream",
          "name": "stdout",
          "text": [
            "Mounted at drive\n"
          ]
        }
      ]
    },
    {
      "cell_type": "code",
      "source": [
        "#@title HasLungCancer { display-mode: \"both\" }\n",
        "print (df[\"HasLungCancer\"].value_counts())"
      ],
      "metadata": {
        "id": "oWwUzqxZbZpP",
        "outputId": "319d8e0b-cc14-4b1a-c473-5879dba88fc3",
        "colab": {
          "base_uri": "https://localhost:8080/"
        }
      },
      "execution_count": 29,
      "outputs": [
        {
          "output_type": "stream",
          "name": "stdout",
          "text": [
            "0    1155034\n",
            "1        728\n",
            "Name: HasLungCancer, dtype: int64\n"
          ]
        }
      ]
    },
    {
      "cell_type": "code",
      "source": [
        "#@title HasLungCancer { display-mode: \"both\" }\n",
        "print (df[\"EverUsedEcig\"].value_counts())"
      ],
      "metadata": {
        "id": "3TKowLuA59KL",
        "outputId": "f797dd64-ea31-4bc7-f3b0-c3a005201d6c",
        "colab": {
          "base_uri": "https://localhost:8080/"
        }
      },
      "execution_count": 27,
      "outputs": [
        {
          "output_type": "stream",
          "name": "stdout",
          "text": [
            "0    999398\n",
            "1    156364\n",
            "Name: EverUsedEcig, dtype: int64\n"
          ]
        }
      ]
    },
    {
      "cell_type": "code",
      "source": [
        "#@title HasLungCancer { display-mode: \"both\" }\n",
        "print (df[\"EcigLevel\"].value_counts())"
      ],
      "metadata": {
        "id": "CMJpjqu-6nhl",
        "outputId": "f55135ef-e98b-41a6-c773-dbcf5eae9ac4",
        "colab": {
          "base_uri": "https://localhost:8080/"
        }
      },
      "execution_count": 28,
      "outputs": [
        {
          "output_type": "stream",
          "name": "stdout",
          "text": [
            "0    999714\n",
            "3    124090\n",
            "2     19431\n",
            "1     12527\n",
            "Name: EcigLevel, dtype: int64\n"
          ]
        }
      ]
    },
    {
      "cell_type": "code",
      "source": [
        "df.info()"
      ],
      "metadata": {
        "id": "LDHYgfI1bpAo"
      },
      "execution_count": null,
      "outputs": []
    },
    {
      "cell_type": "code",
      "source": [
        "# Create correlation matrix\n",
        "correlation = df.select_dtypes(\"number\").drop(columns=\"HasLungCancer\").corr()\n",
        "\n",
        "# Plot heatmap of `correlation`\n",
        "sns.heatmap(correlation);"
      ],
      "metadata": {
        "id": "E8l_qP1DbwRv",
        "outputId": "0e943f3f-20f4-49e6-a293-0deaec3ce6d9",
        "colab": {
          "base_uri": "https://localhost:8080/",
          "height": 356
        }
      },
      "execution_count": 31,
      "outputs": [
        {
          "output_type": "display_data",
          "data": {
            "text/plain": [
              "<Figure size 432x288 with 2 Axes>"
            ],
            "image/png": "[encoded data removed]"
          },
          "metadata": {
            "needs_background": "light"
          }
        }
      ]
    },
    {
      "cell_type": "code",
      "source": [
        "X = df.drop(columns='HasLungCancer')\n",
        "y = df['HasLungCancer']"
      ],
      "metadata": {
        "id": "UNvG_jHXvAzX"
      },
      "execution_count": 96,
      "outputs": []
    },
    {
      "cell_type": "code",
      "source": [
        "majority_class_prop, minority_class_prop = y.value_counts(normalize=True)\n",
        "print(majority_class_prop, minority_class_prop)"
      ],
      "metadata": {
        "id": "YGHcp5Amb8nT",
        "outputId": "896960c1-751b-4fe4-992d-fb0ab0660a95",
        "colab": {
          "base_uri": "https://localhost:8080/"
        }
      },
      "execution_count": 35,
      "outputs": [
        {
          "output_type": "stream",
          "name": "stdout",
          "text": [
            "0.9993701125318188 0.0006298874681811654\n"
          ]
        }
      ]
    },
    {
      "cell_type": "code",
      "source": [
        "X_train, X_test, y_train, y_test = train_test_split(X, y, test_size=0.3, random_state=42)\n",
        "\n",
        "print(\"X_train shape:\", X_train.shape)\n",
        "print(\"y_train shape:\", y_train.shape)\n",
        "print(\"X_test shape:\", X_test.shape)\n",
        "print(\"y_test shape:\", y_test.shape)"
      ],
      "metadata": {
        "id": "99ihsBYBu3ul",
        "outputId": "2a888b99-4299-4718-809d-98bcc57b07cd",
        "colab": {
          "base_uri": "https://localhost:8080/"
        }
      },
      "execution_count": 97,
      "outputs": [
        {
          "output_type": "stream",
          "name": "stdout",
          "text": [
            "X_train shape: (809033, 17)\n",
            "y_train shape: (809033,)\n",
            "X_test shape: (346729, 17)\n",
            "y_test shape: (346729,)\n"
          ]
        }
      ]
    },
    {
      "cell_type": "code",
      "source": [
        "from imblearn.over_sampling import SMOTE\n",
        "# transform the dataset\n",
        "sm = SMOTE(random_state=42)\n",
        "X_train, y_train = sm.fit_resample(X_train, y_train)"
      ],
      "metadata": {
        "id": "aZppCWDt9tBE"
      },
      "execution_count": 98,
      "outputs": []
    },
    {
      "cell_type": "code",
      "source": [
        "X_train['BMI'] = X_train['BMI'].astype(\"object\")\n",
        "X_train['GeneralHealth'] = X_train['GeneralHealth'].astype(\"object\")\n",
        "X_train['CheckupFreq'] = X_train['CheckupFreq'].astype(\"object\")\n",
        "\n",
        "X_train['SmokerStatus'] = X_train['SmokerStatus'].astype(\"object\")\n",
        "X_train['TimeSinceQuitSmk'] = X_train['TimeSinceQuitSmk'].astype(\"object\")\n",
        "X_train['EcigLevel'] = X_train['EcigLevel'].astype(\"object\")\n",
        "\n",
        "X_test['BMI'] = X_test['BMI'].astype(\"object\")\n",
        "X_test['GeneralHealth'] = X_test['GeneralHealth'].astype(\"object\")\n",
        "X_test['CheckupFreq'] = X_test['CheckupFreq'].astype(\"object\")\n",
        "\n",
        "X_test['SmokerStatus'] = X_test['SmokerStatus'].astype(\"object\")\n",
        "X_test['TimeSinceQuitSmk'] = X_test['TimeSinceQuitSmk'].astype(\"object\")\n",
        "X_test['EcigLevel'] = X_test['EcigLevel'].astype(\"object\")"
      ],
      "metadata": {
        "id": "E19TDU5G-UWL"
      },
      "execution_count": 56,
      "outputs": []
    },
    {
      "cell_type": "code",
      "source": [
        "X_train.info()"
      ],
      "metadata": {
        "id": "hAaGCB9r-xrc",
        "outputId": "c16815d0-88c8-46cd-f91d-8e335b9f46cd",
        "colab": {
          "base_uri": "https://localhost:8080/"
        }
      },
      "execution_count": 81,
      "outputs": [
        {
          "output_type": "stream",
          "name": "stdout",
          "text": [
            "<class 'pandas.core.frame.DataFrame'>\n",
            "RangeIndex: 1527756 entries, 0 to 1527755\n",
            "Data columns (total 17 columns):\n",
            " #   Column             Non-Null Count    Dtype\n",
            "---  ------             --------------    -----\n",
            " 0   Gender             1527756 non-null  int64\n",
            " 1   Age65              1527756 non-null  int64\n",
            " 2   BMI                1527756 non-null  int64\n",
            " 3   GeneralHealth      1527756 non-null  int64\n",
            " 4   CheckupFreq        1527756 non-null  int64\n",
            " 5   Exercise           1527756 non-null  int64\n",
            " 6   Smoked100          1527756 non-null  int64\n",
            " 7   SmokerStatus       1527756 non-null  int64\n",
            " 8   StopSmoking        1527756 non-null  int64\n",
            " 9   TimeSinceQuitSmk   1527756 non-null  int64\n",
            " 10  EverUsedEcig       1527756 non-null  int64\n",
            " 11  EcigLevel          1527756 non-null  int64\n",
            " 12  HasCTScan          1527756 non-null  int64\n",
            " 13  HasChronicDisease  1527756 non-null  int64\n",
            " 14  HasAsthma          1527756 non-null  int64\n",
            " 15  HadStroke          1527756 non-null  int64\n",
            " 16  HadHeartDisease    1527756 non-null  int64\n",
            "dtypes: int64(17)\n",
            "memory usage: 198.1 MB\n"
          ]
        }
      ]
    },
    {
      "cell_type": "code",
      "source": [
        "# Build model\n",
        "from sklearn.preprocessing import StandardScaler\n",
        "from sklearn.preprocessing import MinMaxScaler\n",
        "\n",
        "classifier = make_pipeline(MinMaxScaler(), LogisticRegression(max_iter=2000))\n",
        "\n",
        "# Fit model to training data\n",
        "history = classifier.fit(X_train, y_train)\n",
        "print(classifier)"
      ],
      "metadata": {
        "id": "RVOyeRubsPQE",
        "outputId": "9c70e3e2-117d-40c4-cffa-03b22da28e1b",
        "colab": {
          "base_uri": "https://localhost:8080/"
        }
      },
      "execution_count": 82,
      "outputs": [
        {
          "output_type": "stream",
          "name": "stdout",
          "text": [
            "Pipeline(steps=[('minmaxscaler', MinMaxScaler()),\n",
            "                ('logisticregression', LogisticRegression(max_iter=2000))])\n"
          ]
        }
      ]
    },
    {
      "cell_type": "code",
      "source": [
        "#@title Evaluate the model { display-mode: \"both\" }\n",
        "acc_train = accuracy_score(y_train, classifier.predict(X_train))\n",
        "acc_test = classifier.score(X_test, y_test)\n",
        "\n",
        "print(\"Training Accuracy:\", round(acc_train, 4))\n",
        "print(\"Test Accuracy:\", round(acc_test, 4))"
      ],
      "metadata": {
        "id": "t1057yFXvT-f",
        "outputId": "3b2ed0da-c3d4-4196-9d49-c580279a21f8",
        "colab": {
          "base_uri": "https://localhost:8080/"
        }
      },
      "execution_count": 83,
      "outputs": [
        {
          "output_type": "stream",
          "name": "stdout",
          "text": [
            "Training Accuracy: 0.8028\n",
            "Test Accuracy: 0.791\n"
          ]
        }
      ]
    },
    {
      "cell_type": "code",
      "source": [
        "#acc_baseline = y_train.value_counts(normalize=True).max()\n",
        "#print(\"Baseline Accuracy:\", round(acc_baseline, 2))\n",
        "\n",
        "# Predicting the Test set results\n",
        "y_pred = classifier.predict(X_test)\n",
        "#print(np.concatenate((y_pred.reshape(len(y_pred),1), y_test.reshape(len(y_test),1)),1))"
      ],
      "metadata": {
        "id": "HSMZD7BziiIG"
      },
      "execution_count": 84,
      "outputs": []
    },
    {
      "cell_type": "code",
      "source": [
        "# Making the Confusion Matrix\n",
        "from sklearn.metrics import confusion_matrix, accuracy_score, classification_report\n",
        "cm = confusion_matrix(y_test, y_pred)\n",
        "print(cm)\n",
        "acc = accuracy_score(y_test, y_pred)\n",
        "metrics = classification_report(y_test, y_pred)\n",
        "print(metrics)\n",
        "print(acc)"
      ],
      "metadata": {
        "id": "OEiEggZNsKKo",
        "colab": {
          "base_uri": "https://localhost:8080/"
        },
        "outputId": "b71a18fa-727d-4e6d-d32e-df483dd0d3fa"
      },
      "execution_count": 85,
      "outputs": [
        {
          "output_type": "stream",
          "name": "stdout",
          "text": [
            "[[309393  81763]\n",
            " [    34    109]]\n",
            "              precision    recall  f1-score   support\n",
            "\n",
            "           0       1.00      0.79      0.88    391156\n",
            "           1       0.00      0.76      0.00       143\n",
            "\n",
            "    accuracy                           0.79    391299\n",
            "   macro avg       0.50      0.78      0.44    391299\n",
            "weighted avg       1.00      0.79      0.88    391299\n",
            "\n",
            "0.7909603653472153\n"
          ]
        }
      ]
    },
    {
      "cell_type": "code",
      "source": [
        "import seaborn as sns\n",
        "\n",
        "ax = sns.heatmap(cm, annot=True, cmap='Blues')\n",
        "\n",
        "ax.set_title('Seaborn Confusion Matrix with labels\\n\\n');\n",
        "ax.set_xlabel('\\nPredicted Values')\n",
        "ax.set_ylabel('Actual Values ');\n",
        "\n",
        "## Ticket labels - List must be in alphabetical order\n",
        "ax.xaxis.set_ticklabels(['False','True'])\n",
        "ax.yaxis.set_ticklabels(['False','True'])\n",
        "\n",
        "## Display the visualization of the Confusion Matrix.\n",
        "plt.show()"
      ],
      "metadata": {
        "id": "uoEJfOnVspOU",
        "outputId": "6c1b1a74-f756-4f68-945b-363fda13fb9e",
        "colab": {
          "base_uri": "https://localhost:8080/",
          "height": 337
        }
      },
      "execution_count": 62,
      "outputs": [
        {
          "output_type": "display_data",
          "data": {
            "text/plain": [
              "<Figure size 432x288 with 2 Axes>"
            ],
            "image/png": "[encoded data removed]"
          },
          "metadata": {
            "needs_background": "light"
          }
        }
      ]
    },
    {
      "cell_type": "code",
      "source": [
        "classifier.named_steps[\"logisticregression\"].intercept_[0]"
      ],
      "metadata": {
        "id": "fm_LgSKk6VoA",
        "outputId": "00572400-a4cf-4331-93ba-787f43f93c33",
        "colab": {
          "base_uri": "https://localhost:8080/"
        }
      },
      "execution_count": 86,
      "outputs": [
        {
          "output_type": "execute_result",
          "data": {
            "text/plain": [
              "-0.603934021677633"
            ]
          },
          "metadata": {},
          "execution_count": 86
        }
      ]
    },
    {
      "cell_type": "code",
      "source": [
        "classifier.named_steps[\"logisticregression\"].coef_[0]"
      ],
      "metadata": {
        "id": "RCjkDziQ6eCy",
        "outputId": "1e71d3c8-e909-43a1-8e1c-2eff70ed0c6f",
        "colab": {
          "base_uri": "https://localhost:8080/"
        }
      },
      "execution_count": 87,
      "outputs": [
        {
          "output_type": "execute_result",
          "data": {
            "text/plain": [
              "array([-0.70254792,  0.96739273, -1.3759595 ,  2.22584817, -3.34751662,\n",
              "       -0.7521436 ,  1.10448339, -0.210652  , -0.27667831,  0.35868408,\n",
              "       -1.02479247,  0.93942383, -1.60295962,  1.3547696 , -1.02072034,\n",
              "       -1.57299907, -0.72078232])"
            ]
          },
          "metadata": {},
          "execution_count": 87
        }
      ]
    },
    {
      "cell_type": "code",
      "source": [
        "features = classifier.named_steps[\"minmaxscaler\"].get_feature_names_out(['Gender','Age65','BMI','GeneralHealth','Smoked100','SmokerStatus','FirstSmokedAge','LastSmokedAge','AvgNumCigADay','HasCTScan','StopSmoking','HasAsthma','HasChronicDisease'])\n",
        "importances = classifier.named_steps[\"logisticregression\"].coef_[0]\n",
        "print(features, importances)"
      ],
      "metadata": {
        "id": "P6Ih0JMTrkWs"
      },
      "execution_count": null,
      "outputs": []
    },
    {
      "cell_type": "code",
      "source": [
        "odds_ratios = pd.Series(np.exp(importances),index=features).sort_values()\n",
        "odds_ratios"
      ],
      "metadata": {
        "id": "QVpK3ghTrn6N"
      },
      "execution_count": null,
      "outputs": []
    },
    {
      "cell_type": "code",
      "source": [
        "# Horizontal bar chart, five largest coefficients\n",
        "odds_ratios.plot(kind=\"barh\")\n",
        "plt.xlabel(\"Odds Ratio\");"
      ],
      "metadata": {
        "id": "RU6NKCO7rq9Y"
      },
      "execution_count": null,
      "outputs": []
    },
    {
      "cell_type": "code",
      "source": [
        "def plotGraph(y_test,y_pred,classifier):\n",
        "    if max(y_test) >= max(y_pred):\n",
        "        my_range = int(max(y_test)) \n",
        "    else:\n",
        "        my_range = int(max(y_pred))\n",
        "    plt.scatter(range(len(y_test)), y_test, color='blue')\n",
        "    plt.scatter(range(len(y_pred)), y_pred, color='red')\n",
        "    plt.title(classifier)\n",
        "    plt.show()\n",
        "    return\n",
        "\n",
        "plotGraph(y_test, y_pred, \"test\")"
      ],
      "metadata": {
        "id": "w4zP9y4oD2N2"
      },
      "execution_count": null,
      "outputs": []
    },
    {
      "cell_type": "code",
      "source": [
        "# Feature Scaling\n",
        "from sklearn.preprocessing import StandardScaler\n",
        "import tensorflow as tf\n",
        "sc = StandardScaler()\n",
        "X_train = sc.fit_transform(X_train)\n",
        "X_test = sc.transform(X_test)\n",
        "\n",
        "\n",
        "# Initializing the ANN\n",
        "ann = tf.keras.models.Sequential()\n",
        "\n",
        "# Adding the input layer and the first hidden layer\n",
        "ann.add(tf.keras.layers.Dense(units=12, input_dim=17, activation='relu'))\n",
        "# Adding the second hidden layer\n",
        "ann.add(tf.keras.layers.Dense(units=12, activation='relu'))\n",
        "\n",
        "# Adding the output layer\n",
        "ann.add(tf.keras.layers.Dense(units=1, activation='sigmoid'))\n",
        "\n",
        "# Part 3 - Training the ANN\n",
        "\n",
        "# Compiling the ANN\n",
        "ann.compile(optimizer = 'sgd', loss = 'binary_crossentropy', metrics = ['accuracy', 'binary_crossentropy'])\n",
        "print(ann.summary())\n",
        "\n",
        "# Training the ANN on the Training set\n",
        "history = ann.fit(X_train, y_train, validation_data=(X_test, y_test), batch_size = 100, epochs =10, verbose=1)"
      ],
      "metadata": {
        "id": "28xJb_egjNYe",
        "outputId": "019a07b3-844c-4a3e-f854-adcf5c4309a4",
        "colab": {
          "base_uri": "https://localhost:8080/"
        }
      },
      "execution_count": 100,
      "outputs": [
        {
          "output_type": "stream",
          "name": "stdout",
          "text": [
            "Model: \"sequential_2\"\n",
            "_________________________________________________________________\n",
            " Layer (type)                Output Shape              Param #   \n",
            "=================================================================\n",
            " dense_6 (Dense)             (None, 12)                216       \n",
            "                                                                 \n",
            " dense_7 (Dense)             (None, 12)                156       \n",
            "                                                                 \n",
            " dense_8 (Dense)             (None, 1)                 13        \n",
            "                                                                 \n",
            "=================================================================\n",
            "Total params: 385\n",
            "Trainable params: 385\n",
            "Non-trainable params: 0\n",
            "_________________________________________________________________\n",
            "None\n",
            "Epoch 1/10\n",
            "16171/16171 [==============================] - 27s 2ms/step - loss: 0.4128 - accuracy: 0.8107 - binary_crossentropy: 0.4128 - val_loss: 0.3928 - val_accuracy: 0.8103 - val_binary_crossentropy: 0.3928\n",
            "Epoch 2/10\n",
            "16171/16171 [==============================] - 25s 2ms/step - loss: 0.3811 - accuracy: 0.8293 - binary_crossentropy: 0.3811 - val_loss: 0.3948 - val_accuracy: 0.8130 - val_binary_crossentropy: 0.3948\n",
            "Epoch 3/10\n",
            "16171/16171 [==============================] - 25s 2ms/step - loss: 0.3681 - accuracy: 0.8372 - binary_crossentropy: 0.3681 - val_loss: 0.3750 - val_accuracy: 0.8199 - val_binary_crossentropy: 0.3750\n",
            "Epoch 4/10\n",
            "16171/16171 [==============================] - 27s 2ms/step - loss: 0.3588 - accuracy: 0.8402 - binary_crossentropy: 0.3588 - val_loss: 0.3880 - val_accuracy: 0.8138 - val_binary_crossentropy: 0.3880\n",
            "Epoch 5/10\n",
            "16171/16171 [==============================] - 25s 2ms/step - loss: 0.3529 - accuracy: 0.8435 - binary_crossentropy: 0.3529 - val_loss: 0.3785 - val_accuracy: 0.8205 - val_binary_crossentropy: 0.3785\n",
            "Epoch 6/10\n",
            "16171/16171 [==============================] - 25s 2ms/step - loss: 0.3489 - accuracy: 0.8467 - binary_crossentropy: 0.3489 - val_loss: 0.3611 - val_accuracy: 0.8254 - val_binary_crossentropy: 0.3611\n",
            "Epoch 7/10\n",
            "16171/16171 [==============================] - 25s 2ms/step - loss: 0.3456 - accuracy: 0.8499 - binary_crossentropy: 0.3456 - val_loss: 0.3560 - val_accuracy: 0.8232 - val_binary_crossentropy: 0.3560\n",
            "Epoch 8/10\n",
            "16171/16171 [==============================] - 27s 2ms/step - loss: 0.3422 - accuracy: 0.8520 - binary_crossentropy: 0.3422 - val_loss: 0.3684 - val_accuracy: 0.8254 - val_binary_crossentropy: 0.3684\n",
            "Epoch 9/10\n",
            "16171/16171 [==============================] - 27s 2ms/step - loss: 0.3391 - accuracy: 0.8540 - binary_crossentropy: 0.3391 - val_loss: 0.3656 - val_accuracy: 0.8222 - val_binary_crossentropy: 0.3656\n",
            "Epoch 10/10\n",
            "16171/16171 [==============================] - 25s 2ms/step - loss: 0.3361 - accuracy: 0.8558 - binary_crossentropy: 0.3361 - val_loss: 0.3602 - val_accuracy: 0.8291 - val_binary_crossentropy: 0.3602\n"
          ]
        }
      ]
    },
    {
      "cell_type": "code",
      "source": [
        "# Predicting the Test set results\n",
        "y_pred = ann.predict(X_test)\n",
        "#print(np.concatenate((y_pred.reshape(len(y_pred),1), y_test.reshape(len(y_test),1)),1))"
      ],
      "metadata": {
        "id": "lVC6R3leHHgk",
        "outputId": "c7f8b820-c0b8-422c-e4e4-9339afd89c76",
        "colab": {
          "base_uri": "https://localhost:8080/"
        }
      },
      "execution_count": 101,
      "outputs": [
        {
          "output_type": "stream",
          "name": "stdout",
          "text": [
            "10836/10836 [==============================] - 10s 930us/step\n"
          ]
        }
      ]
    },
    {
      "cell_type": "code",
      "source": [
        "# Making the Confusion Matrix\n",
        "from sklearn.metrics import confusion_matrix, accuracy_score, classification_report\n",
        "cm = confusion_matrix(y_test, y_pred)\n",
        "print(cm)\n",
        "acc = accuracy_score(y_test, y_pred)\n",
        "metrics = classification_report(y_test, y_pred)\n",
        "print(metrics)\n",
        "print(acc)"
      ],
      "metadata": {
        "outputId": "669e0226-677e-4e16-b207-8c868d3d224b",
        "colab": {
          "base_uri": "https://localhost:8080/",
          "height": 381
        },
        "id": "yyHh9SaoHHgk"
      },
      "execution_count": 102,
      "outputs": [
        {
          "output_type": "error",
          "ename": "ValueError",
          "evalue": "ignored",
          "traceback": [
            "\u001b[0;31m---------------------------------------------------------------------------\u001b[0m",
            "\u001b[0;31mValueError\u001b[0m                                Traceback (most recent call last)",
            "\u001b[0;32m<ipython-input-102-8e127ea5b6e7>\u001b[0m in \u001b[0;36m<module>\u001b[0;34m\u001b[0m\n\u001b[1;32m      1\u001b[0m \u001b[0;31m# Making the Confusion Matrix\u001b[0m\u001b[0;34m\u001b[0m\u001b[0;34m\u001b[0m\u001b[0m\n\u001b[1;32m      2\u001b[0m \u001b[0;32mfrom\u001b[0m \u001b[0msklearn\u001b[0m\u001b[0;34m.\u001b[0m\u001b[0mmetrics\u001b[0m \u001b[0;32mimport\u001b[0m \u001b[0mconfusion_matrix\u001b[0m\u001b[0;34m,\u001b[0m \u001b[0maccuracy_score\u001b[0m\u001b[0;34m,\u001b[0m \u001b[0mclassification_report\u001b[0m\u001b[0;34m\u001b[0m\u001b[0;34m\u001b[0m\u001b[0m\n\u001b[0;32m----> 3\u001b[0;31m \u001b[0mcm\u001b[0m \u001b[0;34m=\u001b[0m \u001b[0mconfusion_matrix\u001b[0m\u001b[0;34m(\u001b[0m\u001b[0my_test\u001b[0m\u001b[0;34m,\u001b[0m \u001b[0my_pred\u001b[0m\u001b[0;34m)\u001b[0m\u001b[0;34m\u001b[0m\u001b[0;34m\u001b[0m\u001b[0m\n\u001b[0m\u001b[1;32m      4\u001b[0m \u001b[0mprint\u001b[0m\u001b[0;34m(\u001b[0m\u001b[0mcm\u001b[0m\u001b[0;34m)\u001b[0m\u001b[0;34m\u001b[0m\u001b[0;34m\u001b[0m\u001b[0m\n\u001b[1;32m      5\u001b[0m \u001b[0macc\u001b[0m \u001b[0;34m=\u001b[0m \u001b[0maccuracy_score\u001b[0m\u001b[0;34m(\u001b[0m\u001b[0my_test\u001b[0m\u001b[0;34m,\u001b[0m \u001b[0my_pred\u001b[0m\u001b[0;34m)\u001b[0m\u001b[0;34m\u001b[0m\u001b[0;34m\u001b[0m\u001b[0m\n",
            "\u001b[0;32m/usr/local/lib/python3.9/dist-packages/sklearn/metrics/_classification.py\u001b[0m in \u001b[0;36mconfusion_matrix\u001b[0;34m(y_true, y_pred, labels, sample_weight, normalize)\u001b[0m\n\u001b[1;32m    315\u001b[0m     \u001b[0;34m(\u001b[0m\u001b[0;36m0\u001b[0m\u001b[0;34m,\u001b[0m \u001b[0;36m2\u001b[0m\u001b[0;34m,\u001b[0m \u001b[0;36m1\u001b[0m\u001b[0;34m,\u001b[0m \u001b[0;36m1\u001b[0m\u001b[0;34m)\u001b[0m\u001b[0;34m\u001b[0m\u001b[0;34m\u001b[0m\u001b[0m\n\u001b[1;32m    316\u001b[0m     \"\"\"\n\u001b[0;32m--> 317\u001b[0;31m     \u001b[0my_type\u001b[0m\u001b[0;34m,\u001b[0m \u001b[0my_true\u001b[0m\u001b[0;34m,\u001b[0m \u001b[0my_pred\u001b[0m \u001b[0;34m=\u001b[0m \u001b[0m_check_targets\u001b[0m\u001b[0;34m(\u001b[0m\u001b[0my_true\u001b[0m\u001b[0;34m,\u001b[0m \u001b[0my_pred\u001b[0m\u001b[0;34m)\u001b[0m\u001b[0;34m\u001b[0m\u001b[0;34m\u001b[0m\u001b[0m\n\u001b[0m\u001b[1;32m    318\u001b[0m     \u001b[0;32mif\u001b[0m \u001b[0my_type\u001b[0m \u001b[0;32mnot\u001b[0m \u001b[0;32min\u001b[0m \u001b[0;34m(\u001b[0m\u001b[0;34m\"binary\"\u001b[0m\u001b[0;34m,\u001b[0m \u001b[0;34m\"multiclass\"\u001b[0m\u001b[0;34m)\u001b[0m\u001b[0;34m:\u001b[0m\u001b[0;34m\u001b[0m\u001b[0;34m\u001b[0m\u001b[0m\n\u001b[1;32m    319\u001b[0m         \u001b[0;32mraise\u001b[0m \u001b[0mValueError\u001b[0m\u001b[0;34m(\u001b[0m\u001b[0;34m\"%s is not supported\"\u001b[0m \u001b[0;34m%\u001b[0m \u001b[0my_type\u001b[0m\u001b[0;34m)\u001b[0m\u001b[0;34m\u001b[0m\u001b[0;34m\u001b[0m\u001b[0m\n",
            "\u001b[0;32m/usr/local/lib/python3.9/dist-packages/sklearn/metrics/_classification.py\u001b[0m in \u001b[0;36m_check_targets\u001b[0;34m(y_true, y_pred)\u001b[0m\n\u001b[1;32m     93\u001b[0m \u001b[0;34m\u001b[0m\u001b[0m\n\u001b[1;32m     94\u001b[0m     \u001b[0;32mif\u001b[0m \u001b[0mlen\u001b[0m\u001b[0;34m(\u001b[0m\u001b[0my_type\u001b[0m\u001b[0;34m)\u001b[0m \u001b[0;34m>\u001b[0m \u001b[0;36m1\u001b[0m\u001b[0;34m:\u001b[0m\u001b[0;34m\u001b[0m\u001b[0;34m\u001b[0m\u001b[0m\n\u001b[0;32m---> 95\u001b[0;31m         raise ValueError(\n\u001b[0m\u001b[1;32m     96\u001b[0m             \"Classification metrics can't handle a mix of {0} and {1} targets\".format(\n\u001b[1;32m     97\u001b[0m                 \u001b[0mtype_true\u001b[0m\u001b[0;34m,\u001b[0m \u001b[0mtype_pred\u001b[0m\u001b[0;34m\u001b[0m\u001b[0;34m\u001b[0m\u001b[0m\n",
            "\u001b[0;31mValueError\u001b[0m: Classification metrics can't handle a mix of binary and continuous targets"
          ]
        }
      ]
    },
    {
      "cell_type": "code",
      "source": [
        "plt.plot(history.history['binary_crossentropy'])\n",
        "plt.title('Loss Function Over Epochs')\n",
        "plt.ylabel('loss value')\n",
        "plt.xlabel('No. epoch')\n",
        "plt.show()"
      ],
      "metadata": {
        "id": "eIYNv9quBTD5",
        "outputId": "59ea42a7-4385-4fcd-f3ff-1d8b45af7ed8",
        "colab": {
          "base_uri": "https://localhost:8080/",
          "height": 295
        }
      },
      "execution_count": 103,
      "outputs": [
        {
          "output_type": "display_data",
          "data": {
            "text/plain": [
              "<Figure size 432x288 with 1 Axes>"
            ],
            "image/png": "[encoded data removed]"
          },
          "metadata": {
            "needs_background": "light"
          }
        }
      ]
    },
    {
      "cell_type": "code",
      "source": [
        "import matplotlib.pyplot as plt\n",
        "loss_train = history.history['accuracy']\n",
        "\n",
        "loss_val = history.history['val_accuracy']\n",
        "\n",
        "epochs = range(1,11)\n",
        "\n",
        "plt.plot(epochs, loss_train, 'g', label='Training accuracy')\n",
        "\n",
        "plt.plot(epochs, loss_val, 'b', label='validation accuracy')\n",
        "\n",
        "plt.title('Training and Validation accuracy')\n",
        "\n",
        "plt.xlabel('Epochs')\n",
        "\n",
        "plt.ylabel('Accuracy')\n",
        "\n",
        "plt.legend()\n",
        "\n",
        "plt.show()"
      ],
      "metadata": {
        "id": "JhRxWi8o-Oud",
        "outputId": "6a2ccfd4-0989-4a57-c2b2-8e2e9c47dc18",
        "colab": {
          "base_uri": "https://localhost:8080/",
          "height": 295
        }
      },
      "execution_count": 105,
      "outputs": [
        {
          "output_type": "display_data",
          "data": {
            "text/plain": [
              "<Figure size 432x288 with 1 Axes>"
            ],
            "image/png": "[encoded data removed]"
          },
          "metadata": {
            "needs_background": "light"
          }
        }
      ]
    },
    {
      "cell_type": "markdown",
      "source": [
        "This chart shows the features that are least likely to be in a building that is severely damaged."
      ],
      "metadata": {
        "id": "IfGaKlc2CIsQ"
      }
    },
    {
      "cell_type": "code",
      "source": [
        "import matplotlib.pyplot as plt\n",
        "loss_train = history.history['train_loss']\n",
        "\n",
        "loss_val = history.history['val_loss']\n",
        "\n",
        "epochs = range(1,35)\n",
        "\n",
        "plt.plot(epochs, loss_train, 'g', label='Training loss')\n",
        "\n",
        "plt.plot(epochs, loss_val, 'b', label='validation loss')\n",
        "\n",
        "plt.title('Training and Validation loss')\n",
        "\n",
        "plt.xlabel('Epochs')\n",
        "\n",
        "plt.ylabel('Loss')\n",
        "\n",
        "plt.legend()\n",
        "\n",
        "plt.show()"
      ],
      "metadata": {
        "id": "dgQzKBZkiyU3",
        "outputId": "3b05d35d-45c2-4aa1-9cf7-a53ee6fea5fe",
        "colab": {
          "base_uri": "https://localhost:8080/",
          "height": 235
        }
      },
      "execution_count": 93,
      "outputs": [
        {
          "output_type": "error",
          "ename": "KeyError",
          "evalue": "ignored",
          "traceback": [
            "\u001b[0;31m---------------------------------------------------------------------------\u001b[0m",
            "\u001b[0;31mKeyError\u001b[0m                                  Traceback (most recent call last)",
            "\u001b[0;32m<ipython-input-93-08128265cbd1>\u001b[0m in \u001b[0;36m<module>\u001b[0;34m\u001b[0m\n\u001b[1;32m      1\u001b[0m \u001b[0;32mimport\u001b[0m \u001b[0mmatplotlib\u001b[0m\u001b[0;34m.\u001b[0m\u001b[0mpyplot\u001b[0m \u001b[0;32mas\u001b[0m \u001b[0mplt\u001b[0m\u001b[0;34m\u001b[0m\u001b[0;34m\u001b[0m\u001b[0m\n\u001b[0;32m----> 2\u001b[0;31m \u001b[0mloss_train\u001b[0m \u001b[0;34m=\u001b[0m \u001b[0mhistory\u001b[0m\u001b[0;34m.\u001b[0m\u001b[0mhistory\u001b[0m\u001b[0;34m[\u001b[0m\u001b[0;34m'train_loss'\u001b[0m\u001b[0;34m]\u001b[0m\u001b[0;34m\u001b[0m\u001b[0;34m\u001b[0m\u001b[0m\n\u001b[0m\u001b[1;32m      3\u001b[0m \u001b[0;34m\u001b[0m\u001b[0m\n\u001b[1;32m      4\u001b[0m \u001b[0mloss_val\u001b[0m \u001b[0;34m=\u001b[0m \u001b[0mhistory\u001b[0m\u001b[0;34m.\u001b[0m\u001b[0mhistory\u001b[0m\u001b[0;34m[\u001b[0m\u001b[0;34m'val_loss'\u001b[0m\u001b[0;34m]\u001b[0m\u001b[0;34m\u001b[0m\u001b[0;34m\u001b[0m\u001b[0m\n\u001b[1;32m      5\u001b[0m \u001b[0;34m\u001b[0m\u001b[0m\n",
            "\u001b[0;31mKeyError\u001b[0m: 'train_loss'"
          ]
        }
      ]
    },
    {
      "cell_type": "code",
      "source": [
        "def buildModel(optimizer):\n",
        "    # Initialising the ANN\n",
        "    classifier = Sequential()\n",
        "    \n",
        "    # Adding the input layer and the first hidden layer\n",
        "    classifier.add(Dense(units = 200, input_dim = 13, activation = 'relu'))\n",
        "    \n",
        "    # Adding the second hidden layer\n",
        "    classifier.add(Dense(units = 100, activation = 'relu'))\n",
        "    \n",
        "    # Adding the output layer\n",
        "    classifier.add(Dense(units = 1, activation = 'sigmoid'))\n",
        "    \n",
        "    # Compiling the ANN\n",
        "    classifier.compile(loss='binary_crossentropy', optimizer=optimizer, metrics=['mean_absolute_error', 'binary_crossentropy'])\n",
        "    \n",
        "    return classifier"
      ],
      "metadata": {
        "id": "BXtdVBF0EGe1"
      },
      "execution_count": null,
      "outputs": []
    },
    {
      "cell_type": "code",
      "source": [
        "from sklearn.model_selection import GridSearchCV \n",
        "from tensorflow.keras.wrappers.scikit_learn import KerasRegressor\n",
        "import tensorflow as tf\n",
        "from sklearn.model_selection import GridSearchCV\n",
        "from tensorflow.keras.models import Sequential\n",
        "from tensorflow.keras.layers import Dense\n",
        "from tensorflow.keras.layers import Dropout\n",
        "\n",
        "classifier = KerasRegressor(build_fn = buildModel)\n",
        "#What hyperparameter we want to play with\n",
        "parameters = {'batch_size': [13, 26, 39, 50],\n",
        "              'epochs': [40, 50],\n",
        "              'optimizer': ['adam', 'binary_crossentropy']}\n",
        "grid_search = GridSearchCV(estimator = classifier,\n",
        "                           param_grid = parameters,\n",
        "                           scoring = 'neg_mean_absolute_error',\n",
        "                           cv = 5)\n",
        "grid_search = grid_search.fit(X_train, y_train, verbose = 0)"
      ],
      "metadata": {
        "id": "Ut3C7Pm1FIaY"
      },
      "execution_count": null,
      "outputs": []
    },
    {
      "cell_type": "code",
      "source": [
        "best_parameters = grid_search.best_params_\n",
        "best_score = grid_search.best_score_\n",
        "\n",
        "print(\"Best Parameters: \" + str(best_parameters))"
      ],
      "metadata": {
        "id": "AC49nkrJKsra"
      },
      "execution_count": null,
      "outputs": []
    },
    {
      "cell_type": "code",
      "source": [],
      "metadata": {
        "id": "Kehtu2voH4SA"
      },
      "execution_count": null,
      "outputs": []
    },
    {
      "cell_type": "code",
      "source": [
        "import matplotlib.pyplot as plt\n",
        "loss_train = history.history['loss']\n",
        "\n",
        "loss_val = history.history['val_loss']\n",
        "\n",
        "epochs = range(1,51)\n",
        "\n",
        "plt.plot(epochs, loss_train, 'g', label='Training loss')\n",
        "\n",
        "plt.plot(epochs, loss_val, 'b', label='validation loss')\n",
        "\n",
        "plt.title('Training and Validation loss')\n",
        "\n",
        "plt.xlabel('Epochs')\n",
        "\n",
        "plt.ylabel('Loss')\n",
        "\n",
        "plt.legend()\n",
        "\n",
        "plt.show()"
      ],
      "metadata": {
        "id": "UpAZ58Ufj2wh"
      },
      "execution_count": null,
      "outputs": []
    },
    {
      "cell_type": "code",
      "source": [
        "loss_train = history.history['accuracy']\n",
        "\n",
        "loss_val = history.history['val_accuracy']\n",
        "\n",
        "epochs = range(1,51)\n",
        "\n",
        "plt.plot(epochs, loss_train, 'g', label='Training accuracy')\n",
        "\n",
        "plt.plot(epochs, loss_val, 'b', label='validation accuracy')\n",
        "\n",
        "plt.title('Training and Validation accuracy')\n",
        "\n",
        "plt.xlabel('Epochs')\n",
        "\n",
        "plt.ylabel('Accuracy')\n",
        "\n",
        "plt.legend()\n",
        "\n",
        "plt.show()"
      ],
      "metadata": {
        "id": "9jcv84n7krDS"
      },
      "execution_count": null,
      "outputs": []
    },
    {
      "cell_type": "markdown",
      "source": [
        "# 2. Decision Trees"
      ],
      "metadata": {
        "id": "7SKd-0zDGshr"
      }
    },
    {
      "cell_type": "markdown",
      "source": [
        "## Build the Model"
      ],
      "metadata": {
        "id": "Lh06SXNxRV1x"
      }
    },
    {
      "cell_type": "code",
      "source": [
        "from category_encoders import OrdinalEncoder\n",
        "from sklearn.tree import DecisionTreeClassifier, plot_tree\n",
        "from sklearn.utils.validation import check_is_fitted"
      ],
      "metadata": {
        "id": "KqcHEe3eUQvo"
      },
      "execution_count": 106,
      "outputs": []
    },
    {
      "cell_type": "code",
      "source": [
        "#@title Baseline Accuracy\n",
        "\n",
        "\"\"\"\n",
        "This is to calculate the baseline accuracy score for the model.\n",
        "\n",
        "\"\"\"\n",
        "\n",
        "acc_baseline = df[\"HasLungCancer\"].value_counts(normalize=True).max()\n",
        "print(\"Baseline Accuracy:\", round(acc_baseline, 3))\n"
      ],
      "metadata": {
        "id": "sPbBx8BG-LMX",
        "outputId": "bf26cc7e-9885-4c14-f05f-3b73aef1cb00",
        "colab": {
          "base_uri": "https://localhost:8080/"
        }
      },
      "execution_count": 107,
      "outputs": [
        {
          "output_type": "stream",
          "name": "stdout",
          "text": [
            "Baseline Accuracy: 0.999\n"
          ]
        }
      ]
    },
    {
      "cell_type": "code",
      "source": [
        "#@title Run the Model { display-mode: \"both\" }\n",
        "\n",
        "# Build Model\n",
        "model = make_pipeline(MinMaxScaler(), DecisionTreeClassifier(max_depth=7, random_state=42))\n",
        "\n",
        "# Fit model to training data\n",
        "model.fit(X_train, y_train)"
      ],
      "metadata": {
        "id": "yDSJfwFjO1Ga",
        "outputId": "1391f2a3-c7d3-4be7-d127-1ef75fb79aad",
        "colab": {
          "base_uri": "https://localhost:8080/",
          "height": 128
        }
      },
      "execution_count": 110,
      "outputs": [
        {
          "output_type": "execute_result",
          "data": {
            "text/plain": [
              "Pipeline(steps=[('minmaxscaler', MinMaxScaler()),\n",
              "                ('decisiontreeclassifier',\n",
              "                 DecisionTreeClassifier(max_depth=7, random_state=42))])"
            ],
            "text/html": [
              "<style>#sk-container-id-1 {color: black;background-color: white;}#sk-container-id-1 pre{padding: 0;}#sk-container-id-1 div.sk-toggleable {background-color: white;}#sk-container-id-1 label.sk-toggleable__label {cursor: pointer;display: block;width: 100%;margin-bottom: 0;padding: 0.3em;box-sizing: border-box;text-align: center;}#sk-container-id-1 label.sk-toggleable__label-arrow:before {content: \"▸\";float: left;margin-right: 0.25em;color: #696969;}#sk-container-id-1 label.sk-toggleable__label-arrow:hover:before {color: black;}#sk-container-id-1 div.sk-estimator:hover label.sk-toggleable__label-arrow:before {color: black;}#sk-container-id-1 div.sk-toggleable__content {max-height: 0;max-width: 0;overflow: hidden;text-align: left;background-color: #f0f8ff;}#sk-container-id-1 div.sk-toggleable__content pre {margin: 0.2em;color: black;border-radius: 0.25em;background-color: #f0f8ff;}#sk-container-id-1 input.sk-toggleable__control:checked~div.sk-toggleable__content {max-height: 200px;max-width: 100%;overflow: auto;}#sk-container-id-1 input.sk-toggleable__control:checked~label.sk-toggleable__label-arrow:before {content: \"▾\";}#sk-container-id-1 div.sk-estimator input.sk-toggleable__control:checked~label.sk-toggleable__label {background-color: #d4ebff;}#sk-container-id-1 div.sk-label input.sk-toggleable__control:checked~label.sk-toggleable__label {background-color: #d4ebff;}#sk-container-id-1 input.sk-hidden--visually {border: 0;clip: rect(1px 1px 1px 1px);clip: rect(1px, 1px, 1px, 1px);height: 1px;margin: -1px;overflow: hidden;padding: 0;position: absolute;width: 1px;}#sk-container-id-1 div.sk-estimator {font-family: monospace;background-color: #f0f8ff;border: 1px dotted black;border-radius: 0.25em;box-sizing: border-box;margin-bottom: 0.5em;}#sk-container-id-1 div.sk-estimator:hover {background-color: #d4ebff;}#sk-container-id-1 div.sk-parallel-item::after {content: \"\";width: 100%;border-bottom: 1px solid gray;flex-grow: 1;}#sk-container-id-1 div.sk-label:hover label.sk-toggleable__label {background-color: #d4ebff;}#sk-container-id-1 div.sk-serial::before {content: \"\";position: absolute;border-left: 1px solid gray;box-sizing: border-box;top: 0;bottom: 0;left: 50%;z-index: 0;}#sk-container-id-1 div.sk-serial {display: flex;flex-direction: column;align-items: center;background-color: white;padding-right: 0.2em;padding-left: 0.2em;position: relative;}#sk-container-id-1 div.sk-item {position: relative;z-index: 1;}#sk-container-id-1 div.sk-parallel {display: flex;align-items: stretch;justify-content: center;background-color: white;position: relative;}#sk-container-id-1 div.sk-item::before, #sk-container-id-1 div.sk-parallel-item::before {content: \"\";position: absolute;border-left: 1px solid gray;box-sizing: border-box;top: 0;bottom: 0;left: 50%;z-index: -1;}#sk-container-id-1 div.sk-parallel-item {display: flex;flex-direction: column;z-index: 1;position: relative;background-color: white;}#sk-container-id-1 div.sk-parallel-item:first-child::after {align-self: flex-end;width: 50%;}#sk-container-id-1 div.sk-parallel-item:last-child::after {align-self: flex-start;width: 50%;}#sk-container-id-1 div.sk-parallel-item:only-child::after {width: 0;}#sk-container-id-1 div.sk-dashed-wrapped {border: 1px dashed gray;margin: 0 0.4em 0.5em 0.4em;box-sizing: border-box;padding-bottom: 0.4em;background-color: white;}#sk-container-id-1 div.sk-label label {font-family: monospace;font-weight: bold;display: inline-block;line-height: 1.2em;}#sk-container-id-1 div.sk-label-container {text-align: center;}#sk-container-id-1 div.sk-container {/* jupyter's `normalize.less` sets `[hidden] { display: none; }` but bootstrap.min.css set `[hidden] { display: none !important; }` so we also need the `!important` here to be able to override the default hidden behavior on the sphinx rendered scikit-learn.org. See: https://github.com/scikit-learn/scikit-learn/issues/21755 */display: inline-block !important;position: relative;}#sk-container-id-1 div.sk-text-repr-fallback {display: none;}</style><div id=\"sk-container-id-1\" class=\"sk-top-container\"><div class=\"sk-text-repr-fallback\"><pre>Pipeline(steps=[(&#x27;minmaxscaler&#x27;, MinMaxScaler()),\n",
              "                (&#x27;decisiontreeclassifier&#x27;,\n",
              "                 DecisionTreeClassifier(max_depth=7, random_state=42))])</pre><b>In a Jupyter environment, please rerun this cell to show the HTML representation or trust the notebook. <br />On GitHub, the HTML representation is unable to render, please try loading this page with nbviewer.org.</b></div><div class=\"sk-container\" hidden><div class=\"sk-item sk-dashed-wrapped\"><div class=\"sk-label-container\"><div class=\"sk-label sk-toggleable\"><input class=\"sk-toggleable__control sk-hidden--visually\" id=\"sk-estimator-id-1\" type=\"checkbox\" ><label for=\"sk-estimator-id-1\" class=\"sk-toggleable__label sk-toggleable__label-arrow\">Pipeline</label><div class=\"sk-toggleable__content\"><pre>Pipeline(steps=[(&#x27;minmaxscaler&#x27;, MinMaxScaler()),\n",
              "                (&#x27;decisiontreeclassifier&#x27;,\n",
              "                 DecisionTreeClassifier(max_depth=7, random_state=42))])</pre></div></div></div><div class=\"sk-serial\"><div class=\"sk-item\"><div class=\"sk-estimator sk-toggleable\"><input class=\"sk-toggleable__control sk-hidden--visually\" id=\"sk-estimator-id-2\" type=\"checkbox\" ><label for=\"sk-estimator-id-2\" class=\"sk-toggleable__label sk-toggleable__label-arrow\">MinMaxScaler</label><div class=\"sk-toggleable__content\"><pre>MinMaxScaler()</pre></div></div></div><div class=\"sk-item\"><div class=\"sk-estimator sk-toggleable\"><input class=\"sk-toggleable__control sk-hidden--visually\" id=\"sk-estimator-id-3\" type=\"checkbox\" ><label for=\"sk-estimator-id-3\" class=\"sk-toggleable__label sk-toggleable__label-arrow\">DecisionTreeClassifier</label><div class=\"sk-toggleable__content\"><pre>DecisionTreeClassifier(max_depth=7, random_state=42)</pre></div></div></div></div></div></div></div>"
            ]
          },
          "metadata": {},
          "execution_count": 110
        }
      ]
    },
    {
      "cell_type": "code",
      "source": [
        "#@title Accuracy Score { display-mode: \"both\" }\n",
        "\n",
        "#Calculate the training and validation accuracy scores for the models.\n",
        "\n",
        "acc_train = accuracy_score(y_train, model.predict(X_train))\n",
        "acc_test = model.score(X_test, y_test)\n",
        "\n",
        "print(\"Training Accuracy:\", round(acc_train, 2))\n",
        "print(\"Validation Accuracy:\", round(acc_test, 2))"
      ],
      "metadata": {
        "id": "zsUfafE8O5TJ",
        "outputId": "3fbf8735-99e6-4eba-aa3a-2ac67c19fbc0",
        "colab": {
          "base_uri": "https://localhost:8080/"
        }
      },
      "execution_count": 112,
      "outputs": [
        {
          "output_type": "stream",
          "name": "stdout",
          "text": [
            "Training Accuracy: 0.81\n",
            "Validation Accuracy: 0.82\n"
          ]
        }
      ]
    },
    {
      "cell_type": "code",
      "source": [
        "#@title Tree Depth { display-mode: \"both\" }\n",
        "\n",
        "tree_depth = model.named_steps[\"decisiontreeclassifier\"].get_depth()\n",
        "print(\"Tree Depth:\", tree_depth)\n"
      ],
      "metadata": {
        "id": "crWoNqGPPARX",
        "outputId": "69ed40bd-4b27-420d-d8ea-fe5b7723d067",
        "colab": {
          "base_uri": "https://localhost:8080/"
        }
      },
      "execution_count": 113,
      "outputs": [
        {
          "output_type": "stream",
          "name": "stdout",
          "text": [
            "Tree Depth: 7\n"
          ]
        }
      ]
    },
    {
      "cell_type": "code",
      "source": [
        "#@title Hyperparameter Tuning { display-mode: \"both\" }\n",
        "# Create a range of possible values for max_depth hyperparameter of the model's DecisionTreeClassifier.\n",
        "depth_hyperparams = range(1,50,2)\n",
        "\n",
        "# Create empty lists for training and validation accuracy scores\n",
        "training_acc = []\n",
        "validation_acc = []\n",
        "\n",
        "for d in depth_hyperparams:\n",
        "    # Create model with `max_depth` of `d`\n",
        "    test_model = make_pipeline(\n",
        "        MinMaxScaler(), \n",
        "        DecisionTreeClassifier(max_depth=d, random_state=42)\n",
        "    )\n",
        "    # Fit model to training data\n",
        "    test_model.fit(X_train, y_train)\n",
        "    # Calculate training accuracy score and append to `training_acc`\n",
        "    training_acc.append(test_model.score(X_train, y_train))\n",
        "    # Calculate validation accuracy score and append to `training_acc`\n",
        "    validation_acc.append(test_model.score(X_test, y_test))\n",
        "\n",
        "print(\"Training Accuracy Scores:\", training_acc[:10])\n",
        "print(\"Validation Accuracy Scores:\", validation_acc[:10])\n"
      ],
      "metadata": {
        "id": "o58oNlfhPEoN"
      },
      "execution_count": null,
      "outputs": []
    },
    {
      "cell_type": "code",
      "source": [
        "#@title Plot of Accuracy Scores in a Validation Curve { display-mode: \"both\" }\n",
        "\"\"\"\n",
        "\n",
        "Create a visualization with two lines. The first line should plot the training_acc values as a function of depth_hyperparams, and the second should plot validation_acc as a function of depth_hyperparams. You x-axis should be labeled \"Max Depth\", and the y-axis \"Accuracy Score\". Also include a legend so that your audience can distinguish between the two lines.\n",
        "\n",
        "\"\"\"\n",
        "\n",
        "# Plot `depth_hyperparams`, `training_acc`\n",
        "plt.plot(depth_hyperparams, training_acc, label=\"training\")\n",
        "plt.plot(depth_hyperparams, validation_acc, label=\"validation\")\n",
        "plt.xlabel(\"Max Depth\")\n",
        "plt.ylabel(\"Accuracy Score\")\n",
        "plt.legend();\n",
        "\n"
      ],
      "metadata": {
        "id": "tJmwaw-zPTId"
      },
      "execution_count": null,
      "outputs": []
    },
    {
      "cell_type": "code",
      "source": [
        "test_acc = model.score(X_test, y_test)\n",
        "print(\"Test Accuracy:\", round(test_acc, 2))"
      ],
      "metadata": {
        "id": "YlxsZKy_PYLa"
      },
      "execution_count": null,
      "outputs": []
    },
    {
      "cell_type": "code",
      "source": [
        "#@title Plot of Decision Tree { display-mode: \"both\" }\n",
        "\n",
        "\"\"\"\n",
        "Use the plot_tree function from scikit-learn \n",
        "to visualize the decision logic of the model.\n",
        "\n",
        "\"\"\"\n",
        "\n",
        "# Create larger figure\n",
        "fig, ax = plt.subplots(figsize=(25, 12))\n",
        "# Plot tree\n",
        "plot_tree(\n",
        "    decision_tree=model.named_steps[\"decisiontreeclassifier\"],\n",
        "    feature_names=X_train.columns,\n",
        "    filled=True,  # Color leaf with class\n",
        "    rounded=True,  # Round leaf edges\n",
        "    proportion=True,  # Display proportion of classes in leaf\n",
        "    max_depth=3,  # Only display first 3 levels\n",
        "    fontsize=12,  # Enlarge font\n",
        "    ax=ax,  # Place in figure axis\n",
        ");"
      ],
      "metadata": {
        "id": "VNERtYZHPagT"
      },
      "execution_count": null,
      "outputs": []
    },
    {
      "cell_type": "code",
      "source": [
        "#@title Plot feature importances { display-mode: \"both\" }\n",
        "\n",
        "\"\"\"\n",
        "\n",
        "Assign the feature names and importances of your model to the variables below. \n",
        "For the features, you can get them from the column names in your training set. \n",
        "For the importances, you access the feature_importances_ attribute of your model's DecisionTreeClassifier.\n",
        "\n",
        "\"\"\"\n",
        "\n",
        "features = X_train.columns\n",
        "importances = model.named_steps[\"decisiontreeclassifier\"].feature_importances_\n",
        "\n",
        "feat_imp = pd.Series(importances, index=features).sort_values()\n",
        "\n",
        "# Create horizontal bar chart\n",
        "feat_imp.plot(kind=\"barh\")\n",
        "plt.xlabel(\"Gini Importance\")\n",
        "plt.ylabel(\"Feature\");\n",
        "\n",
        "print(feat_imp.sum())"
      ],
      "metadata": {
        "id": "oWMn6a_mPfcy"
      },
      "execution_count": null,
      "outputs": []
    },
    {
      "cell_type": "code",
      "source": [
        "#@title Top 10 Most Important Features { display-mode: \"both\" }\n",
        "feat_imp.tail(10).sort_values(ascending=False)"
      ],
      "metadata": {
        "id": "K4vT-dYAPhNR"
      },
      "execution_count": null,
      "outputs": []
    }
  ]
}