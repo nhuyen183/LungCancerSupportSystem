{
  "nbformat": 4,
  "nbformat_minor": 0,
  "metadata": {
    "colab": {
      "provenance": [],
      "include_colab_link": true
    },
    "kernelspec": {
      "name": "python3",
      "display_name": "Python 3"
    }
  },
  "cells": [
    {
      "cell_type": "markdown",
      "metadata": {
        "id": "view-in-github",
        "colab_type": "text"
      },
      "source": [
        "<a href=\"https://colab.research.google.com/github/nhuyen183/LungCancerSupportSystem/blob/master/annFinalipynb.ipynb\" target=\"_parent\"><img src=\"https://colab.research.google.com/assets/colab-badge.svg\" alt=\"Open In Colab\"/></a>"
      ]
    },
    {
      "cell_type": "code",
      "metadata": {
        "id": "XYx4GPzRRQb_"
      },
      "source": [],
      "execution_count": null,
      "outputs": []
    },
    {
      "cell_type": "code",
      "metadata": {
        "id": "twendoyKcV7E"
      },
      "source": [
        "### start spark session"
      ],
      "execution_count": null,
      "outputs": []
    },
    {
      "cell_type": "code",
      "metadata": {
        "id": "0oTeP2ehFCMB"
      },
      "source": [
        "####Once Everything Is Installed"
      ],
      "execution_count": null,
      "outputs": []
    },
    {
      "cell_type": "code",
      "metadata": {
        "colab": {
          "base_uri": "https://localhost:8080/"
        },
        "id": "2c2IRauqFCRq",
        "outputId": "e5a1506b-1622-4348-eb8d-078a93580702"
      },
      "source": [
        "!pip install pyspark"
      ],
      "execution_count": null,
      "outputs": [
        {
          "output_type": "stream",
          "text": [
            "Collecting pyspark\n",
            "\u001b[?25l  Downloading https://files.pythonhosted.org/packages/45/b0/9d6860891ab14a39d4bddf80ba26ce51c2f9dc4805e5c6978ac0472c120a/pyspark-3.1.1.tar.gz (212.3MB)\n",
            "\u001b[K     |████████████████████████████████| 212.3MB 68kB/s \n",
            "\u001b[?25hCollecting py4j==0.10.9\n",
            "\u001b[?25l  Downloading https://files.pythonhosted.org/packages/9e/b6/6a4fb90cd235dc8e265a6a2067f2a2c99f0d91787f06aca4bcf7c23f3f80/py4j-0.10.9-py2.py3-none-any.whl (198kB)\n",
            "\u001b[K     |████████████████████████████████| 204kB 19.9MB/s \n",
            "\u001b[?25hBuilding wheels for collected packages: pyspark\n",
            "  Building wheel for pyspark (setup.py) ... \u001b[?25l\u001b[?25hdone\n",
            "  Created wheel for pyspark: filename=pyspark-3.1.1-py2.py3-none-any.whl size=212767604 sha256=abc4b566b87ccc7fa87ba29427a05e76f40a8da89cd8088a809480371f22fd86\n",
            "  Stored in directory: /root/.cache/pip/wheels/0b/90/c0/01de724414ef122bd05f056541fb6a0ecf47c7ca655f8b3c0f\n",
            "Successfully built pyspark\n",
            "Installing collected packages: py4j, pyspark\n",
            "Successfully installed py4j-0.10.9 pyspark-3.1.1\n"
          ],
          "name": "stdout"
        }
      ]
    },
    {
      "cell_type": "code",
      "metadata": {
        "colab": {
          "base_uri": "https://localhost:8080/"
        },
        "id": "-RJ9VZ6qFCWU",
        "outputId": "7ccc80cf-e288-458f-84df-6b21db54cf7d"
      },
      "source": [
        "!pip install pyarrow ## pandas dataframe"
      ],
      "execution_count": null,
      "outputs": [
        {
          "output_type": "stream",
          "text": [
            "Requirement already satisfied: pyarrow in /usr/local/lib/python3.7/dist-packages (3.0.0)\n",
            "Requirement already satisfied: numpy>=1.16.6 in /usr/local/lib/python3.7/dist-packages (from pyarrow) (1.19.5)\n"
          ],
          "name": "stdout"
        }
      ]
    },
    {
      "cell_type": "code",
      "metadata": {
        "id": "JQnHJ0xGFwcN"
      },
      "source": [
        "from pyspark.sql import SparkSession\n",
        "spark = SparkSession.builder.master('local').getOrCreate() ##spark object"
      ],
      "execution_count": null,
      "outputs": []
    },
    {
      "cell_type": "code",
      "metadata": {
        "id": "NQXlOnuwFwmE"
      },
      "source": [],
      "execution_count": null,
      "outputs": []
    },
    {
      "cell_type": "code",
      "metadata": {
        "colab": {
          "base_uri": "https://localhost:8080/"
        },
        "id": "axvWKMWGNUtF",
        "outputId": "56fbe530-99e4-4bef-faa2-58b8403aab87"
      },
      "source": [
        "from google.colab import drive\n",
        "drive.mount('/content/drive')"
      ],
      "execution_count": null,
      "outputs": [
        {
          "output_type": "stream",
          "text": [
            "Mounted at /content/drive\n"
          ],
          "name": "stdout"
        }
      ]
    },
    {
      "cell_type": "code",
      "metadata": {
        "id": "i91nvS8kNU4y"
      },
      "source": [],
      "execution_count": null,
      "outputs": []
    },
    {
      "cell_type": "code",
      "metadata": {
        "id": "A2fuWkrZNmFd"
      },
      "source": [
        "path='/content/drive/MyDrive/1_GoogleCoLab/Data_Code/section6/dl_data.csv'"
      ],
      "execution_count": null,
      "outputs": []
    },
    {
      "cell_type": "code",
      "metadata": {
        "id": "7n5G9KQrNVIZ"
      },
      "source": [
        "df1=spark.read.csv(path,inferSchema=True, header=True)"
      ],
      "execution_count": null,
      "outputs": []
    },
    {
      "cell_type": "code",
      "metadata": {
        "colab": {
          "base_uri": "https://localhost:8080/"
        },
        "id": "8tW4MUaKOCDu",
        "outputId": "c3d22604-d508-417d-b005-c166d3ac0493"
      },
      "source": [
        "df1.show(5)"
      ],
      "execution_count": null,
      "outputs": [
        {
          "output_type": "stream",
          "text": [
            "+-------------------+---------------------+-----------------+-------------------------------------+-------------------------------+-----------------------+------------------------------+-------------------------------+-------------------------+-------------------------+-------------------+------------------+-------------------+-----------------+------------------+------------------+-------------------------+\n",
            "|Visit_Number_Bucket|Page_Views_Normalized|Orders_Normalized|Internal_Search_Successful_Normalized|Internal_Search_Null_Normalized|Email_Signup_Normalized|Total_Seconds_Spent_Normalized|Store_Locator_Search_Normalized|Mapped_Last_Touch_Channel|Mapped_Mobile_Device_Type|Mapped_Browser_Type|Mapped_Entry_Pages|Mapped_Site_Section|Mapped_Promo_Code|Maped_Product_Name|Mapped_Search_Term|Mapped_Product_Collection|\n",
            "+-------------------+---------------------+-----------------+-------------------------------------+-------------------------------+-----------------------+------------------------------+-------------------------------+-------------------------+-------------------------+-------------------+------------------+-------------------+-----------------+------------------+------------------+-------------------------+\n",
            "|      less than  11|          0.026315789|                1|                                  0.0|                            0.0|                    0.0|                     4.5819E-4|                            0.0|                 Channel1|                  Device1|           Browser1|       Entry_Page1|      Site_Section1|      Promo_Code1|     Product_Name1|      Search_Term1|      Product_Collection1|\n",
            "|      less than  11|                  0.0|                1|                                  0.0|                            0.0|                    0.0|                           0.0|                            0.0|                 Channel1|                  Device1|           Browser2|       Entry_Page2|      Site_Section1|      Promo_Code1|     Product_Name1|      Search_Term1|      Product_Collection2|\n",
            "|      less than  11|                  0.0|                1|                                  0.0|                            0.0|                    0.0|                   0.002863688|                            0.0|                 Channel1|                  Device1|           Browser1|       Entry_Page2|      Site_Section1|      Promo_Code1|     Product_Name2|      Search_Term1|      Product_Collection3|\n",
            "|      less than  11|                  0.0|                1|                                  0.0|                            0.0|                    0.0|                   0.002863688|                            0.0|                 Channel1|                  Device1|           Browser1|       Entry_Page2|      Site_Section1|      Promo_Code1|     Product_Name2|      Search_Term1|      Product_Collection3|\n",
            "|      less than  11|          0.052631579|                1|                                  0.0|                            0.0|                    0.0|                   0.021764032|                            0.0|                 Channel1|                  Device1|           Browser2|       Entry_Page2|      Site_Section1|      Promo_Code1|     Product_Name3|      Search_Term1|      Product_Collection4|\n",
            "+-------------------+---------------------+-----------------+-------------------------------------+-------------------------------+-----------------------+------------------------------+-------------------------------+-------------------------+-------------------------+-------------------+------------------+-------------------+-----------------+------------------+------------------+-------------------------+\n",
            "only showing top 5 rows\n",
            "\n"
          ],
          "name": "stdout"
        }
      ]
    },
    {
      "cell_type": "code",
      "metadata": {
        "id": "gs6JfivvLx28"
      },
      "source": [
        "data = df1.withColumnRenamed('Orders_Normalized', 'label') #rename columns"
      ],
      "execution_count": null,
      "outputs": []
    },
    {
      "cell_type": "code",
      "metadata": {
        "id": "c5VbAZ6fLx7T"
      },
      "source": [
        "from pyspark.ml.feature import OneHotEncoder, VectorAssembler, StringIndexer\n",
        "from pyspark.ml import Pipeline\n",
        "from pyspark.sql.functions import udf, StringType\n",
        "from pyspark.ml.evaluation import MulticlassClassificationEvaluator\n",
        "from pyspark.ml.classification import MultilayerPerceptronClassifier"
      ],
      "execution_count": null,
      "outputs": []
    },
    {
      "cell_type": "code",
      "metadata": {
        "id": "YsVqpVOBpxhM"
      },
      "source": [
        "train, validation, test = data.randomSplit([0.7, 0.2, 0.1], 1234)"
      ],
      "execution_count": null,
      "outputs": []
    },
    {
      "cell_type": "code",
      "metadata": {
        "id": "i3BjEOxzR9iZ"
      },
      "source": [
        "categorical_columns = [item[0] for item in data.dtypes if item[1].startswith(\n",
        "    'string')]\n",
        "numeric_columns = [item[0] for item in data.dtypes if item[1].startswith(\n",
        "    'double')]\n",
        "indexers = [StringIndexer(inputCol=column, outputCol='{0}_index'.format(\n",
        "    column)) for column in categorical_columns] ## read in the string columns"
      ],
      "execution_count": null,
      "outputs": []
    },
    {
      "cell_type": "code",
      "metadata": {
        "id": "34SpwToAR9nT"
      },
      "source": [
        "featuresCreator = VectorAssembler(\n",
        "    inputCols=[indexer.getOutputCol() for indexer in indexers] + numeric_columns,\n",
        "    outputCol='features')\n",
        "layers = [len(featuresCreator.getInputCols()), 4, 2, 2] ## no. of predictors, hidden nodes, response"
      ],
      "execution_count": null,
      "outputs": []
    },
    {
      "cell_type": "code",
      "metadata": {
        "id": "GGcLrsJXR9r0"
      },
      "source": [],
      "execution_count": null,
      "outputs": []
    },
    {
      "cell_type": "code",
      "metadata": {
        "id": "MKG7Aez3SM7w"
      },
      "source": [
        "classifier = MultilayerPerceptronClassifier(labelCol='label',\n",
        "                                            featuresCol='features',\n",
        "                                            maxIter=100,\n",
        "                                            layers=layers,\n",
        "                                            blockSize=128,\n",
        "                                            seed=1234)"
      ],
      "execution_count": null,
      "outputs": []
    },
    {
      "cell_type": "code",
      "metadata": {
        "id": "DyQNcZA5SNEu"
      },
      "source": [
        "pipeline = Pipeline(stages=indexers + [featuresCreator, classifier])"
      ],
      "execution_count": null,
      "outputs": []
    },
    {
      "cell_type": "code",
      "metadata": {
        "id": "mkIg16aKR9vm"
      },
      "source": [
        "model = pipeline.fit(train)"
      ],
      "execution_count": null,
      "outputs": []
    },
    {
      "cell_type": "code",
      "metadata": {
        "id": "3pSGRz-UST-7"
      },
      "source": [
        "train_output_df = model.transform(train)\n",
        "validation_output_df = model.transform(validation)\n",
        "test_output_df = model.transform(test)"
      ],
      "execution_count": null,
      "outputs": []
    },
    {
      "cell_type": "code",
      "metadata": {
        "id": "RW4UzQmkSUE-"
      },
      "source": [
        "train_predictionAndLabels = train_output_df.select('prediction', 'label')\n",
        "validation_predictionAndLabels = validation_output_df.select('prediction', 'label')\n",
        "test_predictionAndLabels = test_output_df.select('prediction', 'label')\n"
      ],
      "execution_count": null,
      "outputs": []
    },
    {
      "cell_type": "code",
      "metadata": {
        "colab": {
          "base_uri": "https://localhost:8080/"
        },
        "id": "k1GAIBX0SUKJ",
        "outputId": "871c8d43-2865-4fc0-d9aa-ac45e9698e8d"
      },
      "source": [
        "metrics = ['weightedPrecision', 'weightedRecall', 'accuracy']\n",
        "for metric in metrics:\n",
        "  evaluator = MulticlassClassificationEvaluator(metricName=metric)\n",
        "  print('Train ' + metric + ' = ' + str(evaluator.evaluate(\n",
        "      train_predictionAndLabels)))\n",
        "  print('Validation ' + metric + ' = ' + str(evaluator.evaluate(\n",
        "      validation_predictionAndLabels)))\n",
        "  print('Test ' + metric + ' = ' + str(evaluator.evaluate(\n",
        "      test_predictionAndLabels)))"
      ],
      "execution_count": null,
      "outputs": [
        {
          "output_type": "stream",
          "text": [
            "Train weightedPrecision = 0.9719688384869849\n",
            "Validation weightedPrecision = 0.9707293561470658\n",
            "Test weightedPrecision = 0.9706661982088725\n",
            "Train weightedRecall = 0.9708813302511704\n",
            "Validation weightedRecall = 0.9694943015082236\n",
            "Test weightedRecall = 0.9694085656016316\n",
            "Train accuracy = 0.9708813302511704\n",
            "Validation accuracy = 0.9694943015082236\n",
            "Test accuracy = 0.9694085656016316\n"
          ],
          "name": "stdout"
        }
      ]
    },
    {
      "cell_type": "code",
      "metadata": {
        "id": "D5vsXZLpSUT1"
      },
      "source": [],
      "execution_count": null,
      "outputs": []
    }
  ]
}