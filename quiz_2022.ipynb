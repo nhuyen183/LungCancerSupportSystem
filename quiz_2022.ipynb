{
  "nbformat": 4,
  "nbformat_minor": 0,
  "metadata": {
    "colab": {
      "provenance": [],
      "include_colab_link": true
    },
    "kernelspec": {
      "name": "python3",
      "display_name": "Python 3"
    },
    "language_info": {
      "name": "python"
    }
  },
  "cells": [
    {
      "cell_type": "markdown",
      "metadata": {
        "id": "view-in-github",
        "colab_type": "text"
      },
      "source": [
        "<a href=\"https://colab.research.google.com/github/nhuyen183/LungCancerSupportSystem/blob/master/quiz_2022.ipynb\" target=\"_parent\"><img src=\"https://colab.research.google.com/assets/colab-badge.svg\" alt=\"Open In Colab\"/></a>"
      ]
    },
    {
      "cell_type": "markdown",
      "source": [
        "## Exercise 1 (50 points)\n",
        "You are given a file `appl_stock.csv`, please carry out the following tasks:\n",
        "\n",
        "1. Read this file by PySpark. Print out the schema.\n",
        "2. Create columns of `day of month`, `hour`, `day of year`, `month` from the column `Date` of the data.\n",
        "3. Using `groupby` and `year()` function to compute the average closing price per year."
      ],
      "metadata": {
        "id": "GVP5f1PEOzUD"
      }
    },
    {
      "cell_type": "markdown",
      "source": [
        "## Exercise 2 (50 points)\n",
        "\n",
        "1. Incrementally calculate the mean `base_salary` of all CSVs in `/payroll-small/` using pandas. Time the entire computation using `%%time` as the first line of the cell. Do not use any Dask functions.\n",
        "2. Load all the payroll CSVs using `dask.read_csv` and assign it to payroll. Calculate the number of partitions in the DataFrame.\n",
        "3. Calculate the mean of the `payroll.base_salary` Dask DataFrame. How do the timings compare for the Dask and Pandas versions.\n"
      ],
      "metadata": {
        "id": "2EHDRwKnPkgB"
      }
    },
    {
      "cell_type": "code",
      "source": [],
      "metadata": {
        "id": "earwFcG1O6i4"
      },
      "execution_count": null,
      "outputs": []
    }
  ]
}